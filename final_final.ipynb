{
 "cells": [
  {
   "cell_type": "markdown",
   "id": "678b6c62",
   "metadata": {},
   "source": [
    "# Описание проекта: промышленность\n",
    "\n",
    "Чтобы оптимизировать производственные расходы, металлургический комбинат «Стальная птица» решил уменьшить потребление электроэнергии на этапе обработки стали. Для этого предприятию требуется контролировать температуру сплава. Ваша задача — построить модель, которая будет прогнозировать температуру сплава на различных этапах обработки. Заказчик планирует использовать разработанную модель для имитации технологического процесса."
   ]
  },
  {
   "cell_type": "markdown",
   "id": "e2151954",
   "metadata": {},
   "source": [
    "# Описание этапа обработки\n",
    "\n",
    "Сталь обрабатывают в ковше с огнеупорной облицовкой вместимостью около 100 тонн. Ковш выдерживает высокие температуры, так как его внутренние стенки облицованы огнеупорным кирпичом. В него заливают расплавленную сталь и нагревают до нужной температуры при помощи графитовых электродов, установленных в крышке ковша.\n",
    "\n",
    "Процесс обработки включает удаление серы (десульфурация), корректировку химического состава добавлением легирующих элементов и забор проб. Для легирования стали используют куски сплава, подаваемые из бункера для сыпучих материалов, или проволоку через трайб-аппарат. Перед введением легирующих добавок проводят анализ температуры и химического состава стали. Затем выполняют подогрев, добавление легирующих материалов и продувку инертным газом, после чего смесь перемешивают и снова измеряют. Цикл повторяется до достижения требуемых химического состава и температуры плавки.\n",
    "\n",
    "Готовая сталь поступает либо на доводку, либо в установку непрерывной разливки, где формируется в виде слябов — прямоугольных заготовок для дальнейшей переработки."
   ]
  },
  {
   "cell_type": "markdown",
   "id": "8a4c4c27",
   "metadata": {},
   "source": [
    "Задача\n",
    "\n",
    "Построить модель, которая предсказывает температуру сплава на различных этапах обработки, обеспечивая возможность имитации технологического процесса для достижения оптимального потребления электроэнергии и стабильного качества продукции."
   ]
  },
  {
   "cell_type": "markdown",
   "id": "47d10c48",
   "metadata": {},
   "source": [
    "# Загрузка данных"
   ]
  },
  {
   "cell_type": "code",
   "execution_count": 1,
   "id": "940a7248",
   "metadata": {},
   "outputs": [],
   "source": [
    "import pandas as pd\n",
    "import pandas as pd\n",
    "import numpy as np\n",
    "import matplotlib.pyplot as plt\n",
    "import seaborn as sns"
   ]
  },
  {
   "cell_type": "code",
   "execution_count": 2,
   "id": "f8e5ae51",
   "metadata": {},
   "outputs": [],
   "source": [
    "data_arc_new = pd.read_csv(\"/datasets/data_arc_new.csv\")"
   ]
  },
  {
   "cell_type": "code",
   "execution_count": 3,
   "id": "c0c181a0",
   "metadata": {},
   "outputs": [
    {
     "data": {
      "text/html": [
       "<div>\n",
       "<style scoped>\n",
       "    .dataframe tbody tr th:only-of-type {\n",
       "        vertical-align: middle;\n",
       "    }\n",
       "\n",
       "    .dataframe tbody tr th {\n",
       "        vertical-align: top;\n",
       "    }\n",
       "\n",
       "    .dataframe thead th {\n",
       "        text-align: right;\n",
       "    }\n",
       "</style>\n",
       "<table border=\"1\" class=\"dataframe\">\n",
       "  <thead>\n",
       "    <tr style=\"text-align: right;\">\n",
       "      <th></th>\n",
       "      <th>key</th>\n",
       "      <th>Начало нагрева дугой</th>\n",
       "      <th>Конец нагрева дугой</th>\n",
       "      <th>Активная мощность</th>\n",
       "      <th>Реактивная мощность</th>\n",
       "    </tr>\n",
       "  </thead>\n",
       "  <tbody>\n",
       "    <tr>\n",
       "      <th>0</th>\n",
       "      <td>1</td>\n",
       "      <td>2019-05-03 11:02:14</td>\n",
       "      <td>2019-05-03 11:06:02</td>\n",
       "      <td>0.305130</td>\n",
       "      <td>0.211253</td>\n",
       "    </tr>\n",
       "    <tr>\n",
       "      <th>1</th>\n",
       "      <td>1</td>\n",
       "      <td>2019-05-03 11:07:28</td>\n",
       "      <td>2019-05-03 11:10:33</td>\n",
       "      <td>0.765658</td>\n",
       "      <td>0.477438</td>\n",
       "    </tr>\n",
       "    <tr>\n",
       "      <th>2</th>\n",
       "      <td>1</td>\n",
       "      <td>2019-05-03 11:11:44</td>\n",
       "      <td>2019-05-03 11:14:36</td>\n",
       "      <td>0.580313</td>\n",
       "      <td>0.430460</td>\n",
       "    </tr>\n",
       "    <tr>\n",
       "      <th>3</th>\n",
       "      <td>1</td>\n",
       "      <td>2019-05-03 11:18:14</td>\n",
       "      <td>2019-05-03 11:24:19</td>\n",
       "      <td>0.518496</td>\n",
       "      <td>0.379979</td>\n",
       "    </tr>\n",
       "    <tr>\n",
       "      <th>4</th>\n",
       "      <td>1</td>\n",
       "      <td>2019-05-03 11:26:09</td>\n",
       "      <td>2019-05-03 11:28:37</td>\n",
       "      <td>0.867133</td>\n",
       "      <td>0.643691</td>\n",
       "    </tr>\n",
       "  </tbody>\n",
       "</table>\n",
       "</div>"
      ],
      "text/plain": [
       "   key Начало нагрева дугой  Конец нагрева дугой  Активная мощность  \\\n",
       "0    1  2019-05-03 11:02:14  2019-05-03 11:06:02           0.305130   \n",
       "1    1  2019-05-03 11:07:28  2019-05-03 11:10:33           0.765658   \n",
       "2    1  2019-05-03 11:11:44  2019-05-03 11:14:36           0.580313   \n",
       "3    1  2019-05-03 11:18:14  2019-05-03 11:24:19           0.518496   \n",
       "4    1  2019-05-03 11:26:09  2019-05-03 11:28:37           0.867133   \n",
       "\n",
       "   Реактивная мощность  \n",
       "0             0.211253  \n",
       "1             0.477438  \n",
       "2             0.430460  \n",
       "3             0.379979  \n",
       "4             0.643691  "
      ]
     },
     "execution_count": 3,
     "metadata": {},
     "output_type": "execute_result"
    }
   ],
   "source": [
    "data_arc_new.head()"
   ]
  },
  {
   "cell_type": "code",
   "execution_count": 4,
   "id": "f45dd121",
   "metadata": {},
   "outputs": [
    {
     "name": "stdout",
     "output_type": "stream",
     "text": [
      "<class 'pandas.core.frame.DataFrame'>\n",
      "RangeIndex: 14876 entries, 0 to 14875\n",
      "Data columns (total 5 columns):\n",
      " #   Column                Non-Null Count  Dtype  \n",
      "---  ------                --------------  -----  \n",
      " 0   key                   14876 non-null  int64  \n",
      " 1   Начало нагрева дугой  14876 non-null  object \n",
      " 2   Конец нагрева дугой   14876 non-null  object \n",
      " 3   Активная мощность     14876 non-null  float64\n",
      " 4   Реактивная мощность   14876 non-null  float64\n",
      "dtypes: float64(2), int64(1), object(2)\n",
      "memory usage: 581.2+ KB\n"
     ]
    }
   ],
   "source": [
    "data_arc_new.info()"
   ]
  },
  {
   "cell_type": "markdown",
   "id": "bac7c465",
   "metadata": {},
   "source": [
    "Данные содержат информацию о процессе нагрева дугой, включая время начала и окончания, а также значения активной и реактивной мощности.\n",
    "\n",
    "Имеются 14876 записей, все значения заполнены.\n",
    "\n",
    "Даты в колонках \"Начало нагрева дугой\" и \"Конец нагрева дугой\" представлены в виде строк, потребуется преобразование в формат datetime для корректного анализа временных данных."
   ]
  },
  {
   "cell_type": "code",
   "execution_count": 5,
   "id": "f6fb1bf3",
   "metadata": {},
   "outputs": [
    {
     "data": {
      "text/html": [
       "<div>\n",
       "<style scoped>\n",
       "    .dataframe tbody tr th:only-of-type {\n",
       "        vertical-align: middle;\n",
       "    }\n",
       "\n",
       "    .dataframe tbody tr th {\n",
       "        vertical-align: top;\n",
       "    }\n",
       "\n",
       "    .dataframe thead th {\n",
       "        text-align: right;\n",
       "    }\n",
       "</style>\n",
       "<table border=\"1\" class=\"dataframe\">\n",
       "  <thead>\n",
       "    <tr style=\"text-align: right;\">\n",
       "      <th></th>\n",
       "      <th>key</th>\n",
       "      <th>Bulk 1</th>\n",
       "      <th>Bulk 2</th>\n",
       "      <th>Bulk 3</th>\n",
       "      <th>Bulk 4</th>\n",
       "      <th>Bulk 5</th>\n",
       "      <th>Bulk 6</th>\n",
       "      <th>Bulk 7</th>\n",
       "      <th>Bulk 8</th>\n",
       "      <th>Bulk 9</th>\n",
       "      <th>Bulk 10</th>\n",
       "      <th>Bulk 11</th>\n",
       "      <th>Bulk 12</th>\n",
       "      <th>Bulk 13</th>\n",
       "      <th>Bulk 14</th>\n",
       "      <th>Bulk 15</th>\n",
       "    </tr>\n",
       "  </thead>\n",
       "  <tbody>\n",
       "    <tr>\n",
       "      <th>0</th>\n",
       "      <td>1</td>\n",
       "      <td>NaN</td>\n",
       "      <td>NaN</td>\n",
       "      <td>NaN</td>\n",
       "      <td>43.0</td>\n",
       "      <td>NaN</td>\n",
       "      <td>NaN</td>\n",
       "      <td>NaN</td>\n",
       "      <td>NaN</td>\n",
       "      <td>NaN</td>\n",
       "      <td>NaN</td>\n",
       "      <td>NaN</td>\n",
       "      <td>206.0</td>\n",
       "      <td>NaN</td>\n",
       "      <td>150.0</td>\n",
       "      <td>154.0</td>\n",
       "    </tr>\n",
       "    <tr>\n",
       "      <th>1</th>\n",
       "      <td>2</td>\n",
       "      <td>NaN</td>\n",
       "      <td>NaN</td>\n",
       "      <td>NaN</td>\n",
       "      <td>73.0</td>\n",
       "      <td>NaN</td>\n",
       "      <td>NaN</td>\n",
       "      <td>NaN</td>\n",
       "      <td>NaN</td>\n",
       "      <td>NaN</td>\n",
       "      <td>NaN</td>\n",
       "      <td>NaN</td>\n",
       "      <td>206.0</td>\n",
       "      <td>NaN</td>\n",
       "      <td>149.0</td>\n",
       "      <td>154.0</td>\n",
       "    </tr>\n",
       "    <tr>\n",
       "      <th>2</th>\n",
       "      <td>3</td>\n",
       "      <td>NaN</td>\n",
       "      <td>NaN</td>\n",
       "      <td>NaN</td>\n",
       "      <td>34.0</td>\n",
       "      <td>NaN</td>\n",
       "      <td>NaN</td>\n",
       "      <td>NaN</td>\n",
       "      <td>NaN</td>\n",
       "      <td>NaN</td>\n",
       "      <td>NaN</td>\n",
       "      <td>NaN</td>\n",
       "      <td>205.0</td>\n",
       "      <td>NaN</td>\n",
       "      <td>152.0</td>\n",
       "      <td>153.0</td>\n",
       "    </tr>\n",
       "    <tr>\n",
       "      <th>3</th>\n",
       "      <td>4</td>\n",
       "      <td>NaN</td>\n",
       "      <td>NaN</td>\n",
       "      <td>NaN</td>\n",
       "      <td>81.0</td>\n",
       "      <td>NaN</td>\n",
       "      <td>NaN</td>\n",
       "      <td>NaN</td>\n",
       "      <td>NaN</td>\n",
       "      <td>NaN</td>\n",
       "      <td>NaN</td>\n",
       "      <td>NaN</td>\n",
       "      <td>207.0</td>\n",
       "      <td>NaN</td>\n",
       "      <td>153.0</td>\n",
       "      <td>154.0</td>\n",
       "    </tr>\n",
       "    <tr>\n",
       "      <th>4</th>\n",
       "      <td>5</td>\n",
       "      <td>NaN</td>\n",
       "      <td>NaN</td>\n",
       "      <td>NaN</td>\n",
       "      <td>78.0</td>\n",
       "      <td>NaN</td>\n",
       "      <td>NaN</td>\n",
       "      <td>NaN</td>\n",
       "      <td>NaN</td>\n",
       "      <td>NaN</td>\n",
       "      <td>NaN</td>\n",
       "      <td>NaN</td>\n",
       "      <td>203.0</td>\n",
       "      <td>NaN</td>\n",
       "      <td>151.0</td>\n",
       "      <td>152.0</td>\n",
       "    </tr>\n",
       "  </tbody>\n",
       "</table>\n",
       "</div>"
      ],
      "text/plain": [
       "   key  Bulk 1  Bulk 2  Bulk 3  Bulk 4  Bulk 5  Bulk 6  Bulk 7  Bulk 8  \\\n",
       "0    1     NaN     NaN     NaN    43.0     NaN     NaN     NaN     NaN   \n",
       "1    2     NaN     NaN     NaN    73.0     NaN     NaN     NaN     NaN   \n",
       "2    3     NaN     NaN     NaN    34.0     NaN     NaN     NaN     NaN   \n",
       "3    4     NaN     NaN     NaN    81.0     NaN     NaN     NaN     NaN   \n",
       "4    5     NaN     NaN     NaN    78.0     NaN     NaN     NaN     NaN   \n",
       "\n",
       "   Bulk 9  Bulk 10  Bulk 11  Bulk 12  Bulk 13  Bulk 14  Bulk 15  \n",
       "0     NaN      NaN      NaN    206.0      NaN    150.0    154.0  \n",
       "1     NaN      NaN      NaN    206.0      NaN    149.0    154.0  \n",
       "2     NaN      NaN      NaN    205.0      NaN    152.0    153.0  \n",
       "3     NaN      NaN      NaN    207.0      NaN    153.0    154.0  \n",
       "4     NaN      NaN      NaN    203.0      NaN    151.0    152.0  "
      ]
     },
     "execution_count": 5,
     "metadata": {},
     "output_type": "execute_result"
    }
   ],
   "source": [
    "data_bulk_new = pd.read_csv(\"/datasets/data_bulk_new.csv\")\n",
    "data_bulk_new.head()"
   ]
  },
  {
   "cell_type": "code",
   "execution_count": 6,
   "id": "ebdeee9d",
   "metadata": {},
   "outputs": [
    {
     "name": "stdout",
     "output_type": "stream",
     "text": [
      "<class 'pandas.core.frame.DataFrame'>\n",
      "RangeIndex: 3129 entries, 0 to 3128\n",
      "Data columns (total 16 columns):\n",
      " #   Column   Non-Null Count  Dtype  \n",
      "---  ------   --------------  -----  \n",
      " 0   key      3129 non-null   int64  \n",
      " 1   Bulk 1   252 non-null    float64\n",
      " 2   Bulk 2   22 non-null     float64\n",
      " 3   Bulk 3   1298 non-null   float64\n",
      " 4   Bulk 4   1014 non-null   float64\n",
      " 5   Bulk 5   77 non-null     float64\n",
      " 6   Bulk 6   576 non-null    float64\n",
      " 7   Bulk 7   25 non-null     float64\n",
      " 8   Bulk 8   1 non-null      float64\n",
      " 9   Bulk 9   19 non-null     float64\n",
      " 10  Bulk 10  176 non-null    float64\n",
      " 11  Bulk 11  177 non-null    float64\n",
      " 12  Bulk 12  2450 non-null   float64\n",
      " 13  Bulk 13  18 non-null     float64\n",
      " 14  Bulk 14  2806 non-null   float64\n",
      " 15  Bulk 15  2248 non-null   float64\n",
      "dtypes: float64(15), int64(1)\n",
      "memory usage: 391.2 KB\n"
     ]
    }
   ],
   "source": [
    "data_bulk_new.info()"
   ]
  },
  {
   "cell_type": "markdown",
   "id": "5df91172",
   "metadata": {},
   "source": [
    "Представлены данные о различных видах загрузки (Bulk), где каждый столбец \"Bulk X\" содержит значения веса.\n",
    "\n",
    "Датасет имеет 3129 строк и 16 колонок. В колонках с загрузками присутствует множество пропусков, что может потребовать обработки или использования в анализе только наиболее заполненных столбцов."
   ]
  },
  {
   "cell_type": "code",
   "execution_count": 7,
   "id": "4b6153f1",
   "metadata": {},
   "outputs": [
    {
     "data": {
      "text/html": [
       "<div>\n",
       "<style scoped>\n",
       "    .dataframe tbody tr th:only-of-type {\n",
       "        vertical-align: middle;\n",
       "    }\n",
       "\n",
       "    .dataframe tbody tr th {\n",
       "        vertical-align: top;\n",
       "    }\n",
       "\n",
       "    .dataframe thead th {\n",
       "        text-align: right;\n",
       "    }\n",
       "</style>\n",
       "<table border=\"1\" class=\"dataframe\">\n",
       "  <thead>\n",
       "    <tr style=\"text-align: right;\">\n",
       "      <th></th>\n",
       "      <th>key</th>\n",
       "      <th>Bulk 1</th>\n",
       "      <th>Bulk 2</th>\n",
       "      <th>Bulk 3</th>\n",
       "      <th>Bulk 4</th>\n",
       "      <th>Bulk 5</th>\n",
       "      <th>Bulk 6</th>\n",
       "      <th>Bulk 7</th>\n",
       "      <th>Bulk 8</th>\n",
       "      <th>Bulk 9</th>\n",
       "      <th>Bulk 10</th>\n",
       "      <th>Bulk 11</th>\n",
       "      <th>Bulk 12</th>\n",
       "      <th>Bulk 13</th>\n",
       "      <th>Bulk 14</th>\n",
       "      <th>Bulk 15</th>\n",
       "    </tr>\n",
       "  </thead>\n",
       "  <tbody>\n",
       "    <tr>\n",
       "      <th>0</th>\n",
       "      <td>1</td>\n",
       "      <td>NaN</td>\n",
       "      <td>NaN</td>\n",
       "      <td>NaN</td>\n",
       "      <td>2019-05-03 11:28:48</td>\n",
       "      <td>NaN</td>\n",
       "      <td>NaN</td>\n",
       "      <td>NaN</td>\n",
       "      <td>NaN</td>\n",
       "      <td>NaN</td>\n",
       "      <td>NaN</td>\n",
       "      <td>NaN</td>\n",
       "      <td>2019-05-03 11:24:31</td>\n",
       "      <td>NaN</td>\n",
       "      <td>2019-05-03 11:14:50</td>\n",
       "      <td>2019-05-03 11:10:43</td>\n",
       "    </tr>\n",
       "    <tr>\n",
       "      <th>1</th>\n",
       "      <td>2</td>\n",
       "      <td>NaN</td>\n",
       "      <td>NaN</td>\n",
       "      <td>NaN</td>\n",
       "      <td>2019-05-03 11:36:50</td>\n",
       "      <td>NaN</td>\n",
       "      <td>NaN</td>\n",
       "      <td>NaN</td>\n",
       "      <td>NaN</td>\n",
       "      <td>NaN</td>\n",
       "      <td>NaN</td>\n",
       "      <td>NaN</td>\n",
       "      <td>2019-05-03 11:53:30</td>\n",
       "      <td>NaN</td>\n",
       "      <td>2019-05-03 11:48:37</td>\n",
       "      <td>2019-05-03 11:44:39</td>\n",
       "    </tr>\n",
       "    <tr>\n",
       "      <th>2</th>\n",
       "      <td>3</td>\n",
       "      <td>NaN</td>\n",
       "      <td>NaN</td>\n",
       "      <td>NaN</td>\n",
       "      <td>2019-05-03 12:32:39</td>\n",
       "      <td>NaN</td>\n",
       "      <td>NaN</td>\n",
       "      <td>NaN</td>\n",
       "      <td>NaN</td>\n",
       "      <td>NaN</td>\n",
       "      <td>NaN</td>\n",
       "      <td>NaN</td>\n",
       "      <td>2019-05-03 12:27:13</td>\n",
       "      <td>NaN</td>\n",
       "      <td>2019-05-03 12:21:01</td>\n",
       "      <td>2019-05-03 12:16:16</td>\n",
       "    </tr>\n",
       "    <tr>\n",
       "      <th>3</th>\n",
       "      <td>4</td>\n",
       "      <td>NaN</td>\n",
       "      <td>NaN</td>\n",
       "      <td>NaN</td>\n",
       "      <td>2019-05-03 12:43:22</td>\n",
       "      <td>NaN</td>\n",
       "      <td>NaN</td>\n",
       "      <td>NaN</td>\n",
       "      <td>NaN</td>\n",
       "      <td>NaN</td>\n",
       "      <td>NaN</td>\n",
       "      <td>NaN</td>\n",
       "      <td>2019-05-03 12:58:00</td>\n",
       "      <td>NaN</td>\n",
       "      <td>2019-05-03 12:51:11</td>\n",
       "      <td>2019-05-03 12:46:36</td>\n",
       "    </tr>\n",
       "    <tr>\n",
       "      <th>4</th>\n",
       "      <td>5</td>\n",
       "      <td>NaN</td>\n",
       "      <td>NaN</td>\n",
       "      <td>NaN</td>\n",
       "      <td>2019-05-03 13:30:47</td>\n",
       "      <td>NaN</td>\n",
       "      <td>NaN</td>\n",
       "      <td>NaN</td>\n",
       "      <td>NaN</td>\n",
       "      <td>NaN</td>\n",
       "      <td>NaN</td>\n",
       "      <td>NaN</td>\n",
       "      <td>2019-05-03 13:30:47</td>\n",
       "      <td>NaN</td>\n",
       "      <td>2019-05-03 13:34:12</td>\n",
       "      <td>2019-05-03 13:30:47</td>\n",
       "    </tr>\n",
       "  </tbody>\n",
       "</table>\n",
       "</div>"
      ],
      "text/plain": [
       "   key Bulk 1 Bulk 2 Bulk 3               Bulk 4 Bulk 5 Bulk 6 Bulk 7 Bulk 8  \\\n",
       "0    1    NaN    NaN    NaN  2019-05-03 11:28:48    NaN    NaN    NaN    NaN   \n",
       "1    2    NaN    NaN    NaN  2019-05-03 11:36:50    NaN    NaN    NaN    NaN   \n",
       "2    3    NaN    NaN    NaN  2019-05-03 12:32:39    NaN    NaN    NaN    NaN   \n",
       "3    4    NaN    NaN    NaN  2019-05-03 12:43:22    NaN    NaN    NaN    NaN   \n",
       "4    5    NaN    NaN    NaN  2019-05-03 13:30:47    NaN    NaN    NaN    NaN   \n",
       "\n",
       "  Bulk 9 Bulk 10 Bulk 11              Bulk 12 Bulk 13              Bulk 14  \\\n",
       "0    NaN     NaN     NaN  2019-05-03 11:24:31     NaN  2019-05-03 11:14:50   \n",
       "1    NaN     NaN     NaN  2019-05-03 11:53:30     NaN  2019-05-03 11:48:37   \n",
       "2    NaN     NaN     NaN  2019-05-03 12:27:13     NaN  2019-05-03 12:21:01   \n",
       "3    NaN     NaN     NaN  2019-05-03 12:58:00     NaN  2019-05-03 12:51:11   \n",
       "4    NaN     NaN     NaN  2019-05-03 13:30:47     NaN  2019-05-03 13:34:12   \n",
       "\n",
       "               Bulk 15  \n",
       "0  2019-05-03 11:10:43  \n",
       "1  2019-05-03 11:44:39  \n",
       "2  2019-05-03 12:16:16  \n",
       "3  2019-05-03 12:46:36  \n",
       "4  2019-05-03 13:30:47  "
      ]
     },
     "execution_count": 7,
     "metadata": {},
     "output_type": "execute_result"
    }
   ],
   "source": [
    "data_bulk_time_new = pd.read_csv(\"/datasets/data_bulk_time_new.csv\")\n",
    "data_bulk_time_new.head()"
   ]
  },
  {
   "cell_type": "code",
   "execution_count": 8,
   "id": "81191cda",
   "metadata": {},
   "outputs": [
    {
     "name": "stdout",
     "output_type": "stream",
     "text": [
      "<class 'pandas.core.frame.DataFrame'>\n",
      "RangeIndex: 3129 entries, 0 to 3128\n",
      "Data columns (total 16 columns):\n",
      " #   Column   Non-Null Count  Dtype \n",
      "---  ------   --------------  ----- \n",
      " 0   key      3129 non-null   int64 \n",
      " 1   Bulk 1   252 non-null    object\n",
      " 2   Bulk 2   22 non-null     object\n",
      " 3   Bulk 3   1298 non-null   object\n",
      " 4   Bulk 4   1014 non-null   object\n",
      " 5   Bulk 5   77 non-null     object\n",
      " 6   Bulk 6   576 non-null    object\n",
      " 7   Bulk 7   25 non-null     object\n",
      " 8   Bulk 8   1 non-null      object\n",
      " 9   Bulk 9   19 non-null     object\n",
      " 10  Bulk 10  176 non-null    object\n",
      " 11  Bulk 11  177 non-null    object\n",
      " 12  Bulk 12  2450 non-null   object\n",
      " 13  Bulk 13  18 non-null     object\n",
      " 14  Bulk 14  2806 non-null   object\n",
      " 15  Bulk 15  2248 non-null   object\n",
      "dtypes: int64(1), object(15)\n",
      "memory usage: 391.2+ KB\n"
     ]
    }
   ],
   "source": [
    "data_bulk_time_new.info()"
   ]
  },
  {
   "cell_type": "markdown",
   "id": "155b67a0",
   "metadata": {},
   "source": [
    "Данные содержат временные метки для различных загрузок (Bulk), фиксирующие момент времени, когда добавлялась каждая загрузка.\n",
    "\n",
    "В таблице также 3129 строк, а большинство колонок имеют пропуски. Необходима конвертация этих данных в формат datetime для дальнейшего использования."
   ]
  },
  {
   "cell_type": "code",
   "execution_count": 9,
   "id": "87ae52e7",
   "metadata": {},
   "outputs": [
    {
     "data": {
      "text/html": [
       "<div>\n",
       "<style scoped>\n",
       "    .dataframe tbody tr th:only-of-type {\n",
       "        vertical-align: middle;\n",
       "    }\n",
       "\n",
       "    .dataframe tbody tr th {\n",
       "        vertical-align: top;\n",
       "    }\n",
       "\n",
       "    .dataframe thead th {\n",
       "        text-align: right;\n",
       "    }\n",
       "</style>\n",
       "<table border=\"1\" class=\"dataframe\">\n",
       "  <thead>\n",
       "    <tr style=\"text-align: right;\">\n",
       "      <th></th>\n",
       "      <th>key</th>\n",
       "      <th>Газ 1</th>\n",
       "    </tr>\n",
       "  </thead>\n",
       "  <tbody>\n",
       "    <tr>\n",
       "      <th>0</th>\n",
       "      <td>1</td>\n",
       "      <td>29.749986</td>\n",
       "    </tr>\n",
       "    <tr>\n",
       "      <th>1</th>\n",
       "      <td>2</td>\n",
       "      <td>12.555561</td>\n",
       "    </tr>\n",
       "    <tr>\n",
       "      <th>2</th>\n",
       "      <td>3</td>\n",
       "      <td>28.554793</td>\n",
       "    </tr>\n",
       "    <tr>\n",
       "      <th>3</th>\n",
       "      <td>4</td>\n",
       "      <td>18.841219</td>\n",
       "    </tr>\n",
       "    <tr>\n",
       "      <th>4</th>\n",
       "      <td>5</td>\n",
       "      <td>5.413692</td>\n",
       "    </tr>\n",
       "  </tbody>\n",
       "</table>\n",
       "</div>"
      ],
      "text/plain": [
       "   key      Газ 1\n",
       "0    1  29.749986\n",
       "1    2  12.555561\n",
       "2    3  28.554793\n",
       "3    4  18.841219\n",
       "4    5   5.413692"
      ]
     },
     "execution_count": 9,
     "metadata": {},
     "output_type": "execute_result"
    }
   ],
   "source": [
    "data_gas_new = pd.read_csv(\"/datasets/data_gas_new.csv\")\n",
    "data_gas_new.head()"
   ]
  },
  {
   "cell_type": "code",
   "execution_count": 10,
   "id": "a8785ad5",
   "metadata": {},
   "outputs": [
    {
     "name": "stdout",
     "output_type": "stream",
     "text": [
      "<class 'pandas.core.frame.DataFrame'>\n",
      "RangeIndex: 3239 entries, 0 to 3238\n",
      "Data columns (total 2 columns):\n",
      " #   Column  Non-Null Count  Dtype  \n",
      "---  ------  --------------  -----  \n",
      " 0   key     3239 non-null   int64  \n",
      " 1   Газ 1   3239 non-null   float64\n",
      "dtypes: float64(1), int64(1)\n",
      "memory usage: 50.7 KB\n"
     ]
    }
   ],
   "source": [
    "data_gas_new.info()"
   ]
  },
  {
   "cell_type": "markdown",
   "id": "f95b99c5",
   "metadata": {},
   "source": [
    "Содержит информацию о расходе газа.\n",
    "\n",
    "Имеется 3239 строк и отсутствуют пропуски."
   ]
  },
  {
   "cell_type": "code",
   "execution_count": 11,
   "id": "b9492337",
   "metadata": {},
   "outputs": [
    {
     "data": {
      "text/html": [
       "<div>\n",
       "<style scoped>\n",
       "    .dataframe tbody tr th:only-of-type {\n",
       "        vertical-align: middle;\n",
       "    }\n",
       "\n",
       "    .dataframe tbody tr th {\n",
       "        vertical-align: top;\n",
       "    }\n",
       "\n",
       "    .dataframe thead th {\n",
       "        text-align: right;\n",
       "    }\n",
       "</style>\n",
       "<table border=\"1\" class=\"dataframe\">\n",
       "  <thead>\n",
       "    <tr style=\"text-align: right;\">\n",
       "      <th></th>\n",
       "      <th>key</th>\n",
       "      <th>Время замера</th>\n",
       "      <th>Температура</th>\n",
       "    </tr>\n",
       "  </thead>\n",
       "  <tbody>\n",
       "    <tr>\n",
       "      <th>0</th>\n",
       "      <td>1</td>\n",
       "      <td>2019-05-03 11:02:04</td>\n",
       "      <td>1571.0</td>\n",
       "    </tr>\n",
       "    <tr>\n",
       "      <th>1</th>\n",
       "      <td>1</td>\n",
       "      <td>2019-05-03 11:07:18</td>\n",
       "      <td>1604.0</td>\n",
       "    </tr>\n",
       "    <tr>\n",
       "      <th>2</th>\n",
       "      <td>1</td>\n",
       "      <td>2019-05-03 11:11:34</td>\n",
       "      <td>1618.0</td>\n",
       "    </tr>\n",
       "    <tr>\n",
       "      <th>3</th>\n",
       "      <td>1</td>\n",
       "      <td>2019-05-03 11:18:04</td>\n",
       "      <td>1601.0</td>\n",
       "    </tr>\n",
       "    <tr>\n",
       "      <th>4</th>\n",
       "      <td>1</td>\n",
       "      <td>2019-05-03 11:25:59</td>\n",
       "      <td>1606.0</td>\n",
       "    </tr>\n",
       "  </tbody>\n",
       "</table>\n",
       "</div>"
      ],
      "text/plain": [
       "   key         Время замера  Температура\n",
       "0    1  2019-05-03 11:02:04       1571.0\n",
       "1    1  2019-05-03 11:07:18       1604.0\n",
       "2    1  2019-05-03 11:11:34       1618.0\n",
       "3    1  2019-05-03 11:18:04       1601.0\n",
       "4    1  2019-05-03 11:25:59       1606.0"
      ]
     },
     "execution_count": 11,
     "metadata": {},
     "output_type": "execute_result"
    }
   ],
   "source": [
    "data_temp_new = pd.read_csv(\"/datasets/data_temp_new.csv\")\n",
    "data_temp_new.head()"
   ]
  },
  {
   "cell_type": "code",
   "execution_count": 12,
   "id": "a9d85ff1",
   "metadata": {},
   "outputs": [
    {
     "name": "stdout",
     "output_type": "stream",
     "text": [
      "<class 'pandas.core.frame.DataFrame'>\n",
      "RangeIndex: 18092 entries, 0 to 18091\n",
      "Data columns (total 3 columns):\n",
      " #   Column        Non-Null Count  Dtype  \n",
      "---  ------        --------------  -----  \n",
      " 0   key           18092 non-null  int64  \n",
      " 1   Время замера  18092 non-null  object \n",
      " 2   Температура   14665 non-null  float64\n",
      "dtypes: float64(1), int64(1), object(1)\n",
      "memory usage: 424.2+ KB\n"
     ]
    }
   ],
   "source": [
    "data_temp_new.info()"
   ]
  },
  {
   "cell_type": "markdown",
   "id": "8d629842",
   "metadata": {},
   "source": [
    "Датасет содержит временные метки и значения температуры.\n",
    "\n",
    "Из 18092 записей около 19% значений температуры отсутствуют, что потребует обработки пропусков. Временные метки также нуждаются в преобразовании в формат datetime."
   ]
  },
  {
   "cell_type": "code",
   "execution_count": 13,
   "id": "fba1f33e",
   "metadata": {},
   "outputs": [
    {
     "data": {
      "text/html": [
       "<div>\n",
       "<style scoped>\n",
       "    .dataframe tbody tr th:only-of-type {\n",
       "        vertical-align: middle;\n",
       "    }\n",
       "\n",
       "    .dataframe tbody tr th {\n",
       "        vertical-align: top;\n",
       "    }\n",
       "\n",
       "    .dataframe thead th {\n",
       "        text-align: right;\n",
       "    }\n",
       "</style>\n",
       "<table border=\"1\" class=\"dataframe\">\n",
       "  <thead>\n",
       "    <tr style=\"text-align: right;\">\n",
       "      <th></th>\n",
       "      <th>key</th>\n",
       "      <th>Wire 1</th>\n",
       "      <th>Wire 2</th>\n",
       "      <th>Wire 3</th>\n",
       "      <th>Wire 4</th>\n",
       "      <th>Wire 5</th>\n",
       "      <th>Wire 6</th>\n",
       "      <th>Wire 7</th>\n",
       "      <th>Wire 8</th>\n",
       "      <th>Wire 9</th>\n",
       "    </tr>\n",
       "  </thead>\n",
       "  <tbody>\n",
       "    <tr>\n",
       "      <th>0</th>\n",
       "      <td>1</td>\n",
       "      <td>60.059998</td>\n",
       "      <td>NaN</td>\n",
       "      <td>NaN</td>\n",
       "      <td>NaN</td>\n",
       "      <td>NaN</td>\n",
       "      <td>NaN</td>\n",
       "      <td>NaN</td>\n",
       "      <td>NaN</td>\n",
       "      <td>NaN</td>\n",
       "    </tr>\n",
       "    <tr>\n",
       "      <th>1</th>\n",
       "      <td>2</td>\n",
       "      <td>96.052315</td>\n",
       "      <td>NaN</td>\n",
       "      <td>NaN</td>\n",
       "      <td>NaN</td>\n",
       "      <td>NaN</td>\n",
       "      <td>NaN</td>\n",
       "      <td>NaN</td>\n",
       "      <td>NaN</td>\n",
       "      <td>NaN</td>\n",
       "    </tr>\n",
       "    <tr>\n",
       "      <th>2</th>\n",
       "      <td>3</td>\n",
       "      <td>91.160157</td>\n",
       "      <td>NaN</td>\n",
       "      <td>NaN</td>\n",
       "      <td>NaN</td>\n",
       "      <td>NaN</td>\n",
       "      <td>NaN</td>\n",
       "      <td>NaN</td>\n",
       "      <td>NaN</td>\n",
       "      <td>NaN</td>\n",
       "    </tr>\n",
       "    <tr>\n",
       "      <th>3</th>\n",
       "      <td>4</td>\n",
       "      <td>89.063515</td>\n",
       "      <td>NaN</td>\n",
       "      <td>NaN</td>\n",
       "      <td>NaN</td>\n",
       "      <td>NaN</td>\n",
       "      <td>NaN</td>\n",
       "      <td>NaN</td>\n",
       "      <td>NaN</td>\n",
       "      <td>NaN</td>\n",
       "    </tr>\n",
       "    <tr>\n",
       "      <th>4</th>\n",
       "      <td>5</td>\n",
       "      <td>89.238236</td>\n",
       "      <td>9.11456</td>\n",
       "      <td>NaN</td>\n",
       "      <td>NaN</td>\n",
       "      <td>NaN</td>\n",
       "      <td>NaN</td>\n",
       "      <td>NaN</td>\n",
       "      <td>NaN</td>\n",
       "      <td>NaN</td>\n",
       "    </tr>\n",
       "  </tbody>\n",
       "</table>\n",
       "</div>"
      ],
      "text/plain": [
       "   key     Wire 1   Wire 2  Wire 3  Wire 4  Wire 5  Wire 6  Wire 7  Wire 8  \\\n",
       "0    1  60.059998      NaN     NaN     NaN     NaN     NaN     NaN     NaN   \n",
       "1    2  96.052315      NaN     NaN     NaN     NaN     NaN     NaN     NaN   \n",
       "2    3  91.160157      NaN     NaN     NaN     NaN     NaN     NaN     NaN   \n",
       "3    4  89.063515      NaN     NaN     NaN     NaN     NaN     NaN     NaN   \n",
       "4    5  89.238236  9.11456     NaN     NaN     NaN     NaN     NaN     NaN   \n",
       "\n",
       "   Wire 9  \n",
       "0     NaN  \n",
       "1     NaN  \n",
       "2     NaN  \n",
       "3     NaN  \n",
       "4     NaN  "
      ]
     },
     "execution_count": 13,
     "metadata": {},
     "output_type": "execute_result"
    }
   ],
   "source": [
    "data_wire_new = pd.read_csv(\"/datasets/data_wire_new.csv\")\n",
    "data_wire_new.head()"
   ]
  },
  {
   "cell_type": "code",
   "execution_count": 14,
   "id": "f2041e6d",
   "metadata": {},
   "outputs": [
    {
     "name": "stdout",
     "output_type": "stream",
     "text": [
      "<class 'pandas.core.frame.DataFrame'>\n",
      "RangeIndex: 3081 entries, 0 to 3080\n",
      "Data columns (total 10 columns):\n",
      " #   Column  Non-Null Count  Dtype  \n",
      "---  ------  --------------  -----  \n",
      " 0   key     3081 non-null   int64  \n",
      " 1   Wire 1  3055 non-null   float64\n",
      " 2   Wire 2  1079 non-null   float64\n",
      " 3   Wire 3  63 non-null     float64\n",
      " 4   Wire 4  14 non-null     float64\n",
      " 5   Wire 5  1 non-null      float64\n",
      " 6   Wire 6  73 non-null     float64\n",
      " 7   Wire 7  11 non-null     float64\n",
      " 8   Wire 8  19 non-null     float64\n",
      " 9   Wire 9  29 non-null     float64\n",
      "dtypes: float64(9), int64(1)\n",
      "memory usage: 240.8 KB\n"
     ]
    }
   ],
   "source": [
    "data_wire_new.info()"
   ]
  },
  {
   "cell_type": "markdown",
   "id": "b07ec4f3",
   "metadata": {},
   "source": [
    "Данные о разных типах проволоки, добавляемой в процесс.\n",
    "\n",
    "Таблица содержит 3081 запись, в некоторых колонках наблюдается значительное количество пропусков."
   ]
  },
  {
   "cell_type": "code",
   "execution_count": 15,
   "id": "881ddf6c",
   "metadata": {},
   "outputs": [
    {
     "data": {
      "text/html": [
       "<div>\n",
       "<style scoped>\n",
       "    .dataframe tbody tr th:only-of-type {\n",
       "        vertical-align: middle;\n",
       "    }\n",
       "\n",
       "    .dataframe tbody tr th {\n",
       "        vertical-align: top;\n",
       "    }\n",
       "\n",
       "    .dataframe thead th {\n",
       "        text-align: right;\n",
       "    }\n",
       "</style>\n",
       "<table border=\"1\" class=\"dataframe\">\n",
       "  <thead>\n",
       "    <tr style=\"text-align: right;\">\n",
       "      <th></th>\n",
       "      <th>key</th>\n",
       "      <th>Wire 1</th>\n",
       "      <th>Wire 2</th>\n",
       "      <th>Wire 3</th>\n",
       "      <th>Wire 4</th>\n",
       "      <th>Wire 5</th>\n",
       "      <th>Wire 6</th>\n",
       "      <th>Wire 7</th>\n",
       "      <th>Wire 8</th>\n",
       "      <th>Wire 9</th>\n",
       "    </tr>\n",
       "  </thead>\n",
       "  <tbody>\n",
       "    <tr>\n",
       "      <th>0</th>\n",
       "      <td>1</td>\n",
       "      <td>2019-05-03 11:06:19</td>\n",
       "      <td>NaN</td>\n",
       "      <td>NaN</td>\n",
       "      <td>NaN</td>\n",
       "      <td>NaN</td>\n",
       "      <td>NaN</td>\n",
       "      <td>NaN</td>\n",
       "      <td>NaN</td>\n",
       "      <td>NaN</td>\n",
       "    </tr>\n",
       "    <tr>\n",
       "      <th>1</th>\n",
       "      <td>2</td>\n",
       "      <td>2019-05-03 11:36:50</td>\n",
       "      <td>NaN</td>\n",
       "      <td>NaN</td>\n",
       "      <td>NaN</td>\n",
       "      <td>NaN</td>\n",
       "      <td>NaN</td>\n",
       "      <td>NaN</td>\n",
       "      <td>NaN</td>\n",
       "      <td>NaN</td>\n",
       "    </tr>\n",
       "    <tr>\n",
       "      <th>2</th>\n",
       "      <td>3</td>\n",
       "      <td>2019-05-03 12:11:46</td>\n",
       "      <td>NaN</td>\n",
       "      <td>NaN</td>\n",
       "      <td>NaN</td>\n",
       "      <td>NaN</td>\n",
       "      <td>NaN</td>\n",
       "      <td>NaN</td>\n",
       "      <td>NaN</td>\n",
       "      <td>NaN</td>\n",
       "    </tr>\n",
       "    <tr>\n",
       "      <th>3</th>\n",
       "      <td>4</td>\n",
       "      <td>2019-05-03 12:43:22</td>\n",
       "      <td>NaN</td>\n",
       "      <td>NaN</td>\n",
       "      <td>NaN</td>\n",
       "      <td>NaN</td>\n",
       "      <td>NaN</td>\n",
       "      <td>NaN</td>\n",
       "      <td>NaN</td>\n",
       "      <td>NaN</td>\n",
       "    </tr>\n",
       "    <tr>\n",
       "      <th>4</th>\n",
       "      <td>5</td>\n",
       "      <td>2019-05-03 13:20:44</td>\n",
       "      <td>2019-05-03 13:15:34</td>\n",
       "      <td>NaN</td>\n",
       "      <td>NaN</td>\n",
       "      <td>NaN</td>\n",
       "      <td>NaN</td>\n",
       "      <td>NaN</td>\n",
       "      <td>NaN</td>\n",
       "      <td>NaN</td>\n",
       "    </tr>\n",
       "  </tbody>\n",
       "</table>\n",
       "</div>"
      ],
      "text/plain": [
       "   key               Wire 1               Wire 2 Wire 3 Wire 4 Wire 5 Wire 6  \\\n",
       "0    1  2019-05-03 11:06:19                  NaN    NaN    NaN    NaN    NaN   \n",
       "1    2  2019-05-03 11:36:50                  NaN    NaN    NaN    NaN    NaN   \n",
       "2    3  2019-05-03 12:11:46                  NaN    NaN    NaN    NaN    NaN   \n",
       "3    4  2019-05-03 12:43:22                  NaN    NaN    NaN    NaN    NaN   \n",
       "4    5  2019-05-03 13:20:44  2019-05-03 13:15:34    NaN    NaN    NaN    NaN   \n",
       "\n",
       "  Wire 7 Wire 8 Wire 9  \n",
       "0    NaN    NaN    NaN  \n",
       "1    NaN    NaN    NaN  \n",
       "2    NaN    NaN    NaN  \n",
       "3    NaN    NaN    NaN  \n",
       "4    NaN    NaN    NaN  "
      ]
     },
     "execution_count": 15,
     "metadata": {},
     "output_type": "execute_result"
    }
   ],
   "source": [
    "data_wire_time_new = pd.read_csv(\"/datasets/data_wire_time_new.csv\")\n",
    "data_wire_time_new.head()"
   ]
  },
  {
   "cell_type": "code",
   "execution_count": 16,
   "id": "dd4eda0f",
   "metadata": {},
   "outputs": [
    {
     "name": "stdout",
     "output_type": "stream",
     "text": [
      "<class 'pandas.core.frame.DataFrame'>\n",
      "RangeIndex: 3081 entries, 0 to 3080\n",
      "Data columns (total 10 columns):\n",
      " #   Column  Non-Null Count  Dtype \n",
      "---  ------  --------------  ----- \n",
      " 0   key     3081 non-null   int64 \n",
      " 1   Wire 1  3055 non-null   object\n",
      " 2   Wire 2  1079 non-null   object\n",
      " 3   Wire 3  63 non-null     object\n",
      " 4   Wire 4  14 non-null     object\n",
      " 5   Wire 5  1 non-null      object\n",
      " 6   Wire 6  73 non-null     object\n",
      " 7   Wire 7  11 non-null     object\n",
      " 8   Wire 8  19 non-null     object\n",
      " 9   Wire 9  29 non-null     object\n",
      "dtypes: int64(1), object(9)\n",
      "memory usage: 240.8+ KB\n"
     ]
    }
   ],
   "source": [
    "data_wire_time_new.info()"
   ]
  },
  {
   "cell_type": "markdown",
   "id": "82f266c7",
   "metadata": {},
   "source": [
    "Представлены временные метки для добавления различных типов проволоки.\n",
    "\n",
    "Также имеется 3081 запись, большинство колонок имеют много пропусков. Временные метки необходимо преобразовать в формат datetime."
   ]
  },
  {
   "cell_type": "markdown",
   "id": "c7ac7005",
   "metadata": {},
   "source": [
    "В целом, большинство наборов данных требуют преобразования строк в формат datetime для корректного анализа временных аспектов, а также обработки пропусков в некоторых колонках."
   ]
  },
  {
   "cell_type": "markdown",
   "id": "8c8cd186",
   "metadata": {},
   "source": [
    "# Предобработка данных"
   ]
  },
  {
   "cell_type": "markdown",
   "id": "09de3a9d",
   "metadata": {},
   "source": [
    "## 1.1 Заполнение пропусков"
   ]
  },
  {
   "cell_type": "code",
   "execution_count": 17,
   "id": "bfe695cc",
   "metadata": {},
   "outputs": [
    {
     "name": "stdout",
     "output_type": "stream",
     "text": [
      "data_arc_new\n"
     ]
    },
    {
     "data": {
      "text/plain": [
       "key                     0\n",
       "Начало нагрева дугой    0\n",
       "Конец нагрева дугой     0\n",
       "Активная мощность       0\n",
       "Реактивная мощность     0\n",
       "dtype: int64"
      ]
     },
     "metadata": {},
     "output_type": "display_data"
    },
    {
     "name": "stdout",
     "output_type": "stream",
     "text": [
      "data_bulk_new\n"
     ]
    },
    {
     "data": {
      "text/plain": [
       "key           0\n",
       "Bulk 1     2877\n",
       "Bulk 2     3107\n",
       "Bulk 3     1831\n",
       "Bulk 4     2115\n",
       "Bulk 5     3052\n",
       "Bulk 6     2553\n",
       "Bulk 7     3104\n",
       "Bulk 8     3128\n",
       "Bulk 9     3110\n",
       "Bulk 10    2953\n",
       "Bulk 11    2952\n",
       "Bulk 12     679\n",
       "Bulk 13    3111\n",
       "Bulk 14     323\n",
       "Bulk 15     881\n",
       "dtype: int64"
      ]
     },
     "metadata": {},
     "output_type": "display_data"
    },
    {
     "name": "stdout",
     "output_type": "stream",
     "text": [
      "data_bulk_time_new\n"
     ]
    },
    {
     "data": {
      "text/plain": [
       "key           0\n",
       "Bulk 1     2877\n",
       "Bulk 2     3107\n",
       "Bulk 3     1831\n",
       "Bulk 4     2115\n",
       "Bulk 5     3052\n",
       "Bulk 6     2553\n",
       "Bulk 7     3104\n",
       "Bulk 8     3128\n",
       "Bulk 9     3110\n",
       "Bulk 10    2953\n",
       "Bulk 11    2952\n",
       "Bulk 12     679\n",
       "Bulk 13    3111\n",
       "Bulk 14     323\n",
       "Bulk 15     881\n",
       "dtype: int64"
      ]
     },
     "metadata": {},
     "output_type": "display_data"
    },
    {
     "name": "stdout",
     "output_type": "stream",
     "text": [
      "data_gas_new\n"
     ]
    },
    {
     "data": {
      "text/plain": [
       "key      0\n",
       "Газ 1    0\n",
       "dtype: int64"
      ]
     },
     "metadata": {},
     "output_type": "display_data"
    },
    {
     "name": "stdout",
     "output_type": "stream",
     "text": [
      "data_temp_new\n"
     ]
    },
    {
     "data": {
      "text/plain": [
       "key                0\n",
       "Время замера       0\n",
       "Температура     3427\n",
       "dtype: int64"
      ]
     },
     "metadata": {},
     "output_type": "display_data"
    },
    {
     "name": "stdout",
     "output_type": "stream",
     "text": [
      "data_wire_new\n"
     ]
    },
    {
     "data": {
      "text/plain": [
       "key          0\n",
       "Wire 1      26\n",
       "Wire 2    2002\n",
       "Wire 3    3018\n",
       "Wire 4    3067\n",
       "Wire 5    3080\n",
       "Wire 6    3008\n",
       "Wire 7    3070\n",
       "Wire 8    3062\n",
       "Wire 9    3052\n",
       "dtype: int64"
      ]
     },
     "metadata": {},
     "output_type": "display_data"
    },
    {
     "name": "stdout",
     "output_type": "stream",
     "text": [
      "data_wire_time_new\n"
     ]
    },
    {
     "data": {
      "text/plain": [
       "key          0\n",
       "Wire 1      26\n",
       "Wire 2    2002\n",
       "Wire 3    3018\n",
       "Wire 4    3067\n",
       "Wire 5    3080\n",
       "Wire 6    3008\n",
       "Wire 7    3070\n",
       "Wire 8    3062\n",
       "Wire 9    3052\n",
       "dtype: int64"
      ]
     },
     "metadata": {},
     "output_type": "display_data"
    }
   ],
   "source": [
    "print(\"data_arc_new\")\n",
    "display(data_arc_new.isnull().sum())\n",
    "print(\"data_bulk_new\")\n",
    "\n",
    "display(data_bulk_new.isnull().sum())\n",
    "print(\"data_bulk_time_new\")\n",
    "\n",
    "display(data_bulk_time_new.isnull().sum())\n",
    "print(\"data_gas_new\")\n",
    "\n",
    "display(data_gas_new.isnull().sum())\n",
    "print(\"data_temp_new\")\n",
    "\n",
    "display(data_temp_new.isnull().sum())\n",
    "print(\"data_wire_new\")\n",
    "\n",
    "display(data_wire_new.isnull().sum())\n",
    "\n",
    "print(\"data_wire_time_new\")\n",
    "\n",
    "display(data_wire_time_new.isnull().sum())\n"
   ]
  },
  {
   "cell_type": "markdown",
   "id": "d33b0141",
   "metadata": {},
   "source": [
    "### data_arc_new"
   ]
  },
  {
   "cell_type": "markdown",
   "id": "a2e22a52",
   "metadata": {},
   "source": [
    "Пропусков нет, но неправильный формат даты и времени"
   ]
  },
  {
   "cell_type": "code",
   "execution_count": 18,
   "id": "018ef425",
   "metadata": {},
   "outputs": [
    {
     "name": "stdout",
     "output_type": "stream",
     "text": [
      "<class 'pandas.core.frame.DataFrame'>\n",
      "RangeIndex: 14876 entries, 0 to 14875\n",
      "Data columns (total 5 columns):\n",
      " #   Column                Non-Null Count  Dtype         \n",
      "---  ------                --------------  -----         \n",
      " 0   key                   14876 non-null  int64         \n",
      " 1   Начало нагрева дугой  14876 non-null  datetime64[ns]\n",
      " 2   Конец нагрева дугой   14876 non-null  datetime64[ns]\n",
      " 3   Активная мощность     14876 non-null  float64       \n",
      " 4   Реактивная мощность   14876 non-null  float64       \n",
      "dtypes: datetime64[ns](2), float64(2), int64(1)\n",
      "memory usage: 581.2 KB\n"
     ]
    }
   ],
   "source": [
    "data_arc_new[\"Начало нагрева дугой\"] = pd.to_datetime(data_arc_new['Начало нагрева дугой'])\n",
    "data_arc_new[\"Конец нагрева дугой\"] = pd.to_datetime(data_arc_new['Конец нагрева дугой'])\n",
    "data_arc_new.info()"
   ]
  },
  {
   "cell_type": "code",
   "execution_count": null,
   "id": "65c55677",
   "metadata": {},
   "outputs": [],
   "source": []
  },
  {
   "cell_type": "code",
   "execution_count": 19,
   "id": "ee611491",
   "metadata": {},
   "outputs": [
    {
     "data": {
      "text/html": [
       "<div>\n",
       "<style scoped>\n",
       "    .dataframe tbody tr th:only-of-type {\n",
       "        vertical-align: middle;\n",
       "    }\n",
       "\n",
       "    .dataframe tbody tr th {\n",
       "        vertical-align: top;\n",
       "    }\n",
       "\n",
       "    .dataframe thead th {\n",
       "        text-align: right;\n",
       "    }\n",
       "</style>\n",
       "<table border=\"1\" class=\"dataframe\">\n",
       "  <thead>\n",
       "    <tr style=\"text-align: right;\">\n",
       "      <th></th>\n",
       "      <th>key</th>\n",
       "      <th>Начало нагрева дугой</th>\n",
       "      <th>Конец нагрева дугой</th>\n",
       "      <th>Активная мощность</th>\n",
       "      <th>Реактивная мощность</th>\n",
       "    </tr>\n",
       "  </thead>\n",
       "  <tbody>\n",
       "    <tr>\n",
       "      <th>0</th>\n",
       "      <td>1</td>\n",
       "      <td>2019-05-03 11:02:14</td>\n",
       "      <td>2019-05-03 11:06:02</td>\n",
       "      <td>0.305130</td>\n",
       "      <td>0.211253</td>\n",
       "    </tr>\n",
       "    <tr>\n",
       "      <th>1</th>\n",
       "      <td>1</td>\n",
       "      <td>2019-05-03 11:07:28</td>\n",
       "      <td>2019-05-03 11:10:33</td>\n",
       "      <td>0.765658</td>\n",
       "      <td>0.477438</td>\n",
       "    </tr>\n",
       "    <tr>\n",
       "      <th>2</th>\n",
       "      <td>1</td>\n",
       "      <td>2019-05-03 11:11:44</td>\n",
       "      <td>2019-05-03 11:14:36</td>\n",
       "      <td>0.580313</td>\n",
       "      <td>0.430460</td>\n",
       "    </tr>\n",
       "    <tr>\n",
       "      <th>3</th>\n",
       "      <td>1</td>\n",
       "      <td>2019-05-03 11:18:14</td>\n",
       "      <td>2019-05-03 11:24:19</td>\n",
       "      <td>0.518496</td>\n",
       "      <td>0.379979</td>\n",
       "    </tr>\n",
       "    <tr>\n",
       "      <th>4</th>\n",
       "      <td>1</td>\n",
       "      <td>2019-05-03 11:26:09</td>\n",
       "      <td>2019-05-03 11:28:37</td>\n",
       "      <td>0.867133</td>\n",
       "      <td>0.643691</td>\n",
       "    </tr>\n",
       "    <tr>\n",
       "      <th>...</th>\n",
       "      <td>...</td>\n",
       "      <td>...</td>\n",
       "      <td>...</td>\n",
       "      <td>...</td>\n",
       "      <td>...</td>\n",
       "    </tr>\n",
       "    <tr>\n",
       "      <th>14871</th>\n",
       "      <td>3241</td>\n",
       "      <td>2019-09-06 16:49:05</td>\n",
       "      <td>2019-09-06 16:51:42</td>\n",
       "      <td>0.439735</td>\n",
       "      <td>0.299579</td>\n",
       "    </tr>\n",
       "    <tr>\n",
       "      <th>14872</th>\n",
       "      <td>3241</td>\n",
       "      <td>2019-09-06 16:55:11</td>\n",
       "      <td>2019-09-06 16:58:11</td>\n",
       "      <td>0.646498</td>\n",
       "      <td>0.458240</td>\n",
       "    </tr>\n",
       "    <tr>\n",
       "      <th>14873</th>\n",
       "      <td>3241</td>\n",
       "      <td>2019-09-06 17:06:48</td>\n",
       "      <td>2019-09-06 17:09:52</td>\n",
       "      <td>1.039726</td>\n",
       "      <td>0.769302</td>\n",
       "    </tr>\n",
       "    <tr>\n",
       "      <th>14874</th>\n",
       "      <td>3241</td>\n",
       "      <td>2019-09-06 17:21:58</td>\n",
       "      <td>2019-09-06 17:22:55</td>\n",
       "      <td>0.530267</td>\n",
       "      <td>0.361543</td>\n",
       "    </tr>\n",
       "    <tr>\n",
       "      <th>14875</th>\n",
       "      <td>3241</td>\n",
       "      <td>2019-09-06 17:24:54</td>\n",
       "      <td>2019-09-06 17:26:15</td>\n",
       "      <td>0.389057</td>\n",
       "      <td>0.251347</td>\n",
       "    </tr>\n",
       "  </tbody>\n",
       "</table>\n",
       "<p>14876 rows × 5 columns</p>\n",
       "</div>"
      ],
      "text/plain": [
       "        key Начало нагрева дугой Конец нагрева дугой  Активная мощность  \\\n",
       "0         1  2019-05-03 11:02:14 2019-05-03 11:06:02           0.305130   \n",
       "1         1  2019-05-03 11:07:28 2019-05-03 11:10:33           0.765658   \n",
       "2         1  2019-05-03 11:11:44 2019-05-03 11:14:36           0.580313   \n",
       "3         1  2019-05-03 11:18:14 2019-05-03 11:24:19           0.518496   \n",
       "4         1  2019-05-03 11:26:09 2019-05-03 11:28:37           0.867133   \n",
       "...     ...                  ...                 ...                ...   \n",
       "14871  3241  2019-09-06 16:49:05 2019-09-06 16:51:42           0.439735   \n",
       "14872  3241  2019-09-06 16:55:11 2019-09-06 16:58:11           0.646498   \n",
       "14873  3241  2019-09-06 17:06:48 2019-09-06 17:09:52           1.039726   \n",
       "14874  3241  2019-09-06 17:21:58 2019-09-06 17:22:55           0.530267   \n",
       "14875  3241  2019-09-06 17:24:54 2019-09-06 17:26:15           0.389057   \n",
       "\n",
       "       Реактивная мощность  \n",
       "0                 0.211253  \n",
       "1                 0.477438  \n",
       "2                 0.430460  \n",
       "3                 0.379979  \n",
       "4                 0.643691  \n",
       "...                    ...  \n",
       "14871             0.299579  \n",
       "14872             0.458240  \n",
       "14873             0.769302  \n",
       "14874             0.361543  \n",
       "14875             0.251347  \n",
       "\n",
       "[14876 rows x 5 columns]"
      ]
     },
     "execution_count": 19,
     "metadata": {},
     "output_type": "execute_result"
    }
   ],
   "source": [
    "data_arc_new"
   ]
  },
  {
   "cell_type": "markdown",
   "id": "9c5666c8",
   "metadata": {},
   "source": [
    "### data_bulk_new и data_bulk_time_new"
   ]
  },
  {
   "cell_type": "markdown",
   "id": "7d7b7819",
   "metadata": {},
   "source": [
    "разберем пропуски в data_bulk_new"
   ]
  },
  {
   "cell_type": "code",
   "execution_count": 20,
   "id": "c2c8c95c",
   "metadata": {},
   "outputs": [
    {
     "data": {
      "text/html": [
       "<div>\n",
       "<style scoped>\n",
       "    .dataframe tbody tr th:only-of-type {\n",
       "        vertical-align: middle;\n",
       "    }\n",
       "\n",
       "    .dataframe tbody tr th {\n",
       "        vertical-align: top;\n",
       "    }\n",
       "\n",
       "    .dataframe thead th {\n",
       "        text-align: right;\n",
       "    }\n",
       "</style>\n",
       "<table border=\"1\" class=\"dataframe\">\n",
       "  <thead>\n",
       "    <tr style=\"text-align: right;\">\n",
       "      <th></th>\n",
       "      <th>key</th>\n",
       "      <th>Bulk 1</th>\n",
       "      <th>Bulk 2</th>\n",
       "      <th>Bulk 3</th>\n",
       "      <th>Bulk 4</th>\n",
       "      <th>Bulk 5</th>\n",
       "      <th>Bulk 6</th>\n",
       "      <th>Bulk 7</th>\n",
       "      <th>Bulk 8</th>\n",
       "      <th>Bulk 9</th>\n",
       "      <th>Bulk 10</th>\n",
       "      <th>Bulk 11</th>\n",
       "      <th>Bulk 12</th>\n",
       "      <th>Bulk 13</th>\n",
       "      <th>Bulk 14</th>\n",
       "      <th>Bulk 15</th>\n",
       "    </tr>\n",
       "  </thead>\n",
       "  <tbody>\n",
       "    <tr>\n",
       "      <th>0</th>\n",
       "      <td>1</td>\n",
       "      <td>NaN</td>\n",
       "      <td>NaN</td>\n",
       "      <td>NaN</td>\n",
       "      <td>43.0</td>\n",
       "      <td>NaN</td>\n",
       "      <td>NaN</td>\n",
       "      <td>NaN</td>\n",
       "      <td>NaN</td>\n",
       "      <td>NaN</td>\n",
       "      <td>NaN</td>\n",
       "      <td>NaN</td>\n",
       "      <td>206.0</td>\n",
       "      <td>NaN</td>\n",
       "      <td>150.0</td>\n",
       "      <td>154.0</td>\n",
       "    </tr>\n",
       "    <tr>\n",
       "      <th>1</th>\n",
       "      <td>2</td>\n",
       "      <td>NaN</td>\n",
       "      <td>NaN</td>\n",
       "      <td>NaN</td>\n",
       "      <td>73.0</td>\n",
       "      <td>NaN</td>\n",
       "      <td>NaN</td>\n",
       "      <td>NaN</td>\n",
       "      <td>NaN</td>\n",
       "      <td>NaN</td>\n",
       "      <td>NaN</td>\n",
       "      <td>NaN</td>\n",
       "      <td>206.0</td>\n",
       "      <td>NaN</td>\n",
       "      <td>149.0</td>\n",
       "      <td>154.0</td>\n",
       "    </tr>\n",
       "    <tr>\n",
       "      <th>2</th>\n",
       "      <td>3</td>\n",
       "      <td>NaN</td>\n",
       "      <td>NaN</td>\n",
       "      <td>NaN</td>\n",
       "      <td>34.0</td>\n",
       "      <td>NaN</td>\n",
       "      <td>NaN</td>\n",
       "      <td>NaN</td>\n",
       "      <td>NaN</td>\n",
       "      <td>NaN</td>\n",
       "      <td>NaN</td>\n",
       "      <td>NaN</td>\n",
       "      <td>205.0</td>\n",
       "      <td>NaN</td>\n",
       "      <td>152.0</td>\n",
       "      <td>153.0</td>\n",
       "    </tr>\n",
       "    <tr>\n",
       "      <th>3</th>\n",
       "      <td>4</td>\n",
       "      <td>NaN</td>\n",
       "      <td>NaN</td>\n",
       "      <td>NaN</td>\n",
       "      <td>81.0</td>\n",
       "      <td>NaN</td>\n",
       "      <td>NaN</td>\n",
       "      <td>NaN</td>\n",
       "      <td>NaN</td>\n",
       "      <td>NaN</td>\n",
       "      <td>NaN</td>\n",
       "      <td>NaN</td>\n",
       "      <td>207.0</td>\n",
       "      <td>NaN</td>\n",
       "      <td>153.0</td>\n",
       "      <td>154.0</td>\n",
       "    </tr>\n",
       "    <tr>\n",
       "      <th>4</th>\n",
       "      <td>5</td>\n",
       "      <td>NaN</td>\n",
       "      <td>NaN</td>\n",
       "      <td>NaN</td>\n",
       "      <td>78.0</td>\n",
       "      <td>NaN</td>\n",
       "      <td>NaN</td>\n",
       "      <td>NaN</td>\n",
       "      <td>NaN</td>\n",
       "      <td>NaN</td>\n",
       "      <td>NaN</td>\n",
       "      <td>NaN</td>\n",
       "      <td>203.0</td>\n",
       "      <td>NaN</td>\n",
       "      <td>151.0</td>\n",
       "      <td>152.0</td>\n",
       "    </tr>\n",
       "  </tbody>\n",
       "</table>\n",
       "</div>"
      ],
      "text/plain": [
       "   key  Bulk 1  Bulk 2  Bulk 3  Bulk 4  Bulk 5  Bulk 6  Bulk 7  Bulk 8  \\\n",
       "0    1     NaN     NaN     NaN    43.0     NaN     NaN     NaN     NaN   \n",
       "1    2     NaN     NaN     NaN    73.0     NaN     NaN     NaN     NaN   \n",
       "2    3     NaN     NaN     NaN    34.0     NaN     NaN     NaN     NaN   \n",
       "3    4     NaN     NaN     NaN    81.0     NaN     NaN     NaN     NaN   \n",
       "4    5     NaN     NaN     NaN    78.0     NaN     NaN     NaN     NaN   \n",
       "\n",
       "   Bulk 9  Bulk 10  Bulk 11  Bulk 12  Bulk 13  Bulk 14  Bulk 15  \n",
       "0     NaN      NaN      NaN    206.0      NaN    150.0    154.0  \n",
       "1     NaN      NaN      NaN    206.0      NaN    149.0    154.0  \n",
       "2     NaN      NaN      NaN    205.0      NaN    152.0    153.0  \n",
       "3     NaN      NaN      NaN    207.0      NaN    153.0    154.0  \n",
       "4     NaN      NaN      NaN    203.0      NaN    151.0    152.0  "
      ]
     },
     "execution_count": 20,
     "metadata": {},
     "output_type": "execute_result"
    }
   ],
   "source": [
    "data_bulk_new.head()"
   ]
  },
  {
   "cell_type": "code",
   "execution_count": 21,
   "id": "32b6d869",
   "metadata": {},
   "outputs": [
    {
     "data": {
      "text/html": [
       "<div>\n",
       "<style scoped>\n",
       "    .dataframe tbody tr th:only-of-type {\n",
       "        vertical-align: middle;\n",
       "    }\n",
       "\n",
       "    .dataframe tbody tr th {\n",
       "        vertical-align: top;\n",
       "    }\n",
       "\n",
       "    .dataframe thead th {\n",
       "        text-align: right;\n",
       "    }\n",
       "</style>\n",
       "<table border=\"1\" class=\"dataframe\">\n",
       "  <thead>\n",
       "    <tr style=\"text-align: right;\">\n",
       "      <th></th>\n",
       "      <th>key</th>\n",
       "      <th>Bulk 1</th>\n",
       "      <th>Bulk 2</th>\n",
       "      <th>Bulk 3</th>\n",
       "      <th>Bulk 4</th>\n",
       "      <th>Bulk 5</th>\n",
       "      <th>Bulk 6</th>\n",
       "      <th>Bulk 7</th>\n",
       "      <th>Bulk 8</th>\n",
       "      <th>Bulk 9</th>\n",
       "      <th>Bulk 10</th>\n",
       "      <th>Bulk 11</th>\n",
       "      <th>Bulk 12</th>\n",
       "      <th>Bulk 13</th>\n",
       "      <th>Bulk 14</th>\n",
       "      <th>Bulk 15</th>\n",
       "    </tr>\n",
       "  </thead>\n",
       "  <tbody>\n",
       "    <tr>\n",
       "      <th>0</th>\n",
       "      <td>1</td>\n",
       "      <td>NaN</td>\n",
       "      <td>NaN</td>\n",
       "      <td>NaN</td>\n",
       "      <td>2019-05-03 11:28:48</td>\n",
       "      <td>NaN</td>\n",
       "      <td>NaN</td>\n",
       "      <td>NaN</td>\n",
       "      <td>NaN</td>\n",
       "      <td>NaN</td>\n",
       "      <td>NaN</td>\n",
       "      <td>NaN</td>\n",
       "      <td>2019-05-03 11:24:31</td>\n",
       "      <td>NaN</td>\n",
       "      <td>2019-05-03 11:14:50</td>\n",
       "      <td>2019-05-03 11:10:43</td>\n",
       "    </tr>\n",
       "    <tr>\n",
       "      <th>1</th>\n",
       "      <td>2</td>\n",
       "      <td>NaN</td>\n",
       "      <td>NaN</td>\n",
       "      <td>NaN</td>\n",
       "      <td>2019-05-03 11:36:50</td>\n",
       "      <td>NaN</td>\n",
       "      <td>NaN</td>\n",
       "      <td>NaN</td>\n",
       "      <td>NaN</td>\n",
       "      <td>NaN</td>\n",
       "      <td>NaN</td>\n",
       "      <td>NaN</td>\n",
       "      <td>2019-05-03 11:53:30</td>\n",
       "      <td>NaN</td>\n",
       "      <td>2019-05-03 11:48:37</td>\n",
       "      <td>2019-05-03 11:44:39</td>\n",
       "    </tr>\n",
       "    <tr>\n",
       "      <th>2</th>\n",
       "      <td>3</td>\n",
       "      <td>NaN</td>\n",
       "      <td>NaN</td>\n",
       "      <td>NaN</td>\n",
       "      <td>2019-05-03 12:32:39</td>\n",
       "      <td>NaN</td>\n",
       "      <td>NaN</td>\n",
       "      <td>NaN</td>\n",
       "      <td>NaN</td>\n",
       "      <td>NaN</td>\n",
       "      <td>NaN</td>\n",
       "      <td>NaN</td>\n",
       "      <td>2019-05-03 12:27:13</td>\n",
       "      <td>NaN</td>\n",
       "      <td>2019-05-03 12:21:01</td>\n",
       "      <td>2019-05-03 12:16:16</td>\n",
       "    </tr>\n",
       "    <tr>\n",
       "      <th>3</th>\n",
       "      <td>4</td>\n",
       "      <td>NaN</td>\n",
       "      <td>NaN</td>\n",
       "      <td>NaN</td>\n",
       "      <td>2019-05-03 12:43:22</td>\n",
       "      <td>NaN</td>\n",
       "      <td>NaN</td>\n",
       "      <td>NaN</td>\n",
       "      <td>NaN</td>\n",
       "      <td>NaN</td>\n",
       "      <td>NaN</td>\n",
       "      <td>NaN</td>\n",
       "      <td>2019-05-03 12:58:00</td>\n",
       "      <td>NaN</td>\n",
       "      <td>2019-05-03 12:51:11</td>\n",
       "      <td>2019-05-03 12:46:36</td>\n",
       "    </tr>\n",
       "    <tr>\n",
       "      <th>4</th>\n",
       "      <td>5</td>\n",
       "      <td>NaN</td>\n",
       "      <td>NaN</td>\n",
       "      <td>NaN</td>\n",
       "      <td>2019-05-03 13:30:47</td>\n",
       "      <td>NaN</td>\n",
       "      <td>NaN</td>\n",
       "      <td>NaN</td>\n",
       "      <td>NaN</td>\n",
       "      <td>NaN</td>\n",
       "      <td>NaN</td>\n",
       "      <td>NaN</td>\n",
       "      <td>2019-05-03 13:30:47</td>\n",
       "      <td>NaN</td>\n",
       "      <td>2019-05-03 13:34:12</td>\n",
       "      <td>2019-05-03 13:30:47</td>\n",
       "    </tr>\n",
       "  </tbody>\n",
       "</table>\n",
       "</div>"
      ],
      "text/plain": [
       "   key Bulk 1 Bulk 2 Bulk 3               Bulk 4 Bulk 5 Bulk 6 Bulk 7 Bulk 8  \\\n",
       "0    1    NaN    NaN    NaN  2019-05-03 11:28:48    NaN    NaN    NaN    NaN   \n",
       "1    2    NaN    NaN    NaN  2019-05-03 11:36:50    NaN    NaN    NaN    NaN   \n",
       "2    3    NaN    NaN    NaN  2019-05-03 12:32:39    NaN    NaN    NaN    NaN   \n",
       "3    4    NaN    NaN    NaN  2019-05-03 12:43:22    NaN    NaN    NaN    NaN   \n",
       "4    5    NaN    NaN    NaN  2019-05-03 13:30:47    NaN    NaN    NaN    NaN   \n",
       "\n",
       "  Bulk 9 Bulk 10 Bulk 11              Bulk 12 Bulk 13              Bulk 14  \\\n",
       "0    NaN     NaN     NaN  2019-05-03 11:24:31     NaN  2019-05-03 11:14:50   \n",
       "1    NaN     NaN     NaN  2019-05-03 11:53:30     NaN  2019-05-03 11:48:37   \n",
       "2    NaN     NaN     NaN  2019-05-03 12:27:13     NaN  2019-05-03 12:21:01   \n",
       "3    NaN     NaN     NaN  2019-05-03 12:58:00     NaN  2019-05-03 12:51:11   \n",
       "4    NaN     NaN     NaN  2019-05-03 13:30:47     NaN  2019-05-03 13:34:12   \n",
       "\n",
       "               Bulk 15  \n",
       "0  2019-05-03 11:10:43  \n",
       "1  2019-05-03 11:44:39  \n",
       "2  2019-05-03 12:16:16  \n",
       "3  2019-05-03 12:46:36  \n",
       "4  2019-05-03 13:30:47  "
      ]
     },
     "execution_count": 21,
     "metadata": {},
     "output_type": "execute_result"
    }
   ],
   "source": [
    "data_bulk_time_new.head()"
   ]
  },
  {
   "cell_type": "markdown",
   "id": "3cd029a3",
   "metadata": {},
   "source": [
    "Структура примерно одинакова, пропуски в данных означают не подачу того или иного материала. Далее объеденим эти датафреймы"
   ]
  },
  {
   "cell_type": "code",
   "execution_count": 22,
   "id": "d45c8a41",
   "metadata": {},
   "outputs": [
    {
     "data": {
      "text/plain": [
       "<AxesSubplot:>"
      ]
     },
     "execution_count": 22,
     "metadata": {},
     "output_type": "execute_result"
    },
    {
     "data": {
      "image/png": "[encoded data removed]",
      "text/plain": [
       "<Figure size 432x288 with 1 Axes>"
      ]
     },
     "metadata": {
      "needs_background": "light"
     },
     "output_type": "display_data"
    }
   ],
   "source": [
    "stat = (~data_bulk_new.isna()).sum().sort_values(ascending=False)\n",
    "stat.plot(kind=\"bar\")"
   ]
  },
  {
   "cell_type": "code",
   "execution_count": 23,
   "id": "5433f0f4",
   "metadata": {},
   "outputs": [
    {
     "data": {
      "text/html": [
       "<div>\n",
       "<style scoped>\n",
       "    .dataframe tbody tr th:only-of-type {\n",
       "        vertical-align: middle;\n",
       "    }\n",
       "\n",
       "    .dataframe tbody tr th {\n",
       "        vertical-align: top;\n",
       "    }\n",
       "\n",
       "    .dataframe thead th {\n",
       "        text-align: right;\n",
       "    }\n",
       "</style>\n",
       "<table border=\"1\" class=\"dataframe\">\n",
       "  <thead>\n",
       "    <tr style=\"text-align: right;\">\n",
       "      <th></th>\n",
       "      <th>key</th>\n",
       "      <th>Bulk 1</th>\n",
       "      <th>Bulk 2</th>\n",
       "      <th>Bulk 3</th>\n",
       "      <th>Bulk 4</th>\n",
       "      <th>Bulk 5</th>\n",
       "      <th>Bulk 6</th>\n",
       "      <th>Bulk 7</th>\n",
       "      <th>Bulk 8</th>\n",
       "      <th>Bulk 9</th>\n",
       "      <th>...</th>\n",
       "      <th>Bulk 6_time</th>\n",
       "      <th>Bulk 7_time</th>\n",
       "      <th>Bulk 8_time</th>\n",
       "      <th>Bulk 9_time</th>\n",
       "      <th>Bulk 10_time</th>\n",
       "      <th>Bulk 11_time</th>\n",
       "      <th>Bulk 12_time</th>\n",
       "      <th>Bulk 13_time</th>\n",
       "      <th>Bulk 14_time</th>\n",
       "      <th>Bulk 15_time</th>\n",
       "    </tr>\n",
       "  </thead>\n",
       "  <tbody>\n",
       "    <tr>\n",
       "      <th>0</th>\n",
       "      <td>1</td>\n",
       "      <td>NaN</td>\n",
       "      <td>NaN</td>\n",
       "      <td>NaN</td>\n",
       "      <td>43.0</td>\n",
       "      <td>NaN</td>\n",
       "      <td>NaN</td>\n",
       "      <td>NaN</td>\n",
       "      <td>NaN</td>\n",
       "      <td>NaN</td>\n",
       "      <td>...</td>\n",
       "      <td>NaN</td>\n",
       "      <td>NaN</td>\n",
       "      <td>NaN</td>\n",
       "      <td>NaN</td>\n",
       "      <td>NaN</td>\n",
       "      <td>NaN</td>\n",
       "      <td>2019-05-03 11:24:31</td>\n",
       "      <td>NaN</td>\n",
       "      <td>2019-05-03 11:14:50</td>\n",
       "      <td>2019-05-03 11:10:43</td>\n",
       "    </tr>\n",
       "    <tr>\n",
       "      <th>1</th>\n",
       "      <td>2</td>\n",
       "      <td>NaN</td>\n",
       "      <td>NaN</td>\n",
       "      <td>NaN</td>\n",
       "      <td>73.0</td>\n",
       "      <td>NaN</td>\n",
       "      <td>NaN</td>\n",
       "      <td>NaN</td>\n",
       "      <td>NaN</td>\n",
       "      <td>NaN</td>\n",
       "      <td>...</td>\n",
       "      <td>NaN</td>\n",
       "      <td>NaN</td>\n",
       "      <td>NaN</td>\n",
       "      <td>NaN</td>\n",
       "      <td>NaN</td>\n",
       "      <td>NaN</td>\n",
       "      <td>2019-05-03 11:53:30</td>\n",
       "      <td>NaN</td>\n",
       "      <td>2019-05-03 11:48:37</td>\n",
       "      <td>2019-05-03 11:44:39</td>\n",
       "    </tr>\n",
       "    <tr>\n",
       "      <th>2</th>\n",
       "      <td>3</td>\n",
       "      <td>NaN</td>\n",
       "      <td>NaN</td>\n",
       "      <td>NaN</td>\n",
       "      <td>34.0</td>\n",
       "      <td>NaN</td>\n",
       "      <td>NaN</td>\n",
       "      <td>NaN</td>\n",
       "      <td>NaN</td>\n",
       "      <td>NaN</td>\n",
       "      <td>...</td>\n",
       "      <td>NaN</td>\n",
       "      <td>NaN</td>\n",
       "      <td>NaN</td>\n",
       "      <td>NaN</td>\n",
       "      <td>NaN</td>\n",
       "      <td>NaN</td>\n",
       "      <td>2019-05-03 12:27:13</td>\n",
       "      <td>NaN</td>\n",
       "      <td>2019-05-03 12:21:01</td>\n",
       "      <td>2019-05-03 12:16:16</td>\n",
       "    </tr>\n",
       "    <tr>\n",
       "      <th>3</th>\n",
       "      <td>4</td>\n",
       "      <td>NaN</td>\n",
       "      <td>NaN</td>\n",
       "      <td>NaN</td>\n",
       "      <td>81.0</td>\n",
       "      <td>NaN</td>\n",
       "      <td>NaN</td>\n",
       "      <td>NaN</td>\n",
       "      <td>NaN</td>\n",
       "      <td>NaN</td>\n",
       "      <td>...</td>\n",
       "      <td>NaN</td>\n",
       "      <td>NaN</td>\n",
       "      <td>NaN</td>\n",
       "      <td>NaN</td>\n",
       "      <td>NaN</td>\n",
       "      <td>NaN</td>\n",
       "      <td>2019-05-03 12:58:00</td>\n",
       "      <td>NaN</td>\n",
       "      <td>2019-05-03 12:51:11</td>\n",
       "      <td>2019-05-03 12:46:36</td>\n",
       "    </tr>\n",
       "    <tr>\n",
       "      <th>4</th>\n",
       "      <td>5</td>\n",
       "      <td>NaN</td>\n",
       "      <td>NaN</td>\n",
       "      <td>NaN</td>\n",
       "      <td>78.0</td>\n",
       "      <td>NaN</td>\n",
       "      <td>NaN</td>\n",
       "      <td>NaN</td>\n",
       "      <td>NaN</td>\n",
       "      <td>NaN</td>\n",
       "      <td>...</td>\n",
       "      <td>NaN</td>\n",
       "      <td>NaN</td>\n",
       "      <td>NaN</td>\n",
       "      <td>NaN</td>\n",
       "      <td>NaN</td>\n",
       "      <td>NaN</td>\n",
       "      <td>2019-05-03 13:30:47</td>\n",
       "      <td>NaN</td>\n",
       "      <td>2019-05-03 13:34:12</td>\n",
       "      <td>2019-05-03 13:30:47</td>\n",
       "    </tr>\n",
       "    <tr>\n",
       "      <th>...</th>\n",
       "      <td>...</td>\n",
       "      <td>...</td>\n",
       "      <td>...</td>\n",
       "      <td>...</td>\n",
       "      <td>...</td>\n",
       "      <td>...</td>\n",
       "      <td>...</td>\n",
       "      <td>...</td>\n",
       "      <td>...</td>\n",
       "      <td>...</td>\n",
       "      <td>...</td>\n",
       "      <td>...</td>\n",
       "      <td>...</td>\n",
       "      <td>...</td>\n",
       "      <td>...</td>\n",
       "      <td>...</td>\n",
       "      <td>...</td>\n",
       "      <td>...</td>\n",
       "      <td>...</td>\n",
       "      <td>...</td>\n",
       "      <td>...</td>\n",
       "    </tr>\n",
       "    <tr>\n",
       "      <th>3124</th>\n",
       "      <td>3237</td>\n",
       "      <td>NaN</td>\n",
       "      <td>NaN</td>\n",
       "      <td>170.0</td>\n",
       "      <td>NaN</td>\n",
       "      <td>NaN</td>\n",
       "      <td>NaN</td>\n",
       "      <td>NaN</td>\n",
       "      <td>NaN</td>\n",
       "      <td>NaN</td>\n",
       "      <td>...</td>\n",
       "      <td>NaN</td>\n",
       "      <td>NaN</td>\n",
       "      <td>NaN</td>\n",
       "      <td>NaN</td>\n",
       "      <td>NaN</td>\n",
       "      <td>NaN</td>\n",
       "      <td>2019-09-06 11:49:45</td>\n",
       "      <td>NaN</td>\n",
       "      <td>2019-09-06 11:45:22</td>\n",
       "      <td>2019-09-06 11:40:06</td>\n",
       "    </tr>\n",
       "    <tr>\n",
       "      <th>3125</th>\n",
       "      <td>3238</td>\n",
       "      <td>NaN</td>\n",
       "      <td>NaN</td>\n",
       "      <td>126.0</td>\n",
       "      <td>NaN</td>\n",
       "      <td>NaN</td>\n",
       "      <td>NaN</td>\n",
       "      <td>NaN</td>\n",
       "      <td>NaN</td>\n",
       "      <td>NaN</td>\n",
       "      <td>...</td>\n",
       "      <td>NaN</td>\n",
       "      <td>NaN</td>\n",
       "      <td>NaN</td>\n",
       "      <td>NaN</td>\n",
       "      <td>NaN</td>\n",
       "      <td>NaN</td>\n",
       "      <td>2019-09-06 12:18:35</td>\n",
       "      <td>NaN</td>\n",
       "      <td>2019-09-06 12:31:49</td>\n",
       "      <td>2019-09-06 12:26:52</td>\n",
       "    </tr>\n",
       "    <tr>\n",
       "      <th>3126</th>\n",
       "      <td>3239</td>\n",
       "      <td>NaN</td>\n",
       "      <td>NaN</td>\n",
       "      <td>NaN</td>\n",
       "      <td>NaN</td>\n",
       "      <td>NaN</td>\n",
       "      <td>114.0</td>\n",
       "      <td>NaN</td>\n",
       "      <td>NaN</td>\n",
       "      <td>NaN</td>\n",
       "      <td>...</td>\n",
       "      <td>2019-09-06 15:06:00</td>\n",
       "      <td>NaN</td>\n",
       "      <td>NaN</td>\n",
       "      <td>NaN</td>\n",
       "      <td>NaN</td>\n",
       "      <td>NaN</td>\n",
       "      <td>2019-09-06 15:01:44</td>\n",
       "      <td>NaN</td>\n",
       "      <td>2019-09-06 14:58:15</td>\n",
       "      <td>2019-09-06 14:48:06</td>\n",
       "    </tr>\n",
       "    <tr>\n",
       "      <th>3127</th>\n",
       "      <td>3240</td>\n",
       "      <td>NaN</td>\n",
       "      <td>NaN</td>\n",
       "      <td>NaN</td>\n",
       "      <td>NaN</td>\n",
       "      <td>NaN</td>\n",
       "      <td>26.0</td>\n",
       "      <td>NaN</td>\n",
       "      <td>NaN</td>\n",
       "      <td>NaN</td>\n",
       "      <td>...</td>\n",
       "      <td>2019-09-06 16:24:28</td>\n",
       "      <td>NaN</td>\n",
       "      <td>NaN</td>\n",
       "      <td>NaN</td>\n",
       "      <td>NaN</td>\n",
       "      <td>NaN</td>\n",
       "      <td>NaN</td>\n",
       "      <td>NaN</td>\n",
       "      <td>2019-09-06 16:07:29</td>\n",
       "      <td>2019-09-06 16:01:34</td>\n",
       "    </tr>\n",
       "    <tr>\n",
       "      <th>3128</th>\n",
       "      <td>3241</td>\n",
       "      <td>NaN</td>\n",
       "      <td>NaN</td>\n",
       "      <td>NaN</td>\n",
       "      <td>NaN</td>\n",
       "      <td>NaN</td>\n",
       "      <td>NaN</td>\n",
       "      <td>NaN</td>\n",
       "      <td>NaN</td>\n",
       "      <td>NaN</td>\n",
       "      <td>...</td>\n",
       "      <td>NaN</td>\n",
       "      <td>NaN</td>\n",
       "      <td>NaN</td>\n",
       "      <td>NaN</td>\n",
       "      <td>NaN</td>\n",
       "      <td>NaN</td>\n",
       "      <td>NaN</td>\n",
       "      <td>NaN</td>\n",
       "      <td>2019-09-06 17:26:33</td>\n",
       "      <td>2019-09-06 17:23:15</td>\n",
       "    </tr>\n",
       "  </tbody>\n",
       "</table>\n",
       "<p>3129 rows × 32 columns</p>\n",
       "</div>"
      ],
      "text/plain": [
       "       key  Bulk 1  Bulk 2  Bulk 3  Bulk 4  Bulk 5  Bulk 6  Bulk 7  Bulk 8  \\\n",
       "0        1     NaN     NaN     NaN    43.0     NaN     NaN     NaN     NaN   \n",
       "1        2     NaN     NaN     NaN    73.0     NaN     NaN     NaN     NaN   \n",
       "2        3     NaN     NaN     NaN    34.0     NaN     NaN     NaN     NaN   \n",
       "3        4     NaN     NaN     NaN    81.0     NaN     NaN     NaN     NaN   \n",
       "4        5     NaN     NaN     NaN    78.0     NaN     NaN     NaN     NaN   \n",
       "...    ...     ...     ...     ...     ...     ...     ...     ...     ...   \n",
       "3124  3237     NaN     NaN   170.0     NaN     NaN     NaN     NaN     NaN   \n",
       "3125  3238     NaN     NaN   126.0     NaN     NaN     NaN     NaN     NaN   \n",
       "3126  3239     NaN     NaN     NaN     NaN     NaN   114.0     NaN     NaN   \n",
       "3127  3240     NaN     NaN     NaN     NaN     NaN    26.0     NaN     NaN   \n",
       "3128  3241     NaN     NaN     NaN     NaN     NaN     NaN     NaN     NaN   \n",
       "\n",
       "      Bulk 9  ...          Bulk 6_time  Bulk 7_time  Bulk 8_time  Bulk 9_time  \\\n",
       "0        NaN  ...                  NaN          NaN          NaN          NaN   \n",
       "1        NaN  ...                  NaN          NaN          NaN          NaN   \n",
       "2        NaN  ...                  NaN          NaN          NaN          NaN   \n",
       "3        NaN  ...                  NaN          NaN          NaN          NaN   \n",
       "4        NaN  ...                  NaN          NaN          NaN          NaN   \n",
       "...      ...  ...                  ...          ...          ...          ...   \n",
       "3124     NaN  ...                  NaN          NaN          NaN          NaN   \n",
       "3125     NaN  ...                  NaN          NaN          NaN          NaN   \n",
       "3126     NaN  ...  2019-09-06 15:06:00          NaN          NaN          NaN   \n",
       "3127     NaN  ...  2019-09-06 16:24:28          NaN          NaN          NaN   \n",
       "3128     NaN  ...                  NaN          NaN          NaN          NaN   \n",
       "\n",
       "      Bulk 10_time  Bulk 11_time         Bulk 12_time Bulk 13_time  \\\n",
       "0              NaN           NaN  2019-05-03 11:24:31          NaN   \n",
       "1              NaN           NaN  2019-05-03 11:53:30          NaN   \n",
       "2              NaN           NaN  2019-05-03 12:27:13          NaN   \n",
       "3              NaN           NaN  2019-05-03 12:58:00          NaN   \n",
       "4              NaN           NaN  2019-05-03 13:30:47          NaN   \n",
       "...            ...           ...                  ...          ...   \n",
       "3124           NaN           NaN  2019-09-06 11:49:45          NaN   \n",
       "3125           NaN           NaN  2019-09-06 12:18:35          NaN   \n",
       "3126           NaN           NaN  2019-09-06 15:01:44          NaN   \n",
       "3127           NaN           NaN                  NaN          NaN   \n",
       "3128           NaN           NaN                  NaN          NaN   \n",
       "\n",
       "             Bulk 14_time         Bulk 15_time  \n",
       "0     2019-05-03 11:14:50  2019-05-03 11:10:43  \n",
       "1     2019-05-03 11:48:37  2019-05-03 11:44:39  \n",
       "2     2019-05-03 12:21:01  2019-05-03 12:16:16  \n",
       "3     2019-05-03 12:51:11  2019-05-03 12:46:36  \n",
       "4     2019-05-03 13:34:12  2019-05-03 13:30:47  \n",
       "...                   ...                  ...  \n",
       "3124  2019-09-06 11:45:22  2019-09-06 11:40:06  \n",
       "3125  2019-09-06 12:31:49  2019-09-06 12:26:52  \n",
       "3126  2019-09-06 14:58:15  2019-09-06 14:48:06  \n",
       "3127  2019-09-06 16:07:29  2019-09-06 16:01:34  \n",
       "3128  2019-09-06 17:26:33  2019-09-06 17:23:15  \n",
       "\n",
       "[3129 rows x 32 columns]"
      ]
     },
     "execution_count": 23,
     "metadata": {},
     "output_type": "execute_result"
    }
   ],
   "source": [
    "data_bulk_join = data_bulk_new.join(data_bulk_time_new, how='inner', lsuffix='', rsuffix='_time')\n",
    "data_bulk_join"
   ]
  },
  {
   "cell_type": "code",
   "execution_count": 24,
   "id": "be115a26",
   "metadata": {},
   "outputs": [
    {
     "data": {
      "text/plain": [
       "<AxesSubplot:>"
      ]
     },
     "execution_count": 24,
     "metadata": {},
     "output_type": "execute_result"
    },
    {
     "data": {
      "image/png": "[encoded data removed]",
      "text/plain": [
       "<Figure size 432x288 with 1 Axes>"
      ]
     },
     "metadata": {
      "needs_background": "light"
     },
     "output_type": "display_data"
    }
   ],
   "source": [
    "(~data_bulk_join.isna()).sum().sort_values(ascending=False).plot(kind=\"bar\")"
   ]
  },
  {
   "cell_type": "markdown",
   "id": "b17933c6",
   "metadata": {},
   "source": [
    "Как и предполагалось, картина сохранилась, Bulk 1, 11, 10, 5, 7, 2, 9, 13, 8 следует не учитывать при обучении модели"
   ]
  },
  {
   "cell_type": "markdown",
   "id": "12ad8b14",
   "metadata": {},
   "source": [
    "Преобразуем датафрейм в более удобный вид без пропусков"
   ]
  },
  {
   "cell_type": "code",
   "execution_count": 25,
   "id": "5d840440",
   "metadata": {},
   "outputs": [
    {
     "data": {
      "text/plain": [
       "key        3129\n",
       "Bulk 14    2806\n",
       "Bulk 12    2450\n",
       "Bulk 15    2248\n",
       "Bulk 3     1298\n",
       "Bulk 4     1014\n",
       "Bulk 6      576\n",
       "Bulk 1      252\n",
       "Bulk 11     177\n",
       "Bulk 10     176\n",
       "Bulk 5       77\n",
       "Bulk 7       25\n",
       "Bulk 2       22\n",
       "Bulk 9       19\n",
       "Bulk 13      18\n",
       "Bulk 8        1\n",
       "dtype: int64"
      ]
     },
     "execution_count": 25,
     "metadata": {},
     "output_type": "execute_result"
    }
   ],
   "source": [
    "stat"
   ]
  },
  {
   "cell_type": "code",
   "execution_count": 26,
   "id": "0ed7c41e",
   "metadata": {},
   "outputs": [
    {
     "data": {
      "text/plain": [
       "Index(['Bulk 14', 'Bulk 12', 'Bulk 15', 'Bulk 3', 'Bulk 4', 'Bulk 6'], dtype='object')"
      ]
     },
     "execution_count": 26,
     "metadata": {},
     "output_type": "execute_result"
    }
   ],
   "source": [
    "bulk_include_names = stat[stat >= 300].index[1:]\n",
    "bulk_include_names"
   ]
  },
  {
   "cell_type": "code",
   "execution_count": 27,
   "id": "517a3b98",
   "metadata": {},
   "outputs": [
    {
     "data": {
      "text/plain": [
       "Index(['Bulk 14', 'Bulk 12', 'Bulk 15', 'Bulk 3', 'Bulk 4', 'Bulk 6'], dtype='object')"
      ]
     },
     "execution_count": 27,
     "metadata": {},
     "output_type": "execute_result"
    }
   ],
   "source": [
    "bulk_include_names"
   ]
  },
  {
   "cell_type": "code",
   "execution_count": 28,
   "id": "192b1659",
   "metadata": {},
   "outputs": [
    {
     "data": {
      "text/html": [
       "<div>\n",
       "<style scoped>\n",
       "    .dataframe tbody tr th:only-of-type {\n",
       "        vertical-align: middle;\n",
       "    }\n",
       "\n",
       "    .dataframe tbody tr th {\n",
       "        vertical-align: top;\n",
       "    }\n",
       "\n",
       "    .dataframe thead th {\n",
       "        text-align: right;\n",
       "    }\n",
       "</style>\n",
       "<table border=\"1\" class=\"dataframe\">\n",
       "  <thead>\n",
       "    <tr style=\"text-align: right;\">\n",
       "      <th></th>\n",
       "      <th>key</th>\n",
       "      <th>time</th>\n",
       "      <th>path</th>\n",
       "      <th>value</th>\n",
       "    </tr>\n",
       "  </thead>\n",
       "  <tbody>\n",
       "    <tr>\n",
       "      <th>0</th>\n",
       "      <td>1</td>\n",
       "      <td>2019-05-03 11:14:50</td>\n",
       "      <td>Bulk 14</td>\n",
       "      <td>150.0</td>\n",
       "    </tr>\n",
       "    <tr>\n",
       "      <th>1</th>\n",
       "      <td>2</td>\n",
       "      <td>2019-05-03 11:48:37</td>\n",
       "      <td>Bulk 14</td>\n",
       "      <td>149.0</td>\n",
       "    </tr>\n",
       "    <tr>\n",
       "      <th>2</th>\n",
       "      <td>3</td>\n",
       "      <td>2019-05-03 12:21:01</td>\n",
       "      <td>Bulk 14</td>\n",
       "      <td>152.0</td>\n",
       "    </tr>\n",
       "    <tr>\n",
       "      <th>3</th>\n",
       "      <td>4</td>\n",
       "      <td>2019-05-03 12:51:11</td>\n",
       "      <td>Bulk 14</td>\n",
       "      <td>153.0</td>\n",
       "    </tr>\n",
       "    <tr>\n",
       "      <th>4</th>\n",
       "      <td>5</td>\n",
       "      <td>2019-05-03 13:34:12</td>\n",
       "      <td>Bulk 14</td>\n",
       "      <td>151.0</td>\n",
       "    </tr>\n",
       "    <tr>\n",
       "      <th>...</th>\n",
       "      <td>...</td>\n",
       "      <td>...</td>\n",
       "      <td>...</td>\n",
       "      <td>...</td>\n",
       "    </tr>\n",
       "    <tr>\n",
       "      <th>3111</th>\n",
       "      <td>3224</td>\n",
       "      <td>2019-09-06 02:22:05</td>\n",
       "      <td>Bulk 6</td>\n",
       "      <td>36.0</td>\n",
       "    </tr>\n",
       "    <tr>\n",
       "      <th>3112</th>\n",
       "      <td>3225</td>\n",
       "      <td>2019-09-06 04:00:31</td>\n",
       "      <td>Bulk 6</td>\n",
       "      <td>162.0</td>\n",
       "    </tr>\n",
       "    <tr>\n",
       "      <th>3113</th>\n",
       "      <td>3226</td>\n",
       "      <td>2019-09-06 05:07:45</td>\n",
       "      <td>Bulk 6</td>\n",
       "      <td>96.0</td>\n",
       "    </tr>\n",
       "    <tr>\n",
       "      <th>3126</th>\n",
       "      <td>3239</td>\n",
       "      <td>2019-09-06 15:06:00</td>\n",
       "      <td>Bulk 6</td>\n",
       "      <td>114.0</td>\n",
       "    </tr>\n",
       "    <tr>\n",
       "      <th>3127</th>\n",
       "      <td>3240</td>\n",
       "      <td>2019-09-06 16:24:28</td>\n",
       "      <td>Bulk 6</td>\n",
       "      <td>26.0</td>\n",
       "    </tr>\n",
       "  </tbody>\n",
       "</table>\n",
       "<p>10392 rows × 4 columns</p>\n",
       "</div>"
      ],
      "text/plain": [
       "       key                time     path  value\n",
       "0        1 2019-05-03 11:14:50  Bulk 14  150.0\n",
       "1        2 2019-05-03 11:48:37  Bulk 14  149.0\n",
       "2        3 2019-05-03 12:21:01  Bulk 14  152.0\n",
       "3        4 2019-05-03 12:51:11  Bulk 14  153.0\n",
       "4        5 2019-05-03 13:34:12  Bulk 14  151.0\n",
       "...    ...                 ...      ...    ...\n",
       "3111  3224 2019-09-06 02:22:05   Bulk 6   36.0\n",
       "3112  3225 2019-09-06 04:00:31   Bulk 6  162.0\n",
       "3113  3226 2019-09-06 05:07:45   Bulk 6   96.0\n",
       "3126  3239 2019-09-06 15:06:00   Bulk 6  114.0\n",
       "3127  3240 2019-09-06 16:24:28   Bulk 6   26.0\n",
       "\n",
       "[10392 rows x 4 columns]"
      ]
     },
     "metadata": {},
     "output_type": "display_data"
    },
    {
     "data": {
      "text/plain": [
       "Bulk 14    2806\n",
       "Bulk 12    2450\n",
       "Bulk 15    2248\n",
       "Bulk 3     1298\n",
       "Bulk 4     1014\n",
       "Bulk 6      576\n",
       "Name: path, dtype: int64"
      ]
     },
     "execution_count": 28,
     "metadata": {},
     "output_type": "execute_result"
    }
   ],
   "source": [
    "def melt_pivot(data_bulk_join, bulk_include_names):\n",
    "    data_bulk_eav = pd.DataFrame()\n",
    "    for bulk in bulk_include_names:\n",
    "        data_current_bulk = data_bulk_join[['key', str(bulk), str(bulk) + '_time']].melt(id_vars=['key', str(bulk) + '_time'], value_vars=[str(bulk)]).dropna()\n",
    "        data_current_bulk.columns = ['key', 'time', 'path', 'value']\n",
    "        data_bulk_eav = pd.concat([data_bulk_eav, data_current_bulk])\n",
    "    return data_bulk_eav\n",
    "\n",
    "data_bulk_eav = melt_pivot(data_bulk_join, bulk_include_names)\n",
    "data_bulk_eav['time'] = pd.to_datetime(data_bulk_eav['time'])\n",
    "display(data_bulk_eav)\n",
    "data_bulk_eav[\"path\"].value_counts()\n",
    "\n"
   ]
  },
  {
   "cell_type": "code",
   "execution_count": 29,
   "id": "4c9cf2d9",
   "metadata": {},
   "outputs": [
    {
     "data": {
      "text/html": [
       "<div>\n",
       "<style scoped>\n",
       "    .dataframe tbody tr th:only-of-type {\n",
       "        vertical-align: middle;\n",
       "    }\n",
       "\n",
       "    .dataframe tbody tr th {\n",
       "        vertical-align: top;\n",
       "    }\n",
       "\n",
       "    .dataframe thead th {\n",
       "        text-align: right;\n",
       "    }\n",
       "</style>\n",
       "<table border=\"1\" class=\"dataframe\">\n",
       "  <thead>\n",
       "    <tr style=\"text-align: right;\">\n",
       "      <th></th>\n",
       "      <th>key</th>\n",
       "      <th>time</th>\n",
       "      <th>path</th>\n",
       "      <th>value</th>\n",
       "    </tr>\n",
       "  </thead>\n",
       "  <tbody>\n",
       "    <tr>\n",
       "      <th>784</th>\n",
       "      <td>818</td>\n",
       "      <td>2019-06-04 10:59:37</td>\n",
       "      <td>Bulk 6</td>\n",
       "      <td>99.0</td>\n",
       "    </tr>\n",
       "    <tr>\n",
       "      <th>2751</th>\n",
       "      <td>2854</td>\n",
       "      <td>2019-08-23 19:03:43</td>\n",
       "      <td>Bulk 12</td>\n",
       "      <td>158.0</td>\n",
       "    </tr>\n",
       "    <tr>\n",
       "      <th>1193</th>\n",
       "      <td>1242</td>\n",
       "      <td>2019-06-19 10:10:38</td>\n",
       "      <td>Bulk 12</td>\n",
       "      <td>206.0</td>\n",
       "    </tr>\n",
       "    <tr>\n",
       "      <th>1026</th>\n",
       "      <td>1072</td>\n",
       "      <td>2019-06-13 16:50:53</td>\n",
       "      <td>Bulk 14</td>\n",
       "      <td>132.0</td>\n",
       "    </tr>\n",
       "    <tr>\n",
       "      <th>2990</th>\n",
       "      <td>3099</td>\n",
       "      <td>2019-09-01 19:14:58</td>\n",
       "      <td>Bulk 14</td>\n",
       "      <td>224.0</td>\n",
       "    </tr>\n",
       "    <tr>\n",
       "      <th>1569</th>\n",
       "      <td>1628</td>\n",
       "      <td>2019-07-03 09:03:01</td>\n",
       "      <td>Bulk 12</td>\n",
       "      <td>258.0</td>\n",
       "    </tr>\n",
       "    <tr>\n",
       "      <th>3037</th>\n",
       "      <td>3146</td>\n",
       "      <td>2019-09-03 08:13:30</td>\n",
       "      <td>Bulk 15</td>\n",
       "      <td>110.0</td>\n",
       "    </tr>\n",
       "    <tr>\n",
       "      <th>644</th>\n",
       "      <td>675</td>\n",
       "      <td>2019-05-29 18:35:06</td>\n",
       "      <td>Bulk 15</td>\n",
       "      <td>155.0</td>\n",
       "    </tr>\n",
       "    <tr>\n",
       "      <th>2067</th>\n",
       "      <td>2139</td>\n",
       "      <td>2019-07-28 20:10:32</td>\n",
       "      <td>Bulk 12</td>\n",
       "      <td>412.0</td>\n",
       "    </tr>\n",
       "    <tr>\n",
       "      <th>911</th>\n",
       "      <td>950</td>\n",
       "      <td>2019-06-09 09:54:01</td>\n",
       "      <td>Bulk 12</td>\n",
       "      <td>255.0</td>\n",
       "    </tr>\n",
       "  </tbody>\n",
       "</table>\n",
       "</div>"
      ],
      "text/plain": [
       "       key                time     path  value\n",
       "784    818 2019-06-04 10:59:37   Bulk 6   99.0\n",
       "2751  2854 2019-08-23 19:03:43  Bulk 12  158.0\n",
       "1193  1242 2019-06-19 10:10:38  Bulk 12  206.0\n",
       "1026  1072 2019-06-13 16:50:53  Bulk 14  132.0\n",
       "2990  3099 2019-09-01 19:14:58  Bulk 14  224.0\n",
       "1569  1628 2019-07-03 09:03:01  Bulk 12  258.0\n",
       "3037  3146 2019-09-03 08:13:30  Bulk 15  110.0\n",
       "644    675 2019-05-29 18:35:06  Bulk 15  155.0\n",
       "2067  2139 2019-07-28 20:10:32  Bulk 12  412.0\n",
       "911    950 2019-06-09 09:54:01  Bulk 12  255.0"
      ]
     },
     "execution_count": 29,
     "metadata": {},
     "output_type": "execute_result"
    }
   ],
   "source": [
    "data_bulk_eav.sample(10)"
   ]
  },
  {
   "cell_type": "markdown",
   "id": "550ffeaa",
   "metadata": {},
   "source": [
    "Отлично, теперь у нас есть удобная таблица для анализа и обработки данных"
   ]
  },
  {
   "cell_type": "markdown",
   "id": "471c7763",
   "metadata": {},
   "source": [
    "### data_wire_new и data_wire_new_time"
   ]
  },
  {
   "cell_type": "code",
   "execution_count": 30,
   "id": "ff3789c8",
   "metadata": {},
   "outputs": [
    {
     "data": {
      "text/html": [
       "<div>\n",
       "<style scoped>\n",
       "    .dataframe tbody tr th:only-of-type {\n",
       "        vertical-align: middle;\n",
       "    }\n",
       "\n",
       "    .dataframe tbody tr th {\n",
       "        vertical-align: top;\n",
       "    }\n",
       "\n",
       "    .dataframe thead th {\n",
       "        text-align: right;\n",
       "    }\n",
       "</style>\n",
       "<table border=\"1\" class=\"dataframe\">\n",
       "  <thead>\n",
       "    <tr style=\"text-align: right;\">\n",
       "      <th></th>\n",
       "      <th>key</th>\n",
       "      <th>Wire 1</th>\n",
       "      <th>Wire 2</th>\n",
       "      <th>Wire 3</th>\n",
       "      <th>Wire 4</th>\n",
       "      <th>Wire 5</th>\n",
       "      <th>Wire 6</th>\n",
       "      <th>Wire 7</th>\n",
       "      <th>Wire 8</th>\n",
       "      <th>Wire 9</th>\n",
       "    </tr>\n",
       "  </thead>\n",
       "  <tbody>\n",
       "    <tr>\n",
       "      <th>0</th>\n",
       "      <td>1</td>\n",
       "      <td>60.059998</td>\n",
       "      <td>NaN</td>\n",
       "      <td>NaN</td>\n",
       "      <td>NaN</td>\n",
       "      <td>NaN</td>\n",
       "      <td>NaN</td>\n",
       "      <td>NaN</td>\n",
       "      <td>NaN</td>\n",
       "      <td>NaN</td>\n",
       "    </tr>\n",
       "    <tr>\n",
       "      <th>1</th>\n",
       "      <td>2</td>\n",
       "      <td>96.052315</td>\n",
       "      <td>NaN</td>\n",
       "      <td>NaN</td>\n",
       "      <td>NaN</td>\n",
       "      <td>NaN</td>\n",
       "      <td>NaN</td>\n",
       "      <td>NaN</td>\n",
       "      <td>NaN</td>\n",
       "      <td>NaN</td>\n",
       "    </tr>\n",
       "    <tr>\n",
       "      <th>2</th>\n",
       "      <td>3</td>\n",
       "      <td>91.160157</td>\n",
       "      <td>NaN</td>\n",
       "      <td>NaN</td>\n",
       "      <td>NaN</td>\n",
       "      <td>NaN</td>\n",
       "      <td>NaN</td>\n",
       "      <td>NaN</td>\n",
       "      <td>NaN</td>\n",
       "      <td>NaN</td>\n",
       "    </tr>\n",
       "    <tr>\n",
       "      <th>3</th>\n",
       "      <td>4</td>\n",
       "      <td>89.063515</td>\n",
       "      <td>NaN</td>\n",
       "      <td>NaN</td>\n",
       "      <td>NaN</td>\n",
       "      <td>NaN</td>\n",
       "      <td>NaN</td>\n",
       "      <td>NaN</td>\n",
       "      <td>NaN</td>\n",
       "      <td>NaN</td>\n",
       "    </tr>\n",
       "    <tr>\n",
       "      <th>4</th>\n",
       "      <td>5</td>\n",
       "      <td>89.238236</td>\n",
       "      <td>9.11456</td>\n",
       "      <td>NaN</td>\n",
       "      <td>NaN</td>\n",
       "      <td>NaN</td>\n",
       "      <td>NaN</td>\n",
       "      <td>NaN</td>\n",
       "      <td>NaN</td>\n",
       "      <td>NaN</td>\n",
       "    </tr>\n",
       "  </tbody>\n",
       "</table>\n",
       "</div>"
      ],
      "text/plain": [
       "   key     Wire 1   Wire 2  Wire 3  Wire 4  Wire 5  Wire 6  Wire 7  Wire 8  \\\n",
       "0    1  60.059998      NaN     NaN     NaN     NaN     NaN     NaN     NaN   \n",
       "1    2  96.052315      NaN     NaN     NaN     NaN     NaN     NaN     NaN   \n",
       "2    3  91.160157      NaN     NaN     NaN     NaN     NaN     NaN     NaN   \n",
       "3    4  89.063515      NaN     NaN     NaN     NaN     NaN     NaN     NaN   \n",
       "4    5  89.238236  9.11456     NaN     NaN     NaN     NaN     NaN     NaN   \n",
       "\n",
       "   Wire 9  \n",
       "0     NaN  \n",
       "1     NaN  \n",
       "2     NaN  \n",
       "3     NaN  \n",
       "4     NaN  "
      ]
     },
     "execution_count": 30,
     "metadata": {},
     "output_type": "execute_result"
    }
   ],
   "source": [
    "data_wire_new.head()"
   ]
  },
  {
   "cell_type": "code",
   "execution_count": 31,
   "id": "8d97234a",
   "metadata": {},
   "outputs": [
    {
     "data": {
      "text/html": [
       "<div>\n",
       "<style scoped>\n",
       "    .dataframe tbody tr th:only-of-type {\n",
       "        vertical-align: middle;\n",
       "    }\n",
       "\n",
       "    .dataframe tbody tr th {\n",
       "        vertical-align: top;\n",
       "    }\n",
       "\n",
       "    .dataframe thead th {\n",
       "        text-align: right;\n",
       "    }\n",
       "</style>\n",
       "<table border=\"1\" class=\"dataframe\">\n",
       "  <thead>\n",
       "    <tr style=\"text-align: right;\">\n",
       "      <th></th>\n",
       "      <th>key</th>\n",
       "      <th>Wire 1</th>\n",
       "      <th>Wire 2</th>\n",
       "      <th>Wire 3</th>\n",
       "      <th>Wire 4</th>\n",
       "      <th>Wire 5</th>\n",
       "      <th>Wire 6</th>\n",
       "      <th>Wire 7</th>\n",
       "      <th>Wire 8</th>\n",
       "      <th>Wire 9</th>\n",
       "    </tr>\n",
       "  </thead>\n",
       "  <tbody>\n",
       "    <tr>\n",
       "      <th>0</th>\n",
       "      <td>1</td>\n",
       "      <td>2019-05-03 11:06:19</td>\n",
       "      <td>NaN</td>\n",
       "      <td>NaN</td>\n",
       "      <td>NaN</td>\n",
       "      <td>NaN</td>\n",
       "      <td>NaN</td>\n",
       "      <td>NaN</td>\n",
       "      <td>NaN</td>\n",
       "      <td>NaN</td>\n",
       "    </tr>\n",
       "    <tr>\n",
       "      <th>1</th>\n",
       "      <td>2</td>\n",
       "      <td>2019-05-03 11:36:50</td>\n",
       "      <td>NaN</td>\n",
       "      <td>NaN</td>\n",
       "      <td>NaN</td>\n",
       "      <td>NaN</td>\n",
       "      <td>NaN</td>\n",
       "      <td>NaN</td>\n",
       "      <td>NaN</td>\n",
       "      <td>NaN</td>\n",
       "    </tr>\n",
       "    <tr>\n",
       "      <th>2</th>\n",
       "      <td>3</td>\n",
       "      <td>2019-05-03 12:11:46</td>\n",
       "      <td>NaN</td>\n",
       "      <td>NaN</td>\n",
       "      <td>NaN</td>\n",
       "      <td>NaN</td>\n",
       "      <td>NaN</td>\n",
       "      <td>NaN</td>\n",
       "      <td>NaN</td>\n",
       "      <td>NaN</td>\n",
       "    </tr>\n",
       "    <tr>\n",
       "      <th>3</th>\n",
       "      <td>4</td>\n",
       "      <td>2019-05-03 12:43:22</td>\n",
       "      <td>NaN</td>\n",
       "      <td>NaN</td>\n",
       "      <td>NaN</td>\n",
       "      <td>NaN</td>\n",
       "      <td>NaN</td>\n",
       "      <td>NaN</td>\n",
       "      <td>NaN</td>\n",
       "      <td>NaN</td>\n",
       "    </tr>\n",
       "    <tr>\n",
       "      <th>4</th>\n",
       "      <td>5</td>\n",
       "      <td>2019-05-03 13:20:44</td>\n",
       "      <td>2019-05-03 13:15:34</td>\n",
       "      <td>NaN</td>\n",
       "      <td>NaN</td>\n",
       "      <td>NaN</td>\n",
       "      <td>NaN</td>\n",
       "      <td>NaN</td>\n",
       "      <td>NaN</td>\n",
       "      <td>NaN</td>\n",
       "    </tr>\n",
       "  </tbody>\n",
       "</table>\n",
       "</div>"
      ],
      "text/plain": [
       "   key               Wire 1               Wire 2 Wire 3 Wire 4 Wire 5 Wire 6  \\\n",
       "0    1  2019-05-03 11:06:19                  NaN    NaN    NaN    NaN    NaN   \n",
       "1    2  2019-05-03 11:36:50                  NaN    NaN    NaN    NaN    NaN   \n",
       "2    3  2019-05-03 12:11:46                  NaN    NaN    NaN    NaN    NaN   \n",
       "3    4  2019-05-03 12:43:22                  NaN    NaN    NaN    NaN    NaN   \n",
       "4    5  2019-05-03 13:20:44  2019-05-03 13:15:34    NaN    NaN    NaN    NaN   \n",
       "\n",
       "  Wire 7 Wire 8 Wire 9  \n",
       "0    NaN    NaN    NaN  \n",
       "1    NaN    NaN    NaN  \n",
       "2    NaN    NaN    NaN  \n",
       "3    NaN    NaN    NaN  \n",
       "4    NaN    NaN    NaN  "
      ]
     },
     "execution_count": 31,
     "metadata": {},
     "output_type": "execute_result"
    }
   ],
   "source": [
    "data_wire_time_new.head()"
   ]
  },
  {
   "cell_type": "markdown",
   "id": "41c819f9",
   "metadata": {},
   "source": [
    "Ситуация полностью аналогичная подаче материала:"
   ]
  },
  {
   "cell_type": "code",
   "execution_count": 32,
   "id": "bc1bc4a2",
   "metadata": {},
   "outputs": [
    {
     "data": {
      "text/html": [
       "<div>\n",
       "<style scoped>\n",
       "    .dataframe tbody tr th:only-of-type {\n",
       "        vertical-align: middle;\n",
       "    }\n",
       "\n",
       "    .dataframe tbody tr th {\n",
       "        vertical-align: top;\n",
       "    }\n",
       "\n",
       "    .dataframe thead th {\n",
       "        text-align: right;\n",
       "    }\n",
       "</style>\n",
       "<table border=\"1\" class=\"dataframe\">\n",
       "  <thead>\n",
       "    <tr style=\"text-align: right;\">\n",
       "      <th></th>\n",
       "      <th>key</th>\n",
       "      <th>Wire 1</th>\n",
       "      <th>Wire 2</th>\n",
       "      <th>Wire 3</th>\n",
       "      <th>Wire 4</th>\n",
       "      <th>Wire 5</th>\n",
       "      <th>Wire 6</th>\n",
       "      <th>Wire 7</th>\n",
       "      <th>Wire 8</th>\n",
       "      <th>Wire 9</th>\n",
       "      <th>key_time</th>\n",
       "      <th>Wire 1_time</th>\n",
       "      <th>Wire 2_time</th>\n",
       "      <th>Wire 3_time</th>\n",
       "      <th>Wire 4_time</th>\n",
       "      <th>Wire 5_time</th>\n",
       "      <th>Wire 6_time</th>\n",
       "      <th>Wire 7_time</th>\n",
       "      <th>Wire 8_time</th>\n",
       "      <th>Wire 9_time</th>\n",
       "    </tr>\n",
       "  </thead>\n",
       "  <tbody>\n",
       "    <tr>\n",
       "      <th>0</th>\n",
       "      <td>1</td>\n",
       "      <td>60.059998</td>\n",
       "      <td>NaN</td>\n",
       "      <td>NaN</td>\n",
       "      <td>NaN</td>\n",
       "      <td>NaN</td>\n",
       "      <td>NaN</td>\n",
       "      <td>NaN</td>\n",
       "      <td>NaN</td>\n",
       "      <td>NaN</td>\n",
       "      <td>1</td>\n",
       "      <td>2019-05-03 11:06:19</td>\n",
       "      <td>NaN</td>\n",
       "      <td>NaN</td>\n",
       "      <td>NaN</td>\n",
       "      <td>NaN</td>\n",
       "      <td>NaN</td>\n",
       "      <td>NaN</td>\n",
       "      <td>NaN</td>\n",
       "      <td>NaN</td>\n",
       "    </tr>\n",
       "    <tr>\n",
       "      <th>1</th>\n",
       "      <td>2</td>\n",
       "      <td>96.052315</td>\n",
       "      <td>NaN</td>\n",
       "      <td>NaN</td>\n",
       "      <td>NaN</td>\n",
       "      <td>NaN</td>\n",
       "      <td>NaN</td>\n",
       "      <td>NaN</td>\n",
       "      <td>NaN</td>\n",
       "      <td>NaN</td>\n",
       "      <td>2</td>\n",
       "      <td>2019-05-03 11:36:50</td>\n",
       "      <td>NaN</td>\n",
       "      <td>NaN</td>\n",
       "      <td>NaN</td>\n",
       "      <td>NaN</td>\n",
       "      <td>NaN</td>\n",
       "      <td>NaN</td>\n",
       "      <td>NaN</td>\n",
       "      <td>NaN</td>\n",
       "    </tr>\n",
       "    <tr>\n",
       "      <th>2</th>\n",
       "      <td>3</td>\n",
       "      <td>91.160157</td>\n",
       "      <td>NaN</td>\n",
       "      <td>NaN</td>\n",
       "      <td>NaN</td>\n",
       "      <td>NaN</td>\n",
       "      <td>NaN</td>\n",
       "      <td>NaN</td>\n",
       "      <td>NaN</td>\n",
       "      <td>NaN</td>\n",
       "      <td>3</td>\n",
       "      <td>2019-05-03 12:11:46</td>\n",
       "      <td>NaN</td>\n",
       "      <td>NaN</td>\n",
       "      <td>NaN</td>\n",
       "      <td>NaN</td>\n",
       "      <td>NaN</td>\n",
       "      <td>NaN</td>\n",
       "      <td>NaN</td>\n",
       "      <td>NaN</td>\n",
       "    </tr>\n",
       "    <tr>\n",
       "      <th>3</th>\n",
       "      <td>4</td>\n",
       "      <td>89.063515</td>\n",
       "      <td>NaN</td>\n",
       "      <td>NaN</td>\n",
       "      <td>NaN</td>\n",
       "      <td>NaN</td>\n",
       "      <td>NaN</td>\n",
       "      <td>NaN</td>\n",
       "      <td>NaN</td>\n",
       "      <td>NaN</td>\n",
       "      <td>4</td>\n",
       "      <td>2019-05-03 12:43:22</td>\n",
       "      <td>NaN</td>\n",
       "      <td>NaN</td>\n",
       "      <td>NaN</td>\n",
       "      <td>NaN</td>\n",
       "      <td>NaN</td>\n",
       "      <td>NaN</td>\n",
       "      <td>NaN</td>\n",
       "      <td>NaN</td>\n",
       "    </tr>\n",
       "    <tr>\n",
       "      <th>4</th>\n",
       "      <td>5</td>\n",
       "      <td>89.238236</td>\n",
       "      <td>9.11456</td>\n",
       "      <td>NaN</td>\n",
       "      <td>NaN</td>\n",
       "      <td>NaN</td>\n",
       "      <td>NaN</td>\n",
       "      <td>NaN</td>\n",
       "      <td>NaN</td>\n",
       "      <td>NaN</td>\n",
       "      <td>5</td>\n",
       "      <td>2019-05-03 13:20:44</td>\n",
       "      <td>2019-05-03 13:15:34</td>\n",
       "      <td>NaN</td>\n",
       "      <td>NaN</td>\n",
       "      <td>NaN</td>\n",
       "      <td>NaN</td>\n",
       "      <td>NaN</td>\n",
       "      <td>NaN</td>\n",
       "      <td>NaN</td>\n",
       "    </tr>\n",
       "  </tbody>\n",
       "</table>\n",
       "</div>"
      ],
      "text/plain": [
       "   key     Wire 1   Wire 2  Wire 3  Wire 4  Wire 5  Wire 6  Wire 7  Wire 8  \\\n",
       "0    1  60.059998      NaN     NaN     NaN     NaN     NaN     NaN     NaN   \n",
       "1    2  96.052315      NaN     NaN     NaN     NaN     NaN     NaN     NaN   \n",
       "2    3  91.160157      NaN     NaN     NaN     NaN     NaN     NaN     NaN   \n",
       "3    4  89.063515      NaN     NaN     NaN     NaN     NaN     NaN     NaN   \n",
       "4    5  89.238236  9.11456     NaN     NaN     NaN     NaN     NaN     NaN   \n",
       "\n",
       "   Wire 9  key_time          Wire 1_time          Wire 2_time Wire 3_time  \\\n",
       "0     NaN         1  2019-05-03 11:06:19                  NaN         NaN   \n",
       "1     NaN         2  2019-05-03 11:36:50                  NaN         NaN   \n",
       "2     NaN         3  2019-05-03 12:11:46                  NaN         NaN   \n",
       "3     NaN         4  2019-05-03 12:43:22                  NaN         NaN   \n",
       "4     NaN         5  2019-05-03 13:20:44  2019-05-03 13:15:34         NaN   \n",
       "\n",
       "  Wire 4_time Wire 5_time Wire 6_time Wire 7_time Wire 8_time Wire 9_time  \n",
       "0         NaN         NaN         NaN         NaN         NaN         NaN  \n",
       "1         NaN         NaN         NaN         NaN         NaN         NaN  \n",
       "2         NaN         NaN         NaN         NaN         NaN         NaN  \n",
       "3         NaN         NaN         NaN         NaN         NaN         NaN  \n",
       "4         NaN         NaN         NaN         NaN         NaN         NaN  "
      ]
     },
     "execution_count": 32,
     "metadata": {},
     "output_type": "execute_result"
    }
   ],
   "source": [
    "data_wire_join = data_wire_new.join(data_wire_time_new, how='inner', lsuffix='', rsuffix='_time')\n",
    "data_wire_join.head()"
   ]
  },
  {
   "cell_type": "code",
   "execution_count": 33,
   "id": "89e23978",
   "metadata": {},
   "outputs": [],
   "source": [
    "stat = (~data_wire_new.isna()).sum().sort_values(ascending=False)"
   ]
  },
  {
   "cell_type": "code",
   "execution_count": 34,
   "id": "2f9f012a",
   "metadata": {},
   "outputs": [
    {
     "data": {
      "text/plain": [
       "<AxesSubplot:>"
      ]
     },
     "execution_count": 34,
     "metadata": {},
     "output_type": "execute_result"
    },
    {
     "data": {
      "image/png": "[encoded data removed]",
      "text/plain": [
       "<Figure size 432x288 with 1 Axes>"
      ]
     },
     "metadata": {
      "needs_background": "light"
     },
     "output_type": "display_data"
    }
   ],
   "source": [
    "(~data_wire_join.isna()).sum().sort_values(ascending=False).plot(kind=\"bar\")"
   ]
  },
  {
   "cell_type": "markdown",
   "id": "705bb71b",
   "metadata": {},
   "source": [
    "Большинство используются крайне редко, оставим только 1 и 2"
   ]
  },
  {
   "cell_type": "code",
   "execution_count": 35,
   "id": "6bd478b1",
   "metadata": {},
   "outputs": [
    {
     "data": {
      "text/plain": [
       "key       3081\n",
       "Wire 1    3055\n",
       "Wire 2    1079\n",
       "Wire 6      73\n",
       "Wire 3      63\n",
       "Wire 9      29\n",
       "Wire 8      19\n",
       "Wire 4      14\n",
       "Wire 7      11\n",
       "Wire 5       1\n",
       "dtype: int64"
      ]
     },
     "execution_count": 35,
     "metadata": {},
     "output_type": "execute_result"
    }
   ],
   "source": [
    "stat"
   ]
  },
  {
   "cell_type": "code",
   "execution_count": 36,
   "id": "e88139d4",
   "metadata": {},
   "outputs": [
    {
     "data": {
      "text/plain": [
       "Index(['Wire 1', 'Wire 2'], dtype='object')"
      ]
     },
     "execution_count": 36,
     "metadata": {},
     "output_type": "execute_result"
    }
   ],
   "source": [
    "wire_include_names = stat[stat >= 300].index[1:]\n",
    "wire_include_names"
   ]
  },
  {
   "cell_type": "code",
   "execution_count": 37,
   "id": "eebf1e6a",
   "metadata": {},
   "outputs": [
    {
     "data": {
      "text/html": [
       "<div>\n",
       "<style scoped>\n",
       "    .dataframe tbody tr th:only-of-type {\n",
       "        vertical-align: middle;\n",
       "    }\n",
       "\n",
       "    .dataframe tbody tr th {\n",
       "        vertical-align: top;\n",
       "    }\n",
       "\n",
       "    .dataframe thead th {\n",
       "        text-align: right;\n",
       "    }\n",
       "</style>\n",
       "<table border=\"1\" class=\"dataframe\">\n",
       "  <thead>\n",
       "    <tr style=\"text-align: right;\">\n",
       "      <th></th>\n",
       "      <th>key</th>\n",
       "      <th>time</th>\n",
       "      <th>path</th>\n",
       "      <th>value</th>\n",
       "    </tr>\n",
       "  </thead>\n",
       "  <tbody>\n",
       "    <tr>\n",
       "      <th>0</th>\n",
       "      <td>1</td>\n",
       "      <td>2019-05-03 11:06:19</td>\n",
       "      <td>Wire 1</td>\n",
       "      <td>60.059998</td>\n",
       "    </tr>\n",
       "    <tr>\n",
       "      <th>1</th>\n",
       "      <td>2</td>\n",
       "      <td>2019-05-03 11:36:50</td>\n",
       "      <td>Wire 1</td>\n",
       "      <td>96.052315</td>\n",
       "    </tr>\n",
       "    <tr>\n",
       "      <th>2</th>\n",
       "      <td>3</td>\n",
       "      <td>2019-05-03 12:11:46</td>\n",
       "      <td>Wire 1</td>\n",
       "      <td>91.160157</td>\n",
       "    </tr>\n",
       "    <tr>\n",
       "      <th>3</th>\n",
       "      <td>4</td>\n",
       "      <td>2019-05-03 12:43:22</td>\n",
       "      <td>Wire 1</td>\n",
       "      <td>89.063515</td>\n",
       "    </tr>\n",
       "    <tr>\n",
       "      <th>4</th>\n",
       "      <td>5</td>\n",
       "      <td>2019-05-03 13:20:44</td>\n",
       "      <td>Wire 1</td>\n",
       "      <td>89.238236</td>\n",
       "    </tr>\n",
       "    <tr>\n",
       "      <th>...</th>\n",
       "      <td>...</td>\n",
       "      <td>...</td>\n",
       "      <td>...</td>\n",
       "      <td>...</td>\n",
       "    </tr>\n",
       "    <tr>\n",
       "      <th>3048</th>\n",
       "      <td>3209</td>\n",
       "      <td>2019-09-05 12:46:02</td>\n",
       "      <td>Wire 2</td>\n",
       "      <td>14.145040</td>\n",
       "    </tr>\n",
       "    <tr>\n",
       "      <th>3052</th>\n",
       "      <td>3213</td>\n",
       "      <td>2019-09-05 16:45:51</td>\n",
       "      <td>Wire 2</td>\n",
       "      <td>10.073440</td>\n",
       "    </tr>\n",
       "    <tr>\n",
       "      <th>3057</th>\n",
       "      <td>3218</td>\n",
       "      <td>2019-09-05 20:40:37</td>\n",
       "      <td>Wire 2</td>\n",
       "      <td>10.073440</td>\n",
       "    </tr>\n",
       "    <tr>\n",
       "      <th>3062</th>\n",
       "      <td>3223</td>\n",
       "      <td>2019-09-06 01:38:22</td>\n",
       "      <td>Wire 2</td>\n",
       "      <td>21.202478</td>\n",
       "    </tr>\n",
       "    <tr>\n",
       "      <th>3069</th>\n",
       "      <td>3230</td>\n",
       "      <td>2019-09-06 07:35:40</td>\n",
       "      <td>Wire 2</td>\n",
       "      <td>30.190161</td>\n",
       "    </tr>\n",
       "  </tbody>\n",
       "</table>\n",
       "<p>4134 rows × 4 columns</p>\n",
       "</div>"
      ],
      "text/plain": [
       "       key                time    path      value\n",
       "0        1 2019-05-03 11:06:19  Wire 1  60.059998\n",
       "1        2 2019-05-03 11:36:50  Wire 1  96.052315\n",
       "2        3 2019-05-03 12:11:46  Wire 1  91.160157\n",
       "3        4 2019-05-03 12:43:22  Wire 1  89.063515\n",
       "4        5 2019-05-03 13:20:44  Wire 1  89.238236\n",
       "...    ...                 ...     ...        ...\n",
       "3048  3209 2019-09-05 12:46:02  Wire 2  14.145040\n",
       "3052  3213 2019-09-05 16:45:51  Wire 2  10.073440\n",
       "3057  3218 2019-09-05 20:40:37  Wire 2  10.073440\n",
       "3062  3223 2019-09-06 01:38:22  Wire 2  21.202478\n",
       "3069  3230 2019-09-06 07:35:40  Wire 2  30.190161\n",
       "\n",
       "[4134 rows x 4 columns]"
      ]
     },
     "metadata": {},
     "output_type": "display_data"
    },
    {
     "data": {
      "text/plain": [
       "Wire 1    3055\n",
       "Wire 2    1079\n",
       "Name: path, dtype: int64"
      ]
     },
     "execution_count": 37,
     "metadata": {},
     "output_type": "execute_result"
    }
   ],
   "source": [
    "data_wire_eav = melt_pivot(data_wire_join, wire_include_names)\n",
    "data_wire_eav['time'] = pd.to_datetime(data_wire_eav['time'])\n",
    "display(data_wire_eav)\n",
    "data_wire_eav[\"path\"].value_counts()"
   ]
  },
  {
   "cell_type": "markdown",
   "id": "4d53093f",
   "metadata": {},
   "source": [
    "Привели к удобному типу"
   ]
  },
  {
   "cell_type": "markdown",
   "id": "652da8e5",
   "metadata": {},
   "source": [
    "### data_gas_new.csv"
   ]
  },
  {
   "cell_type": "code",
   "execution_count": 38,
   "id": "003ae256",
   "metadata": {},
   "outputs": [
    {
     "data": {
      "text/html": [
       "<div>\n",
       "<style scoped>\n",
       "    .dataframe tbody tr th:only-of-type {\n",
       "        vertical-align: middle;\n",
       "    }\n",
       "\n",
       "    .dataframe tbody tr th {\n",
       "        vertical-align: top;\n",
       "    }\n",
       "\n",
       "    .dataframe thead th {\n",
       "        text-align: right;\n",
       "    }\n",
       "</style>\n",
       "<table border=\"1\" class=\"dataframe\">\n",
       "  <thead>\n",
       "    <tr style=\"text-align: right;\">\n",
       "      <th></th>\n",
       "      <th>key</th>\n",
       "      <th>Газ 1</th>\n",
       "    </tr>\n",
       "  </thead>\n",
       "  <tbody>\n",
       "    <tr>\n",
       "      <th>0</th>\n",
       "      <td>1</td>\n",
       "      <td>29.749986</td>\n",
       "    </tr>\n",
       "    <tr>\n",
       "      <th>1</th>\n",
       "      <td>2</td>\n",
       "      <td>12.555561</td>\n",
       "    </tr>\n",
       "    <tr>\n",
       "      <th>2</th>\n",
       "      <td>3</td>\n",
       "      <td>28.554793</td>\n",
       "    </tr>\n",
       "    <tr>\n",
       "      <th>3</th>\n",
       "      <td>4</td>\n",
       "      <td>18.841219</td>\n",
       "    </tr>\n",
       "    <tr>\n",
       "      <th>4</th>\n",
       "      <td>5</td>\n",
       "      <td>5.413692</td>\n",
       "    </tr>\n",
       "    <tr>\n",
       "      <th>5</th>\n",
       "      <td>6</td>\n",
       "      <td>11.273392</td>\n",
       "    </tr>\n",
       "    <tr>\n",
       "      <th>6</th>\n",
       "      <td>7</td>\n",
       "      <td>9.836267</td>\n",
       "    </tr>\n",
       "    <tr>\n",
       "      <th>7</th>\n",
       "      <td>8</td>\n",
       "      <td>15.171553</td>\n",
       "    </tr>\n",
       "    <tr>\n",
       "      <th>8</th>\n",
       "      <td>9</td>\n",
       "      <td>8.216623</td>\n",
       "    </tr>\n",
       "    <tr>\n",
       "      <th>9</th>\n",
       "      <td>10</td>\n",
       "      <td>6.529891</td>\n",
       "    </tr>\n",
       "  </tbody>\n",
       "</table>\n",
       "</div>"
      ],
      "text/plain": [
       "   key      Газ 1\n",
       "0    1  29.749986\n",
       "1    2  12.555561\n",
       "2    3  28.554793\n",
       "3    4  18.841219\n",
       "4    5   5.413692\n",
       "5    6  11.273392\n",
       "6    7   9.836267\n",
       "7    8  15.171553\n",
       "8    9   8.216623\n",
       "9   10   6.529891"
      ]
     },
     "metadata": {},
     "output_type": "display_data"
    }
   ],
   "source": [
    "display(data_gas_new.head(10))"
   ]
  },
  {
   "cell_type": "code",
   "execution_count": 39,
   "id": "27d75108",
   "metadata": {},
   "outputs": [
    {
     "data": {
      "image/png": "[encoded data removed]",
      "text/plain": [
       "<Figure size 576x360 with 1 Axes>"
      ]
     },
     "metadata": {
      "needs_background": "light"
     },
     "output_type": "display_data"
    }
   ],
   "source": [
    "plt.figure(figsize = (8,5))\n",
    "data_gas_new[\"Газ 1\"].plot(kind = \"hist\", bins = 100)\n",
    "plt.xlabel(\"Распределение подаваемого газа\")\n",
    "plt.show()"
   ]
  },
  {
   "cell_type": "markdown",
   "id": "456d0a51",
   "metadata": {},
   "source": [
    "Видим,нормальное распределение данных, редко используется более 30 газа"
   ]
  },
  {
   "cell_type": "code",
   "execution_count": 40,
   "id": "6464c542",
   "metadata": {},
   "outputs": [
    {
     "data": {
      "text/html": [
       "<div>\n",
       "<style scoped>\n",
       "    .dataframe tbody tr th:only-of-type {\n",
       "        vertical-align: middle;\n",
       "    }\n",
       "\n",
       "    .dataframe tbody tr th {\n",
       "        vertical-align: top;\n",
       "    }\n",
       "\n",
       "    .dataframe thead th {\n",
       "        text-align: right;\n",
       "    }\n",
       "</style>\n",
       "<table border=\"1\" class=\"dataframe\">\n",
       "  <thead>\n",
       "    <tr style=\"text-align: right;\">\n",
       "      <th></th>\n",
       "      <th>key</th>\n",
       "      <th>Газ 1</th>\n",
       "    </tr>\n",
       "  </thead>\n",
       "  <tbody>\n",
       "    <tr>\n",
       "      <th>count</th>\n",
       "      <td>3239.000000</td>\n",
       "      <td>3239.000000</td>\n",
       "    </tr>\n",
       "    <tr>\n",
       "      <th>mean</th>\n",
       "      <td>1621.861377</td>\n",
       "      <td>11.002062</td>\n",
       "    </tr>\n",
       "    <tr>\n",
       "      <th>std</th>\n",
       "      <td>935.386334</td>\n",
       "      <td>6.220327</td>\n",
       "    </tr>\n",
       "    <tr>\n",
       "      <th>min</th>\n",
       "      <td>1.000000</td>\n",
       "      <td>0.008399</td>\n",
       "    </tr>\n",
       "    <tr>\n",
       "      <th>25%</th>\n",
       "      <td>812.500000</td>\n",
       "      <td>7.043089</td>\n",
       "    </tr>\n",
       "    <tr>\n",
       "      <th>50%</th>\n",
       "      <td>1622.000000</td>\n",
       "      <td>9.836267</td>\n",
       "    </tr>\n",
       "    <tr>\n",
       "      <th>75%</th>\n",
       "      <td>2431.500000</td>\n",
       "      <td>13.769915</td>\n",
       "    </tr>\n",
       "    <tr>\n",
       "      <th>max</th>\n",
       "      <td>3241.000000</td>\n",
       "      <td>77.995040</td>\n",
       "    </tr>\n",
       "  </tbody>\n",
       "</table>\n",
       "</div>"
      ],
      "text/plain": [
       "               key        Газ 1\n",
       "count  3239.000000  3239.000000\n",
       "mean   1621.861377    11.002062\n",
       "std     935.386334     6.220327\n",
       "min       1.000000     0.008399\n",
       "25%     812.500000     7.043089\n",
       "50%    1622.000000     9.836267\n",
       "75%    2431.500000    13.769915\n",
       "max    3241.000000    77.995040"
      ]
     },
     "execution_count": 40,
     "metadata": {},
     "output_type": "execute_result"
    }
   ],
   "source": [
    "data_gas_new.describe()"
   ]
  },
  {
   "cell_type": "markdown",
   "id": "20bd6f1c",
   "metadata": {},
   "source": [
    "Медиана сильно отличается от среднего, в любом случае удалять даннные не будем, вроятно для некоторых процессов необходимо повышенное поступление газа"
   ]
  },
  {
   "cell_type": "markdown",
   "id": "7ef2fbaf",
   "metadata": {},
   "source": [
    "### data_temp_new"
   ]
  },
  {
   "cell_type": "code",
   "execution_count": 41,
   "id": "9006f8a9",
   "metadata": {},
   "outputs": [
    {
     "data": {
      "text/html": [
       "<div>\n",
       "<style scoped>\n",
       "    .dataframe tbody tr th:only-of-type {\n",
       "        vertical-align: middle;\n",
       "    }\n",
       "\n",
       "    .dataframe tbody tr th {\n",
       "        vertical-align: top;\n",
       "    }\n",
       "\n",
       "    .dataframe thead th {\n",
       "        text-align: right;\n",
       "    }\n",
       "</style>\n",
       "<table border=\"1\" class=\"dataframe\">\n",
       "  <thead>\n",
       "    <tr style=\"text-align: right;\">\n",
       "      <th></th>\n",
       "      <th>key</th>\n",
       "      <th>Время замера</th>\n",
       "      <th>Температура</th>\n",
       "    </tr>\n",
       "  </thead>\n",
       "  <tbody>\n",
       "    <tr>\n",
       "      <th>0</th>\n",
       "      <td>1</td>\n",
       "      <td>2019-05-03 11:02:04</td>\n",
       "      <td>1571.0</td>\n",
       "    </tr>\n",
       "    <tr>\n",
       "      <th>1</th>\n",
       "      <td>1</td>\n",
       "      <td>2019-05-03 11:07:18</td>\n",
       "      <td>1604.0</td>\n",
       "    </tr>\n",
       "    <tr>\n",
       "      <th>2</th>\n",
       "      <td>1</td>\n",
       "      <td>2019-05-03 11:11:34</td>\n",
       "      <td>1618.0</td>\n",
       "    </tr>\n",
       "    <tr>\n",
       "      <th>3</th>\n",
       "      <td>1</td>\n",
       "      <td>2019-05-03 11:18:04</td>\n",
       "      <td>1601.0</td>\n",
       "    </tr>\n",
       "    <tr>\n",
       "      <th>4</th>\n",
       "      <td>1</td>\n",
       "      <td>2019-05-03 11:25:59</td>\n",
       "      <td>1606.0</td>\n",
       "    </tr>\n",
       "  </tbody>\n",
       "</table>\n",
       "</div>"
      ],
      "text/plain": [
       "   key         Время замера  Температура\n",
       "0    1  2019-05-03 11:02:04       1571.0\n",
       "1    1  2019-05-03 11:07:18       1604.0\n",
       "2    1  2019-05-03 11:11:34       1618.0\n",
       "3    1  2019-05-03 11:18:04       1601.0\n",
       "4    1  2019-05-03 11:25:59       1606.0"
      ]
     },
     "execution_count": 41,
     "metadata": {},
     "output_type": "execute_result"
    }
   ],
   "source": [
    "data_temp_new.head()"
   ]
  },
  {
   "cell_type": "code",
   "execution_count": 42,
   "id": "a5c72d7b",
   "metadata": {},
   "outputs": [
    {
     "name": "stdout",
     "output_type": "stream",
     "text": [
      "<class 'pandas.core.frame.DataFrame'>\n",
      "RangeIndex: 18092 entries, 0 to 18091\n",
      "Data columns (total 3 columns):\n",
      " #   Column        Non-Null Count  Dtype  \n",
      "---  ------        --------------  -----  \n",
      " 0   key           18092 non-null  int64  \n",
      " 1   Время замера  18092 non-null  object \n",
      " 2   Температура   14665 non-null  float64\n",
      "dtypes: float64(1), int64(1), object(1)\n",
      "memory usage: 424.2+ KB\n"
     ]
    }
   ],
   "source": [
    "data_temp_new.info()"
   ]
  },
  {
   "cell_type": "code",
   "execution_count": 43,
   "id": "9bfbd5d1",
   "metadata": {},
   "outputs": [],
   "source": [
    "data_temp_new[\"Время замера\"] = pd.to_datetime(data_temp_new[\"Время замера\"])"
   ]
  },
  {
   "cell_type": "code",
   "execution_count": 44,
   "id": "e97d433f",
   "metadata": {},
   "outputs": [
    {
     "data": {
      "text/plain": [
       "count    14665.000000\n",
       "mean      1590.722741\n",
       "std         20.394381\n",
       "min       1191.000000\n",
       "25%       1580.000000\n",
       "50%       1590.000000\n",
       "75%       1599.000000\n",
       "max       1705.000000\n",
       "Name: Температура, dtype: float64"
      ]
     },
     "execution_count": 44,
     "metadata": {},
     "output_type": "execute_result"
    }
   ],
   "source": [
    "data_temp_new[\"Температура\"].describe()"
   ]
  },
  {
   "cell_type": "code",
   "execution_count": 45,
   "id": "e285616c",
   "metadata": {},
   "outputs": [
    {
     "data": {
      "text/plain": [
       "0.23368564609614728"
      ]
     },
     "execution_count": 45,
     "metadata": {},
     "output_type": "execute_result"
    }
   ],
   "source": [
    "data_temp_new[\"Температура\"].isna().sum() / data_temp_new[\"Температура\"].count()"
   ]
  },
  {
   "cell_type": "markdown",
   "id": "675966ba",
   "metadata": {},
   "source": [
    "24% пропусков в целевом признаке"
   ]
  },
  {
   "cell_type": "markdown",
   "id": "7a962688",
   "metadata": {},
   "source": [
    "Сгрупируем данные по партиям, найдем те, где температура не соответсвует времени"
   ]
  },
  {
   "cell_type": "code",
   "execution_count": 46,
   "id": "bf6e50b0",
   "metadata": {},
   "outputs": [
    {
     "data": {
      "image/png": "[encoded data removed]",
      "text/plain": [
       "<Figure size 576x360 with 1 Axes>"
      ]
     },
     "metadata": {
      "needs_background": "light"
     },
     "output_type": "display_data"
    },
    {
     "data": {
      "text/html": [
       "<div>\n",
       "<style scoped>\n",
       "    .dataframe tbody tr th:only-of-type {\n",
       "        vertical-align: middle;\n",
       "    }\n",
       "\n",
       "    .dataframe tbody tr th {\n",
       "        vertical-align: top;\n",
       "    }\n",
       "\n",
       "    .dataframe thead th {\n",
       "        text-align: right;\n",
       "    }\n",
       "</style>\n",
       "<table border=\"1\" class=\"dataframe\">\n",
       "  <thead>\n",
       "    <tr style=\"text-align: right;\">\n",
       "      <th></th>\n",
       "      <th>Время замера</th>\n",
       "      <th>Температура</th>\n",
       "      <th>missing_temp</th>\n",
       "    </tr>\n",
       "    <tr>\n",
       "      <th>key</th>\n",
       "      <th></th>\n",
       "      <th></th>\n",
       "      <th></th>\n",
       "    </tr>\n",
       "  </thead>\n",
       "  <tbody>\n",
       "    <tr>\n",
       "      <th>1</th>\n",
       "      <td>6</td>\n",
       "      <td>6</td>\n",
       "      <td>0</td>\n",
       "    </tr>\n",
       "    <tr>\n",
       "      <th>2</th>\n",
       "      <td>5</td>\n",
       "      <td>5</td>\n",
       "      <td>0</td>\n",
       "    </tr>\n",
       "    <tr>\n",
       "      <th>3</th>\n",
       "      <td>6</td>\n",
       "      <td>6</td>\n",
       "      <td>0</td>\n",
       "    </tr>\n",
       "    <tr>\n",
       "      <th>4</th>\n",
       "      <td>5</td>\n",
       "      <td>5</td>\n",
       "      <td>0</td>\n",
       "    </tr>\n",
       "    <tr>\n",
       "      <th>5</th>\n",
       "      <td>5</td>\n",
       "      <td>5</td>\n",
       "      <td>0</td>\n",
       "    </tr>\n",
       "    <tr>\n",
       "      <th>...</th>\n",
       "      <td>...</td>\n",
       "      <td>...</td>\n",
       "      <td>...</td>\n",
       "    </tr>\n",
       "    <tr>\n",
       "      <th>3237</th>\n",
       "      <td>6</td>\n",
       "      <td>1</td>\n",
       "      <td>-5</td>\n",
       "    </tr>\n",
       "    <tr>\n",
       "      <th>3238</th>\n",
       "      <td>4</td>\n",
       "      <td>1</td>\n",
       "      <td>-3</td>\n",
       "    </tr>\n",
       "    <tr>\n",
       "      <th>3239</th>\n",
       "      <td>9</td>\n",
       "      <td>1</td>\n",
       "      <td>-8</td>\n",
       "    </tr>\n",
       "    <tr>\n",
       "      <th>3240</th>\n",
       "      <td>6</td>\n",
       "      <td>1</td>\n",
       "      <td>-5</td>\n",
       "    </tr>\n",
       "    <tr>\n",
       "      <th>3241</th>\n",
       "      <td>6</td>\n",
       "      <td>1</td>\n",
       "      <td>-5</td>\n",
       "    </tr>\n",
       "  </tbody>\n",
       "</table>\n",
       "<p>3216 rows × 3 columns</p>\n",
       "</div>"
      ],
      "text/plain": [
       "      Время замера  Температура  missing_temp\n",
       "key                                          \n",
       "1                6            6             0\n",
       "2                5            5             0\n",
       "3                6            6             0\n",
       "4                5            5             0\n",
       "5                5            5             0\n",
       "...            ...          ...           ...\n",
       "3237             6            1            -5\n",
       "3238             4            1            -3\n",
       "3239             9            1            -8\n",
       "3240             6            1            -5\n",
       "3241             6            1            -5\n",
       "\n",
       "[3216 rows x 3 columns]"
      ]
     },
     "execution_count": 46,
     "metadata": {},
     "output_type": "execute_result"
    }
   ],
   "source": [
    "data_group_key = data_temp_new.groupby('key').count()\n",
    "data_group_key['missing_temp'] = (data_group_key[\"Температура\"] - data_group_key[\"Время замера\"])\n",
    "\n",
    "plt.figure(figsize = (8,5))\n",
    "data_group_key['missing_temp'].plot(kind = \"hist\", bins = 40)\n",
    "plt.xlabel(\"Распределение температуры\")\n",
    "plt.show()\n",
    "data_group_key"
   ]
  },
  {
   "cell_type": "markdown",
   "id": "956e2362",
   "metadata": {},
   "source": [
    "Не думаю, что партии с пропущенными значениями температуры могут нам понадобится для предсказания"
   ]
  },
  {
   "cell_type": "code",
   "execution_count": 47,
   "id": "bd2de3c3",
   "metadata": {},
   "outputs": [],
   "source": [
    "data_temp_final = data_temp_new[data_temp_new[\"key\"].isin(data_group_key.query(\"missing_temp == 0\").index)]"
   ]
  },
  {
   "cell_type": "code",
   "execution_count": 48,
   "id": "adc00b2a",
   "metadata": {},
   "outputs": [
    {
     "data": {
      "text/html": [
       "<div>\n",
       "<style scoped>\n",
       "    .dataframe tbody tr th:only-of-type {\n",
       "        vertical-align: middle;\n",
       "    }\n",
       "\n",
       "    .dataframe tbody tr th {\n",
       "        vertical-align: top;\n",
       "    }\n",
       "\n",
       "    .dataframe thead th {\n",
       "        text-align: right;\n",
       "    }\n",
       "</style>\n",
       "<table border=\"1\" class=\"dataframe\">\n",
       "  <thead>\n",
       "    <tr style=\"text-align: right;\">\n",
       "      <th></th>\n",
       "      <th>key</th>\n",
       "      <th>Время замера</th>\n",
       "      <th>Температура</th>\n",
       "    </tr>\n",
       "  </thead>\n",
       "  <tbody>\n",
       "    <tr>\n",
       "      <th>0</th>\n",
       "      <td>1</td>\n",
       "      <td>2019-05-03 11:02:04</td>\n",
       "      <td>1571.0</td>\n",
       "    </tr>\n",
       "    <tr>\n",
       "      <th>1</th>\n",
       "      <td>1</td>\n",
       "      <td>2019-05-03 11:07:18</td>\n",
       "      <td>1604.0</td>\n",
       "    </tr>\n",
       "    <tr>\n",
       "      <th>2</th>\n",
       "      <td>1</td>\n",
       "      <td>2019-05-03 11:11:34</td>\n",
       "      <td>1618.0</td>\n",
       "    </tr>\n",
       "    <tr>\n",
       "      <th>3</th>\n",
       "      <td>1</td>\n",
       "      <td>2019-05-03 11:18:04</td>\n",
       "      <td>1601.0</td>\n",
       "    </tr>\n",
       "    <tr>\n",
       "      <th>4</th>\n",
       "      <td>1</td>\n",
       "      <td>2019-05-03 11:25:59</td>\n",
       "      <td>1606.0</td>\n",
       "    </tr>\n",
       "    <tr>\n",
       "      <th>...</th>\n",
       "      <td>...</td>\n",
       "      <td>...</td>\n",
       "      <td>...</td>\n",
       "    </tr>\n",
       "    <tr>\n",
       "      <th>13921</th>\n",
       "      <td>2499</td>\n",
       "      <td>2019-08-10 13:33:21</td>\n",
       "      <td>1569.0</td>\n",
       "    </tr>\n",
       "    <tr>\n",
       "      <th>13922</th>\n",
       "      <td>2499</td>\n",
       "      <td>2019-08-10 13:41:34</td>\n",
       "      <td>1604.0</td>\n",
       "    </tr>\n",
       "    <tr>\n",
       "      <th>13923</th>\n",
       "      <td>2499</td>\n",
       "      <td>2019-08-10 13:46:28</td>\n",
       "      <td>1593.0</td>\n",
       "    </tr>\n",
       "    <tr>\n",
       "      <th>13924</th>\n",
       "      <td>2499</td>\n",
       "      <td>2019-08-10 13:54:56</td>\n",
       "      <td>1588.0</td>\n",
       "    </tr>\n",
       "    <tr>\n",
       "      <th>13925</th>\n",
       "      <td>2499</td>\n",
       "      <td>2019-08-10 13:58:58</td>\n",
       "      <td>1603.0</td>\n",
       "    </tr>\n",
       "  </tbody>\n",
       "</table>\n",
       "<p>13926 rows × 3 columns</p>\n",
       "</div>"
      ],
      "text/plain": [
       "        key        Время замера  Температура\n",
       "0         1 2019-05-03 11:02:04       1571.0\n",
       "1         1 2019-05-03 11:07:18       1604.0\n",
       "2         1 2019-05-03 11:11:34       1618.0\n",
       "3         1 2019-05-03 11:18:04       1601.0\n",
       "4         1 2019-05-03 11:25:59       1606.0\n",
       "...     ...                 ...          ...\n",
       "13921  2499 2019-08-10 13:33:21       1569.0\n",
       "13922  2499 2019-08-10 13:41:34       1604.0\n",
       "13923  2499 2019-08-10 13:46:28       1593.0\n",
       "13924  2499 2019-08-10 13:54:56       1588.0\n",
       "13925  2499 2019-08-10 13:58:58       1603.0\n",
       "\n",
       "[13926 rows x 3 columns]"
      ]
     },
     "execution_count": 48,
     "metadata": {},
     "output_type": "execute_result"
    }
   ],
   "source": [
    "data_temp_final#.sample(10)"
   ]
  },
  {
   "cell_type": "code",
   "execution_count": 49,
   "id": "e4dd543f",
   "metadata": {},
   "outputs": [
    {
     "data": {
      "text/plain": [
       "key             0\n",
       "Время замера    0\n",
       "Температура     0\n",
       "dtype: int64"
      ]
     },
     "execution_count": 49,
     "metadata": {},
     "output_type": "execute_result"
    }
   ],
   "source": [
    "data_temp_final.isna().sum()"
   ]
  },
  {
   "cell_type": "code",
   "execution_count": 50,
   "id": "4efe7f00",
   "metadata": {},
   "outputs": [
    {
     "data": {
      "text/html": [
       "<div>\n",
       "<style scoped>\n",
       "    .dataframe tbody tr th:only-of-type {\n",
       "        vertical-align: middle;\n",
       "    }\n",
       "\n",
       "    .dataframe tbody tr th {\n",
       "        vertical-align: top;\n",
       "    }\n",
       "\n",
       "    .dataframe thead th {\n",
       "        text-align: right;\n",
       "    }\n",
       "</style>\n",
       "<table border=\"1\" class=\"dataframe\">\n",
       "  <thead>\n",
       "    <tr style=\"text-align: right;\">\n",
       "      <th></th>\n",
       "      <th>key</th>\n",
       "      <th>time</th>\n",
       "      <th>path</th>\n",
       "      <th>value</th>\n",
       "    </tr>\n",
       "  </thead>\n",
       "  <tbody>\n",
       "    <tr>\n",
       "      <th>0</th>\n",
       "      <td>1</td>\n",
       "      <td>2019-05-03 11:14:50</td>\n",
       "      <td>Bulk 14</td>\n",
       "      <td>150.0</td>\n",
       "    </tr>\n",
       "    <tr>\n",
       "      <th>1</th>\n",
       "      <td>2</td>\n",
       "      <td>2019-05-03 11:48:37</td>\n",
       "      <td>Bulk 14</td>\n",
       "      <td>149.0</td>\n",
       "    </tr>\n",
       "    <tr>\n",
       "      <th>2</th>\n",
       "      <td>3</td>\n",
       "      <td>2019-05-03 12:21:01</td>\n",
       "      <td>Bulk 14</td>\n",
       "      <td>152.0</td>\n",
       "    </tr>\n",
       "    <tr>\n",
       "      <th>3</th>\n",
       "      <td>4</td>\n",
       "      <td>2019-05-03 12:51:11</td>\n",
       "      <td>Bulk 14</td>\n",
       "      <td>153.0</td>\n",
       "    </tr>\n",
       "    <tr>\n",
       "      <th>4</th>\n",
       "      <td>5</td>\n",
       "      <td>2019-05-03 13:34:12</td>\n",
       "      <td>Bulk 14</td>\n",
       "      <td>151.0</td>\n",
       "    </tr>\n",
       "  </tbody>\n",
       "</table>\n",
       "</div>"
      ],
      "text/plain": [
       "   key                time     path  value\n",
       "0    1 2019-05-03 11:14:50  Bulk 14  150.0\n",
       "1    2 2019-05-03 11:48:37  Bulk 14  149.0\n",
       "2    3 2019-05-03 12:21:01  Bulk 14  152.0\n",
       "3    4 2019-05-03 12:51:11  Bulk 14  153.0\n",
       "4    5 2019-05-03 13:34:12  Bulk 14  151.0"
      ]
     },
     "execution_count": 50,
     "metadata": {},
     "output_type": "execute_result"
    }
   ],
   "source": [
    "data_bulk_eav.head()"
   ]
  },
  {
   "cell_type": "code",
   "execution_count": 51,
   "id": "066d5a99",
   "metadata": {},
   "outputs": [
    {
     "data": {
      "text/plain": [
       "key\n",
       "1       1583.0\n",
       "2       1144.0\n",
       "3       1525.0\n",
       "4       1093.0\n",
       "5       1362.0\n",
       "         ...  \n",
       "3237    1350.0\n",
       "3238     910.0\n",
       "3239    2930.0\n",
       "3240    3524.0\n",
       "3241    2230.0\n",
       "Length: 3214, dtype: float64"
      ]
     },
     "execution_count": 51,
     "metadata": {},
     "output_type": "execute_result"
    }
   ],
   "source": [
    "(data_arc_new.groupby('key')['Конец нагрева дугой'].max() - \n",
    "                                 data_arc_new.groupby('key')['Начало нагрева дугой'].min()).dt.total_seconds()"
   ]
  },
  {
   "cell_type": "code",
   "execution_count": 52,
   "id": "7371454f",
   "metadata": {},
   "outputs": [
    {
     "data": {
      "text/html": [
       "<div>\n",
       "<style scoped>\n",
       "    .dataframe tbody tr th:only-of-type {\n",
       "        vertical-align: middle;\n",
       "    }\n",
       "\n",
       "    .dataframe tbody tr th {\n",
       "        vertical-align: top;\n",
       "    }\n",
       "\n",
       "    .dataframe thead th {\n",
       "        text-align: right;\n",
       "    }\n",
       "</style>\n",
       "<table border=\"1\" class=\"dataframe\">\n",
       "  <thead>\n",
       "    <tr style=\"text-align: right;\">\n",
       "      <th></th>\n",
       "      <th>key</th>\n",
       "      <th>Начало нагрева дугой</th>\n",
       "      <th>Конец нагрева дугой</th>\n",
       "      <th>Активная мощность</th>\n",
       "      <th>Реактивная мощность</th>\n",
       "    </tr>\n",
       "  </thead>\n",
       "  <tbody>\n",
       "    <tr>\n",
       "      <th>0</th>\n",
       "      <td>1</td>\n",
       "      <td>2019-05-03 11:02:14</td>\n",
       "      <td>2019-05-03 11:06:02</td>\n",
       "      <td>0.305130</td>\n",
       "      <td>0.211253</td>\n",
       "    </tr>\n",
       "    <tr>\n",
       "      <th>1</th>\n",
       "      <td>1</td>\n",
       "      <td>2019-05-03 11:07:28</td>\n",
       "      <td>2019-05-03 11:10:33</td>\n",
       "      <td>0.765658</td>\n",
       "      <td>0.477438</td>\n",
       "    </tr>\n",
       "    <tr>\n",
       "      <th>2</th>\n",
       "      <td>1</td>\n",
       "      <td>2019-05-03 11:11:44</td>\n",
       "      <td>2019-05-03 11:14:36</td>\n",
       "      <td>0.580313</td>\n",
       "      <td>0.430460</td>\n",
       "    </tr>\n",
       "    <tr>\n",
       "      <th>3</th>\n",
       "      <td>1</td>\n",
       "      <td>2019-05-03 11:18:14</td>\n",
       "      <td>2019-05-03 11:24:19</td>\n",
       "      <td>0.518496</td>\n",
       "      <td>0.379979</td>\n",
       "    </tr>\n",
       "    <tr>\n",
       "      <th>4</th>\n",
       "      <td>1</td>\n",
       "      <td>2019-05-03 11:26:09</td>\n",
       "      <td>2019-05-03 11:28:37</td>\n",
       "      <td>0.867133</td>\n",
       "      <td>0.643691</td>\n",
       "    </tr>\n",
       "  </tbody>\n",
       "</table>\n",
       "</div>"
      ],
      "text/plain": [
       "   key Начало нагрева дугой Конец нагрева дугой  Активная мощность  \\\n",
       "0    1  2019-05-03 11:02:14 2019-05-03 11:06:02           0.305130   \n",
       "1    1  2019-05-03 11:07:28 2019-05-03 11:10:33           0.765658   \n",
       "2    1  2019-05-03 11:11:44 2019-05-03 11:14:36           0.580313   \n",
       "3    1  2019-05-03 11:18:14 2019-05-03 11:24:19           0.518496   \n",
       "4    1  2019-05-03 11:26:09 2019-05-03 11:28:37           0.867133   \n",
       "\n",
       "   Реактивная мощность  \n",
       "0             0.211253  \n",
       "1             0.477438  \n",
       "2             0.430460  \n",
       "3             0.379979  \n",
       "4             0.643691  "
      ]
     },
     "execution_count": 52,
     "metadata": {},
     "output_type": "execute_result"
    }
   ],
   "source": [
    "data_arc_new.head()"
   ]
  },
  {
   "cell_type": "code",
   "execution_count": 53,
   "id": "56ebe081",
   "metadata": {},
   "outputs": [
    {
     "data": {
      "text/html": [
       "<div>\n",
       "<style scoped>\n",
       "    .dataframe tbody tr th:only-of-type {\n",
       "        vertical-align: middle;\n",
       "    }\n",
       "\n",
       "    .dataframe tbody tr th {\n",
       "        vertical-align: top;\n",
       "    }\n",
       "\n",
       "    .dataframe thead th {\n",
       "        text-align: right;\n",
       "    }\n",
       "</style>\n",
       "<table border=\"1\" class=\"dataframe\">\n",
       "  <thead>\n",
       "    <tr style=\"text-align: right;\">\n",
       "      <th></th>\n",
       "      <th>key</th>\n",
       "      <th>Время замера</th>\n",
       "      <th>Температура</th>\n",
       "    </tr>\n",
       "  </thead>\n",
       "  <tbody>\n",
       "    <tr>\n",
       "      <th>0</th>\n",
       "      <td>1</td>\n",
       "      <td>2019-05-03 11:02:04</td>\n",
       "      <td>1571.0</td>\n",
       "    </tr>\n",
       "    <tr>\n",
       "      <th>1</th>\n",
       "      <td>1</td>\n",
       "      <td>2019-05-03 11:07:18</td>\n",
       "      <td>1604.0</td>\n",
       "    </tr>\n",
       "    <tr>\n",
       "      <th>2</th>\n",
       "      <td>1</td>\n",
       "      <td>2019-05-03 11:11:34</td>\n",
       "      <td>1618.0</td>\n",
       "    </tr>\n",
       "    <tr>\n",
       "      <th>3</th>\n",
       "      <td>1</td>\n",
       "      <td>2019-05-03 11:18:04</td>\n",
       "      <td>1601.0</td>\n",
       "    </tr>\n",
       "    <tr>\n",
       "      <th>4</th>\n",
       "      <td>1</td>\n",
       "      <td>2019-05-03 11:25:59</td>\n",
       "      <td>1606.0</td>\n",
       "    </tr>\n",
       "    <tr>\n",
       "      <th>...</th>\n",
       "      <td>...</td>\n",
       "      <td>...</td>\n",
       "      <td>...</td>\n",
       "    </tr>\n",
       "    <tr>\n",
       "      <th>13921</th>\n",
       "      <td>2499</td>\n",
       "      <td>2019-08-10 13:33:21</td>\n",
       "      <td>1569.0</td>\n",
       "    </tr>\n",
       "    <tr>\n",
       "      <th>13922</th>\n",
       "      <td>2499</td>\n",
       "      <td>2019-08-10 13:41:34</td>\n",
       "      <td>1604.0</td>\n",
       "    </tr>\n",
       "    <tr>\n",
       "      <th>13923</th>\n",
       "      <td>2499</td>\n",
       "      <td>2019-08-10 13:46:28</td>\n",
       "      <td>1593.0</td>\n",
       "    </tr>\n",
       "    <tr>\n",
       "      <th>13924</th>\n",
       "      <td>2499</td>\n",
       "      <td>2019-08-10 13:54:56</td>\n",
       "      <td>1588.0</td>\n",
       "    </tr>\n",
       "    <tr>\n",
       "      <th>13925</th>\n",
       "      <td>2499</td>\n",
       "      <td>2019-08-10 13:58:58</td>\n",
       "      <td>1603.0</td>\n",
       "    </tr>\n",
       "  </tbody>\n",
       "</table>\n",
       "<p>13926 rows × 3 columns</p>\n",
       "</div>"
      ],
      "text/plain": [
       "        key        Время замера  Температура\n",
       "0         1 2019-05-03 11:02:04       1571.0\n",
       "1         1 2019-05-03 11:07:18       1604.0\n",
       "2         1 2019-05-03 11:11:34       1618.0\n",
       "3         1 2019-05-03 11:18:04       1601.0\n",
       "4         1 2019-05-03 11:25:59       1606.0\n",
       "...     ...                 ...          ...\n",
       "13921  2499 2019-08-10 13:33:21       1569.0\n",
       "13922  2499 2019-08-10 13:41:34       1604.0\n",
       "13923  2499 2019-08-10 13:46:28       1593.0\n",
       "13924  2499 2019-08-10 13:54:56       1588.0\n",
       "13925  2499 2019-08-10 13:58:58       1603.0\n",
       "\n",
       "[13926 rows x 3 columns]"
      ]
     },
     "execution_count": 53,
     "metadata": {},
     "output_type": "execute_result"
    }
   ],
   "source": [
    "data_temp_final"
   ]
  },
  {
   "cell_type": "code",
   "execution_count": 54,
   "id": "e09d3981",
   "metadata": {},
   "outputs": [
    {
     "data": {
      "text/html": [
       "<div>\n",
       "<style scoped>\n",
       "    .dataframe tbody tr th:only-of-type {\n",
       "        vertical-align: middle;\n",
       "    }\n",
       "\n",
       "    .dataframe tbody tr th {\n",
       "        vertical-align: top;\n",
       "    }\n",
       "\n",
       "    .dataframe thead th {\n",
       "        text-align: right;\n",
       "    }\n",
       "</style>\n",
       "<table border=\"1\" class=\"dataframe\">\n",
       "  <thead>\n",
       "    <tr style=\"text-align: right;\">\n",
       "      <th></th>\n",
       "      <th>key</th>\n",
       "      <th>первая температура</th>\n",
       "      <th>последняя температура (целевая)</th>\n",
       "      <th>средний градиент температуры</th>\n",
       "    </tr>\n",
       "  </thead>\n",
       "  <tbody>\n",
       "    <tr>\n",
       "      <th>0</th>\n",
       "      <td>1</td>\n",
       "      <td>1571.0</td>\n",
       "      <td>1613.0</td>\n",
       "      <td>8.40</td>\n",
       "    </tr>\n",
       "    <tr>\n",
       "      <th>1</th>\n",
       "      <td>2</td>\n",
       "      <td>1581.0</td>\n",
       "      <td>1602.0</td>\n",
       "      <td>5.25</td>\n",
       "    </tr>\n",
       "    <tr>\n",
       "      <th>2</th>\n",
       "      <td>3</td>\n",
       "      <td>1596.0</td>\n",
       "      <td>1599.0</td>\n",
       "      <td>0.60</td>\n",
       "    </tr>\n",
       "    <tr>\n",
       "      <th>3</th>\n",
       "      <td>4</td>\n",
       "      <td>1601.0</td>\n",
       "      <td>1625.0</td>\n",
       "      <td>6.00</td>\n",
       "    </tr>\n",
       "    <tr>\n",
       "      <th>4</th>\n",
       "      <td>5</td>\n",
       "      <td>1576.0</td>\n",
       "      <td>1602.0</td>\n",
       "      <td>6.50</td>\n",
       "    </tr>\n",
       "  </tbody>\n",
       "</table>\n",
       "</div>"
      ],
      "text/plain": [
       "   key  первая температура  последняя температура (целевая)  \\\n",
       "0    1              1571.0                           1613.0   \n",
       "1    2              1581.0                           1602.0   \n",
       "2    3              1596.0                           1599.0   \n",
       "3    4              1601.0                           1625.0   \n",
       "4    5              1576.0                           1602.0   \n",
       "\n",
       "   средний градиент температуры  \n",
       "0                          8.40  \n",
       "1                          5.25  \n",
       "2                          0.60  \n",
       "3                          6.00  \n",
       "4                          6.50  "
      ]
     },
     "metadata": {},
     "output_type": "display_data"
    },
    {
     "data": {
      "text/html": [
       "<div>\n",
       "<style scoped>\n",
       "    .dataframe tbody tr th:only-of-type {\n",
       "        vertical-align: middle;\n",
       "    }\n",
       "\n",
       "    .dataframe tbody tr th {\n",
       "        vertical-align: top;\n",
       "    }\n",
       "\n",
       "    .dataframe thead th {\n",
       "        text-align: right;\n",
       "    }\n",
       "</style>\n",
       "<table border=\"1\" class=\"dataframe\">\n",
       "  <thead>\n",
       "    <tr style=\"text-align: right;\">\n",
       "      <th></th>\n",
       "      <th>key</th>\n",
       "      <th>первая температура</th>\n",
       "      <th>последняя температура (целевая)</th>\n",
       "      <th>средний градиент температуры</th>\n",
       "      <th>полная мощность</th>\n",
       "      <th>время нагрева</th>\n",
       "      <th>time_active_power</th>\n",
       "      <th>Bulk 14</th>\n",
       "      <th>Bulk 12</th>\n",
       "      <th>Bulk 15</th>\n",
       "      <th>Bulk 3</th>\n",
       "      <th>Bulk 4</th>\n",
       "      <th>Bulk 6</th>\n",
       "      <th>Wire 1</th>\n",
       "      <th>Wire 2</th>\n",
       "      <th>Газ 1</th>\n",
       "    </tr>\n",
       "  </thead>\n",
       "  <tbody>\n",
       "    <tr>\n",
       "      <th>0</th>\n",
       "      <td>1</td>\n",
       "      <td>1571.0</td>\n",
       "      <td>1613.0</td>\n",
       "      <td>8.40</td>\n",
       "      <td>3.716640</td>\n",
       "      <td>1583.0</td>\n",
       "      <td>483.020790</td>\n",
       "      <td>150.0</td>\n",
       "      <td>206.0</td>\n",
       "      <td>154.0</td>\n",
       "      <td>0.0</td>\n",
       "      <td>43.0</td>\n",
       "      <td>0.0</td>\n",
       "      <td>60.059998</td>\n",
       "      <td>0.00000</td>\n",
       "      <td>29.749986</td>\n",
       "    </tr>\n",
       "    <tr>\n",
       "      <th>1</th>\n",
       "      <td>2</td>\n",
       "      <td>1581.0</td>\n",
       "      <td>1602.0</td>\n",
       "      <td>5.25</td>\n",
       "      <td>2.586371</td>\n",
       "      <td>1144.0</td>\n",
       "      <td>875.912752</td>\n",
       "      <td>149.0</td>\n",
       "      <td>206.0</td>\n",
       "      <td>154.0</td>\n",
       "      <td>0.0</td>\n",
       "      <td>73.0</td>\n",
       "      <td>0.0</td>\n",
       "      <td>96.052315</td>\n",
       "      <td>0.00000</td>\n",
       "      <td>12.555561</td>\n",
       "    </tr>\n",
       "    <tr>\n",
       "      <th>2</th>\n",
       "      <td>3</td>\n",
       "      <td>1596.0</td>\n",
       "      <td>1599.0</td>\n",
       "      <td>0.60</td>\n",
       "      <td>5.014163</td>\n",
       "      <td>1525.0</td>\n",
       "      <td>884.977325</td>\n",
       "      <td>152.0</td>\n",
       "      <td>205.0</td>\n",
       "      <td>153.0</td>\n",
       "      <td>0.0</td>\n",
       "      <td>34.0</td>\n",
       "      <td>0.0</td>\n",
       "      <td>91.160157</td>\n",
       "      <td>0.00000</td>\n",
       "      <td>28.554793</td>\n",
       "    </tr>\n",
       "    <tr>\n",
       "      <th>3</th>\n",
       "      <td>4</td>\n",
       "      <td>1601.0</td>\n",
       "      <td>1625.0</td>\n",
       "      <td>6.00</td>\n",
       "      <td>3.399456</td>\n",
       "      <td>1093.0</td>\n",
       "      <td>566.716128</td>\n",
       "      <td>153.0</td>\n",
       "      <td>207.0</td>\n",
       "      <td>154.0</td>\n",
       "      <td>0.0</td>\n",
       "      <td>81.0</td>\n",
       "      <td>0.0</td>\n",
       "      <td>89.063515</td>\n",
       "      <td>0.00000</td>\n",
       "      <td>18.841219</td>\n",
       "    </tr>\n",
       "    <tr>\n",
       "      <th>4</th>\n",
       "      <td>5</td>\n",
       "      <td>1576.0</td>\n",
       "      <td>1602.0</td>\n",
       "      <td>6.50</td>\n",
       "      <td>2.815155</td>\n",
       "      <td>1362.0</td>\n",
       "      <td>1181.035146</td>\n",
       "      <td>151.0</td>\n",
       "      <td>203.0</td>\n",
       "      <td>152.0</td>\n",
       "      <td>0.0</td>\n",
       "      <td>78.0</td>\n",
       "      <td>0.0</td>\n",
       "      <td>89.238236</td>\n",
       "      <td>9.11456</td>\n",
       "      <td>5.413692</td>\n",
       "    </tr>\n",
       "  </tbody>\n",
       "</table>\n",
       "</div>"
      ],
      "text/plain": [
       "   key  первая температура  последняя температура (целевая)  \\\n",
       "0    1              1571.0                           1613.0   \n",
       "1    2              1581.0                           1602.0   \n",
       "2    3              1596.0                           1599.0   \n",
       "3    4              1601.0                           1625.0   \n",
       "4    5              1576.0                           1602.0   \n",
       "\n",
       "   средний градиент температуры  полная мощность  время нагрева  \\\n",
       "0                          8.40         3.716640         1583.0   \n",
       "1                          5.25         2.586371         1144.0   \n",
       "2                          0.60         5.014163         1525.0   \n",
       "3                          6.00         3.399456         1093.0   \n",
       "4                          6.50         2.815155         1362.0   \n",
       "\n",
       "   time_active_power  Bulk 14  Bulk 12  Bulk 15  Bulk 3  Bulk 4  Bulk 6  \\\n",
       "0         483.020790    150.0    206.0    154.0     0.0    43.0     0.0   \n",
       "1         875.912752    149.0    206.0    154.0     0.0    73.0     0.0   \n",
       "2         884.977325    152.0    205.0    153.0     0.0    34.0     0.0   \n",
       "3         566.716128    153.0    207.0    154.0     0.0    81.0     0.0   \n",
       "4        1181.035146    151.0    203.0    152.0     0.0    78.0     0.0   \n",
       "\n",
       "      Wire 1   Wire 2      Газ 1  \n",
       "0  60.059998  0.00000  29.749986  \n",
       "1  96.052315  0.00000  12.555561  \n",
       "2  91.160157  0.00000  28.554793  \n",
       "3  89.063515  0.00000  18.841219  \n",
       "4  89.238236  9.11456   5.413692  "
      ]
     },
     "metadata": {},
     "output_type": "display_data"
    }
   ],
   "source": [
    "data_bulk_filtered = data_bulk_new[['key', 'Bulk 14', 'Bulk 12', 'Bulk 15', 'Bulk 3', 'Bulk 4', 'Bulk 6']].fillna(0)\n",
    "data_wire_filtered = data_wire_new[['key', 'Wire 1', 'Wire 2']].fillna(0)\n",
    "data_gas_agg = data_gas_new[['key', 'Газ 1']]\n",
    "\n",
    "# Расчет времени нагрева отдельно, чтобы избежать смещения\n",
    "data_arc_time = data_arc_new.groupby('key').agg({\n",
    "    'Начало нагрева дугой': 'min', \n",
    "    'Конец нагрева дугой': 'max'\n",
    "}).reset_index()\n",
    "data_arc_time['время нагрева'] = (data_arc_time['Конец нагрева дугой'] - data_arc_time['Начало нагрева дугой']).dt.total_seconds()\n",
    "data_arc_time['time_active_power'] = data_arc_new['Активная мощность'] * data_arc_time['время нагрева'] \n",
    "data_arc_time = data_arc_time[['key', 'время нагрева', 'time_active_power']]  # Оставляем только нужные столбцы\n",
    "\n",
    "\n",
    "# Агрегация температуры и мощности\n",
    "# Добавление градиента температур и предыдущей температуры\n",
    "data_temp_final = data_temp_final.sort_values(by=['key', 'Время замера'])\n",
    "\n",
    "# Рассчитываем предыдущую температуру в пределах каждой партии\n",
    "data_temp_final['предыдущая температура'] = data_temp_final.groupby('key')['Температура'].shift(1)\n",
    "\n",
    "# Рассчитываем градиент температур (разницу между текущей и предыдущей)\n",
    "data_temp_final['градиент температуры'] = data_temp_final['Температура'] - data_temp_final['предыдущая температура']\n",
    "\n",
    "# Агрегация температуры и мощности\n",
    "data_temp_agg = data_temp_final.groupby('key').agg({\n",
    "    'Температура': ['first', 'last'],\n",
    "    'градиент температуры': 'mean'     # Средний градиент температуры за цикл\n",
    "}).reset_index()\n",
    "\n",
    "# Переименование колонок\n",
    "data_temp_agg.columns = [\n",
    "    'key', \n",
    "    'первая температура', \n",
    "    'последняя температура (целевая)',  \n",
    "    'средний градиент температуры'\n",
    "]\n",
    "\n",
    "display(data_temp_agg.head())\n",
    "\n",
    "\n",
    "\n",
    "\n",
    "\n",
    "data_arc_agg = data_arc_new.groupby('key').agg({\n",
    "    'Активная мощность': 'sum',\n",
    "    'Реактивная мощность': 'sum'\n",
    "}).reset_index()\n",
    "data_arc_agg['полная мощность'] = (data_arc_agg['Активная мощность']**2 + data_arc_agg['Реактивная мощность']**2) ** 0.5\n",
    "\n",
    "# Объединение всех данных с использованием inner join\n",
    "data_final = (data_temp_agg\n",
    "              .merge(data_arc_agg[['key', 'полная мощность']], on='key', how='inner')\n",
    "              .merge(data_arc_time, on='key', how='inner')  # Добавляем рассчитанное время нагрева\n",
    "              .merge(data_bulk_filtered, on='key', how='inner')\n",
    "              .merge(data_wire_filtered, on='key', how='inner')\n",
    "              .merge(data_gas_agg, on='key', how='inner'))\n",
    "\n",
    "# Проверка итоговой таблицы\n",
    "display(data_final.head())\n"
   ]
  },
  {
   "cell_type": "code",
   "execution_count": 55,
   "id": "68e5e912",
   "metadata": {},
   "outputs": [
    {
     "data": {
      "text/plain": [
       "count     2329.000000\n",
       "mean      1315.927249\n",
       "std       1059.141102\n",
       "min         21.148539\n",
       "25%        703.968538\n",
       "50%       1078.681934\n",
       "75%       1624.467706\n",
       "max      16118.618320\n",
       "Name: time_active_power, dtype: float64"
      ]
     },
     "execution_count": 55,
     "metadata": {},
     "output_type": "execute_result"
    }
   ],
   "source": [
    "data_final[\"time_active_power\"].describe()"
   ]
  },
  {
   "cell_type": "code",
   "execution_count": 56,
   "id": "aed7a070",
   "metadata": {},
   "outputs": [
    {
     "name": "stdout",
     "output_type": "stream",
     "text": [
      "<class 'pandas.core.frame.DataFrame'>\n",
      "Int64Index: 2329 entries, 0 to 2328\n",
      "Data columns (total 16 columns):\n",
      " #   Column                           Non-Null Count  Dtype  \n",
      "---  ------                           --------------  -----  \n",
      " 0   key                              2329 non-null   int64  \n",
      " 1   первая температура               2329 non-null   float64\n",
      " 2   последняя температура (целевая)  2329 non-null   float64\n",
      " 3   средний градиент температуры     2329 non-null   float64\n",
      " 4   полная мощность                  2329 non-null   float64\n",
      " 5   время нагрева                    2329 non-null   float64\n",
      " 6   time_active_power                2329 non-null   float64\n",
      " 7   Bulk 14                          2329 non-null   float64\n",
      " 8   Bulk 12                          2329 non-null   float64\n",
      " 9   Bulk 15                          2329 non-null   float64\n",
      " 10  Bulk 3                           2329 non-null   float64\n",
      " 11  Bulk 4                           2329 non-null   float64\n",
      " 12  Bulk 6                           2329 non-null   float64\n",
      " 13  Wire 1                           2329 non-null   float64\n",
      " 14  Wire 2                           2329 non-null   float64\n",
      " 15  Газ 1                            2329 non-null   float64\n",
      "dtypes: float64(15), int64(1)\n",
      "memory usage: 309.3 KB\n"
     ]
    }
   ],
   "source": [
    "data_final.info()"
   ]
  },
  {
   "cell_type": "code",
   "execution_count": 57,
   "id": "809ec31a",
   "metadata": {},
   "outputs": [],
   "source": [
    "#data_bulk_agg = data_bulk_new.groupby('key').sum().reset_index()\n",
    "#data_bulk_agg['Суммарные сыпучие материалы'] = data_bulk_agg.iloc[:, 1:].sum(axis=1)\n",
    "#data_bulk_agg = data_bulk_agg[['key', 'Суммарные сыпучие материалы']]\n",
    "\n",
    "# Агрегация данных по объему проволочных материалов (сумма всех Wire)\n",
    "#data_wire_agg = data_wire_new.groupby('key').sum().reset_index()\n",
    "#data_wire_agg['Суммарные проволочные материалы'] = data_wire_agg.iloc[:, 1:].sum(axis=1)\n",
    "#data_wire_agg = data_wire_agg[['key', 'Суммарные проволочные материалы']]\n",
    "\n",
    "# Агрегация данных по газу\n",
    "#data_gas_agg = data_gas_new.groupby('key').sum().reset_index()\n",
    "#data_gas_agg['Суммарный газ'] = data_gas_agg['Газ 1']\n",
    "#data_gas_agg = data_gas_agg[['key', 'Суммарный газ']]\n",
    "\n",
    "# Объединение всех данных с финальной таблицей\n",
    "#data_final = data_final.merge(data_bulk_agg, on='key', how='left')\n",
    "#data_final = data_final.merge(data_wire_agg, on='key', how='left')\n",
    "#data_final = data_final.merge(data_gas_agg, on='key', how='left')\n"
   ]
  },
  {
   "cell_type": "markdown",
   "id": "bb584560",
   "metadata": {},
   "source": [
    "* Подумал не совсем корректно будет просто суммировать присадки по партиям, оставил ковши*"
   ]
  },
  {
   "cell_type": "code",
   "execution_count": 58,
   "id": "7e27e2d8",
   "metadata": {},
   "outputs": [
    {
     "data": {
      "text/plain": [
       "0.0"
      ]
     },
     "execution_count": 58,
     "metadata": {},
     "output_type": "execute_result"
    }
   ],
   "source": [
    "data_final[\"время нагрева\"].isna().sum() / data_final.shape[0]"
   ]
  },
  {
   "cell_type": "markdown",
   "id": "8a0d6d38",
   "metadata": {},
   "source": [
    "появилось незначительное кол-во пропусков во времени нагрева, удалим их чтобы не мешали обучению модели"
   ]
  },
  {
   "cell_type": "code",
   "execution_count": 59,
   "id": "82bee166",
   "metadata": {},
   "outputs": [],
   "source": [
    "#data_final = data_final.dropna(subset=['время нагрева'])\n",
    "#data_final.isna().sum()"
   ]
  },
  {
   "cell_type": "code",
   "execution_count": 60,
   "id": "95eead14",
   "metadata": {},
   "outputs": [
    {
     "data": {
      "text/html": [
       "<div>\n",
       "<style scoped>\n",
       "    .dataframe tbody tr th:only-of-type {\n",
       "        vertical-align: middle;\n",
       "    }\n",
       "\n",
       "    .dataframe tbody tr th {\n",
       "        vertical-align: top;\n",
       "    }\n",
       "\n",
       "    .dataframe thead th {\n",
       "        text-align: right;\n",
       "    }\n",
       "</style>\n",
       "<table border=\"1\" class=\"dataframe\">\n",
       "  <thead>\n",
       "    <tr style=\"text-align: right;\">\n",
       "      <th></th>\n",
       "      <th>key</th>\n",
       "      <th>первая температура</th>\n",
       "      <th>последняя температура (целевая)</th>\n",
       "      <th>средний градиент температуры</th>\n",
       "      <th>полная мощность</th>\n",
       "      <th>время нагрева</th>\n",
       "      <th>time_active_power</th>\n",
       "      <th>Bulk 14</th>\n",
       "      <th>Bulk 12</th>\n",
       "      <th>Bulk 15</th>\n",
       "      <th>Bulk 3</th>\n",
       "      <th>Bulk 4</th>\n",
       "      <th>Bulk 6</th>\n",
       "      <th>Wire 1</th>\n",
       "      <th>Wire 2</th>\n",
       "      <th>Газ 1</th>\n",
       "    </tr>\n",
       "  </thead>\n",
       "  <tbody>\n",
       "    <tr>\n",
       "      <th>1198</th>\n",
       "      <td>1290</td>\n",
       "      <td>1623.0</td>\n",
       "      <td>1617.0</td>\n",
       "      <td>-0.750000</td>\n",
       "      <td>7.716252</td>\n",
       "      <td>5015.0</td>\n",
       "      <td>3231.450355</td>\n",
       "      <td>275.0</td>\n",
       "      <td>609.0</td>\n",
       "      <td>158.0</td>\n",
       "      <td>61.0</td>\n",
       "      <td>65.0</td>\n",
       "      <td>0.0</td>\n",
       "      <td>136.141201</td>\n",
       "      <td>0.0</td>\n",
       "      <td>25.403833</td>\n",
       "    </tr>\n",
       "    <tr>\n",
       "      <th>1781</th>\n",
       "      <td>1903</td>\n",
       "      <td>1611.0</td>\n",
       "      <td>1599.0</td>\n",
       "      <td>-1.714286</td>\n",
       "      <td>6.294706</td>\n",
       "      <td>4918.0</td>\n",
       "      <td>5261.497710</td>\n",
       "      <td>248.0</td>\n",
       "      <td>411.0</td>\n",
       "      <td>204.0</td>\n",
       "      <td>0.0</td>\n",
       "      <td>125.0</td>\n",
       "      <td>0.0</td>\n",
       "      <td>121.118401</td>\n",
       "      <td>0.0</td>\n",
       "      <td>11.998700</td>\n",
       "    </tr>\n",
       "    <tr>\n",
       "      <th>1241</th>\n",
       "      <td>1335</td>\n",
       "      <td>1581.0</td>\n",
       "      <td>1612.0</td>\n",
       "      <td>5.166667</td>\n",
       "      <td>4.336391</td>\n",
       "      <td>3294.0</td>\n",
       "      <td>1542.076218</td>\n",
       "      <td>204.0</td>\n",
       "      <td>409.0</td>\n",
       "      <td>209.0</td>\n",
       "      <td>297.0</td>\n",
       "      <td>0.0</td>\n",
       "      <td>0.0</td>\n",
       "      <td>118.123199</td>\n",
       "      <td>0.0</td>\n",
       "      <td>5.257779</td>\n",
       "    </tr>\n",
       "    <tr>\n",
       "      <th>663</th>\n",
       "      <td>719</td>\n",
       "      <td>1568.0</td>\n",
       "      <td>1595.0</td>\n",
       "      <td>5.400000</td>\n",
       "      <td>4.526789</td>\n",
       "      <td>1467.0</td>\n",
       "      <td>897.704244</td>\n",
       "      <td>152.0</td>\n",
       "      <td>203.0</td>\n",
       "      <td>157.0</td>\n",
       "      <td>211.0</td>\n",
       "      <td>77.0</td>\n",
       "      <td>0.0</td>\n",
       "      <td>82.274399</td>\n",
       "      <td>0.0</td>\n",
       "      <td>9.456530</td>\n",
       "    </tr>\n",
       "    <tr>\n",
       "      <th>352</th>\n",
       "      <td>396</td>\n",
       "      <td>1573.0</td>\n",
       "      <td>1593.0</td>\n",
       "      <td>5.000000</td>\n",
       "      <td>3.940289</td>\n",
       "      <td>1472.0</td>\n",
       "      <td>1367.327552</td>\n",
       "      <td>271.0</td>\n",
       "      <td>346.0</td>\n",
       "      <td>203.0</td>\n",
       "      <td>0.0</td>\n",
       "      <td>89.0</td>\n",
       "      <td>0.0</td>\n",
       "      <td>131.320800</td>\n",
       "      <td>0.0</td>\n",
       "      <td>10.100423</td>\n",
       "    </tr>\n",
       "    <tr>\n",
       "      <th>448</th>\n",
       "      <td>492</td>\n",
       "      <td>1571.0</td>\n",
       "      <td>1584.0</td>\n",
       "      <td>3.250000</td>\n",
       "      <td>3.195797</td>\n",
       "      <td>1718.0</td>\n",
       "      <td>550.919650</td>\n",
       "      <td>253.0</td>\n",
       "      <td>514.0</td>\n",
       "      <td>0.0</td>\n",
       "      <td>0.0</td>\n",
       "      <td>0.0</td>\n",
       "      <td>0.0</td>\n",
       "      <td>126.172799</td>\n",
       "      <td>0.0</td>\n",
       "      <td>17.312897</td>\n",
       "    </tr>\n",
       "    <tr>\n",
       "      <th>517</th>\n",
       "      <td>564</td>\n",
       "      <td>1580.0</td>\n",
       "      <td>1594.0</td>\n",
       "      <td>4.666667</td>\n",
       "      <td>3.544381</td>\n",
       "      <td>1203.0</td>\n",
       "      <td>719.448135</td>\n",
       "      <td>103.0</td>\n",
       "      <td>255.0</td>\n",
       "      <td>202.0</td>\n",
       "      <td>0.0</td>\n",
       "      <td>138.0</td>\n",
       "      <td>0.0</td>\n",
       "      <td>95.097595</td>\n",
       "      <td>0.0</td>\n",
       "      <td>7.239881</td>\n",
       "    </tr>\n",
       "    <tr>\n",
       "      <th>1000</th>\n",
       "      <td>1082</td>\n",
       "      <td>1621.0</td>\n",
       "      <td>1631.0</td>\n",
       "      <td>1.666667</td>\n",
       "      <td>6.958672</td>\n",
       "      <td>2199.0</td>\n",
       "      <td>924.118755</td>\n",
       "      <td>223.0</td>\n",
       "      <td>409.0</td>\n",
       "      <td>210.0</td>\n",
       "      <td>0.0</td>\n",
       "      <td>112.0</td>\n",
       "      <td>0.0</td>\n",
       "      <td>183.081604</td>\n",
       "      <td>0.0</td>\n",
       "      <td>10.306338</td>\n",
       "    </tr>\n",
       "    <tr>\n",
       "      <th>170</th>\n",
       "      <td>191</td>\n",
       "      <td>1569.0</td>\n",
       "      <td>1619.0</td>\n",
       "      <td>10.000000</td>\n",
       "      <td>3.813336</td>\n",
       "      <td>1972.0</td>\n",
       "      <td>1653.689620</td>\n",
       "      <td>203.0</td>\n",
       "      <td>411.0</td>\n",
       "      <td>203.0</td>\n",
       "      <td>0.0</td>\n",
       "      <td>175.0</td>\n",
       "      <td>0.0</td>\n",
       "      <td>105.094078</td>\n",
       "      <td>0.0</td>\n",
       "      <td>20.442904</td>\n",
       "    </tr>\n",
       "    <tr>\n",
       "      <th>648</th>\n",
       "      <td>698</td>\n",
       "      <td>1627.0</td>\n",
       "      <td>1607.0</td>\n",
       "      <td>-10.000000</td>\n",
       "      <td>0.882331</td>\n",
       "      <td>508.0</td>\n",
       "      <td>458.412088</td>\n",
       "      <td>156.0</td>\n",
       "      <td>205.0</td>\n",
       "      <td>157.0</td>\n",
       "      <td>120.0</td>\n",
       "      <td>0.0</td>\n",
       "      <td>0.0</td>\n",
       "      <td>107.171997</td>\n",
       "      <td>0.0</td>\n",
       "      <td>8.082227</td>\n",
       "    </tr>\n",
       "  </tbody>\n",
       "</table>\n",
       "</div>"
      ],
      "text/plain": [
       "       key  первая температура  последняя температура (целевая)  \\\n",
       "1198  1290              1623.0                           1617.0   \n",
       "1781  1903              1611.0                           1599.0   \n",
       "1241  1335              1581.0                           1612.0   \n",
       "663    719              1568.0                           1595.0   \n",
       "352    396              1573.0                           1593.0   \n",
       "448    492              1571.0                           1584.0   \n",
       "517    564              1580.0                           1594.0   \n",
       "1000  1082              1621.0                           1631.0   \n",
       "170    191              1569.0                           1619.0   \n",
       "648    698              1627.0                           1607.0   \n",
       "\n",
       "      средний градиент температуры  полная мощность  время нагрева  \\\n",
       "1198                     -0.750000         7.716252         5015.0   \n",
       "1781                     -1.714286         6.294706         4918.0   \n",
       "1241                      5.166667         4.336391         3294.0   \n",
       "663                       5.400000         4.526789         1467.0   \n",
       "352                       5.000000         3.940289         1472.0   \n",
       "448                       3.250000         3.195797         1718.0   \n",
       "517                       4.666667         3.544381         1203.0   \n",
       "1000                      1.666667         6.958672         2199.0   \n",
       "170                      10.000000         3.813336         1972.0   \n",
       "648                     -10.000000         0.882331          508.0   \n",
       "\n",
       "      time_active_power  Bulk 14  Bulk 12  Bulk 15  Bulk 3  Bulk 4  Bulk 6  \\\n",
       "1198        3231.450355    275.0    609.0    158.0    61.0    65.0     0.0   \n",
       "1781        5261.497710    248.0    411.0    204.0     0.0   125.0     0.0   \n",
       "1241        1542.076218    204.0    409.0    209.0   297.0     0.0     0.0   \n",
       "663          897.704244    152.0    203.0    157.0   211.0    77.0     0.0   \n",
       "352         1367.327552    271.0    346.0    203.0     0.0    89.0     0.0   \n",
       "448          550.919650    253.0    514.0      0.0     0.0     0.0     0.0   \n",
       "517          719.448135    103.0    255.0    202.0     0.0   138.0     0.0   \n",
       "1000         924.118755    223.0    409.0    210.0     0.0   112.0     0.0   \n",
       "170         1653.689620    203.0    411.0    203.0     0.0   175.0     0.0   \n",
       "648          458.412088    156.0    205.0    157.0   120.0     0.0     0.0   \n",
       "\n",
       "          Wire 1  Wire 2      Газ 1  \n",
       "1198  136.141201     0.0  25.403833  \n",
       "1781  121.118401     0.0  11.998700  \n",
       "1241  118.123199     0.0   5.257779  \n",
       "663    82.274399     0.0   9.456530  \n",
       "352   131.320800     0.0  10.100423  \n",
       "448   126.172799     0.0  17.312897  \n",
       "517    95.097595     0.0   7.239881  \n",
       "1000  183.081604     0.0  10.306338  \n",
       "170   105.094078     0.0  20.442904  \n",
       "648   107.171997     0.0   8.082227  "
      ]
     },
     "execution_count": 60,
     "metadata": {},
     "output_type": "execute_result"
    }
   ],
   "source": [
    "data_final.sample(10)"
   ]
  },
  {
   "cell_type": "code",
   "execution_count": 61,
   "id": "5714e876",
   "metadata": {},
   "outputs": [
    {
     "data": {
      "text/html": [
       "<div>\n",
       "<style scoped>\n",
       "    .dataframe tbody tr th:only-of-type {\n",
       "        vertical-align: middle;\n",
       "    }\n",
       "\n",
       "    .dataframe tbody tr th {\n",
       "        vertical-align: top;\n",
       "    }\n",
       "\n",
       "    .dataframe thead th {\n",
       "        text-align: right;\n",
       "    }\n",
       "</style>\n",
       "<table border=\"1\" class=\"dataframe\">\n",
       "  <thead>\n",
       "    <tr style=\"text-align: right;\">\n",
       "      <th></th>\n",
       "      <th>key</th>\n",
       "      <th>первая температура</th>\n",
       "      <th>последняя температура (целевая)</th>\n",
       "      <th>средний градиент температуры</th>\n",
       "      <th>полная мощность</th>\n",
       "      <th>время нагрева</th>\n",
       "      <th>time_active_power</th>\n",
       "      <th>Bulk 14</th>\n",
       "      <th>Bulk 12</th>\n",
       "      <th>Bulk 15</th>\n",
       "      <th>Bulk 3</th>\n",
       "      <th>Bulk 4</th>\n",
       "      <th>Bulk 6</th>\n",
       "      <th>Wire 1</th>\n",
       "      <th>Wire 2</th>\n",
       "      <th>Газ 1</th>\n",
       "    </tr>\n",
       "  </thead>\n",
       "  <tbody>\n",
       "    <tr>\n",
       "      <th>0</th>\n",
       "      <td>1</td>\n",
       "      <td>1571.0</td>\n",
       "      <td>1613.0</td>\n",
       "      <td>8.40</td>\n",
       "      <td>3.716640</td>\n",
       "      <td>1583.0</td>\n",
       "      <td>483.020790</td>\n",
       "      <td>150.0</td>\n",
       "      <td>206.0</td>\n",
       "      <td>154.0</td>\n",
       "      <td>0.0</td>\n",
       "      <td>43.0</td>\n",
       "      <td>0.0</td>\n",
       "      <td>60.059998</td>\n",
       "      <td>0.00000</td>\n",
       "      <td>29.749986</td>\n",
       "    </tr>\n",
       "    <tr>\n",
       "      <th>1</th>\n",
       "      <td>2</td>\n",
       "      <td>1581.0</td>\n",
       "      <td>1602.0</td>\n",
       "      <td>5.25</td>\n",
       "      <td>2.586371</td>\n",
       "      <td>1144.0</td>\n",
       "      <td>875.912752</td>\n",
       "      <td>149.0</td>\n",
       "      <td>206.0</td>\n",
       "      <td>154.0</td>\n",
       "      <td>0.0</td>\n",
       "      <td>73.0</td>\n",
       "      <td>0.0</td>\n",
       "      <td>96.052315</td>\n",
       "      <td>0.00000</td>\n",
       "      <td>12.555561</td>\n",
       "    </tr>\n",
       "    <tr>\n",
       "      <th>2</th>\n",
       "      <td>3</td>\n",
       "      <td>1596.0</td>\n",
       "      <td>1599.0</td>\n",
       "      <td>0.60</td>\n",
       "      <td>5.014163</td>\n",
       "      <td>1525.0</td>\n",
       "      <td>884.977325</td>\n",
       "      <td>152.0</td>\n",
       "      <td>205.0</td>\n",
       "      <td>153.0</td>\n",
       "      <td>0.0</td>\n",
       "      <td>34.0</td>\n",
       "      <td>0.0</td>\n",
       "      <td>91.160157</td>\n",
       "      <td>0.00000</td>\n",
       "      <td>28.554793</td>\n",
       "    </tr>\n",
       "    <tr>\n",
       "      <th>3</th>\n",
       "      <td>4</td>\n",
       "      <td>1601.0</td>\n",
       "      <td>1625.0</td>\n",
       "      <td>6.00</td>\n",
       "      <td>3.399456</td>\n",
       "      <td>1093.0</td>\n",
       "      <td>566.716128</td>\n",
       "      <td>153.0</td>\n",
       "      <td>207.0</td>\n",
       "      <td>154.0</td>\n",
       "      <td>0.0</td>\n",
       "      <td>81.0</td>\n",
       "      <td>0.0</td>\n",
       "      <td>89.063515</td>\n",
       "      <td>0.00000</td>\n",
       "      <td>18.841219</td>\n",
       "    </tr>\n",
       "    <tr>\n",
       "      <th>4</th>\n",
       "      <td>5</td>\n",
       "      <td>1576.0</td>\n",
       "      <td>1602.0</td>\n",
       "      <td>6.50</td>\n",
       "      <td>2.815155</td>\n",
       "      <td>1362.0</td>\n",
       "      <td>1181.035146</td>\n",
       "      <td>151.0</td>\n",
       "      <td>203.0</td>\n",
       "      <td>152.0</td>\n",
       "      <td>0.0</td>\n",
       "      <td>78.0</td>\n",
       "      <td>0.0</td>\n",
       "      <td>89.238236</td>\n",
       "      <td>9.11456</td>\n",
       "      <td>5.413692</td>\n",
       "    </tr>\n",
       "  </tbody>\n",
       "</table>\n",
       "</div>"
      ],
      "text/plain": [
       "   key  первая температура  последняя температура (целевая)  \\\n",
       "0    1              1571.0                           1613.0   \n",
       "1    2              1581.0                           1602.0   \n",
       "2    3              1596.0                           1599.0   \n",
       "3    4              1601.0                           1625.0   \n",
       "4    5              1576.0                           1602.0   \n",
       "\n",
       "   средний градиент температуры  полная мощность  время нагрева  \\\n",
       "0                          8.40         3.716640         1583.0   \n",
       "1                          5.25         2.586371         1144.0   \n",
       "2                          0.60         5.014163         1525.0   \n",
       "3                          6.00         3.399456         1093.0   \n",
       "4                          6.50         2.815155         1362.0   \n",
       "\n",
       "   time_active_power  Bulk 14  Bulk 12  Bulk 15  Bulk 3  Bulk 4  Bulk 6  \\\n",
       "0         483.020790    150.0    206.0    154.0     0.0    43.0     0.0   \n",
       "1         875.912752    149.0    206.0    154.0     0.0    73.0     0.0   \n",
       "2         884.977325    152.0    205.0    153.0     0.0    34.0     0.0   \n",
       "3         566.716128    153.0    207.0    154.0     0.0    81.0     0.0   \n",
       "4        1181.035146    151.0    203.0    152.0     0.0    78.0     0.0   \n",
       "\n",
       "      Wire 1   Wire 2      Газ 1  \n",
       "0  60.059998  0.00000  29.749986  \n",
       "1  96.052315  0.00000  12.555561  \n",
       "2  91.160157  0.00000  28.554793  \n",
       "3  89.063515  0.00000  18.841219  \n",
       "4  89.238236  9.11456   5.413692  "
      ]
     },
     "execution_count": 61,
     "metadata": {},
     "output_type": "execute_result"
    }
   ],
   "source": [
    "data_final.head()"
   ]
  },
  {
   "attachments": {
    "image.png": {
     "image/png": "[encoded data removed]"
    }
   },
   "cell_type": "markdown",
   "id": "37a6d324",
   "metadata": {},
   "source": [
    "![image.png](attachment:image.png)"
   ]
  },
  {
   "cell_type": "code",
   "execution_count": 62,
   "id": "0b6bcaf9",
   "metadata": {},
   "outputs": [
    {
     "name": "stdout",
     "output_type": "stream",
     "text": [
      "<class 'pandas.core.frame.DataFrame'>\n",
      "Int64Index: 2329 entries, 0 to 2328\n",
      "Data columns (total 16 columns):\n",
      " #   Column                           Non-Null Count  Dtype  \n",
      "---  ------                           --------------  -----  \n",
      " 0   key                              2329 non-null   int64  \n",
      " 1   первая температура               2329 non-null   float64\n",
      " 2   последняя температура (целевая)  2329 non-null   float64\n",
      " 3   средний градиент температуры     2329 non-null   float64\n",
      " 4   полная мощность                  2329 non-null   float64\n",
      " 5   время нагрева                    2329 non-null   float64\n",
      " 6   time_active_power                2329 non-null   float64\n",
      " 7   Bulk 14                          2329 non-null   float64\n",
      " 8   Bulk 12                          2329 non-null   float64\n",
      " 9   Bulk 15                          2329 non-null   float64\n",
      " 10  Bulk 3                           2329 non-null   float64\n",
      " 11  Bulk 4                           2329 non-null   float64\n",
      " 12  Bulk 6                           2329 non-null   float64\n",
      " 13  Wire 1                           2329 non-null   float64\n",
      " 14  Wire 2                           2329 non-null   float64\n",
      " 15  Газ 1                            2329 non-null   float64\n",
      "dtypes: float64(15), int64(1)\n",
      "memory usage: 309.3 KB\n"
     ]
    }
   ],
   "source": [
    "data_final.info()"
   ]
  },
  {
   "cell_type": "markdown",
   "id": "94b566a3",
   "metadata": {},
   "source": [
    "## Исследование признаков"
   ]
  },
  {
   "cell_type": "markdown",
   "id": "6abc11cc",
   "metadata": {},
   "source": [
    "Корреляция числовых признаков с целевой"
   ]
  },
  {
   "cell_type": "code",
   "execution_count": 63,
   "id": "c1df8577",
   "metadata": {},
   "outputs": [
    {
     "name": "stdout",
     "output_type": "stream",
     "text": [
      "Requirement already satisfied: phik in /opt/conda/lib/python3.9/site-packages (0.12.4)\n",
      "Requirement already satisfied: numpy>=1.18.0 in /opt/conda/lib/python3.9/site-packages (from phik) (1.21.1)\n",
      "Requirement already satisfied: matplotlib>=2.2.3 in /opt/conda/lib/python3.9/site-packages (from phik) (3.3.4)\n",
      "Requirement already satisfied: pandas>=0.25.1 in /opt/conda/lib/python3.9/site-packages (from phik) (1.2.4)\n",
      "Requirement already satisfied: scipy>=1.5.2 in /opt/conda/lib/python3.9/site-packages (from phik) (1.9.1)\n",
      "Requirement already satisfied: joblib>=0.14.1 in /opt/conda/lib/python3.9/site-packages (from phik) (1.1.0)\n",
      "Requirement already satisfied: python-dateutil>=2.1 in /opt/conda/lib/python3.9/site-packages (from matplotlib>=2.2.3->phik) (2.8.1)\n",
      "Requirement already satisfied: pyparsing!=2.0.4,!=2.1.2,!=2.1.6,>=2.0.3 in /opt/conda/lib/python3.9/site-packages (from matplotlib>=2.2.3->phik) (2.4.7)\n",
      "Requirement already satisfied: kiwisolver>=1.0.1 in /opt/conda/lib/python3.9/site-packages (from matplotlib>=2.2.3->phik) (1.4.4)\n",
      "Requirement already satisfied: cycler>=0.10 in /opt/conda/lib/python3.9/site-packages (from matplotlib>=2.2.3->phik) (0.11.0)\n",
      "Requirement already satisfied: pillow>=6.2.0 in /opt/conda/lib/python3.9/site-packages (from matplotlib>=2.2.3->phik) (8.4.0)\n",
      "Requirement already satisfied: pytz>=2017.3 in /opt/conda/lib/python3.9/site-packages (from pandas>=0.25.1->phik) (2021.1)\n",
      "Requirement already satisfied: six>=1.5 in /opt/conda/lib/python3.9/site-packages (from python-dateutil>=2.1->matplotlib>=2.2.3->phik) (1.16.0)\n",
      "Note: you may need to restart the kernel to use updated packages.\n"
     ]
    }
   ],
   "source": [
    "pip install phik"
   ]
  },
  {
   "cell_type": "code",
   "execution_count": 64,
   "id": "133b19ee",
   "metadata": {},
   "outputs": [],
   "source": [
    "import seaborn as sns\n",
    "import phik"
   ]
  },
  {
   "cell_type": "code",
   "execution_count": 65,
   "id": "d6aa8060",
   "metadata": {},
   "outputs": [
    {
     "data": {
      "text/plain": [
       "['Accent',\n",
       " 'Accent_r',\n",
       " 'Blues',\n",
       " 'Blues_r',\n",
       " 'BrBG',\n",
       " 'BrBG_r',\n",
       " 'BuGn',\n",
       " 'BuGn_r',\n",
       " 'BuPu',\n",
       " 'BuPu_r',\n",
       " 'CMRmap',\n",
       " 'CMRmap_r',\n",
       " 'Dark2',\n",
       " 'Dark2_r',\n",
       " 'GnBu',\n",
       " 'GnBu_r',\n",
       " 'Greens',\n",
       " 'Greens_r',\n",
       " 'Greys',\n",
       " 'Greys_r',\n",
       " 'OrRd',\n",
       " 'OrRd_r',\n",
       " 'Oranges',\n",
       " 'Oranges_r',\n",
       " 'PRGn',\n",
       " 'PRGn_r',\n",
       " 'Paired',\n",
       " 'Paired_r',\n",
       " 'Pastel1',\n",
       " 'Pastel1_r',\n",
       " 'Pastel2',\n",
       " 'Pastel2_r',\n",
       " 'PiYG',\n",
       " 'PiYG_r',\n",
       " 'PuBu',\n",
       " 'PuBuGn',\n",
       " 'PuBuGn_r',\n",
       " 'PuBu_r',\n",
       " 'PuOr',\n",
       " 'PuOr_r',\n",
       " 'PuRd',\n",
       " 'PuRd_r',\n",
       " 'Purples',\n",
       " 'Purples_r',\n",
       " 'RdBu',\n",
       " 'RdBu_r',\n",
       " 'RdGy',\n",
       " 'RdGy_r',\n",
       " 'RdPu',\n",
       " 'RdPu_r',\n",
       " 'RdYlBu',\n",
       " 'RdYlBu_r',\n",
       " 'RdYlGn',\n",
       " 'RdYlGn_r',\n",
       " 'Reds',\n",
       " 'Reds_r',\n",
       " 'Set1',\n",
       " 'Set1_r',\n",
       " 'Set2',\n",
       " 'Set2_r',\n",
       " 'Set3',\n",
       " 'Set3_r',\n",
       " 'Spectral',\n",
       " 'Spectral_r',\n",
       " 'Wistia',\n",
       " 'Wistia_r',\n",
       " 'YlGn',\n",
       " 'YlGnBu',\n",
       " 'YlGnBu_r',\n",
       " 'YlGn_r',\n",
       " 'YlOrBr',\n",
       " 'YlOrBr_r',\n",
       " 'YlOrRd',\n",
       " 'YlOrRd_r',\n",
       " 'afmhot',\n",
       " 'afmhot_r',\n",
       " 'autumn',\n",
       " 'autumn_r',\n",
       " 'binary',\n",
       " 'binary_r',\n",
       " 'bone',\n",
       " 'bone_r',\n",
       " 'brg',\n",
       " 'brg_r',\n",
       " 'bwr',\n",
       " 'bwr_r',\n",
       " 'cividis',\n",
       " 'cividis_r',\n",
       " 'cool',\n",
       " 'cool_r',\n",
       " 'coolwarm',\n",
       " 'coolwarm_r',\n",
       " 'copper',\n",
       " 'copper_r',\n",
       " 'crest',\n",
       " 'crest_r',\n",
       " 'cubehelix',\n",
       " 'cubehelix_r',\n",
       " 'flag',\n",
       " 'flag_r',\n",
       " 'flare',\n",
       " 'flare_r',\n",
       " 'gist_earth',\n",
       " 'gist_earth_r',\n",
       " 'gist_gray',\n",
       " 'gist_gray_r',\n",
       " 'gist_heat',\n",
       " 'gist_heat_r',\n",
       " 'gist_ncar',\n",
       " 'gist_ncar_r',\n",
       " 'gist_rainbow',\n",
       " 'gist_rainbow_r',\n",
       " 'gist_stern',\n",
       " 'gist_stern_r',\n",
       " 'gist_yarg',\n",
       " 'gist_yarg_r',\n",
       " 'gnuplot',\n",
       " 'gnuplot2',\n",
       " 'gnuplot2_r',\n",
       " 'gnuplot_r',\n",
       " 'gray',\n",
       " 'gray_r',\n",
       " 'hot',\n",
       " 'hot_r',\n",
       " 'hsv',\n",
       " 'hsv_r',\n",
       " 'icefire',\n",
       " 'icefire_r',\n",
       " 'inferno',\n",
       " 'inferno_r',\n",
       " 'jet',\n",
       " 'jet_r',\n",
       " 'magma',\n",
       " 'magma_r',\n",
       " 'mako',\n",
       " 'mako_r',\n",
       " 'nipy_spectral',\n",
       " 'nipy_spectral_r',\n",
       " 'ocean',\n",
       " 'ocean_r',\n",
       " 'pink',\n",
       " 'pink_r',\n",
       " 'plasma',\n",
       " 'plasma_r',\n",
       " 'prism',\n",
       " 'prism_r',\n",
       " 'rainbow',\n",
       " 'rainbow_r',\n",
       " 'rocket',\n",
       " 'rocket_r',\n",
       " 'seismic',\n",
       " 'seismic_r',\n",
       " 'spring',\n",
       " 'spring_r',\n",
       " 'summer',\n",
       " 'summer_r',\n",
       " 'tab10',\n",
       " 'tab10_r',\n",
       " 'tab20',\n",
       " 'tab20_r',\n",
       " 'tab20b',\n",
       " 'tab20b_r',\n",
       " 'tab20c',\n",
       " 'tab20c_r',\n",
       " 'terrain',\n",
       " 'terrain_r',\n",
       " 'turbo',\n",
       " 'turbo_r',\n",
       " 'twilight',\n",
       " 'twilight_r',\n",
       " 'twilight_shifted',\n",
       " 'twilight_shifted_r',\n",
       " 'viridis',\n",
       " 'viridis_r',\n",
       " 'vlag',\n",
       " 'vlag_r',\n",
       " 'winter',\n",
       " 'winter_r']"
      ]
     },
     "execution_count": 65,
     "metadata": {},
     "output_type": "execute_result"
    }
   ],
   "source": [
    "from matplotlib.pyplot import colormaps\n",
    "colormaps()"
   ]
  },
  {
   "cell_type": "code",
   "execution_count": 66,
   "id": "81f13207",
   "metadata": {},
   "outputs": [
    {
     "data": {
      "image/png": "[encoded data removed]",
      "text/plain": [
       "<Figure size 1080x72 with 2 Axes>"
      ]
     },
     "metadata": {
      "needs_background": "light"
     },
     "output_type": "display_data"
    }
   ],
   "source": [
    "num=data_final.select_dtypes(exclude='object')\n",
    "num_corr=num.corr()\n",
    "f,ax=plt.subplots(figsize=(15,1))\n",
    "sns.heatmap(num_corr.sort_values(by=['последняя температура (целевая)'], ascending=False).head(1), cmap='coolwarm')\n",
    "plt.show()"
   ]
  },
  {
   "cell_type": "markdown",
   "id": "b85f007a",
   "metadata": {},
   "source": [
    "Имеет сильную корреляцию только с первой температурой"
   ]
  },
  {
   "cell_type": "code",
   "execution_count": 67,
   "id": "eba08466",
   "metadata": {},
   "outputs": [
    {
     "name": "stdout",
     "output_type": "stream",
     "text": [
      "interval columns not set, guessing: ['key', 'первая температура', 'последняя температура (целевая)', 'средний градиент температуры', 'полная мощность', 'время нагрева', 'time_active_power', 'Bulk 14', 'Bulk 12', 'Bulk 15', 'Bulk 3', 'Bulk 4', 'Bulk 6', 'Wire 1', 'Wire 2', 'Газ 1']\n"
     ]
    },
    {
     "data": {
      "image/png": "[encoded data removed]",
      "text/plain": [
       "<Figure size 720x576 with 2 Axes>"
      ]
     },
     "metadata": {
      "needs_background": "light"
     },
     "output_type": "display_data"
    }
   ],
   "source": [
    "phik_corr = data_final.phik_matrix()\n",
    "\n",
    "# Строим тепловую карту\n",
    "plt.figure(figsize=(10, 8))\n",
    "sns.heatmap(phik_corr, annot=True, cmap='coolwarm', fmt='.2f', linewidths=0.5)\n",
    "plt.title('Корреляция Phi-K между категориальными признаками')\n",
    "plt.show()"
   ]
  },
  {
   "cell_type": "markdown",
   "id": "70451faa",
   "metadata": {},
   "source": [
    "В любом случае, только wire_1 показывает среднюю корреляцию с целевой"
   ]
  },
  {
   "cell_type": "markdown",
   "id": "f15dd6f9",
   "metadata": {},
   "source": [
    "## Разделение на выборки"
   ]
  },
  {
   "cell_type": "code",
   "execution_count": 68,
   "id": "6661cd85",
   "metadata": {},
   "outputs": [
    {
     "data": {
      "text/html": [
       "<div>\n",
       "<style scoped>\n",
       "    .dataframe tbody tr th:only-of-type {\n",
       "        vertical-align: middle;\n",
       "    }\n",
       "\n",
       "    .dataframe tbody tr th {\n",
       "        vertical-align: top;\n",
       "    }\n",
       "\n",
       "    .dataframe thead th {\n",
       "        text-align: right;\n",
       "    }\n",
       "</style>\n",
       "<table border=\"1\" class=\"dataframe\">\n",
       "  <thead>\n",
       "    <tr style=\"text-align: right;\">\n",
       "      <th></th>\n",
       "      <th>key</th>\n",
       "      <th>первая температура</th>\n",
       "      <th>последняя температура (целевая)</th>\n",
       "      <th>средний градиент температуры</th>\n",
       "      <th>полная мощность</th>\n",
       "      <th>время нагрева</th>\n",
       "      <th>time_active_power</th>\n",
       "      <th>Bulk 14</th>\n",
       "      <th>Bulk 12</th>\n",
       "      <th>Bulk 15</th>\n",
       "      <th>Bulk 3</th>\n",
       "      <th>Bulk 4</th>\n",
       "      <th>Bulk 6</th>\n",
       "      <th>Wire 1</th>\n",
       "      <th>Wire 2</th>\n",
       "      <th>Газ 1</th>\n",
       "    </tr>\n",
       "  </thead>\n",
       "  <tbody>\n",
       "    <tr>\n",
       "      <th>0</th>\n",
       "      <td>1</td>\n",
       "      <td>1571.0</td>\n",
       "      <td>1613.0</td>\n",
       "      <td>8.40</td>\n",
       "      <td>3.716640</td>\n",
       "      <td>1583.0</td>\n",
       "      <td>483.020790</td>\n",
       "      <td>150.0</td>\n",
       "      <td>206.0</td>\n",
       "      <td>154.0</td>\n",
       "      <td>0.0</td>\n",
       "      <td>43.0</td>\n",
       "      <td>0.0</td>\n",
       "      <td>60.059998</td>\n",
       "      <td>0.00000</td>\n",
       "      <td>29.749986</td>\n",
       "    </tr>\n",
       "    <tr>\n",
       "      <th>1</th>\n",
       "      <td>2</td>\n",
       "      <td>1581.0</td>\n",
       "      <td>1602.0</td>\n",
       "      <td>5.25</td>\n",
       "      <td>2.586371</td>\n",
       "      <td>1144.0</td>\n",
       "      <td>875.912752</td>\n",
       "      <td>149.0</td>\n",
       "      <td>206.0</td>\n",
       "      <td>154.0</td>\n",
       "      <td>0.0</td>\n",
       "      <td>73.0</td>\n",
       "      <td>0.0</td>\n",
       "      <td>96.052315</td>\n",
       "      <td>0.00000</td>\n",
       "      <td>12.555561</td>\n",
       "    </tr>\n",
       "    <tr>\n",
       "      <th>2</th>\n",
       "      <td>3</td>\n",
       "      <td>1596.0</td>\n",
       "      <td>1599.0</td>\n",
       "      <td>0.60</td>\n",
       "      <td>5.014163</td>\n",
       "      <td>1525.0</td>\n",
       "      <td>884.977325</td>\n",
       "      <td>152.0</td>\n",
       "      <td>205.0</td>\n",
       "      <td>153.0</td>\n",
       "      <td>0.0</td>\n",
       "      <td>34.0</td>\n",
       "      <td>0.0</td>\n",
       "      <td>91.160157</td>\n",
       "      <td>0.00000</td>\n",
       "      <td>28.554793</td>\n",
       "    </tr>\n",
       "    <tr>\n",
       "      <th>3</th>\n",
       "      <td>4</td>\n",
       "      <td>1601.0</td>\n",
       "      <td>1625.0</td>\n",
       "      <td>6.00</td>\n",
       "      <td>3.399456</td>\n",
       "      <td>1093.0</td>\n",
       "      <td>566.716128</td>\n",
       "      <td>153.0</td>\n",
       "      <td>207.0</td>\n",
       "      <td>154.0</td>\n",
       "      <td>0.0</td>\n",
       "      <td>81.0</td>\n",
       "      <td>0.0</td>\n",
       "      <td>89.063515</td>\n",
       "      <td>0.00000</td>\n",
       "      <td>18.841219</td>\n",
       "    </tr>\n",
       "    <tr>\n",
       "      <th>4</th>\n",
       "      <td>5</td>\n",
       "      <td>1576.0</td>\n",
       "      <td>1602.0</td>\n",
       "      <td>6.50</td>\n",
       "      <td>2.815155</td>\n",
       "      <td>1362.0</td>\n",
       "      <td>1181.035146</td>\n",
       "      <td>151.0</td>\n",
       "      <td>203.0</td>\n",
       "      <td>152.0</td>\n",
       "      <td>0.0</td>\n",
       "      <td>78.0</td>\n",
       "      <td>0.0</td>\n",
       "      <td>89.238236</td>\n",
       "      <td>9.11456</td>\n",
       "      <td>5.413692</td>\n",
       "    </tr>\n",
       "  </tbody>\n",
       "</table>\n",
       "</div>"
      ],
      "text/plain": [
       "   key  первая температура  последняя температура (целевая)  \\\n",
       "0    1              1571.0                           1613.0   \n",
       "1    2              1581.0                           1602.0   \n",
       "2    3              1596.0                           1599.0   \n",
       "3    4              1601.0                           1625.0   \n",
       "4    5              1576.0                           1602.0   \n",
       "\n",
       "   средний градиент температуры  полная мощность  время нагрева  \\\n",
       "0                          8.40         3.716640         1583.0   \n",
       "1                          5.25         2.586371         1144.0   \n",
       "2                          0.60         5.014163         1525.0   \n",
       "3                          6.00         3.399456         1093.0   \n",
       "4                          6.50         2.815155         1362.0   \n",
       "\n",
       "   time_active_power  Bulk 14  Bulk 12  Bulk 15  Bulk 3  Bulk 4  Bulk 6  \\\n",
       "0         483.020790    150.0    206.0    154.0     0.0    43.0     0.0   \n",
       "1         875.912752    149.0    206.0    154.0     0.0    73.0     0.0   \n",
       "2         884.977325    152.0    205.0    153.0     0.0    34.0     0.0   \n",
       "3         566.716128    153.0    207.0    154.0     0.0    81.0     0.0   \n",
       "4        1181.035146    151.0    203.0    152.0     0.0    78.0     0.0   \n",
       "\n",
       "      Wire 1   Wire 2      Газ 1  \n",
       "0  60.059998  0.00000  29.749986  \n",
       "1  96.052315  0.00000  12.555561  \n",
       "2  91.160157  0.00000  28.554793  \n",
       "3  89.063515  0.00000  18.841219  \n",
       "4  89.238236  9.11456   5.413692  "
      ]
     },
     "execution_count": 68,
     "metadata": {},
     "output_type": "execute_result"
    }
   ],
   "source": [
    "data_final.head()"
   ]
  },
  {
   "cell_type": "code",
   "execution_count": 69,
   "id": "5f2c188b",
   "metadata": {},
   "outputs": [
    {
     "name": "stdout",
     "output_type": "stream",
     "text": [
      "(1746, 14) (583, 14) (1746,) (583,)\n"
     ]
    }
   ],
   "source": [
    "from sklearn.model_selection import train_test_split\n",
    "\n",
    "X = data_final.drop(['последняя температура (целевая)',\"key\"], axis=1)  \n",
    "y = data_final['последняя температура (целевая)']  \n",
    "\n",
    "X_train, X_test, y_train, y_test = train_test_split(X, y, test_size=0.25, random_state=291024)\n",
    "\n",
    "print(X_train.shape, X_test.shape, y_train.shape, y_test.shape)\n"
   ]
  },
  {
   "cell_type": "code",
   "execution_count": 70,
   "id": "38dd8637",
   "metadata": {},
   "outputs": [
    {
     "data": {
      "text/plain": [
       "1636    1594.0\n",
       "56      1606.0\n",
       "1107    1595.0\n",
       "0       1613.0\n",
       "1240    1599.0\n",
       "Name: последняя температура (целевая), dtype: float64"
      ]
     },
     "execution_count": 70,
     "metadata": {},
     "output_type": "execute_result"
    }
   ],
   "source": [
    "y_test.head()"
   ]
  },
  {
   "cell_type": "markdown",
   "id": "8a203b26",
   "metadata": {},
   "source": [
    "## Машинное обучение"
   ]
  },
  {
   "cell_type": "markdown",
   "id": "1895a25a",
   "metadata": {},
   "source": [
    "### Модель случайного леса"
   ]
  },
  {
   "cell_type": "code",
   "execution_count": 71,
   "id": "41a5ad15",
   "metadata": {},
   "outputs": [],
   "source": [
    "from sklearn.ensemble import RandomForestRegressor\n",
    "from sklearn.ensemble import GradientBoostingRegressor\n",
    "from sklearn.model_selection import RandomizedSearchCV\n",
    "from sklearn.metrics import mean_absolute_error\n",
    "from catboost import CatBoostRegressor\n",
    "from sklearn.model_selection import GridSearchCV\n",
    "from sklearn.model_selection import cross_val_score\n",
    "from sklearn.metrics import make_scorer, mean_absolute_error"
   ]
  },
  {
   "cell_type": "code",
   "execution_count": 72,
   "id": "26eba8e3",
   "metadata": {},
   "outputs": [],
   "source": [
    "rf = RandomForestRegressor(n_estimators = 601,max_depth = 6, min_samples_split = 5, min_samples_leaf = 3, random_state=291024)\n",
    "mae_scorer = make_scorer(mean_absolute_error, greater_is_better=False)\n",
    "# Задаем диапазоны для параметров\n",
    "#param_dist = {\n",
    "#    'n_estimators': np.arange(600, 700), \n",
    "#    'max_depth': np.arange(10, 20),  # Максимальная глубина дерева\n",
    "#    'min_samples_split': np.arange(2, 5),  # Минимальное количество образцов для разбиения узла\n",
    "#    'min_samples_leaf': np.arange(1, 5),  # Минимальное количество образцов для листа\n",
    "#}\n",
    "\n",
    "# Настроим RandomizedSearchCV для подбора параметров\n",
    "#random_search_rf = RandomizedSearchCV(estimator=rf, param_distributions=param_dist, n_iter=10, cv=5, \n",
    "#                                   random_state=291024, n_jobs=-1, scoring='neg_mean_absolute_error')\n",
    "\n",
    "rf.fit(X_train, y_train)\n",
    "cv_scores = cross_val_score(rf, X_train, y_train, cv=5, scoring=mae_scorer, n_jobs=-1)\n",
    "best_rf_model = rf\n",
    "mae_rf = -cv_scores.mean()"
   ]
  },
  {
   "cell_type": "code",
   "execution_count": 73,
   "id": "258c9a54",
   "metadata": {
    "scrolled": true
   },
   "outputs": [
    {
     "name": "stdout",
     "output_type": "stream",
     "text": [
      "0:\tlearn: 10.7902057\ttotal: 50.8ms\tremaining: 50.8s\n",
      "100:\tlearn: 3.0477051\ttotal: 332ms\tremaining: 2.96s\n",
      "200:\tlearn: 1.9414487\ttotal: 614ms\tremaining: 2.44s\n",
      "300:\tlearn: 1.5084156\ttotal: 895ms\tremaining: 2.08s\n",
      "400:\tlearn: 1.2199646\ttotal: 1.18s\tremaining: 1.76s\n",
      "500:\tlearn: 1.0204294\ttotal: 1.46s\tremaining: 1.45s\n",
      "600:\tlearn: 0.8590675\ttotal: 1.75s\tremaining: 1.17s\n",
      "700:\tlearn: 0.7229679\ttotal: 2.04s\tremaining: 871ms\n",
      "800:\tlearn: 0.6168049\ttotal: 2.32s\tremaining: 576ms\n",
      "900:\tlearn: 0.5345777\ttotal: 2.6s\tremaining: 286ms\n",
      "999:\tlearn: 0.4613757\ttotal: 2.87s\tremaining: 0us\n",
      "0:\tlearn: 10.7452213\ttotal: 3.45ms\tremaining: 3.45s\n",
      "100:\tlearn: 3.0543863\ttotal: 266ms\tremaining: 2.37s\n",
      "200:\tlearn: 1.8411705\ttotal: 556ms\tremaining: 2.21s\n",
      "300:\tlearn: 1.3930126\ttotal: 825ms\tremaining: 1.92s\n",
      "400:\tlearn: 1.1013418\ttotal: 1.09s\tremaining: 1.63s\n",
      "500:\tlearn: 0.8878275\ttotal: 1.36s\tremaining: 1.35s\n",
      "600:\tlearn: 0.7392589\ttotal: 1.62s\tremaining: 1.07s\n",
      "700:\tlearn: 0.6097299\ttotal: 1.89s\tremaining: 807ms\n",
      "800:\tlearn: 0.5068096\ttotal: 2.16s\tremaining: 536ms\n",
      "900:\tlearn: 0.4280802\ttotal: 2.44s\tremaining: 269ms\n",
      "999:\tlearn: 0.3678548\ttotal: 2.72s\tremaining: 0us\n",
      "0:\tlearn: 10.7651731\ttotal: 3.02ms\tremaining: 3.02s\n",
      "100:\tlearn: 3.0390856\ttotal: 276ms\tremaining: 2.46s\n",
      "200:\tlearn: 1.8364080\ttotal: 561ms\tremaining: 2.23s\n",
      "300:\tlearn: 1.3638565\ttotal: 840ms\tremaining: 1.95s\n",
      "400:\tlearn: 1.0746561\ttotal: 1.12s\tremaining: 1.67s\n",
      "500:\tlearn: 0.8513566\ttotal: 1.4s\tremaining: 1.4s\n",
      "600:\tlearn: 0.6940799\ttotal: 1.68s\tremaining: 1.12s\n",
      "700:\tlearn: 0.5611113\ttotal: 1.96s\tremaining: 838ms\n",
      "800:\tlearn: 0.4786069\ttotal: 2.25s\tremaining: 559ms\n",
      "900:\tlearn: 0.4049003\ttotal: 2.53s\tremaining: 278ms\n",
      "999:\tlearn: 0.3440628\ttotal: 2.79s\tremaining: 0us\n",
      "0:\tlearn: 10.6855350\ttotal: 3.23ms\tremaining: 3.22s\n",
      "100:\tlearn: 3.0473232\ttotal: 281ms\tremaining: 2.5s\n",
      "200:\tlearn: 1.8311248\ttotal: 554ms\tremaining: 2.2s\n",
      "300:\tlearn: 1.3593156\ttotal: 825ms\tremaining: 1.92s\n",
      "400:\tlearn: 1.0703049\ttotal: 1.1s\tremaining: 1.65s\n",
      "500:\tlearn: 0.8725722\ttotal: 1.39s\tremaining: 1.38s\n",
      "600:\tlearn: 0.7176727\ttotal: 1.67s\tremaining: 1.11s\n",
      "700:\tlearn: 0.5970867\ttotal: 1.93s\tremaining: 825ms\n",
      "800:\tlearn: 0.5006505\ttotal: 2.2s\tremaining: 547ms\n",
      "900:\tlearn: 0.4229538\ttotal: 2.48s\tremaining: 272ms\n",
      "999:\tlearn: 0.3556908\ttotal: 2.75s\tremaining: 0us\n",
      "0:\tlearn: 10.8967572\ttotal: 3.04ms\tremaining: 3.04s\n",
      "100:\tlearn: 3.0894832\ttotal: 289ms\tremaining: 2.58s\n",
      "200:\tlearn: 1.8184637\ttotal: 564ms\tremaining: 2.24s\n",
      "300:\tlearn: 1.3294622\ttotal: 833ms\tremaining: 1.93s\n",
      "400:\tlearn: 1.0328363\ttotal: 1.1s\tremaining: 1.65s\n",
      "500:\tlearn: 0.8274298\ttotal: 1.37s\tremaining: 1.36s\n",
      "600:\tlearn: 0.6752825\ttotal: 1.65s\tremaining: 1.09s\n",
      "700:\tlearn: 0.5581146\ttotal: 1.94s\tremaining: 829ms\n",
      "800:\tlearn: 0.4642001\ttotal: 2.21s\tremaining: 550ms\n",
      "900:\tlearn: 0.3934042\ttotal: 2.49s\tremaining: 274ms\n",
      "999:\tlearn: 0.3362875\ttotal: 2.77s\tremaining: 0us\n",
      "0:\tlearn: 10.9213853\ttotal: 3.24ms\tremaining: 3.24s\n",
      "100:\tlearn: 3.0524250\ttotal: 289ms\tremaining: 2.57s\n",
      "200:\tlearn: 1.8661210\ttotal: 569ms\tremaining: 2.26s\n",
      "300:\tlearn: 1.3944911\ttotal: 847ms\tremaining: 1.97s\n",
      "400:\tlearn: 1.0943043\ttotal: 1.13s\tremaining: 1.7s\n",
      "500:\tlearn: 0.8867096\ttotal: 1.43s\tremaining: 1.42s\n",
      "600:\tlearn: 0.7300731\ttotal: 1.71s\tremaining: 1.14s\n",
      "700:\tlearn: 0.6082730\ttotal: 2s\tremaining: 855ms\n",
      "800:\tlearn: 0.5107909\ttotal: 2.29s\tremaining: 569ms\n",
      "900:\tlearn: 0.4236449\ttotal: 2.57s\tremaining: 283ms\n",
      "999:\tlearn: 0.3528173\ttotal: 2.84s\tremaining: 0us\n"
     ]
    }
   ],
   "source": [
    "# Инициализация модели CatBoost\n",
    "catboost_model = CatBoostRegressor(iterations=1000, learning_rate=0.1, depth=6, random_state=42, verbose=100)\n",
    "\n",
    "# Обучение модели\n",
    "catboost_model.fit(X_train, y_train)\n",
    "cv_scores = cross_val_score(catboost_model, X_train, y_train, cv=5, scoring=mae_scorer, n_jobs=-1)\n",
    "# Предсказания на тестовой выборке\n",
    "mae_catboost = -cv_scores.mean()"
   ]
  },
  {
   "cell_type": "code",
   "execution_count": 74,
   "id": "83cd5a05",
   "metadata": {},
   "outputs": [
    {
     "name": "stdout",
     "output_type": "stream",
     "text": [
      "Лучшие параметры: {'n_estimators': 500, 'min_samples_split': 10, 'min_samples_leaf': 3, 'max_depth': 5, 'learning_rate': 0.1}\n"
     ]
    }
   ],
   "source": [
    "gb_model = GradientBoostingRegressor(random_state=291024)\n",
    "param_dist = {\n",
    "    'n_estimators': [100, 200, 500],\n",
    "    'learning_rate': [0.01, 0.05, 0.1],\n",
    "    'max_depth': [3, 5, 7],\n",
    "    'min_samples_split': [2, 5, 10],\n",
    "    'min_samples_leaf': [1, 3, 5]\n",
    "}\n",
    "\n",
    "# Настройка RandomizedSearchCV для подбора гиперпараметров\n",
    "random_search = RandomizedSearchCV(\n",
    "    estimator=gb_model,\n",
    "    param_distributions=param_dist,\n",
    "    n_iter=10,  # Число случайных комбинаций\n",
    "    cv=5,  # Количество фолдов для кросс-валидации\n",
    "    scoring='neg_mean_absolute_error',\n",
    "    random_state=291024,\n",
    "    n_jobs=-1  # Использование всех процессоров\n",
    ")\n",
    "\n",
    "# Запуск поиска и обучение\n",
    "random_search.fit(X_train, y_train)\n",
    "\n",
    "best_gb_model = random_search.best_estimator_\n",
    "cv_scores = cross_val_score(best_gb_model, X_train, y_train, cv=5, scoring=mae_scorer, n_jobs=-1)\n",
    "mae_gb = -cv_scores.mean()\n",
    "best_gb_model.fit(X_train, y_train)\n",
    "# Вывод лучших параметров\n",
    "print(\"Лучшие параметры:\", random_search.best_params_)"
   ]
  },
  {
   "cell_type": "code",
   "execution_count": 75,
   "id": "d89f68c6",
   "metadata": {},
   "outputs": [
    {
     "name": "stdout",
     "output_type": "stream",
     "text": [
      "Наилучшая модель на обучающей выборке: <catboost.core.CatBoostRegressor object at 0x7ff0e4cd6700> с метрикой MAE: 2.50397601427465\n"
     ]
    }
   ],
   "source": [
    "best_model = min(\n",
    "    [(best_rf_model, mae_rf), (catboost_model, mae_catboost), (best_gb_model, mae_gb)],\n",
    "    key=lambda x: x[1]\n",
    ")\n",
    "print(f\"Наилучшая модель на обучающей выборке: {best_model[0]} с метрикой MAE: {best_model[1]}\")"
   ]
  },
  {
   "cell_type": "markdown",
   "id": "7ae5e638",
   "metadata": {},
   "source": [
    "### Тестирование лучшей модели"
   ]
  },
  {
   "cell_type": "code",
   "execution_count": 76,
   "id": "a111aff9",
   "metadata": {},
   "outputs": [
    {
     "name": "stdout",
     "output_type": "stream",
     "text": [
      "Метрика MAE на тестовой выборке для лучшей модели: 2.5737854990293165\n"
     ]
    }
   ],
   "source": [
    "# Предсказания и оценка на тестовой выборке\n",
    "y_pred_best = best_model[0].predict(X_test)\n",
    "mae_test = mean_absolute_error(y_test, y_pred_best)\n",
    "print(f\"Метрика MAE на тестовой выборке для лучшей модели: {mae_test}\")"
   ]
  },
  {
   "cell_type": "code",
   "execution_count": 77,
   "id": "fed139ee",
   "metadata": {},
   "outputs": [
    {
     "data": {
      "text/html": [
       "<div>\n",
       "<style scoped>\n",
       "    .dataframe tbody tr th:only-of-type {\n",
       "        vertical-align: middle;\n",
       "    }\n",
       "\n",
       "    .dataframe tbody tr th {\n",
       "        vertical-align: top;\n",
       "    }\n",
       "\n",
       "    .dataframe thead th {\n",
       "        text-align: right;\n",
       "    }\n",
       "</style>\n",
       "<table border=\"1\" class=\"dataframe\">\n",
       "  <thead>\n",
       "    <tr style=\"text-align: right;\">\n",
       "      <th></th>\n",
       "      <th>Feature</th>\n",
       "      <th>Importance</th>\n",
       "    </tr>\n",
       "  </thead>\n",
       "  <tbody>\n",
       "    <tr>\n",
       "      <th>0</th>\n",
       "      <td>первая температура</td>\n",
       "      <td>38.524842</td>\n",
       "    </tr>\n",
       "    <tr>\n",
       "      <th>1</th>\n",
       "      <td>средний градиент температуры</td>\n",
       "      <td>35.872605</td>\n",
       "    </tr>\n",
       "    <tr>\n",
       "      <th>3</th>\n",
       "      <td>время нагрева</td>\n",
       "      <td>4.785895</td>\n",
       "    </tr>\n",
       "    <tr>\n",
       "      <th>2</th>\n",
       "      <td>полная мощность</td>\n",
       "      <td>4.448327</td>\n",
       "    </tr>\n",
       "    <tr>\n",
       "      <th>11</th>\n",
       "      <td>Wire 1</td>\n",
       "      <td>3.710013</td>\n",
       "    </tr>\n",
       "    <tr>\n",
       "      <th>7</th>\n",
       "      <td>Bulk 15</td>\n",
       "      <td>2.793779</td>\n",
       "    </tr>\n",
       "    <tr>\n",
       "      <th>10</th>\n",
       "      <td>Bulk 6</td>\n",
       "      <td>2.221574</td>\n",
       "    </tr>\n",
       "    <tr>\n",
       "      <th>6</th>\n",
       "      <td>Bulk 12</td>\n",
       "      <td>1.988609</td>\n",
       "    </tr>\n",
       "    <tr>\n",
       "      <th>4</th>\n",
       "      <td>time_active_power</td>\n",
       "      <td>1.509454</td>\n",
       "    </tr>\n",
       "    <tr>\n",
       "      <th>13</th>\n",
       "      <td>Газ 1</td>\n",
       "      <td>1.307474</td>\n",
       "    </tr>\n",
       "    <tr>\n",
       "      <th>12</th>\n",
       "      <td>Wire 2</td>\n",
       "      <td>0.890547</td>\n",
       "    </tr>\n",
       "    <tr>\n",
       "      <th>5</th>\n",
       "      <td>Bulk 14</td>\n",
       "      <td>0.838217</td>\n",
       "    </tr>\n",
       "    <tr>\n",
       "      <th>9</th>\n",
       "      <td>Bulk 4</td>\n",
       "      <td>0.576676</td>\n",
       "    </tr>\n",
       "    <tr>\n",
       "      <th>8</th>\n",
       "      <td>Bulk 3</td>\n",
       "      <td>0.531987</td>\n",
       "    </tr>\n",
       "  </tbody>\n",
       "</table>\n",
       "</div>"
      ],
      "text/plain": [
       "                         Feature  Importance\n",
       "0             первая температура   38.524842\n",
       "1   средний градиент температуры   35.872605\n",
       "3                  время нагрева    4.785895\n",
       "2                полная мощность    4.448327\n",
       "11                        Wire 1    3.710013\n",
       "7                        Bulk 15    2.793779\n",
       "10                        Bulk 6    2.221574\n",
       "6                        Bulk 12    1.988609\n",
       "4              time_active_power    1.509454\n",
       "13                         Газ 1    1.307474\n",
       "12                        Wire 2    0.890547\n",
       "5                        Bulk 14    0.838217\n",
       "9                         Bulk 4    0.576676\n",
       "8                         Bulk 3    0.531987"
      ]
     },
     "metadata": {},
     "output_type": "display_data"
    },
    {
     "data": {
      "image/png": "[encoded data removed]",
      "text/plain": [
       "<Figure size 720x432 with 1 Axes>"
      ]
     },
     "metadata": {
      "needs_background": "light"
     },
     "output_type": "display_data"
    }
   ],
   "source": [
    "import matplotlib.pyplot as plt\n",
    "import pandas as pd\n",
    "\n",
    "# Визуализация важности факторов для модели-победителя\n",
    "if hasattr(best_model[0], 'feature_importances_'):\n",
    "    feature_importances = best_model[0].feature_importances_\n",
    "    feature_names = X_train.columns\n",
    "    importance_df = pd.DataFrame({'Feature': feature_names, 'Importance': feature_importances})\n",
    "    importance_df = importance_df.sort_values(by='Importance', ascending=False)\n",
    "    display(importance_df)\n",
    "\n",
    "    plt.figure(figsize=(10, 6))\n",
    "    plt.barh(importance_df['Feature'], importance_df['Importance'], color='skyblue')\n",
    "    plt.gca().invert_yaxis()\n",
    "    plt.xlabel('Importance')\n",
    "    plt.title('Feature Importance')\n",
    "    plt.show()\n"
   ]
  },
  {
   "cell_type": "markdown",
   "id": "fa808d79",
   "metadata": {},
   "source": [
    "Наилучшая модель: По результатам на обучающей выборке лучшую метрику MAE показала модель CatBoostRegressor с MAE = 1.61. Эта модель также показала наилучший результат на тестовой выборке, где значение MAE составило 5.88. Хотя это значение на тесте выше, чем на обучении, модель демонстрирует устойчивое качество, что делает её подходящей для данной задачи."
   ]
  },
  {
   "cell_type": "markdown",
   "id": "93385d2b",
   "metadata": {},
   "source": [
    "Важность факторов: По результатам анализа важности признаков:\n",
    "\n",
    "Первая температура оказалась наиболее важным фактором, с важностью 35.95%. Это указывает на сильное влияние начальной температуры на предсказание целевой переменной (финальной температуры).\n",
    "\n",
    "Ключ идентификатора партии (key) также является важным признаком с весом 28.97%, что может свидетельствовать о корреляции некоторых данных, привязанных к уникальным партиям, с целевой переменной."
   ]
  },
  {
   "cell_type": "markdown",
   "id": "24e3a14b",
   "metadata": {},
   "source": [
    "Рекоммендации бизнесу:"
   ]
  },
  {
   "cell_type": "markdown",
   "id": "afd8b6f0",
   "metadata": {},
   "source": [
    "Контроль начальной температуры: Так как начальная температура имеет наибольшее влияние на финальную температуру, стоит уделить особое внимание её измерению и стабилизации. Это может помочь снизить отклонения в производственном процессе. \n",
    "\n",
    "Анализ уникальных партий: Важность идентификатора партии (ключа key) как признака предполагает, что некоторые партии имеют уникальные особенности, которые влияют на конечный результат. Cтоит рассмотреть более детальный контроль за характеристиками и условиями производства каждой партии.\n",
    "\n",
    "Оптимизация использования присадок: Признаки, связанные с типами присадок (Bulk и Wire), оказывают влияние на финальную температуру, но их значимость относительно невелика. Это может указывать на возможность оптимизации. Рекомендуется пересмотреть состав и количество используемых присадок, ориентируясь на более значимые для предсказания качества материалы. "
   ]
  },
  {
   "cell_type": "markdown",
   "id": "43546385",
   "metadata": {},
   "source": [
    "Внедрение системы предиктивного анализа: Модель CatBoostRegressor показала хорошую точность предсказания, что говорит о целесообразности внедрения системы предиктивной аналитики. Эта система может в реальном времени прогнозировать конечную температуру продукта и подсказывать оператору, как нужно корректировать параметры для достижения нужного качества. Это поможет улучшить стабильность производства и сократить процент дефектной продукции."
   ]
  }
 ],
 "metadata": {
  "ExecuteTimeLog": [
   {
    "duration": 414,
    "start_time": "2024-11-03T08:35:57.337Z"
   },
   {
    "duration": 3,
    "start_time": "2024-11-03T08:35:57.753Z"
   },
   {
    "duration": 107,
    "start_time": "2024-11-03T08:37:24.676Z"
   },
   {
    "duration": 58,
    "start_time": "2024-11-03T08:37:29.221Z"
   },
   {
    "duration": 101,
    "start_time": "2024-11-03T08:37:32.306Z"
   },
   {
    "duration": 15,
    "start_time": "2024-11-03T08:37:37.888Z"
   },
   {
    "duration": 55,
    "start_time": "2024-11-03T08:41:11.672Z"
   },
   {
    "duration": 10,
    "start_time": "2024-11-03T08:41:11.785Z"
   },
   {
    "duration": 45,
    "start_time": "2024-11-03T08:41:32.244Z"
   },
   {
    "duration": 80,
    "start_time": "2024-11-03T08:41:39.726Z"
   },
   {
    "duration": 42,
    "start_time": "2024-11-03T08:41:55.071Z"
   },
   {
    "duration": 45,
    "start_time": "2024-11-03T08:42:02.674Z"
   },
   {
    "duration": 152,
    "start_time": "2024-11-03T08:42:15.026Z"
   },
   {
    "duration": 117,
    "start_time": "2024-11-03T08:42:32.439Z"
   },
   {
    "duration": 93,
    "start_time": "2024-11-03T08:42:54.613Z"
   },
   {
    "duration": 81,
    "start_time": "2024-11-03T08:43:14.483Z"
   },
   {
    "duration": 87,
    "start_time": "2024-11-03T08:43:33.802Z"
   },
   {
    "duration": 15,
    "start_time": "2024-11-03T08:44:07.201Z"
   },
   {
    "duration": 11,
    "start_time": "2024-11-03T08:44:18.215Z"
   },
   {
    "duration": 12,
    "start_time": "2024-11-03T08:44:27.220Z"
   },
   {
    "duration": 10,
    "start_time": "2024-11-03T08:44:36.460Z"
   },
   {
    "duration": 11,
    "start_time": "2024-11-03T08:44:44.654Z"
   },
   {
    "duration": 11,
    "start_time": "2024-11-03T08:44:52.938Z"
   },
   {
    "duration": 12,
    "start_time": "2024-11-03T08:44:59.190Z"
   },
   {
    "duration": 1013,
    "start_time": "2024-11-03T09:14:07.721Z"
   },
   {
    "duration": 23,
    "start_time": "2024-11-03T09:14:44.106Z"
   },
   {
    "duration": 29,
    "start_time": "2024-11-03T09:15:37.433Z"
   },
   {
    "duration": 29,
    "start_time": "2024-11-03T09:16:32.096Z"
   },
   {
    "duration": 30,
    "start_time": "2024-11-03T09:16:52.695Z"
   },
   {
    "duration": 50,
    "start_time": "2024-11-05T09:52:48.911Z"
   },
   {
    "duration": 1398,
    "start_time": "2024-11-05T09:53:09.055Z"
   },
   {
    "duration": 186,
    "start_time": "2024-11-05T09:53:10.455Z"
   },
   {
    "duration": 14,
    "start_time": "2024-11-05T09:53:10.642Z"
   },
   {
    "duration": 80,
    "start_time": "2024-11-05T09:53:10.657Z"
   },
   {
    "duration": 95,
    "start_time": "2024-11-05T09:53:10.739Z"
   },
   {
    "duration": 12,
    "start_time": "2024-11-05T09:53:10.835Z"
   },
   {
    "duration": 90,
    "start_time": "2024-11-05T09:53:10.848Z"
   },
   {
    "duration": 13,
    "start_time": "2024-11-05T09:53:10.940Z"
   },
   {
    "duration": 143,
    "start_time": "2024-11-05T09:53:10.955Z"
   },
   {
    "duration": 11,
    "start_time": "2024-11-05T09:53:11.100Z"
   },
   {
    "duration": 119,
    "start_time": "2024-11-05T09:53:11.114Z"
   },
   {
    "duration": 12,
    "start_time": "2024-11-05T09:53:11.234Z"
   },
   {
    "duration": 89,
    "start_time": "2024-11-05T09:53:11.247Z"
   },
   {
    "duration": 12,
    "start_time": "2024-11-05T09:53:11.338Z"
   },
   {
    "duration": 92,
    "start_time": "2024-11-05T09:53:11.351Z"
   },
   {
    "duration": 11,
    "start_time": "2024-11-05T09:53:11.445Z"
   },
   {
    "duration": 49,
    "start_time": "2024-11-05T09:53:11.458Z"
   },
   {
    "duration": 16,
    "start_time": "2024-11-05T09:53:11.508Z"
   },
   {
    "duration": 14,
    "start_time": "2024-11-05T09:59:44.202Z"
   },
   {
    "duration": 104,
    "start_time": "2024-11-05T10:00:19.698Z"
   },
   {
    "duration": 7,
    "start_time": "2024-11-05T10:00:25.600Z"
   },
   {
    "duration": 17,
    "start_time": "2024-11-05T10:00:38.734Z"
   },
   {
    "duration": 30,
    "start_time": "2024-11-05T10:00:46.375Z"
   },
   {
    "duration": 28,
    "start_time": "2024-11-05T10:00:53.099Z"
   },
   {
    "duration": 15,
    "start_time": "2024-11-05T10:05:35.612Z"
   },
   {
    "duration": 131710,
    "start_time": "2024-11-05T10:07:28.783Z"
   },
   {
    "duration": 3,
    "start_time": "2024-11-05T10:09:51.446Z"
   },
   {
    "duration": 11,
    "start_time": "2024-11-05T10:09:57.272Z"
   },
   {
    "duration": 8,
    "start_time": "2024-11-05T10:10:03.469Z"
   },
   {
    "duration": 8,
    "start_time": "2024-11-05T10:10:18.901Z"
   },
   {
    "duration": 134,
    "start_time": "2024-11-05T10:10:32.951Z"
   },
   {
    "duration": 189,
    "start_time": "2024-11-05T10:10:41.938Z"
   },
   {
    "duration": 173,
    "start_time": "2024-11-05T10:11:01.443Z"
   },
   {
    "duration": 190,
    "start_time": "2024-11-05T10:11:09.873Z"
   },
   {
    "duration": 185,
    "start_time": "2024-11-05T10:11:32.581Z"
   },
   {
    "duration": 20,
    "start_time": "2024-11-05T10:12:00.981Z"
   },
   {
    "duration": 19,
    "start_time": "2024-11-05T10:12:10.261Z"
   },
   {
    "duration": 21,
    "start_time": "2024-11-05T10:12:31.897Z"
   },
   {
    "duration": 19,
    "start_time": "2024-11-05T10:12:34.154Z"
   },
   {
    "duration": 174,
    "start_time": "2024-11-05T10:13:20.614Z"
   },
   {
    "duration": 27,
    "start_time": "2024-11-05T10:21:11.386Z"
   },
   {
    "duration": 297,
    "start_time": "2024-11-05T10:21:26.278Z"
   },
   {
    "duration": 12,
    "start_time": "2024-11-05T10:32:48.937Z"
   },
   {
    "duration": 376,
    "start_time": "2024-11-05T10:33:03.002Z"
   },
   {
    "duration": 374,
    "start_time": "2024-11-05T10:33:53.893Z"
   },
   {
    "duration": 423,
    "start_time": "2024-11-05T10:34:52.422Z"
   },
   {
    "duration": 386,
    "start_time": "2024-11-05T10:35:39.331Z"
   },
   {
    "duration": 11,
    "start_time": "2024-11-05T10:37:25.408Z"
   },
   {
    "duration": 303,
    "start_time": "2024-11-05T10:37:37.335Z"
   },
   {
    "duration": 310,
    "start_time": "2024-11-05T10:40:39.894Z"
   },
   {
    "duration": 301,
    "start_time": "2024-11-05T10:41:40.796Z"
   },
   {
    "duration": 176,
    "start_time": "2024-11-05T10:46:00.087Z"
   },
   {
    "duration": 3,
    "start_time": "2024-11-05T10:46:09.283Z"
   },
   {
    "duration": 180,
    "start_time": "2024-11-05T10:46:20.194Z"
   },
   {
    "duration": 5,
    "start_time": "2024-11-05T10:46:22.006Z"
   },
   {
    "duration": 173,
    "start_time": "2024-11-05T10:48:40.857Z"
   },
   {
    "duration": 295,
    "start_time": "2024-11-05T10:49:02.118Z"
   },
   {
    "duration": 10,
    "start_time": "2024-11-05T10:49:38.573Z"
   },
   {
    "duration": 4,
    "start_time": "2024-11-05T10:49:47.785Z"
   },
   {
    "duration": 5,
    "start_time": "2024-11-05T10:49:55.838Z"
   },
   {
    "duration": 5,
    "start_time": "2024-11-05T10:51:09.513Z"
   },
   {
    "duration": 5,
    "start_time": "2024-11-05T10:51:26.882Z"
   },
   {
    "duration": 3,
    "start_time": "2024-11-05T10:56:19.324Z"
   },
   {
    "duration": 18,
    "start_time": "2024-11-05T10:56:19.434Z"
   },
   {
    "duration": 4,
    "start_time": "2024-11-05T10:57:06.944Z"
   },
   {
    "duration": 17,
    "start_time": "2024-11-05T10:58:02.543Z"
   },
   {
    "duration": 4,
    "start_time": "2024-11-05T11:01:30.295Z"
   },
   {
    "duration": 16,
    "start_time": "2024-11-05T11:01:31.727Z"
   },
   {
    "duration": 5,
    "start_time": "2024-11-05T11:01:52.361Z"
   },
   {
    "duration": 4,
    "start_time": "2024-11-05T11:01:54.310Z"
   },
   {
    "duration": 15,
    "start_time": "2024-11-05T11:01:54.776Z"
   },
   {
    "duration": 6,
    "start_time": "2024-11-05T11:02:18.721Z"
   },
   {
    "duration": 5,
    "start_time": "2024-11-05T11:02:28.246Z"
   },
   {
    "duration": 5,
    "start_time": "2024-11-05T11:02:28.575Z"
   },
   {
    "duration": 16,
    "start_time": "2024-11-05T11:02:29.535Z"
   },
   {
    "duration": 4,
    "start_time": "2024-11-05T11:03:03.553Z"
   },
   {
    "duration": 15,
    "start_time": "2024-11-05T11:03:04.415Z"
   },
   {
    "duration": 4,
    "start_time": "2024-11-05T11:03:13.520Z"
   },
   {
    "duration": 17,
    "start_time": "2024-11-05T11:03:14.160Z"
   },
   {
    "duration": 4,
    "start_time": "2024-11-05T11:03:28.296Z"
   },
   {
    "duration": 16,
    "start_time": "2024-11-05T11:03:28.631Z"
   },
   {
    "duration": 9,
    "start_time": "2024-11-05T11:04:25.800Z"
   },
   {
    "duration": 11,
    "start_time": "2024-11-05T11:04:50.272Z"
   },
   {
    "duration": 46,
    "start_time": "2024-11-05T11:05:02.837Z"
   },
   {
    "duration": 199,
    "start_time": "2024-11-05T11:07:14.850Z"
   },
   {
    "duration": 5,
    "start_time": "2024-11-05T11:07:32.031Z"
   },
   {
    "duration": 5,
    "start_time": "2024-11-05T11:07:39.581Z"
   },
   {
    "duration": 5,
    "start_time": "2024-11-05T11:08:26.266Z"
   },
   {
    "duration": 5,
    "start_time": "2024-11-05T11:08:34.804Z"
   },
   {
    "duration": 34,
    "start_time": "2024-11-05T11:08:35.603Z"
   },
   {
    "duration": 27,
    "start_time": "2024-11-05T11:08:49.612Z"
   },
   {
    "duration": 4,
    "start_time": "2024-11-05T11:09:21.277Z"
   },
   {
    "duration": 13,
    "start_time": "2024-11-05T11:09:22.097Z"
   },
   {
    "duration": 71,
    "start_time": "2024-11-05T11:09:31.569Z"
   },
   {
    "duration": 20,
    "start_time": "2024-11-05T11:09:34.086Z"
   },
   {
    "duration": 50,
    "start_time": "2024-11-06T10:41:08.794Z"
   },
   {
    "duration": 1486,
    "start_time": "2024-11-06T10:41:13.263Z"
   },
   {
    "duration": 106,
    "start_time": "2024-11-06T10:41:14.751Z"
   },
   {
    "duration": 12,
    "start_time": "2024-11-06T10:41:14.859Z"
   },
   {
    "duration": 13,
    "start_time": "2024-11-06T10:41:14.873Z"
   },
   {
    "duration": 80,
    "start_time": "2024-11-06T10:41:14.888Z"
   },
   {
    "duration": 11,
    "start_time": "2024-11-06T10:41:14.969Z"
   },
   {
    "duration": 151,
    "start_time": "2024-11-06T10:41:14.982Z"
   },
   {
    "duration": 12,
    "start_time": "2024-11-06T10:41:15.134Z"
   },
   {
    "duration": 97,
    "start_time": "2024-11-06T10:41:15.148Z"
   },
   {
    "duration": 9,
    "start_time": "2024-11-06T10:41:15.247Z"
   },
   {
    "duration": 100,
    "start_time": "2024-11-06T10:41:15.258Z"
   },
   {
    "duration": 12,
    "start_time": "2024-11-06T10:41:15.360Z"
   },
   {
    "duration": 91,
    "start_time": "2024-11-06T10:41:15.374Z"
   },
   {
    "duration": 10,
    "start_time": "2024-11-06T10:41:15.468Z"
   },
   {
    "duration": 92,
    "start_time": "2024-11-06T10:41:15.480Z"
   },
   {
    "duration": 11,
    "start_time": "2024-11-06T10:41:15.573Z"
   },
   {
    "duration": 58,
    "start_time": "2024-11-06T10:41:15.585Z"
   },
   {
    "duration": 19,
    "start_time": "2024-11-06T10:41:15.644Z"
   },
   {
    "duration": 33,
    "start_time": "2024-11-06T10:41:15.664Z"
   },
   {
    "duration": 43,
    "start_time": "2024-11-06T10:41:15.698Z"
   },
   {
    "duration": 227,
    "start_time": "2024-11-06T10:41:15.743Z"
   },
   {
    "duration": 27,
    "start_time": "2024-11-06T10:41:15.972Z"
   },
   {
    "duration": 317,
    "start_time": "2024-11-06T10:41:16.001Z"
   },
   {
    "duration": 5,
    "start_time": "2024-11-06T10:41:16.320Z"
   },
   {
    "duration": 23,
    "start_time": "2024-11-06T10:41:16.327Z"
   },
   {
    "duration": 28,
    "start_time": "2024-11-06T10:41:16.352Z"
   },
   {
    "duration": 4,
    "start_time": "2024-11-06T10:41:16.382Z"
   },
   {
    "duration": 33,
    "start_time": "2024-11-06T10:41:16.388Z"
   },
   {
    "duration": 6,
    "start_time": "2024-11-06T10:41:16.424Z"
   },
   {
    "duration": 4,
    "start_time": "2024-11-06T10:42:06.327Z"
   },
   {
    "duration": 5,
    "start_time": "2024-11-06T10:43:10.113Z"
   },
   {
    "duration": 19,
    "start_time": "2024-11-06T10:43:10.242Z"
   },
   {
    "duration": 5,
    "start_time": "2024-11-06T10:43:11.348Z"
   },
   {
    "duration": 102,
    "start_time": "2024-11-06T10:46:21.075Z"
   },
   {
    "duration": 10,
    "start_time": "2024-11-06T10:46:45.172Z"
   },
   {
    "duration": 14,
    "start_time": "2024-11-06T10:47:23.719Z"
   },
   {
    "duration": 62,
    "start_time": "2024-11-06T10:47:49.984Z"
   },
   {
    "duration": 9,
    "start_time": "2024-11-06T10:47:55.340Z"
   },
   {
    "duration": 9,
    "start_time": "2024-11-06T10:48:03.435Z"
   },
   {
    "duration": 7,
    "start_time": "2024-11-06T10:48:16.405Z"
   },
   {
    "duration": 58,
    "start_time": "2024-11-06T10:56:42.744Z"
   },
   {
    "duration": 4,
    "start_time": "2024-11-06T10:56:43.413Z"
   },
   {
    "duration": 56,
    "start_time": "2024-11-06T10:59:41.125Z"
   },
   {
    "duration": 59,
    "start_time": "2024-11-06T10:59:54.027Z"
   },
   {
    "duration": 53,
    "start_time": "2024-11-06T11:00:09.063Z"
   },
   {
    "duration": 1297,
    "start_time": "2024-11-06T11:02:24.192Z"
   },
   {
    "duration": 50,
    "start_time": "2024-11-06T11:02:36.851Z"
   },
   {
    "duration": 11,
    "start_time": "2024-11-06T11:04:14.370Z"
   },
   {
    "duration": 23,
    "start_time": "2024-11-06T11:05:43.005Z"
   },
   {
    "duration": 12,
    "start_time": "2024-11-06T11:05:49.567Z"
   },
   {
    "duration": 11,
    "start_time": "2024-11-06T11:06:00.593Z"
   },
   {
    "duration": 24,
    "start_time": "2024-11-06T11:07:07.957Z"
   },
   {
    "duration": 17,
    "start_time": "2024-11-06T11:07:17.312Z"
   },
   {
    "duration": 219,
    "start_time": "2024-11-06T11:07:33.469Z"
   },
   {
    "duration": 6,
    "start_time": "2024-11-06T11:09:23.343Z"
   },
   {
    "duration": 5,
    "start_time": "2024-11-06T11:09:26.877Z"
   },
   {
    "duration": 5,
    "start_time": "2024-11-06T11:09:57.565Z"
   },
   {
    "duration": 1210,
    "start_time": "2024-11-06T11:11:59.476Z"
   },
   {
    "duration": 53,
    "start_time": "2024-11-06T11:12:09.385Z"
   },
   {
    "duration": 10,
    "start_time": "2024-11-06T11:12:10.326Z"
   },
   {
    "duration": 12,
    "start_time": "2024-11-06T11:12:10.769Z"
   },
   {
    "duration": 11,
    "start_time": "2024-11-06T11:12:10.902Z"
   },
   {
    "duration": 18,
    "start_time": "2024-11-06T11:12:11.173Z"
   },
   {
    "duration": 5,
    "start_time": "2024-11-06T11:12:11.328Z"
   },
   {
    "duration": 208,
    "start_time": "2024-11-06T11:12:11.484Z"
   },
   {
    "duration": 4,
    "start_time": "2024-11-06T11:12:11.774Z"
   },
   {
    "duration": 5,
    "start_time": "2024-11-06T11:12:11.911Z"
   },
   {
    "duration": 52,
    "start_time": "2024-11-06T11:12:12.019Z"
   },
   {
    "duration": 19,
    "start_time": "2024-11-06T11:31:29.500Z"
   },
   {
    "duration": 110,
    "start_time": "2024-11-06T11:31:47.393Z"
   },
   {
    "duration": 216,
    "start_time": "2024-11-06T11:31:50.044Z"
   },
   {
    "duration": 26,
    "start_time": "2024-11-06T11:32:05.737Z"
   },
   {
    "duration": 18,
    "start_time": "2024-11-06T11:32:26.362Z"
   },
   {
    "duration": 57,
    "start_time": "2024-11-06T11:32:51.613Z"
   },
   {
    "duration": 69,
    "start_time": "2024-11-06T11:33:06.756Z"
   },
   {
    "duration": 15,
    "start_time": "2024-11-06T11:33:26.043Z"
   },
   {
    "duration": 59,
    "start_time": "2024-11-06T11:34:10.911Z"
   },
   {
    "duration": 11,
    "start_time": "2024-11-06T11:34:11.598Z"
   },
   {
    "duration": 15,
    "start_time": "2024-11-06T11:34:12.022Z"
   },
   {
    "duration": 11,
    "start_time": "2024-11-06T11:34:12.154Z"
   },
   {
    "duration": 18,
    "start_time": "2024-11-06T11:34:12.399Z"
   },
   {
    "duration": 5,
    "start_time": "2024-11-06T11:34:12.532Z"
   },
   {
    "duration": 200,
    "start_time": "2024-11-06T11:34:12.645Z"
   },
   {
    "duration": 5,
    "start_time": "2024-11-06T11:34:13.178Z"
   },
   {
    "duration": 7,
    "start_time": "2024-11-06T11:34:13.213Z"
   },
   {
    "duration": 24,
    "start_time": "2024-11-06T11:34:13.244Z"
   },
   {
    "duration": 33,
    "start_time": "2024-11-06T11:34:30.973Z"
   },
   {
    "duration": 17,
    "start_time": "2024-11-06T11:36:50.007Z"
   },
   {
    "duration": 14,
    "start_time": "2024-11-06T11:37:03.083Z"
   },
   {
    "duration": 8,
    "start_time": "2024-11-06T11:37:11.747Z"
   },
   {
    "duration": 263,
    "start_time": "2024-11-06T11:37:33.811Z"
   },
   {
    "duration": 251,
    "start_time": "2024-11-06T11:37:46.305Z"
   },
   {
    "duration": 9,
    "start_time": "2024-11-06T11:37:58.950Z"
   },
   {
    "duration": 39,
    "start_time": "2024-11-06T11:39:29.727Z"
   },
   {
    "duration": 185,
    "start_time": "2024-11-06T11:40:10.856Z"
   },
   {
    "duration": 146,
    "start_time": "2024-11-06T11:40:35.768Z"
   },
   {
    "duration": 111,
    "start_time": "2024-11-06T11:40:42.175Z"
   },
   {
    "duration": 177,
    "start_time": "2024-11-06T11:40:50.696Z"
   },
   {
    "duration": 169,
    "start_time": "2024-11-06T11:41:20.238Z"
   },
   {
    "duration": 307,
    "start_time": "2024-11-06T11:41:29.236Z"
   },
   {
    "duration": 285,
    "start_time": "2024-11-06T11:44:30.592Z"
   },
   {
    "duration": 355,
    "start_time": "2024-11-06T11:44:46.847Z"
   },
   {
    "duration": 12,
    "start_time": "2024-11-06T11:53:37.544Z"
   },
   {
    "duration": 18,
    "start_time": "2024-11-06T11:53:43.050Z"
   },
   {
    "duration": 13,
    "start_time": "2024-11-06T11:55:17.602Z"
   },
   {
    "duration": 12,
    "start_time": "2024-11-06T12:00:43.203Z"
   },
   {
    "duration": 8,
    "start_time": "2024-11-06T12:03:55.935Z"
   },
   {
    "duration": 18,
    "start_time": "2024-11-06T12:04:03.309Z"
   },
   {
    "duration": 9,
    "start_time": "2024-11-06T12:04:31.059Z"
   },
   {
    "duration": 8,
    "start_time": "2024-11-06T12:04:46.241Z"
   },
   {
    "duration": 6,
    "start_time": "2024-11-06T12:06:46.274Z"
   },
   {
    "duration": 5,
    "start_time": "2024-11-06T12:06:57.741Z"
   },
   {
    "duration": 12,
    "start_time": "2024-11-06T12:09:22.400Z"
   },
   {
    "duration": 21,
    "start_time": "2024-11-06T12:10:14.525Z"
   },
   {
    "duration": 7,
    "start_time": "2024-11-06T12:10:29.636Z"
   },
   {
    "duration": 9,
    "start_time": "2024-11-06T12:10:35.732Z"
   },
   {
    "duration": 6,
    "start_time": "2024-11-06T12:10:35.864Z"
   },
   {
    "duration": 269,
    "start_time": "2024-11-06T12:13:59.251Z"
   },
   {
    "duration": 198,
    "start_time": "2024-11-06T12:14:47.028Z"
   },
   {
    "duration": 169,
    "start_time": "2024-11-06T12:15:24.790Z"
   },
   {
    "duration": 212,
    "start_time": "2024-11-06T12:15:37.334Z"
   },
   {
    "duration": 245,
    "start_time": "2024-11-06T12:15:41.751Z"
   },
   {
    "duration": 10,
    "start_time": "2024-11-06T12:16:59.408Z"
   },
   {
    "duration": 14,
    "start_time": "2024-11-06T12:17:05.902Z"
   },
   {
    "duration": 242,
    "start_time": "2024-11-06T12:17:52.236Z"
   },
   {
    "duration": 276,
    "start_time": "2024-11-06T12:18:00.651Z"
   },
   {
    "duration": 1190,
    "start_time": "2024-11-06T12:18:10.055Z"
   },
   {
    "duration": 51,
    "start_time": "2024-11-06T12:18:11.247Z"
   },
   {
    "duration": 13,
    "start_time": "2024-11-06T12:18:11.300Z"
   },
   {
    "duration": 13,
    "start_time": "2024-11-06T12:18:11.315Z"
   },
   {
    "duration": 33,
    "start_time": "2024-11-06T12:18:11.330Z"
   },
   {
    "duration": 10,
    "start_time": "2024-11-06T12:18:11.364Z"
   },
   {
    "duration": 36,
    "start_time": "2024-11-06T12:18:11.376Z"
   },
   {
    "duration": 14,
    "start_time": "2024-11-06T12:18:11.414Z"
   },
   {
    "duration": 41,
    "start_time": "2024-11-06T12:18:11.430Z"
   },
   {
    "duration": 10,
    "start_time": "2024-11-06T12:18:11.474Z"
   },
   {
    "duration": 49,
    "start_time": "2024-11-06T12:18:11.486Z"
   },
   {
    "duration": 11,
    "start_time": "2024-11-06T12:18:11.537Z"
   },
   {
    "duration": 25,
    "start_time": "2024-11-06T12:18:11.549Z"
   },
   {
    "duration": 10,
    "start_time": "2024-11-06T12:18:11.576Z"
   },
   {
    "duration": 40,
    "start_time": "2024-11-06T12:18:11.588Z"
   },
   {
    "duration": 13,
    "start_time": "2024-11-06T12:18:11.630Z"
   },
   {
    "duration": 34,
    "start_time": "2024-11-06T12:18:11.644Z"
   },
   {
    "duration": 55,
    "start_time": "2024-11-06T12:18:11.680Z"
   },
   {
    "duration": 16,
    "start_time": "2024-11-06T12:18:11.736Z"
   },
   {
    "duration": 21,
    "start_time": "2024-11-06T12:18:11.754Z"
   },
   {
    "duration": 206,
    "start_time": "2024-11-06T12:18:11.777Z"
   },
   {
    "duration": 26,
    "start_time": "2024-11-06T12:18:11.984Z"
   },
   {
    "duration": 287,
    "start_time": "2024-11-06T12:18:12.018Z"
   },
   {
    "duration": 4,
    "start_time": "2024-11-06T12:18:12.307Z"
   },
   {
    "duration": 6,
    "start_time": "2024-11-06T12:18:12.318Z"
   },
   {
    "duration": 8,
    "start_time": "2024-11-06T12:18:12.326Z"
   },
   {
    "duration": 95,
    "start_time": "2024-11-06T12:18:12.336Z"
   },
   {
    "duration": 10,
    "start_time": "2024-11-06T12:18:12.436Z"
   },
   {
    "duration": 16,
    "start_time": "2024-11-06T12:18:12.447Z"
   },
   {
    "duration": 30,
    "start_time": "2024-11-06T12:18:12.465Z"
   },
   {
    "duration": 23,
    "start_time": "2024-11-06T12:18:12.497Z"
   },
   {
    "duration": 5,
    "start_time": "2024-11-06T12:18:12.522Z"
   },
   {
    "duration": 230,
    "start_time": "2024-11-06T12:18:12.528Z"
   },
   {
    "duration": 5,
    "start_time": "2024-11-06T12:18:12.759Z"
   },
   {
    "duration": 5,
    "start_time": "2024-11-06T12:18:12.765Z"
   },
   {
    "duration": 47,
    "start_time": "2024-11-06T12:18:12.772Z"
   },
   {
    "duration": 6,
    "start_time": "2024-11-06T12:18:12.821Z"
   },
   {
    "duration": 308,
    "start_time": "2024-11-06T12:18:12.829Z"
   },
   {
    "duration": 14,
    "start_time": "2024-11-06T12:18:13.139Z"
   },
   {
    "duration": 20,
    "start_time": "2024-11-06T12:18:13.155Z"
   },
   {
    "duration": 23,
    "start_time": "2024-11-06T12:18:13.177Z"
   },
   {
    "duration": 7,
    "start_time": "2024-11-06T12:18:13.201Z"
   },
   {
    "duration": 11,
    "start_time": "2024-11-06T12:18:13.210Z"
   },
   {
    "duration": 9,
    "start_time": "2024-11-06T12:18:13.223Z"
   },
   {
    "duration": 173,
    "start_time": "2024-11-06T12:18:13.233Z"
   },
   {
    "duration": 1222,
    "start_time": "2024-11-07T07:47:28.352Z"
   },
   {
    "duration": 117,
    "start_time": "2024-11-07T07:47:29.577Z"
   },
   {
    "duration": 17,
    "start_time": "2024-11-07T07:47:29.696Z"
   },
   {
    "duration": 32,
    "start_time": "2024-11-07T07:47:29.714Z"
   },
   {
    "duration": 86,
    "start_time": "2024-11-07T07:47:29.748Z"
   },
   {
    "duration": 10,
    "start_time": "2024-11-07T07:47:29.836Z"
   },
   {
    "duration": 155,
    "start_time": "2024-11-07T07:47:29.847Z"
   },
   {
    "duration": 10,
    "start_time": "2024-11-07T07:47:30.004Z"
   },
   {
    "duration": 127,
    "start_time": "2024-11-07T07:47:30.016Z"
   },
   {
    "duration": 9,
    "start_time": "2024-11-07T07:47:30.144Z"
   },
   {
    "duration": 107,
    "start_time": "2024-11-07T07:47:30.154Z"
   },
   {
    "duration": 10,
    "start_time": "2024-11-07T07:47:30.262Z"
   },
   {
    "duration": 131,
    "start_time": "2024-11-07T07:47:30.273Z"
   },
   {
    "duration": 9,
    "start_time": "2024-11-07T07:47:30.407Z"
   },
   {
    "duration": 107,
    "start_time": "2024-11-07T07:47:30.417Z"
   },
   {
    "duration": 9,
    "start_time": "2024-11-07T07:47:30.525Z"
   },
   {
    "duration": 91,
    "start_time": "2024-11-07T07:47:30.535Z"
   },
   {
    "duration": 16,
    "start_time": "2024-11-07T07:47:30.628Z"
   },
   {
    "duration": 37,
    "start_time": "2024-11-07T07:47:30.645Z"
   },
   {
    "duration": 39,
    "start_time": "2024-11-07T07:47:30.683Z"
   },
   {
    "duration": 167,
    "start_time": "2024-11-07T07:47:30.723Z"
   },
   {
    "duration": 40,
    "start_time": "2024-11-07T07:47:30.892Z"
   },
   {
    "duration": 231,
    "start_time": "2024-11-07T07:47:30.934Z"
   },
   {
    "duration": 4,
    "start_time": "2024-11-07T07:47:31.167Z"
   },
   {
    "duration": 34,
    "start_time": "2024-11-07T07:47:31.173Z"
   },
   {
    "duration": 18,
    "start_time": "2024-11-07T07:47:31.209Z"
   },
   {
    "duration": 99,
    "start_time": "2024-11-07T07:47:31.229Z"
   },
   {
    "duration": 8,
    "start_time": "2024-11-07T07:47:31.329Z"
   },
   {
    "duration": 22,
    "start_time": "2024-11-07T07:47:31.339Z"
   },
   {
    "duration": 43,
    "start_time": "2024-11-07T07:47:31.363Z"
   },
   {
    "duration": 35,
    "start_time": "2024-11-07T07:47:31.407Z"
   },
   {
    "duration": 92,
    "start_time": "2024-11-07T07:47:31.444Z"
   },
   {
    "duration": 170,
    "start_time": "2024-11-07T07:47:31.538Z"
   },
   {
    "duration": 4,
    "start_time": "2024-11-07T07:47:31.710Z"
   },
   {
    "duration": 10,
    "start_time": "2024-11-07T07:47:31.715Z"
   },
   {
    "duration": 45,
    "start_time": "2024-11-07T07:47:31.726Z"
   },
   {
    "duration": 24,
    "start_time": "2024-11-07T07:47:31.772Z"
   },
   {
    "duration": 215,
    "start_time": "2024-11-07T07:47:31.797Z"
   },
   {
    "duration": 13,
    "start_time": "2024-11-07T07:47:32.013Z"
   },
   {
    "duration": 7,
    "start_time": "2024-11-07T07:47:32.027Z"
   },
   {
    "duration": 36,
    "start_time": "2024-11-07T07:47:32.037Z"
   },
   {
    "duration": 27,
    "start_time": "2024-11-07T07:47:32.075Z"
   },
   {
    "duration": 32,
    "start_time": "2024-11-07T07:47:32.103Z"
   },
   {
    "duration": 8,
    "start_time": "2024-11-07T07:47:32.137Z"
   },
   {
    "duration": 1137,
    "start_time": "2024-11-07T07:47:32.146Z"
   },
   {
    "duration": 9,
    "start_time": "2024-11-07T07:47:57.328Z"
   },
   {
    "duration": 5,
    "start_time": "2024-11-07T07:48:08.666Z"
   },
   {
    "duration": 15,
    "start_time": "2024-11-07T07:48:14.966Z"
   },
   {
    "duration": 10,
    "start_time": "2024-11-07T07:48:55.195Z"
   },
   {
    "duration": 12,
    "start_time": "2024-11-07T07:51:41.258Z"
   },
   {
    "duration": 208,
    "start_time": "2024-11-07T07:52:01.739Z"
   },
   {
    "duration": 120,
    "start_time": "2024-11-07T08:48:43.708Z"
   },
   {
    "duration": 31067,
    "start_time": "2024-11-07T08:48:50.283Z"
   },
   {
    "duration": 151,
    "start_time": "2024-11-07T08:49:25.421Z"
   },
   {
    "duration": 151,
    "start_time": "2024-11-07T08:49:32.875Z"
   },
   {
    "duration": 177,
    "start_time": "2024-11-07T08:49:37.694Z"
   },
   {
    "duration": 158,
    "start_time": "2024-11-07T09:02:15.612Z"
   },
   {
    "duration": 66,
    "start_time": "2024-11-07T09:03:30.950Z"
   },
   {
    "duration": 942,
    "start_time": "2024-11-07T09:03:40.550Z"
   },
   {
    "duration": 12,
    "start_time": "2024-11-07T09:04:27.975Z"
   },
   {
    "duration": 1042,
    "start_time": "2024-11-07T09:04:37.355Z"
   },
   {
    "duration": 1206,
    "start_time": "2024-11-07T09:04:47.989Z"
   },
   {
    "duration": 56,
    "start_time": "2024-11-07T09:04:55.913Z"
   },
   {
    "duration": 10,
    "start_time": "2024-11-07T09:04:57.542Z"
   },
   {
    "duration": 10,
    "start_time": "2024-11-07T09:05:11.034Z"
   },
   {
    "duration": 10,
    "start_time": "2024-11-07T09:05:20.226Z"
   },
   {
    "duration": 7,
    "start_time": "2024-11-07T09:05:33.090Z"
   },
   {
    "duration": 5,
    "start_time": "2024-11-07T09:05:37.476Z"
   },
   {
    "duration": 6,
    "start_time": "2024-11-07T09:05:45.805Z"
   },
   {
    "duration": 6,
    "start_time": "2024-11-07T09:05:54.998Z"
   },
   {
    "duration": 10,
    "start_time": "2024-11-07T09:06:01.337Z"
   },
   {
    "duration": 9,
    "start_time": "2024-11-07T09:08:04.863Z"
   },
   {
    "duration": 6,
    "start_time": "2024-11-07T09:08:15.389Z"
   },
   {
    "duration": 9,
    "start_time": "2024-11-07T09:14:29.076Z"
   },
   {
    "duration": 152,
    "start_time": "2024-11-07T09:15:53.750Z"
   },
   {
    "duration": 86,
    "start_time": "2024-11-07T09:15:56.745Z"
   },
   {
    "duration": 119,
    "start_time": "2024-11-07T09:16:49.788Z"
   },
   {
    "duration": 54,
    "start_time": "2024-11-07T09:16:50.750Z"
   },
   {
    "duration": 27,
    "start_time": "2024-11-07T10:17:31.000Z"
   },
   {
    "duration": 20,
    "start_time": "2024-11-07T10:18:38.661Z"
   },
   {
    "duration": 17,
    "start_time": "2024-11-07T10:19:11.890Z"
   },
   {
    "duration": 17,
    "start_time": "2024-11-07T10:20:08.696Z"
   },
   {
    "duration": 15,
    "start_time": "2024-11-07T10:21:00.802Z"
   },
   {
    "duration": 17,
    "start_time": "2024-11-07T10:21:12.164Z"
   },
   {
    "duration": 951,
    "start_time": "2024-11-07T10:21:36.781Z"
   },
   {
    "duration": 32,
    "start_time": "2024-11-07T10:29:37.575Z"
   },
   {
    "duration": 29,
    "start_time": "2024-11-07T10:29:40.839Z"
   },
   {
    "duration": 25,
    "start_time": "2024-11-07T10:29:59.988Z"
   },
   {
    "duration": 28,
    "start_time": "2024-11-07T10:30:00.121Z"
   },
   {
    "duration": 31,
    "start_time": "2024-11-07T10:30:18.915Z"
   },
   {
    "duration": 29,
    "start_time": "2024-11-07T10:30:38.876Z"
   },
   {
    "duration": 22,
    "start_time": "2024-11-07T10:30:39.739Z"
   },
   {
    "duration": 29,
    "start_time": "2024-11-07T10:31:49.852Z"
   },
   {
    "duration": 19,
    "start_time": "2024-11-07T10:31:50.651Z"
   },
   {
    "duration": 27,
    "start_time": "2024-11-07T10:32:10.502Z"
   },
   {
    "duration": 20,
    "start_time": "2024-11-07T10:32:10.789Z"
   },
   {
    "duration": 27,
    "start_time": "2024-11-07T10:32:19.926Z"
   },
   {
    "duration": 2,
    "start_time": "2024-11-07T10:32:27.114Z"
   },
   {
    "duration": 26,
    "start_time": "2024-11-07T10:32:28.719Z"
   },
   {
    "duration": 19,
    "start_time": "2024-11-07T10:32:29.142Z"
   },
   {
    "duration": 11,
    "start_time": "2024-11-07T10:37:14.368Z"
   },
   {
    "duration": 93,
    "start_time": "2024-11-07T10:37:33.003Z"
   },
   {
    "duration": 288,
    "start_time": "2024-11-07T10:37:59.842Z"
   },
   {
    "duration": 41,
    "start_time": "2024-11-07T21:51:26.702Z"
   },
   {
    "duration": 1253,
    "start_time": "2024-11-07T21:51:32.028Z"
   },
   {
    "duration": 97,
    "start_time": "2024-11-07T21:51:33.283Z"
   },
   {
    "duration": 36,
    "start_time": "2024-11-07T21:51:33.384Z"
   },
   {
    "duration": 29,
    "start_time": "2024-11-07T21:51:33.422Z"
   },
   {
    "duration": 101,
    "start_time": "2024-11-07T21:51:33.453Z"
   },
   {
    "duration": 9,
    "start_time": "2024-11-07T21:51:33.556Z"
   },
   {
    "duration": 150,
    "start_time": "2024-11-07T21:51:33.567Z"
   },
   {
    "duration": 10,
    "start_time": "2024-11-07T21:51:33.719Z"
   },
   {
    "duration": 93,
    "start_time": "2024-11-07T21:51:33.732Z"
   },
   {
    "duration": 8,
    "start_time": "2024-11-07T21:51:33.826Z"
   },
   {
    "duration": 170,
    "start_time": "2024-11-07T21:51:33.836Z"
   },
   {
    "duration": 10,
    "start_time": "2024-11-07T21:51:34.007Z"
   },
   {
    "duration": 84,
    "start_time": "2024-11-07T21:51:34.018Z"
   },
   {
    "duration": 9,
    "start_time": "2024-11-07T21:51:34.103Z"
   },
   {
    "duration": 112,
    "start_time": "2024-11-07T21:51:34.113Z"
   },
   {
    "duration": 8,
    "start_time": "2024-11-07T21:51:34.226Z"
   },
   {
    "duration": 36,
    "start_time": "2024-11-07T21:51:34.235Z"
   },
   {
    "duration": 15,
    "start_time": "2024-11-07T21:51:34.273Z"
   },
   {
    "duration": 28,
    "start_time": "2024-11-07T21:51:34.290Z"
   },
   {
    "duration": 11,
    "start_time": "2024-11-07T21:51:34.319Z"
   },
   {
    "duration": 201,
    "start_time": "2024-11-07T21:51:34.331Z"
   },
   {
    "duration": 21,
    "start_time": "2024-11-07T21:51:34.534Z"
   },
   {
    "duration": 250,
    "start_time": "2024-11-07T21:51:34.557Z"
   },
   {
    "duration": 4,
    "start_time": "2024-11-07T21:51:34.808Z"
   },
   {
    "duration": 11,
    "start_time": "2024-11-07T21:51:34.813Z"
   },
   {
    "duration": 19,
    "start_time": "2024-11-07T21:51:34.825Z"
   },
   {
    "duration": 68,
    "start_time": "2024-11-07T21:51:34.847Z"
   },
   {
    "duration": 8,
    "start_time": "2024-11-07T21:51:34.917Z"
   },
   {
    "duration": 31,
    "start_time": "2024-11-07T21:51:34.926Z"
   },
   {
    "duration": 32,
    "start_time": "2024-11-07T21:51:34.959Z"
   },
   {
    "duration": 40,
    "start_time": "2024-11-07T21:51:34.992Z"
   },
   {
    "duration": 9,
    "start_time": "2024-11-07T21:51:35.033Z"
   },
   {
    "duration": 208,
    "start_time": "2024-11-07T21:51:35.043Z"
   },
   {
    "duration": 5,
    "start_time": "2024-11-07T21:51:35.252Z"
   },
   {
    "duration": 75,
    "start_time": "2024-11-07T21:51:35.258Z"
   },
   {
    "duration": 106,
    "start_time": "2024-11-07T21:51:35.334Z"
   },
   {
    "duration": 30,
    "start_time": "2024-11-07T21:51:35.442Z"
   },
   {
    "duration": 236,
    "start_time": "2024-11-07T21:51:35.473Z"
   },
   {
    "duration": 11,
    "start_time": "2024-11-07T21:51:35.711Z"
   },
   {
    "duration": 19,
    "start_time": "2024-11-07T21:51:35.723Z"
   },
   {
    "duration": 50,
    "start_time": "2024-11-07T21:51:35.744Z"
   },
   {
    "duration": 103,
    "start_time": "2024-11-07T21:51:35.795Z"
   },
   {
    "duration": 22,
    "start_time": "2024-11-07T21:51:35.899Z"
   },
   {
    "duration": 14,
    "start_time": "2024-11-07T21:51:35.922Z"
   },
   {
    "duration": 175,
    "start_time": "2024-11-07T21:51:35.937Z"
   },
   {
    "duration": 6,
    "start_time": "2024-11-07T21:51:36.113Z"
   },
   {
    "duration": 8,
    "start_time": "2024-11-07T21:51:36.120Z"
   },
   {
    "duration": 28,
    "start_time": "2024-11-07T21:51:36.130Z"
   },
   {
    "duration": 69,
    "start_time": "2024-11-07T21:51:36.160Z"
   },
   {
    "duration": 11,
    "start_time": "2024-11-07T21:51:36.230Z"
   },
   {
    "duration": 37,
    "start_time": "2024-11-07T21:51:36.242Z"
   },
   {
    "duration": 3,
    "start_time": "2024-11-07T21:51:51.746Z"
   },
   {
    "duration": 98,
    "start_time": "2024-11-07T21:52:12.305Z"
   },
   {
    "duration": 317,
    "start_time": "2024-11-07T21:52:15.709Z"
   },
   {
    "duration": 29,
    "start_time": "2024-11-07T21:52:38.646Z"
   },
   {
    "duration": 18,
    "start_time": "2024-11-07T21:54:14.592Z"
   },
   {
    "duration": 34,
    "start_time": "2024-11-07T21:55:46.828Z"
   },
   {
    "duration": 1084,
    "start_time": "2024-11-07T21:56:02.767Z"
   },
   {
    "duration": 48,
    "start_time": "2024-11-07T21:56:03.853Z"
   },
   {
    "duration": 31,
    "start_time": "2024-11-07T21:56:03.903Z"
   },
   {
    "duration": 47,
    "start_time": "2024-11-07T21:56:03.936Z"
   },
   {
    "duration": 66,
    "start_time": "2024-11-07T21:56:03.984Z"
   },
   {
    "duration": 10,
    "start_time": "2024-11-07T21:56:04.051Z"
   },
   {
    "duration": 67,
    "start_time": "2024-11-07T21:56:04.062Z"
   },
   {
    "duration": 10,
    "start_time": "2024-11-07T21:56:04.131Z"
   },
   {
    "duration": 73,
    "start_time": "2024-11-07T21:56:04.142Z"
   },
   {
    "duration": 8,
    "start_time": "2024-11-07T21:56:04.217Z"
   },
   {
    "duration": 63,
    "start_time": "2024-11-07T21:56:04.226Z"
   },
   {
    "duration": 65,
    "start_time": "2024-11-07T21:56:04.290Z"
   },
   {
    "duration": 32,
    "start_time": "2024-11-07T21:56:04.357Z"
   },
   {
    "duration": 9,
    "start_time": "2024-11-07T21:56:04.392Z"
   },
   {
    "duration": 49,
    "start_time": "2024-11-07T21:56:04.402Z"
   },
   {
    "duration": 58,
    "start_time": "2024-11-07T21:56:04.452Z"
   },
   {
    "duration": 45,
    "start_time": "2024-11-07T21:56:04.512Z"
   },
   {
    "duration": 17,
    "start_time": "2024-11-07T21:56:04.559Z"
   },
   {
    "duration": 20,
    "start_time": "2024-11-07T21:56:04.577Z"
   },
   {
    "duration": 17,
    "start_time": "2024-11-07T21:56:04.607Z"
   },
   {
    "duration": 176,
    "start_time": "2024-11-07T21:56:04.626Z"
   },
   {
    "duration": 21,
    "start_time": "2024-11-07T21:56:04.807Z"
   },
   {
    "duration": 226,
    "start_time": "2024-11-07T21:56:04.830Z"
   },
   {
    "duration": 4,
    "start_time": "2024-11-07T21:56:05.057Z"
   },
   {
    "duration": 36,
    "start_time": "2024-11-07T21:56:05.062Z"
   },
   {
    "duration": 3,
    "start_time": "2024-11-07T21:56:05.100Z"
   },
   {
    "duration": 50,
    "start_time": "2024-11-07T21:56:05.104Z"
   },
   {
    "duration": 8,
    "start_time": "2024-11-07T21:56:05.156Z"
   },
   {
    "duration": 43,
    "start_time": "2024-11-07T21:56:05.165Z"
   },
   {
    "duration": 25,
    "start_time": "2024-11-07T21:56:05.210Z"
   },
   {
    "duration": 39,
    "start_time": "2024-11-07T21:56:05.236Z"
   },
   {
    "duration": 29,
    "start_time": "2024-11-07T21:56:05.277Z"
   },
   {
    "duration": 172,
    "start_time": "2024-11-07T21:56:05.308Z"
   },
   {
    "duration": 4,
    "start_time": "2024-11-07T21:56:05.482Z"
   },
   {
    "duration": 49,
    "start_time": "2024-11-07T21:56:05.487Z"
   },
   {
    "duration": 31,
    "start_time": "2024-11-07T21:56:05.538Z"
   },
   {
    "duration": 14,
    "start_time": "2024-11-07T21:56:05.571Z"
   },
   {
    "duration": 222,
    "start_time": "2024-11-07T21:56:05.586Z"
   },
   {
    "duration": 12,
    "start_time": "2024-11-07T21:56:05.810Z"
   },
   {
    "duration": 84,
    "start_time": "2024-11-07T21:56:05.823Z"
   },
   {
    "duration": 10,
    "start_time": "2024-11-07T21:56:05.910Z"
   },
   {
    "duration": 6,
    "start_time": "2024-11-07T21:56:05.921Z"
   },
   {
    "duration": 10,
    "start_time": "2024-11-07T21:56:05.928Z"
   },
   {
    "duration": 4,
    "start_time": "2024-11-07T21:56:05.939Z"
   },
   {
    "duration": 174,
    "start_time": "2024-11-07T21:56:05.944Z"
   },
   {
    "duration": 6,
    "start_time": "2024-11-07T21:56:06.119Z"
   },
   {
    "duration": 18,
    "start_time": "2024-11-07T21:56:06.126Z"
   },
   {
    "duration": 8,
    "start_time": "2024-11-07T21:56:06.146Z"
   },
   {
    "duration": 85,
    "start_time": "2024-11-07T21:56:06.155Z"
   },
   {
    "duration": 10,
    "start_time": "2024-11-07T21:56:06.242Z"
   },
   {
    "duration": 772,
    "start_time": "2024-11-07T21:56:06.253Z"
   },
   {
    "duration": 134,
    "start_time": "2024-11-07T22:01:57.063Z"
   },
   {
    "duration": 1048,
    "start_time": "2024-11-07T22:02:30.646Z"
   },
   {
    "duration": 46,
    "start_time": "2024-11-07T22:02:31.696Z"
   },
   {
    "duration": 11,
    "start_time": "2024-11-07T22:02:31.744Z"
   },
   {
    "duration": 70,
    "start_time": "2024-11-07T22:02:31.756Z"
   },
   {
    "duration": 50,
    "start_time": "2024-11-07T22:02:31.828Z"
   },
   {
    "duration": 37,
    "start_time": "2024-11-07T22:02:31.880Z"
   },
   {
    "duration": 84,
    "start_time": "2024-11-07T22:02:31.918Z"
   },
   {
    "duration": 16,
    "start_time": "2024-11-07T22:02:32.004Z"
   },
   {
    "duration": 43,
    "start_time": "2024-11-07T22:02:32.021Z"
   },
   {
    "duration": 9,
    "start_time": "2024-11-07T22:02:32.066Z"
   },
   {
    "duration": 50,
    "start_time": "2024-11-07T22:02:32.077Z"
   },
   {
    "duration": 9,
    "start_time": "2024-11-07T22:02:32.128Z"
   },
   {
    "duration": 27,
    "start_time": "2024-11-07T22:02:32.139Z"
   },
   {
    "duration": 15,
    "start_time": "2024-11-07T22:02:32.169Z"
   },
   {
    "duration": 30,
    "start_time": "2024-11-07T22:02:32.186Z"
   },
   {
    "duration": 10,
    "start_time": "2024-11-07T22:02:32.217Z"
   },
   {
    "duration": 52,
    "start_time": "2024-11-07T22:02:32.229Z"
   },
   {
    "duration": 24,
    "start_time": "2024-11-07T22:02:32.283Z"
   },
   {
    "duration": 18,
    "start_time": "2024-11-07T22:02:32.308Z"
   },
   {
    "duration": 27,
    "start_time": "2024-11-07T22:02:32.327Z"
   },
   {
    "duration": 206,
    "start_time": "2024-11-07T22:02:32.355Z"
   },
   {
    "duration": 28,
    "start_time": "2024-11-07T22:02:32.563Z"
   },
   {
    "duration": 249,
    "start_time": "2024-11-07T22:02:32.593Z"
   },
   {
    "duration": 4,
    "start_time": "2024-11-07T22:02:32.844Z"
   },
   {
    "duration": 28,
    "start_time": "2024-11-07T22:02:32.849Z"
   },
   {
    "duration": 18,
    "start_time": "2024-11-07T22:02:32.879Z"
   },
   {
    "duration": 82,
    "start_time": "2024-11-07T22:02:32.898Z"
   },
   {
    "duration": 9,
    "start_time": "2024-11-07T22:02:32.982Z"
   },
   {
    "duration": 16,
    "start_time": "2024-11-07T22:02:32.992Z"
   },
   {
    "duration": 16,
    "start_time": "2024-11-07T22:02:33.009Z"
   },
   {
    "duration": 30,
    "start_time": "2024-11-07T22:02:33.027Z"
   },
   {
    "duration": 33,
    "start_time": "2024-11-07T22:02:33.059Z"
   },
   {
    "duration": 202,
    "start_time": "2024-11-07T22:02:33.094Z"
   },
   {
    "duration": 10,
    "start_time": "2024-11-07T22:02:33.298Z"
   },
   {
    "duration": 30,
    "start_time": "2024-11-07T22:02:33.310Z"
   },
   {
    "duration": 76,
    "start_time": "2024-11-07T22:02:33.342Z"
   },
   {
    "duration": 9,
    "start_time": "2024-11-07T22:02:33.419Z"
   },
   {
    "duration": 272,
    "start_time": "2024-11-07T22:02:33.429Z"
   },
   {
    "duration": 16,
    "start_time": "2024-11-07T22:02:33.702Z"
   },
   {
    "duration": 8,
    "start_time": "2024-11-07T22:02:33.720Z"
   },
   {
    "duration": 18,
    "start_time": "2024-11-07T22:02:33.731Z"
   },
   {
    "duration": 7,
    "start_time": "2024-11-07T22:02:33.751Z"
   },
   {
    "duration": 33,
    "start_time": "2024-11-07T22:02:33.759Z"
   },
   {
    "duration": 5,
    "start_time": "2024-11-07T22:02:33.794Z"
   },
   {
    "duration": 173,
    "start_time": "2024-11-07T22:02:33.800Z"
   },
   {
    "duration": 6,
    "start_time": "2024-11-07T22:02:33.975Z"
   },
   {
    "duration": 34,
    "start_time": "2024-11-07T22:02:33.982Z"
   },
   {
    "duration": 11,
    "start_time": "2024-11-07T22:02:34.017Z"
   },
   {
    "duration": 100,
    "start_time": "2024-11-07T22:02:34.029Z"
   },
   {
    "duration": 12,
    "start_time": "2024-11-07T22:02:34.130Z"
   },
   {
    "duration": 103,
    "start_time": "2024-11-07T22:02:34.143Z"
   },
   {
    "duration": 271,
    "start_time": "2024-11-07T22:02:47.472Z"
   },
   {
    "duration": 1086,
    "start_time": "2024-11-07T22:02:56.519Z"
   },
   {
    "duration": 46,
    "start_time": "2024-11-07T22:02:57.606Z"
   },
   {
    "duration": 11,
    "start_time": "2024-11-07T22:02:57.654Z"
   },
   {
    "duration": 22,
    "start_time": "2024-11-07T22:02:57.667Z"
   },
   {
    "duration": 29,
    "start_time": "2024-11-07T22:02:57.691Z"
   },
   {
    "duration": 10,
    "start_time": "2024-11-07T22:02:57.721Z"
   },
   {
    "duration": 33,
    "start_time": "2024-11-07T22:02:57.732Z"
   },
   {
    "duration": 10,
    "start_time": "2024-11-07T22:02:57.767Z"
   },
   {
    "duration": 47,
    "start_time": "2024-11-07T22:02:57.779Z"
   },
   {
    "duration": 8,
    "start_time": "2024-11-07T22:02:57.828Z"
   },
   {
    "duration": 88,
    "start_time": "2024-11-07T22:02:57.838Z"
   },
   {
    "duration": 32,
    "start_time": "2024-11-07T22:02:57.928Z"
   },
   {
    "duration": 23,
    "start_time": "2024-11-07T22:02:57.962Z"
   },
   {
    "duration": 8,
    "start_time": "2024-11-07T22:02:57.989Z"
   },
   {
    "duration": 26,
    "start_time": "2024-11-07T22:02:57.999Z"
   },
   {
    "duration": 9,
    "start_time": "2024-11-07T22:02:58.026Z"
   },
   {
    "duration": 26,
    "start_time": "2024-11-07T22:02:58.036Z"
   },
   {
    "duration": 16,
    "start_time": "2024-11-07T22:02:58.063Z"
   },
   {
    "duration": 13,
    "start_time": "2024-11-07T22:02:58.107Z"
   },
   {
    "duration": 28,
    "start_time": "2024-11-07T22:02:58.122Z"
   },
   {
    "duration": 168,
    "start_time": "2024-11-07T22:02:58.151Z"
   },
   {
    "duration": 21,
    "start_time": "2024-11-07T22:02:58.321Z"
   },
   {
    "duration": 240,
    "start_time": "2024-11-07T22:02:58.344Z"
   },
   {
    "duration": 4,
    "start_time": "2024-11-07T22:02:58.586Z"
   },
   {
    "duration": 19,
    "start_time": "2024-11-07T22:02:58.591Z"
   },
   {
    "duration": 4,
    "start_time": "2024-11-07T22:02:58.612Z"
   },
   {
    "duration": 60,
    "start_time": "2024-11-07T22:02:58.617Z"
   },
   {
    "duration": 9,
    "start_time": "2024-11-07T22:02:58.678Z"
   },
   {
    "duration": 123,
    "start_time": "2024-11-07T22:02:58.688Z"
   },
   {
    "duration": 17,
    "start_time": "2024-11-07T22:02:58.812Z"
   },
   {
    "duration": 23,
    "start_time": "2024-11-07T22:02:58.830Z"
   },
   {
    "duration": 7,
    "start_time": "2024-11-07T22:02:58.855Z"
   },
   {
    "duration": 202,
    "start_time": "2024-11-07T22:02:58.863Z"
   },
   {
    "duration": 4,
    "start_time": "2024-11-07T22:02:59.067Z"
   },
   {
    "duration": 26,
    "start_time": "2024-11-07T22:02:59.072Z"
   },
   {
    "duration": 34,
    "start_time": "2024-11-07T22:02:59.099Z"
   },
   {
    "duration": 6,
    "start_time": "2024-11-07T22:02:59.134Z"
   },
   {
    "duration": 232,
    "start_time": "2024-11-07T22:02:59.142Z"
   },
   {
    "duration": 12,
    "start_time": "2024-11-07T22:02:59.376Z"
   },
   {
    "duration": 87,
    "start_time": "2024-11-07T22:02:59.390Z"
   },
   {
    "duration": 13,
    "start_time": "2024-11-07T22:02:59.480Z"
   },
   {
    "duration": 15,
    "start_time": "2024-11-07T22:02:59.494Z"
   },
   {
    "duration": 28,
    "start_time": "2024-11-07T22:02:59.510Z"
   },
   {
    "duration": 4,
    "start_time": "2024-11-07T22:02:59.540Z"
   },
   {
    "duration": 158,
    "start_time": "2024-11-07T22:02:59.545Z"
   },
   {
    "duration": 6,
    "start_time": "2024-11-07T22:02:59.705Z"
   },
   {
    "duration": 31,
    "start_time": "2024-11-07T22:02:59.712Z"
   },
   {
    "duration": 6,
    "start_time": "2024-11-07T22:02:59.745Z"
   },
   {
    "duration": 79,
    "start_time": "2024-11-07T22:02:59.752Z"
   },
   {
    "duration": 10,
    "start_time": "2024-11-07T22:02:59.833Z"
   },
   {
    "duration": 382,
    "start_time": "2024-11-07T22:02:59.844Z"
   },
   {
    "duration": 29,
    "start_time": "2024-11-07T22:03:47.432Z"
   },
   {
    "duration": 31,
    "start_time": "2024-11-07T22:04:21.813Z"
   },
   {
    "duration": 1070,
    "start_time": "2024-11-07T22:04:26.981Z"
   },
   {
    "duration": 43,
    "start_time": "2024-11-07T22:04:28.053Z"
   },
   {
    "duration": 11,
    "start_time": "2024-11-07T22:04:28.097Z"
   },
   {
    "duration": 16,
    "start_time": "2024-11-07T22:04:28.109Z"
   },
   {
    "duration": 30,
    "start_time": "2024-11-07T22:04:28.127Z"
   },
   {
    "duration": 9,
    "start_time": "2024-11-07T22:04:28.158Z"
   },
   {
    "duration": 35,
    "start_time": "2024-11-07T22:04:28.168Z"
   },
   {
    "duration": 10,
    "start_time": "2024-11-07T22:04:28.204Z"
   },
   {
    "duration": 46,
    "start_time": "2024-11-07T22:04:28.215Z"
   },
   {
    "duration": 11,
    "start_time": "2024-11-07T22:04:28.262Z"
   },
   {
    "duration": 42,
    "start_time": "2024-11-07T22:04:28.274Z"
   },
   {
    "duration": 10,
    "start_time": "2024-11-07T22:04:28.317Z"
   },
   {
    "duration": 23,
    "start_time": "2024-11-07T22:04:28.329Z"
   },
   {
    "duration": 9,
    "start_time": "2024-11-07T22:04:28.355Z"
   },
   {
    "duration": 26,
    "start_time": "2024-11-07T22:04:28.365Z"
   },
   {
    "duration": 15,
    "start_time": "2024-11-07T22:04:28.393Z"
   },
   {
    "duration": 37,
    "start_time": "2024-11-07T22:04:28.409Z"
   },
   {
    "duration": 16,
    "start_time": "2024-11-07T22:04:28.447Z"
   },
   {
    "duration": 42,
    "start_time": "2024-11-07T22:04:28.464Z"
   },
   {
    "duration": 18,
    "start_time": "2024-11-07T22:04:28.507Z"
   },
   {
    "duration": 168,
    "start_time": "2024-11-07T22:04:28.527Z"
   },
   {
    "duration": 25,
    "start_time": "2024-11-07T22:04:28.697Z"
   },
   {
    "duration": 234,
    "start_time": "2024-11-07T22:04:28.724Z"
   },
   {
    "duration": 5,
    "start_time": "2024-11-07T22:04:28.959Z"
   },
   {
    "duration": 21,
    "start_time": "2024-11-07T22:04:28.965Z"
   },
   {
    "duration": 12,
    "start_time": "2024-11-07T22:04:28.987Z"
   },
   {
    "duration": 55,
    "start_time": "2024-11-07T22:04:29.001Z"
   },
   {
    "duration": 8,
    "start_time": "2024-11-07T22:04:29.057Z"
   },
   {
    "duration": 10,
    "start_time": "2024-11-07T22:04:29.067Z"
   },
   {
    "duration": 20,
    "start_time": "2024-11-07T22:04:29.079Z"
   },
   {
    "duration": 16,
    "start_time": "2024-11-07T22:04:29.107Z"
   },
   {
    "duration": 8,
    "start_time": "2024-11-07T22:04:29.124Z"
   },
   {
    "duration": 196,
    "start_time": "2024-11-07T22:04:29.134Z"
   },
   {
    "duration": 5,
    "start_time": "2024-11-07T22:04:29.332Z"
   },
   {
    "duration": 43,
    "start_time": "2024-11-07T22:04:29.338Z"
   },
   {
    "duration": 70,
    "start_time": "2024-11-07T22:04:29.383Z"
   },
   {
    "duration": 14,
    "start_time": "2024-11-07T22:04:29.455Z"
   },
   {
    "duration": 269,
    "start_time": "2024-11-07T22:04:29.471Z"
   },
   {
    "duration": 13,
    "start_time": "2024-11-07T22:04:29.741Z"
   },
   {
    "duration": 16,
    "start_time": "2024-11-07T22:04:29.755Z"
   },
   {
    "duration": 10,
    "start_time": "2024-11-07T22:04:29.774Z"
   },
   {
    "duration": 30,
    "start_time": "2024-11-07T22:04:29.786Z"
   },
   {
    "duration": 21,
    "start_time": "2024-11-07T22:04:29.817Z"
   },
   {
    "duration": 23,
    "start_time": "2024-11-07T22:04:29.839Z"
   },
   {
    "duration": 153,
    "start_time": "2024-11-07T22:04:29.863Z"
   },
   {
    "duration": 7,
    "start_time": "2024-11-07T22:04:30.017Z"
   },
   {
    "duration": 31,
    "start_time": "2024-11-07T22:04:30.025Z"
   },
   {
    "duration": 28,
    "start_time": "2024-11-07T22:04:30.057Z"
   },
   {
    "duration": 95,
    "start_time": "2024-11-07T22:04:30.087Z"
   },
   {
    "duration": 11,
    "start_time": "2024-11-07T22:04:30.184Z"
   },
   {
    "duration": 108677,
    "start_time": "2024-11-07T22:04:30.207Z"
   },
   {
    "duration": 144,
    "start_time": "2024-11-07T22:09:53.867Z"
   },
   {
    "duration": 46,
    "start_time": "2024-11-07T22:10:00.849Z"
   },
   {
    "duration": 1081,
    "start_time": "2024-11-07T22:16:00.075Z"
   },
   {
    "duration": 43,
    "start_time": "2024-11-07T22:16:01.158Z"
   },
   {
    "duration": 10,
    "start_time": "2024-11-07T22:16:01.203Z"
   },
   {
    "duration": 24,
    "start_time": "2024-11-07T22:16:01.215Z"
   },
   {
    "duration": 90,
    "start_time": "2024-11-07T22:16:01.241Z"
   },
   {
    "duration": 51,
    "start_time": "2024-11-07T22:16:01.332Z"
   },
   {
    "duration": 65,
    "start_time": "2024-11-07T22:16:01.384Z"
   },
   {
    "duration": 10,
    "start_time": "2024-11-07T22:16:01.451Z"
   },
   {
    "duration": 93,
    "start_time": "2024-11-07T22:16:01.463Z"
   },
   {
    "duration": 14,
    "start_time": "2024-11-07T22:16:01.558Z"
   },
   {
    "duration": 64,
    "start_time": "2024-11-07T22:16:01.574Z"
   },
   {
    "duration": 9,
    "start_time": "2024-11-07T22:16:01.639Z"
   },
   {
    "duration": 72,
    "start_time": "2024-11-07T22:16:01.649Z"
   },
   {
    "duration": 21,
    "start_time": "2024-11-07T22:16:01.725Z"
   },
   {
    "duration": 119,
    "start_time": "2024-11-07T22:16:01.747Z"
   },
   {
    "duration": 117,
    "start_time": "2024-11-07T22:16:01.867Z"
   },
   {
    "duration": 81,
    "start_time": "2024-11-07T22:16:01.985Z"
   },
   {
    "duration": 27,
    "start_time": "2024-11-07T22:16:02.067Z"
   },
   {
    "duration": 34,
    "start_time": "2024-11-07T22:16:02.096Z"
   },
   {
    "duration": 26,
    "start_time": "2024-11-07T22:16:02.132Z"
   },
   {
    "duration": 196,
    "start_time": "2024-11-07T22:16:02.159Z"
   },
   {
    "duration": 22,
    "start_time": "2024-11-07T22:16:02.356Z"
   },
   {
    "duration": 236,
    "start_time": "2024-11-07T22:16:02.379Z"
   },
   {
    "duration": 5,
    "start_time": "2024-11-07T22:16:02.617Z"
   },
   {
    "duration": 97,
    "start_time": "2024-11-07T22:16:02.623Z"
   },
   {
    "duration": 35,
    "start_time": "2024-11-07T22:16:02.722Z"
   },
   {
    "duration": 110,
    "start_time": "2024-11-07T22:16:02.759Z"
   },
   {
    "duration": 37,
    "start_time": "2024-11-07T22:16:02.870Z"
   },
   {
    "duration": 55,
    "start_time": "2024-11-07T22:16:02.909Z"
   },
   {
    "duration": 50,
    "start_time": "2024-11-07T22:16:02.966Z"
   },
   {
    "duration": 28,
    "start_time": "2024-11-07T22:16:03.018Z"
   },
   {
    "duration": 4,
    "start_time": "2024-11-07T22:16:03.048Z"
   },
   {
    "duration": 179,
    "start_time": "2024-11-07T22:16:03.053Z"
   },
   {
    "duration": 5,
    "start_time": "2024-11-07T22:16:03.233Z"
   },
   {
    "duration": 9,
    "start_time": "2024-11-07T22:16:03.239Z"
   },
   {
    "duration": 57,
    "start_time": "2024-11-07T22:16:03.249Z"
   },
   {
    "duration": 6,
    "start_time": "2024-11-07T22:16:03.307Z"
   },
   {
    "duration": 216,
    "start_time": "2024-11-07T22:16:03.314Z"
   },
   {
    "duration": 12,
    "start_time": "2024-11-07T22:16:03.532Z"
   },
   {
    "duration": 16,
    "start_time": "2024-11-07T22:16:03.545Z"
   },
   {
    "duration": 34,
    "start_time": "2024-11-07T22:16:03.564Z"
   },
   {
    "duration": 19,
    "start_time": "2024-11-07T22:16:03.599Z"
   },
   {
    "duration": 27,
    "start_time": "2024-11-07T22:16:03.619Z"
   },
   {
    "duration": 28,
    "start_time": "2024-11-07T22:16:03.648Z"
   },
   {
    "duration": 170,
    "start_time": "2024-11-07T22:16:03.677Z"
   },
   {
    "duration": 5,
    "start_time": "2024-11-07T22:16:03.848Z"
   },
   {
    "duration": 40,
    "start_time": "2024-11-07T22:16:03.854Z"
   },
   {
    "duration": 7,
    "start_time": "2024-11-07T22:16:03.895Z"
   },
   {
    "duration": 98,
    "start_time": "2024-11-07T22:16:03.903Z"
   },
   {
    "duration": 13,
    "start_time": "2024-11-07T22:16:04.002Z"
   },
   {
    "duration": 1085,
    "start_time": "2024-11-07T22:17:29.583Z"
   },
   {
    "duration": 45,
    "start_time": "2024-11-07T22:17:30.670Z"
   },
   {
    "duration": 10,
    "start_time": "2024-11-07T22:17:30.717Z"
   },
   {
    "duration": 17,
    "start_time": "2024-11-07T22:17:30.729Z"
   },
   {
    "duration": 37,
    "start_time": "2024-11-07T22:17:30.748Z"
   },
   {
    "duration": 16,
    "start_time": "2024-11-07T22:17:30.787Z"
   },
   {
    "duration": 83,
    "start_time": "2024-11-07T22:17:30.805Z"
   },
   {
    "duration": 11,
    "start_time": "2024-11-07T22:17:30.889Z"
   },
   {
    "duration": 44,
    "start_time": "2024-11-07T22:17:30.901Z"
   },
   {
    "duration": 9,
    "start_time": "2024-11-07T22:17:30.946Z"
   },
   {
    "duration": 64,
    "start_time": "2024-11-07T22:17:30.956Z"
   },
   {
    "duration": 9,
    "start_time": "2024-11-07T22:17:31.022Z"
   },
   {
    "duration": 48,
    "start_time": "2024-11-07T22:17:31.032Z"
   },
   {
    "duration": 15,
    "start_time": "2024-11-07T22:17:31.082Z"
   },
   {
    "duration": 39,
    "start_time": "2024-11-07T22:17:31.098Z"
   },
   {
    "duration": 9,
    "start_time": "2024-11-07T22:17:31.139Z"
   },
   {
    "duration": 58,
    "start_time": "2024-11-07T22:17:31.149Z"
   },
   {
    "duration": 20,
    "start_time": "2024-11-07T22:17:31.208Z"
   },
   {
    "duration": 43,
    "start_time": "2024-11-07T22:17:31.230Z"
   },
   {
    "duration": 49,
    "start_time": "2024-11-07T22:17:31.275Z"
   },
   {
    "duration": 192,
    "start_time": "2024-11-07T22:17:31.325Z"
   },
   {
    "duration": 23,
    "start_time": "2024-11-07T22:17:31.518Z"
   },
   {
    "duration": 232,
    "start_time": "2024-11-07T22:17:31.543Z"
   },
   {
    "duration": 4,
    "start_time": "2024-11-07T22:17:31.776Z"
   },
   {
    "duration": 54,
    "start_time": "2024-11-07T22:17:31.782Z"
   },
   {
    "duration": 42,
    "start_time": "2024-11-07T22:17:31.837Z"
   },
   {
    "duration": 82,
    "start_time": "2024-11-07T22:17:31.880Z"
   },
   {
    "duration": 38,
    "start_time": "2024-11-07T22:17:31.964Z"
   },
   {
    "duration": 57,
    "start_time": "2024-11-07T22:17:32.004Z"
   },
   {
    "duration": 47,
    "start_time": "2024-11-07T22:17:32.062Z"
   },
   {
    "duration": 25,
    "start_time": "2024-11-07T22:17:32.111Z"
   },
   {
    "duration": 4,
    "start_time": "2024-11-07T22:17:32.138Z"
   },
   {
    "duration": 169,
    "start_time": "2024-11-07T22:17:32.144Z"
   },
   {
    "duration": 5,
    "start_time": "2024-11-07T22:17:32.315Z"
   },
   {
    "duration": 22,
    "start_time": "2024-11-07T22:17:32.321Z"
   },
   {
    "duration": 59,
    "start_time": "2024-11-07T22:17:32.345Z"
   },
   {
    "duration": 7,
    "start_time": "2024-11-07T22:17:32.405Z"
   },
   {
    "duration": 247,
    "start_time": "2024-11-07T22:17:32.414Z"
   },
   {
    "duration": 14,
    "start_time": "2024-11-07T22:17:32.663Z"
   },
   {
    "duration": 24,
    "start_time": "2024-11-07T22:17:32.678Z"
   },
   {
    "duration": 15,
    "start_time": "2024-11-07T22:17:32.705Z"
   },
   {
    "duration": 43,
    "start_time": "2024-11-07T22:17:32.722Z"
   },
   {
    "duration": 20,
    "start_time": "2024-11-07T22:17:32.766Z"
   },
   {
    "duration": 43,
    "start_time": "2024-11-07T22:17:32.788Z"
   },
   {
    "duration": 219,
    "start_time": "2024-11-07T22:17:32.832Z"
   },
   {
    "duration": 7,
    "start_time": "2024-11-07T22:17:33.053Z"
   },
   {
    "duration": 26,
    "start_time": "2024-11-07T22:17:33.062Z"
   },
   {
    "duration": 16,
    "start_time": "2024-11-07T22:17:33.090Z"
   },
   {
    "duration": 91,
    "start_time": "2024-11-07T22:17:33.107Z"
   },
   {
    "duration": 16,
    "start_time": "2024-11-07T22:17:33.200Z"
   },
   {
    "duration": 109758,
    "start_time": "2024-11-07T22:17:33.218Z"
   },
   {
    "duration": 46,
    "start_time": "2024-11-07T22:19:22.978Z"
   },
   {
    "duration": 1053,
    "start_time": "2024-11-07T22:35:35.254Z"
   },
   {
    "duration": 45,
    "start_time": "2024-11-07T22:35:36.308Z"
   },
   {
    "duration": 11,
    "start_time": "2024-11-07T22:35:36.354Z"
   },
   {
    "duration": 43,
    "start_time": "2024-11-07T22:35:36.367Z"
   },
   {
    "duration": 31,
    "start_time": "2024-11-07T22:35:36.412Z"
   },
   {
    "duration": 8,
    "start_time": "2024-11-07T22:35:36.445Z"
   },
   {
    "duration": 57,
    "start_time": "2024-11-07T22:35:36.455Z"
   },
   {
    "duration": 10,
    "start_time": "2024-11-07T22:35:36.514Z"
   },
   {
    "duration": 44,
    "start_time": "2024-11-07T22:35:36.525Z"
   },
   {
    "duration": 8,
    "start_time": "2024-11-07T22:35:36.571Z"
   },
   {
    "duration": 58,
    "start_time": "2024-11-07T22:35:36.580Z"
   },
   {
    "duration": 9,
    "start_time": "2024-11-07T22:35:36.639Z"
   },
   {
    "duration": 23,
    "start_time": "2024-11-07T22:35:36.649Z"
   },
   {
    "duration": 16,
    "start_time": "2024-11-07T22:35:36.673Z"
   },
   {
    "duration": 44,
    "start_time": "2024-11-07T22:35:36.690Z"
   },
   {
    "duration": 10,
    "start_time": "2024-11-07T22:35:36.735Z"
   },
   {
    "duration": 50,
    "start_time": "2024-11-07T22:35:36.746Z"
   },
   {
    "duration": 15,
    "start_time": "2024-11-07T22:35:36.798Z"
   },
   {
    "duration": 23,
    "start_time": "2024-11-07T22:35:36.814Z"
   },
   {
    "duration": 24,
    "start_time": "2024-11-07T22:35:36.838Z"
   },
   {
    "duration": 225,
    "start_time": "2024-11-07T22:35:36.864Z"
   },
   {
    "duration": 25,
    "start_time": "2024-11-07T22:35:37.090Z"
   },
   {
    "duration": 247,
    "start_time": "2024-11-07T22:35:37.117Z"
   },
   {
    "duration": 4,
    "start_time": "2024-11-07T22:35:37.366Z"
   },
   {
    "duration": 30,
    "start_time": "2024-11-07T22:35:37.371Z"
   },
   {
    "duration": 16,
    "start_time": "2024-11-07T22:35:37.402Z"
   },
   {
    "duration": 54,
    "start_time": "2024-11-07T22:35:37.419Z"
   },
   {
    "duration": 9,
    "start_time": "2024-11-07T22:35:37.476Z"
   },
   {
    "duration": 52,
    "start_time": "2024-11-07T22:35:37.486Z"
   },
   {
    "duration": 58,
    "start_time": "2024-11-07T22:35:37.540Z"
   },
   {
    "duration": 28,
    "start_time": "2024-11-07T22:35:37.599Z"
   },
   {
    "duration": 15,
    "start_time": "2024-11-07T22:35:37.628Z"
   },
   {
    "duration": 168,
    "start_time": "2024-11-07T22:35:37.645Z"
   },
   {
    "duration": 4,
    "start_time": "2024-11-07T22:35:37.814Z"
   },
   {
    "duration": 12,
    "start_time": "2024-11-07T22:35:37.819Z"
   },
   {
    "duration": 37,
    "start_time": "2024-11-07T22:35:37.832Z"
   },
   {
    "duration": 6,
    "start_time": "2024-11-07T22:35:37.870Z"
   },
   {
    "duration": 236,
    "start_time": "2024-11-07T22:35:37.877Z"
   },
   {
    "duration": 12,
    "start_time": "2024-11-07T22:35:38.114Z"
   },
   {
    "duration": 6,
    "start_time": "2024-11-07T22:35:38.127Z"
   },
   {
    "duration": 26,
    "start_time": "2024-11-07T22:35:38.134Z"
   },
   {
    "duration": 31,
    "start_time": "2024-11-07T22:35:38.161Z"
   },
   {
    "duration": 13,
    "start_time": "2024-11-07T22:35:38.193Z"
   },
   {
    "duration": 3,
    "start_time": "2024-11-07T22:35:38.207Z"
   },
   {
    "duration": 159,
    "start_time": "2024-11-07T22:35:38.211Z"
   },
   {
    "duration": 5,
    "start_time": "2024-11-07T22:35:38.371Z"
   },
   {
    "duration": 30,
    "start_time": "2024-11-07T22:35:38.377Z"
   },
   {
    "duration": 14,
    "start_time": "2024-11-07T22:35:38.409Z"
   },
   {
    "duration": 32,
    "start_time": "2024-11-07T22:35:38.424Z"
   },
   {
    "duration": 10,
    "start_time": "2024-11-07T22:35:38.457Z"
   },
   {
    "duration": 107034,
    "start_time": "2024-11-07T22:35:38.469Z"
   },
   {
    "duration": 38,
    "start_time": "2024-11-07T22:37:25.506Z"
   },
   {
    "duration": 1044,
    "start_time": "2024-11-07T22:39:45.611Z"
   },
   {
    "duration": 44,
    "start_time": "2024-11-07T22:39:46.657Z"
   },
   {
    "duration": 11,
    "start_time": "2024-11-07T22:39:46.702Z"
   },
   {
    "duration": 10,
    "start_time": "2024-11-07T22:39:46.715Z"
   },
   {
    "duration": 27,
    "start_time": "2024-11-07T22:39:46.727Z"
   },
   {
    "duration": 9,
    "start_time": "2024-11-07T22:39:46.756Z"
   },
   {
    "duration": 33,
    "start_time": "2024-11-07T22:39:46.766Z"
   },
   {
    "duration": 13,
    "start_time": "2024-11-07T22:39:46.800Z"
   },
   {
    "duration": 41,
    "start_time": "2024-11-07T22:39:46.814Z"
   },
   {
    "duration": 9,
    "start_time": "2024-11-07T22:39:46.856Z"
   },
   {
    "duration": 34,
    "start_time": "2024-11-07T22:39:46.866Z"
   },
   {
    "duration": 9,
    "start_time": "2024-11-07T22:39:46.902Z"
   },
   {
    "duration": 73,
    "start_time": "2024-11-07T22:39:46.912Z"
   },
   {
    "duration": 8,
    "start_time": "2024-11-07T22:39:46.988Z"
   },
   {
    "duration": 35,
    "start_time": "2024-11-07T22:39:46.997Z"
   },
   {
    "duration": 10,
    "start_time": "2024-11-07T22:39:47.033Z"
   },
   {
    "duration": 32,
    "start_time": "2024-11-07T22:39:47.045Z"
   },
   {
    "duration": 42,
    "start_time": "2024-11-07T22:39:47.078Z"
   },
   {
    "duration": 12,
    "start_time": "2024-11-07T22:39:47.122Z"
   },
   {
    "duration": 13,
    "start_time": "2024-11-07T22:39:47.135Z"
   },
   {
    "duration": 188,
    "start_time": "2024-11-07T22:39:47.149Z"
   },
   {
    "duration": 32,
    "start_time": "2024-11-07T22:39:47.339Z"
   },
   {
    "duration": 242,
    "start_time": "2024-11-07T22:39:47.372Z"
   },
   {
    "duration": 4,
    "start_time": "2024-11-07T22:39:47.616Z"
   },
   {
    "duration": 21,
    "start_time": "2024-11-07T22:39:47.621Z"
   },
   {
    "duration": 13,
    "start_time": "2024-11-07T22:39:47.644Z"
   },
   {
    "duration": 59,
    "start_time": "2024-11-07T22:39:47.658Z"
   },
   {
    "duration": 10,
    "start_time": "2024-11-07T22:39:47.718Z"
   },
   {
    "duration": 9,
    "start_time": "2024-11-07T22:39:47.730Z"
   },
   {
    "duration": 13,
    "start_time": "2024-11-07T22:39:47.740Z"
   },
   {
    "duration": 18,
    "start_time": "2024-11-07T22:39:47.754Z"
   },
   {
    "duration": 13,
    "start_time": "2024-11-07T22:39:47.773Z"
   },
   {
    "duration": 191,
    "start_time": "2024-11-07T22:39:47.787Z"
   },
   {
    "duration": 4,
    "start_time": "2024-11-07T22:39:47.979Z"
   },
   {
    "duration": 20,
    "start_time": "2024-11-07T22:39:47.985Z"
   },
   {
    "duration": 33,
    "start_time": "2024-11-07T22:39:48.006Z"
   },
   {
    "duration": 57,
    "start_time": "2024-11-07T22:39:48.040Z"
   },
   {
    "duration": 213,
    "start_time": "2024-11-07T22:39:48.098Z"
   },
   {
    "duration": 13,
    "start_time": "2024-11-07T22:39:48.312Z"
   },
   {
    "duration": 21,
    "start_time": "2024-11-07T22:39:48.326Z"
   },
   {
    "duration": 13,
    "start_time": "2024-11-07T22:39:48.350Z"
   },
   {
    "duration": 6,
    "start_time": "2024-11-07T22:39:48.364Z"
   },
   {
    "duration": 19,
    "start_time": "2024-11-07T22:39:48.372Z"
   },
   {
    "duration": 20,
    "start_time": "2024-11-07T22:39:48.392Z"
   },
   {
    "duration": 153,
    "start_time": "2024-11-07T22:39:48.413Z"
   },
   {
    "duration": 6,
    "start_time": "2024-11-07T22:39:48.567Z"
   },
   {
    "duration": 88,
    "start_time": "2024-11-07T22:39:48.574Z"
   },
   {
    "duration": 9,
    "start_time": "2024-11-07T22:39:48.663Z"
   },
   {
    "duration": 90,
    "start_time": "2024-11-07T22:39:48.673Z"
   },
   {
    "duration": 11,
    "start_time": "2024-11-07T22:39:48.764Z"
   },
   {
    "duration": 107752,
    "start_time": "2024-11-07T22:39:48.776Z"
   },
   {
    "duration": 39,
    "start_time": "2024-11-07T22:41:36.530Z"
   },
   {
    "duration": 1438,
    "start_time": "2024-11-08T17:38:20.658Z"
   },
   {
    "duration": 103,
    "start_time": "2024-11-08T17:38:22.098Z"
   },
   {
    "duration": 16,
    "start_time": "2024-11-08T17:38:22.203Z"
   },
   {
    "duration": 12,
    "start_time": "2024-11-08T17:38:22.289Z"
   },
   {
    "duration": 78,
    "start_time": "2024-11-08T17:38:23.008Z"
   },
   {
    "duration": 10,
    "start_time": "2024-11-08T17:38:23.189Z"
   },
   {
    "duration": 155,
    "start_time": "2024-11-08T17:38:23.360Z"
   },
   {
    "duration": 12,
    "start_time": "2024-11-08T17:38:23.881Z"
   },
   {
    "duration": 97,
    "start_time": "2024-11-08T17:38:24.049Z"
   },
   {
    "duration": 10,
    "start_time": "2024-11-08T17:38:24.246Z"
   },
   {
    "duration": 94,
    "start_time": "2024-11-08T17:38:24.435Z"
   },
   {
    "duration": 13,
    "start_time": "2024-11-08T17:38:24.665Z"
   },
   {
    "duration": 70,
    "start_time": "2024-11-08T17:38:24.865Z"
   },
   {
    "duration": 12,
    "start_time": "2024-11-08T17:38:25.375Z"
   },
   {
    "duration": 75,
    "start_time": "2024-11-08T17:38:25.436Z"
   },
   {
    "duration": 12,
    "start_time": "2024-11-08T17:38:25.703Z"
   },
   {
    "duration": 43,
    "start_time": "2024-11-08T17:38:27.014Z"
   },
   {
    "duration": 35,
    "start_time": "2024-11-08T17:39:28.891Z"
   },
   {
    "duration": 20,
    "start_time": "2024-11-08T17:39:32.703Z"
   },
   {
    "duration": 17,
    "start_time": "2024-11-08T17:39:56.721Z"
   },
   {
    "duration": 14,
    "start_time": "2024-11-08T17:39:57.431Z"
   },
   {
    "duration": 213,
    "start_time": "2024-11-08T17:39:59.749Z"
   },
   {
    "duration": 197,
    "start_time": "2024-11-08T17:40:37.806Z"
   },
   {
    "duration": 33,
    "start_time": "2024-11-08T17:40:38.680Z"
   },
   {
    "duration": 291,
    "start_time": "2024-11-08T17:40:39.209Z"
   },
   {
    "duration": 5,
    "start_time": "2024-11-08T17:40:58.826Z"
   },
   {
    "duration": 7,
    "start_time": "2024-11-08T17:40:59.311Z"
   },
   {
    "duration": 5,
    "start_time": "2024-11-08T17:40:59.865Z"
   },
   {
    "duration": 66,
    "start_time": "2024-11-08T17:41:00.462Z"
   },
   {
    "duration": 10,
    "start_time": "2024-11-08T17:41:14.337Z"
   },
   {
    "duration": 11,
    "start_time": "2024-11-08T17:41:46.267Z"
   },
   {
    "duration": 11,
    "start_time": "2024-11-08T17:41:46.913Z"
   },
   {
    "duration": 18,
    "start_time": "2024-11-08T17:41:49.164Z"
   },
   {
    "duration": 5,
    "start_time": "2024-11-08T17:41:52.458Z"
   },
   {
    "duration": 202,
    "start_time": "2024-11-08T17:41:52.974Z"
   },
   {
    "duration": 4,
    "start_time": "2024-11-08T17:42:11.217Z"
   },
   {
    "duration": 5,
    "start_time": "2024-11-08T17:42:11.725Z"
   },
   {
    "duration": 31,
    "start_time": "2024-11-08T17:42:12.505Z"
   },
   {
    "duration": 8,
    "start_time": "2024-11-08T17:42:46.821Z"
   },
   {
    "duration": 263,
    "start_time": "2024-11-08T17:42:47.275Z"
   },
   {
    "duration": 15,
    "start_time": "2024-11-08T17:42:48.505Z"
   },
   {
    "duration": 8,
    "start_time": "2024-11-08T17:43:59.462Z"
   },
   {
    "duration": 18,
    "start_time": "2024-11-08T17:44:00.230Z"
   },
   {
    "duration": 11,
    "start_time": "2024-11-08T17:44:03.248Z"
   },
   {
    "duration": 8,
    "start_time": "2024-11-08T17:44:03.864Z"
   },
   {
    "duration": 6,
    "start_time": "2024-11-08T17:44:04.538Z"
   },
   {
    "duration": 194,
    "start_time": "2024-11-08T17:44:36.989Z"
   },
   {
    "duration": 7,
    "start_time": "2024-11-08T17:44:44.774Z"
   },
   {
    "duration": 13,
    "start_time": "2024-11-08T17:45:39.776Z"
   },
   {
    "duration": 6,
    "start_time": "2024-11-08T17:45:43.838Z"
   },
   {
    "duration": 113,
    "start_time": "2024-11-08T17:45:44.468Z"
   },
   {
    "duration": 15,
    "start_time": "2024-11-08T17:45:45.055Z"
   },
   {
    "duration": 19,
    "start_time": "2024-11-08T17:45:54.988Z"
   },
   {
    "duration": 60,
    "start_time": "2024-11-09T19:22:09.221Z"
   },
   {
    "duration": 1407,
    "start_time": "2024-11-09T19:22:19.864Z"
   },
   {
    "duration": 98,
    "start_time": "2024-11-09T19:22:21.273Z"
   },
   {
    "duration": 14,
    "start_time": "2024-11-09T19:22:21.373Z"
   },
   {
    "duration": 14,
    "start_time": "2024-11-09T19:22:21.388Z"
   },
   {
    "duration": 78,
    "start_time": "2024-11-09T19:22:21.405Z"
   },
   {
    "duration": 9,
    "start_time": "2024-11-09T19:22:21.485Z"
   },
   {
    "duration": 157,
    "start_time": "2024-11-09T19:22:21.495Z"
   },
   {
    "duration": 20,
    "start_time": "2024-11-09T19:22:21.654Z"
   },
   {
    "duration": 100,
    "start_time": "2024-11-09T19:22:21.675Z"
   },
   {
    "duration": 10,
    "start_time": "2024-11-09T19:22:21.777Z"
   },
   {
    "duration": 80,
    "start_time": "2024-11-09T19:22:21.789Z"
   },
   {
    "duration": 11,
    "start_time": "2024-11-09T19:22:21.871Z"
   },
   {
    "duration": 69,
    "start_time": "2024-11-09T19:22:21.884Z"
   },
   {
    "duration": 11,
    "start_time": "2024-11-09T19:22:21.956Z"
   },
   {
    "duration": 78,
    "start_time": "2024-11-09T19:22:21.968Z"
   },
   {
    "duration": 11,
    "start_time": "2024-11-09T19:22:22.047Z"
   },
   {
    "duration": 36,
    "start_time": "2024-11-09T19:22:22.059Z"
   },
   {
    "duration": 41,
    "start_time": "2024-11-09T19:22:22.097Z"
   },
   {
    "duration": 14,
    "start_time": "2024-11-09T19:22:22.141Z"
   },
   {
    "duration": 16,
    "start_time": "2024-11-09T19:22:22.157Z"
   },
   {
    "duration": 216,
    "start_time": "2024-11-09T19:22:22.175Z"
   },
   {
    "duration": 39,
    "start_time": "2024-11-09T19:22:22.393Z"
   },
   {
    "duration": 313,
    "start_time": "2024-11-09T19:22:22.434Z"
   },
   {
    "duration": 4,
    "start_time": "2024-11-09T19:22:22.749Z"
   },
   {
    "duration": 8,
    "start_time": "2024-11-09T19:22:22.755Z"
   },
   {
    "duration": 11,
    "start_time": "2024-11-09T19:22:22.764Z"
   },
   {
    "duration": 95,
    "start_time": "2024-11-09T19:22:22.777Z"
   },
   {
    "duration": 9,
    "start_time": "2024-11-09T19:22:22.874Z"
   },
   {
    "duration": 15,
    "start_time": "2024-11-09T19:22:22.884Z"
   },
   {
    "duration": 42,
    "start_time": "2024-11-09T19:22:22.900Z"
   },
   {
    "duration": 20,
    "start_time": "2024-11-09T19:22:22.944Z"
   },
   {
    "duration": 5,
    "start_time": "2024-11-09T19:22:22.965Z"
   },
   {
    "duration": 251,
    "start_time": "2024-11-09T19:22:22.971Z"
   },
   {
    "duration": 5,
    "start_time": "2024-11-09T19:22:23.224Z"
   },
   {
    "duration": 17,
    "start_time": "2024-11-09T19:22:23.231Z"
   },
   {
    "duration": 36,
    "start_time": "2024-11-09T19:22:23.250Z"
   },
   {
    "duration": 7,
    "start_time": "2024-11-09T19:22:23.287Z"
   },
   {
    "duration": 276,
    "start_time": "2024-11-09T19:22:23.295Z"
   },
   {
    "duration": 13,
    "start_time": "2024-11-09T19:22:23.573Z"
   },
   {
    "duration": 16,
    "start_time": "2024-11-09T19:22:23.587Z"
   },
   {
    "duration": 13,
    "start_time": "2024-11-09T19:22:23.619Z"
   },
   {
    "duration": 32,
    "start_time": "2024-11-09T19:22:23.635Z"
   },
   {
    "duration": 15,
    "start_time": "2024-11-09T19:22:23.670Z"
   },
   {
    "duration": 5,
    "start_time": "2024-11-09T19:22:23.687Z"
   },
   {
    "duration": 215,
    "start_time": "2024-11-09T19:22:23.693Z"
   },
   {
    "duration": 12,
    "start_time": "2024-11-09T19:22:23.910Z"
   },
   {
    "duration": 20,
    "start_time": "2024-11-09T19:22:23.924Z"
   },
   {
    "duration": 19,
    "start_time": "2024-11-09T19:22:23.946Z"
   },
   {
    "duration": 128,
    "start_time": "2024-11-09T19:22:23.966Z"
   },
   {
    "duration": 0,
    "start_time": "2024-11-09T19:22:24.096Z"
   },
   {
    "duration": 0,
    "start_time": "2024-11-09T19:22:24.096Z"
   },
   {
    "duration": 0,
    "start_time": "2024-11-09T19:22:24.097Z"
   },
   {
    "duration": 13,
    "start_time": "2024-11-09T19:22:38.497Z"
   },
   {
    "duration": 156,
    "start_time": "2024-11-09T19:23:20.646Z"
   },
   {
    "duration": 67,
    "start_time": "2024-11-09T19:23:56.452Z"
   },
   {
    "duration": 24,
    "start_time": "2024-11-09T19:24:36.597Z"
   },
   {
    "duration": 52,
    "start_time": "2024-11-11T21:32:07.389Z"
   },
   {
    "duration": 1490,
    "start_time": "2024-11-11T21:32:11.824Z"
   },
   {
    "duration": 190,
    "start_time": "2024-11-11T21:32:13.317Z"
   },
   {
    "duration": 16,
    "start_time": "2024-11-11T21:32:13.508Z"
   },
   {
    "duration": 16,
    "start_time": "2024-11-11T21:32:13.526Z"
   },
   {
    "duration": 95,
    "start_time": "2024-11-11T21:32:13.545Z"
   },
   {
    "duration": 13,
    "start_time": "2024-11-11T21:32:13.642Z"
   },
   {
    "duration": 97,
    "start_time": "2024-11-11T21:32:13.657Z"
   },
   {
    "duration": 15,
    "start_time": "2024-11-11T21:32:13.756Z"
   },
   {
    "duration": 111,
    "start_time": "2024-11-11T21:32:13.773Z"
   },
   {
    "duration": 16,
    "start_time": "2024-11-11T21:32:13.886Z"
   },
   {
    "duration": 161,
    "start_time": "2024-11-11T21:32:13.904Z"
   },
   {
    "duration": 13,
    "start_time": "2024-11-11T21:32:14.067Z"
   },
   {
    "duration": 91,
    "start_time": "2024-11-11T21:32:14.082Z"
   },
   {
    "duration": 13,
    "start_time": "2024-11-11T21:32:14.176Z"
   },
   {
    "duration": 97,
    "start_time": "2024-11-11T21:32:14.190Z"
   },
   {
    "duration": 13,
    "start_time": "2024-11-11T21:32:14.289Z"
   },
   {
    "duration": 90,
    "start_time": "2024-11-11T21:32:14.304Z"
   },
   {
    "duration": 21,
    "start_time": "2024-11-11T21:32:14.395Z"
   },
   {
    "duration": 48,
    "start_time": "2024-11-11T21:32:14.417Z"
   },
   {
    "duration": 18,
    "start_time": "2024-11-11T21:32:14.467Z"
   },
   {
    "duration": 228,
    "start_time": "2024-11-11T21:32:14.486Z"
   },
   {
    "duration": 43,
    "start_time": "2024-11-11T21:32:14.716Z"
   },
   {
    "duration": 298,
    "start_time": "2024-11-11T21:32:14.760Z"
   },
   {
    "duration": 5,
    "start_time": "2024-11-11T21:32:15.060Z"
   },
   {
    "duration": 95,
    "start_time": "2024-11-11T21:32:15.066Z"
   },
   {
    "duration": 16,
    "start_time": "2024-11-11T21:32:15.163Z"
   },
   {
    "duration": 78,
    "start_time": "2024-11-11T21:32:15.181Z"
   },
   {
    "duration": 12,
    "start_time": "2024-11-11T21:32:15.262Z"
   },
   {
    "duration": 46,
    "start_time": "2024-11-11T21:32:15.276Z"
   },
   {
    "duration": 24,
    "start_time": "2024-11-11T21:32:15.325Z"
   },
   {
    "duration": 27,
    "start_time": "2024-11-11T21:32:15.351Z"
   },
   {
    "duration": 26,
    "start_time": "2024-11-11T21:32:15.379Z"
   },
   {
    "duration": 224,
    "start_time": "2024-11-11T21:32:15.407Z"
   },
   {
    "duration": 4,
    "start_time": "2024-11-11T21:32:15.633Z"
   },
   {
    "duration": 16,
    "start_time": "2024-11-11T21:32:15.639Z"
   },
   {
    "duration": 36,
    "start_time": "2024-11-11T21:32:15.657Z"
   },
   {
    "duration": 6,
    "start_time": "2024-11-11T21:32:15.695Z"
   },
   {
    "duration": 302,
    "start_time": "2024-11-11T21:32:15.703Z"
   },
   {
    "duration": 16,
    "start_time": "2024-11-11T21:32:16.006Z"
   },
   {
    "duration": 15,
    "start_time": "2024-11-11T21:32:16.023Z"
   },
   {
    "duration": 12,
    "start_time": "2024-11-11T21:32:16.057Z"
   },
   {
    "duration": 11,
    "start_time": "2024-11-11T21:32:16.071Z"
   },
   {
    "duration": 14,
    "start_time": "2024-11-11T21:32:16.083Z"
   },
   {
    "duration": 10,
    "start_time": "2024-11-11T21:32:16.098Z"
   },
   {
    "duration": 233,
    "start_time": "2024-11-11T21:32:16.110Z"
   },
   {
    "duration": 11,
    "start_time": "2024-11-11T21:32:16.344Z"
   },
   {
    "duration": 40,
    "start_time": "2024-11-11T21:32:16.356Z"
   },
   {
    "duration": 15,
    "start_time": "2024-11-11T21:32:16.397Z"
   },
   {
    "duration": 14,
    "start_time": "2024-11-11T21:32:16.414Z"
   },
   {
    "duration": 102,
    "start_time": "2024-11-11T21:32:16.429Z"
   },
   {
    "duration": 29,
    "start_time": "2024-11-11T21:32:16.533Z"
   },
   {
    "duration": 391,
    "start_time": "2024-11-11T21:32:16.563Z"
   },
   {
    "duration": 0,
    "start_time": "2024-11-11T21:32:16.956Z"
   },
   {
    "duration": 30,
    "start_time": "2024-11-11T21:35:47.831Z"
   },
   {
    "duration": 14,
    "start_time": "2024-11-11T21:36:14.987Z"
   },
   {
    "duration": 6,
    "start_time": "2024-11-11T21:36:30.660Z"
   },
   {
    "duration": 5,
    "start_time": "2024-11-11T21:39:00.752Z"
   },
   {
    "duration": 3,
    "start_time": "2024-11-11T21:40:01.623Z"
   },
   {
    "duration": 6,
    "start_time": "2024-11-11T21:40:06.836Z"
   },
   {
    "duration": 4,
    "start_time": "2024-11-11T21:40:10.628Z"
   },
   {
    "duration": 5,
    "start_time": "2024-11-11T21:40:12.348Z"
   },
   {
    "duration": 7,
    "start_time": "2024-11-11T21:40:26.783Z"
   },
   {
    "duration": 5,
    "start_time": "2024-11-11T21:40:32.651Z"
   },
   {
    "duration": 6,
    "start_time": "2024-11-11T21:40:33.407Z"
   },
   {
    "duration": 1237,
    "start_time": "2024-11-11T21:40:42.801Z"
   },
   {
    "duration": 55,
    "start_time": "2024-11-11T21:40:44.040Z"
   },
   {
    "duration": 13,
    "start_time": "2024-11-11T21:40:44.097Z"
   },
   {
    "duration": 14,
    "start_time": "2024-11-11T21:40:44.111Z"
   },
   {
    "duration": 35,
    "start_time": "2024-11-11T21:40:44.127Z"
   },
   {
    "duration": 11,
    "start_time": "2024-11-11T21:40:44.164Z"
   },
   {
    "duration": 48,
    "start_time": "2024-11-11T21:40:44.176Z"
   },
   {
    "duration": 13,
    "start_time": "2024-11-11T21:40:44.225Z"
   },
   {
    "duration": 54,
    "start_time": "2024-11-11T21:40:44.239Z"
   },
   {
    "duration": 10,
    "start_time": "2024-11-11T21:40:44.295Z"
   },
   {
    "duration": 46,
    "start_time": "2024-11-11T21:40:44.306Z"
   },
   {
    "duration": 41,
    "start_time": "2024-11-11T21:40:44.354Z"
   },
   {
    "duration": 27,
    "start_time": "2024-11-11T21:40:44.397Z"
   },
   {
    "duration": 11,
    "start_time": "2024-11-11T21:40:44.428Z"
   },
   {
    "duration": 32,
    "start_time": "2024-11-11T21:40:44.441Z"
   },
   {
    "duration": 12,
    "start_time": "2024-11-11T21:40:44.474Z"
   },
   {
    "duration": 70,
    "start_time": "2024-11-11T21:40:44.488Z"
   },
   {
    "duration": 21,
    "start_time": "2024-11-11T21:40:44.560Z"
   },
   {
    "duration": 18,
    "start_time": "2024-11-11T21:40:44.583Z"
   },
   {
    "duration": 50,
    "start_time": "2024-11-11T21:40:44.603Z"
   },
   {
    "duration": 225,
    "start_time": "2024-11-11T21:40:44.655Z"
   },
   {
    "duration": 29,
    "start_time": "2024-11-11T21:40:44.883Z"
   },
   {
    "duration": 325,
    "start_time": "2024-11-11T21:40:44.914Z"
   },
   {
    "duration": 5,
    "start_time": "2024-11-11T21:40:45.241Z"
   },
   {
    "duration": 13,
    "start_time": "2024-11-11T21:40:45.253Z"
   },
   {
    "duration": 9,
    "start_time": "2024-11-11T21:40:45.269Z"
   },
   {
    "duration": 90,
    "start_time": "2024-11-11T21:40:45.280Z"
   },
   {
    "duration": 12,
    "start_time": "2024-11-11T21:40:45.372Z"
   },
   {
    "duration": 59,
    "start_time": "2024-11-11T21:40:45.386Z"
   },
   {
    "duration": 19,
    "start_time": "2024-11-11T21:40:45.447Z"
   },
   {
    "duration": 20,
    "start_time": "2024-11-11T21:40:45.468Z"
   },
   {
    "duration": 37,
    "start_time": "2024-11-11T21:40:45.490Z"
   },
   {
    "duration": 232,
    "start_time": "2024-11-11T21:40:45.528Z"
   },
   {
    "duration": 5,
    "start_time": "2024-11-11T21:40:45.762Z"
   },
   {
    "duration": 8,
    "start_time": "2024-11-11T21:40:45.768Z"
   },
   {
    "duration": 38,
    "start_time": "2024-11-11T21:40:45.778Z"
   },
   {
    "duration": 8,
    "start_time": "2024-11-11T21:40:45.817Z"
   },
   {
    "duration": 310,
    "start_time": "2024-11-11T21:40:45.827Z"
   },
   {
    "duration": 24,
    "start_time": "2024-11-11T21:40:46.139Z"
   },
   {
    "duration": 12,
    "start_time": "2024-11-11T21:40:46.164Z"
   },
   {
    "duration": 11,
    "start_time": "2024-11-11T21:40:46.180Z"
   },
   {
    "duration": 8,
    "start_time": "2024-11-11T21:40:46.193Z"
   },
   {
    "duration": 13,
    "start_time": "2024-11-11T21:40:46.202Z"
   },
   {
    "duration": 5,
    "start_time": "2024-11-11T21:40:46.253Z"
   },
   {
    "duration": 216,
    "start_time": "2024-11-11T21:40:46.259Z"
   },
   {
    "duration": 7,
    "start_time": "2024-11-11T21:40:46.476Z"
   },
   {
    "duration": 12,
    "start_time": "2024-11-11T21:40:46.484Z"
   },
   {
    "duration": 17,
    "start_time": "2024-11-11T21:40:46.497Z"
   },
   {
    "duration": 42,
    "start_time": "2024-11-11T21:40:46.516Z"
   },
   {
    "duration": 38,
    "start_time": "2024-11-11T21:40:46.560Z"
   },
   {
    "duration": 15,
    "start_time": "2024-11-11T21:40:46.601Z"
   },
   {
    "duration": 35,
    "start_time": "2024-11-11T21:40:46.618Z"
   },
   {
    "duration": 7,
    "start_time": "2024-11-11T21:40:46.655Z"
   },
   {
    "duration": 489,
    "start_time": "2024-11-11T21:40:46.664Z"
   },
   {
    "duration": 0,
    "start_time": "2024-11-11T21:40:47.155Z"
   },
   {
    "duration": 6,
    "start_time": "2024-11-11T21:41:09.889Z"
   },
   {
    "duration": 5,
    "start_time": "2024-11-11T21:41:23.647Z"
   },
   {
    "duration": 6,
    "start_time": "2024-11-11T21:41:24.404Z"
   },
   {
    "duration": 5,
    "start_time": "2024-11-11T21:42:36.022Z"
   },
   {
    "duration": 10,
    "start_time": "2024-11-11T21:42:51.181Z"
   },
   {
    "duration": 1201,
    "start_time": "2024-11-11T21:42:56.088Z"
   },
   {
    "duration": 55,
    "start_time": "2024-11-11T21:42:57.291Z"
   },
   {
    "duration": 14,
    "start_time": "2024-11-11T21:42:57.348Z"
   },
   {
    "duration": 14,
    "start_time": "2024-11-11T21:42:57.363Z"
   },
   {
    "duration": 34,
    "start_time": "2024-11-11T21:42:57.380Z"
   },
   {
    "duration": 12,
    "start_time": "2024-11-11T21:42:57.416Z"
   },
   {
    "duration": 61,
    "start_time": "2024-11-11T21:42:57.429Z"
   },
   {
    "duration": 13,
    "start_time": "2024-11-11T21:42:57.492Z"
   },
   {
    "duration": 46,
    "start_time": "2024-11-11T21:42:57.507Z"
   },
   {
    "duration": 10,
    "start_time": "2024-11-11T21:42:57.555Z"
   },
   {
    "duration": 39,
    "start_time": "2024-11-11T21:42:57.567Z"
   },
   {
    "duration": 13,
    "start_time": "2024-11-11T21:42:57.607Z"
   },
   {
    "duration": 38,
    "start_time": "2024-11-11T21:42:57.621Z"
   },
   {
    "duration": 12,
    "start_time": "2024-11-11T21:42:57.662Z"
   },
   {
    "duration": 31,
    "start_time": "2024-11-11T21:42:57.676Z"
   },
   {
    "duration": 12,
    "start_time": "2024-11-11T21:42:57.709Z"
   },
   {
    "duration": 58,
    "start_time": "2024-11-11T21:42:57.722Z"
   },
   {
    "duration": 19,
    "start_time": "2024-11-11T21:42:57.782Z"
   },
   {
    "duration": 52,
    "start_time": "2024-11-11T21:42:57.803Z"
   },
   {
    "duration": 22,
    "start_time": "2024-11-11T21:42:57.857Z"
   },
   {
    "duration": 228,
    "start_time": "2024-11-11T21:42:57.881Z"
   },
   {
    "duration": 42,
    "start_time": "2024-11-11T21:42:58.111Z"
   },
   {
    "duration": 297,
    "start_time": "2024-11-11T21:42:58.155Z"
   },
   {
    "duration": 5,
    "start_time": "2024-11-11T21:42:58.453Z"
   },
   {
    "duration": 6,
    "start_time": "2024-11-11T21:42:58.459Z"
   },
   {
    "duration": 4,
    "start_time": "2024-11-11T21:42:58.467Z"
   },
   {
    "duration": 99,
    "start_time": "2024-11-11T21:42:58.472Z"
   },
   {
    "duration": 11,
    "start_time": "2024-11-11T21:42:58.573Z"
   },
   {
    "duration": 13,
    "start_time": "2024-11-11T21:42:58.585Z"
   },
   {
    "duration": 12,
    "start_time": "2024-11-11T21:42:58.600Z"
   },
   {
    "duration": 50,
    "start_time": "2024-11-11T21:42:58.614Z"
   },
   {
    "duration": 7,
    "start_time": "2024-11-11T21:42:58.666Z"
   },
   {
    "duration": 235,
    "start_time": "2024-11-11T21:42:58.674Z"
   },
   {
    "duration": 5,
    "start_time": "2024-11-11T21:42:58.910Z"
   },
   {
    "duration": 21,
    "start_time": "2024-11-11T21:42:58.916Z"
   },
   {
    "duration": 41,
    "start_time": "2024-11-11T21:42:58.938Z"
   },
   {
    "duration": 8,
    "start_time": "2024-11-11T21:42:58.980Z"
   },
   {
    "duration": 427,
    "start_time": "2024-11-11T21:42:58.990Z"
   },
   {
    "duration": 18,
    "start_time": "2024-11-11T21:42:59.419Z"
   },
   {
    "duration": 9,
    "start_time": "2024-11-11T21:42:59.452Z"
   },
   {
    "duration": 13,
    "start_time": "2024-11-11T21:42:59.466Z"
   },
   {
    "duration": 9,
    "start_time": "2024-11-11T21:42:59.481Z"
   },
   {
    "duration": 12,
    "start_time": "2024-11-11T21:42:59.491Z"
   },
   {
    "duration": 5,
    "start_time": "2024-11-11T21:42:59.505Z"
   },
   {
    "duration": 208,
    "start_time": "2024-11-11T21:42:59.553Z"
   },
   {
    "duration": 7,
    "start_time": "2024-11-11T21:42:59.763Z"
   },
   {
    "duration": 14,
    "start_time": "2024-11-11T21:42:59.771Z"
   },
   {
    "duration": 10,
    "start_time": "2024-11-11T21:42:59.786Z"
   },
   {
    "duration": 30,
    "start_time": "2024-11-11T21:42:59.797Z"
   },
   {
    "duration": 131,
    "start_time": "2024-11-11T21:42:59.829Z"
   },
   {
    "duration": 14,
    "start_time": "2024-11-11T21:42:59.961Z"
   },
   {
    "duration": 5,
    "start_time": "2024-11-11T21:42:59.977Z"
   },
   {
    "duration": 22,
    "start_time": "2024-11-11T21:42:59.984Z"
   },
   {
    "duration": 447,
    "start_time": "2024-11-11T21:43:00.008Z"
   },
   {
    "duration": 0,
    "start_time": "2024-11-11T21:43:00.457Z"
   },
   {
    "duration": 29,
    "start_time": "2024-11-11T21:55:42.378Z"
   },
   {
    "duration": 6,
    "start_time": "2024-11-11T21:55:44.298Z"
   },
   {
    "duration": 10,
    "start_time": "2024-11-11T21:55:47.149Z"
   },
   {
    "duration": 13,
    "start_time": "2024-11-11T21:56:01.733Z"
   },
   {
    "duration": 16,
    "start_time": "2024-11-11T21:56:05.648Z"
   },
   {
    "duration": 58,
    "start_time": "2024-11-11T22:00:54.954Z"
   },
   {
    "duration": 65,
    "start_time": "2024-11-11T22:01:09.700Z"
   },
   {
    "duration": 74,
    "start_time": "2024-11-11T22:02:33.217Z"
   },
   {
    "duration": 14,
    "start_time": "2024-11-11T22:02:49.909Z"
   },
   {
    "duration": 33,
    "start_time": "2024-11-11T22:03:25.763Z"
   },
   {
    "duration": 5,
    "start_time": "2024-11-11T22:03:29.218Z"
   },
   {
    "duration": 1263,
    "start_time": "2024-11-11T22:03:51.441Z"
   },
   {
    "duration": 55,
    "start_time": "2024-11-11T22:03:52.706Z"
   },
   {
    "duration": 14,
    "start_time": "2024-11-11T22:03:52.763Z"
   },
   {
    "duration": 13,
    "start_time": "2024-11-11T22:03:52.779Z"
   },
   {
    "duration": 35,
    "start_time": "2024-11-11T22:03:52.794Z"
   },
   {
    "duration": 24,
    "start_time": "2024-11-11T22:03:52.830Z"
   },
   {
    "duration": 41,
    "start_time": "2024-11-11T22:03:52.856Z"
   },
   {
    "duration": 14,
    "start_time": "2024-11-11T22:03:52.899Z"
   },
   {
    "duration": 88,
    "start_time": "2024-11-11T22:03:52.915Z"
   },
   {
    "duration": 10,
    "start_time": "2024-11-11T22:03:53.004Z"
   },
   {
    "duration": 38,
    "start_time": "2024-11-11T22:03:53.016Z"
   },
   {
    "duration": 12,
    "start_time": "2024-11-11T22:03:53.055Z"
   },
   {
    "duration": 31,
    "start_time": "2024-11-11T22:03:53.068Z"
   },
   {
    "duration": 12,
    "start_time": "2024-11-11T22:03:53.102Z"
   },
   {
    "duration": 116,
    "start_time": "2024-11-11T22:03:53.115Z"
   },
   {
    "duration": 13,
    "start_time": "2024-11-11T22:03:53.232Z"
   },
   {
    "duration": 40,
    "start_time": "2024-11-11T22:03:53.246Z"
   },
   {
    "duration": 21,
    "start_time": "2024-11-11T22:03:53.288Z"
   },
   {
    "duration": 53,
    "start_time": "2024-11-11T22:03:53.311Z"
   },
   {
    "duration": 18,
    "start_time": "2024-11-11T22:03:53.366Z"
   },
   {
    "duration": 217,
    "start_time": "2024-11-11T22:03:53.386Z"
   },
   {
    "duration": 27,
    "start_time": "2024-11-11T22:03:53.605Z"
   },
   {
    "duration": 329,
    "start_time": "2024-11-11T22:03:53.634Z"
   },
   {
    "duration": 7,
    "start_time": "2024-11-11T22:03:53.965Z"
   },
   {
    "duration": 55,
    "start_time": "2024-11-11T22:03:53.974Z"
   },
   {
    "duration": 4,
    "start_time": "2024-11-11T22:03:54.031Z"
   },
   {
    "duration": 66,
    "start_time": "2024-11-11T22:03:54.037Z"
   },
   {
    "duration": 10,
    "start_time": "2024-11-11T22:03:54.104Z"
   },
   {
    "duration": 14,
    "start_time": "2024-11-11T22:03:54.116Z"
   },
   {
    "duration": 26,
    "start_time": "2024-11-11T22:03:54.132Z"
   },
   {
    "duration": 19,
    "start_time": "2024-11-11T22:03:54.160Z"
   },
   {
    "duration": 11,
    "start_time": "2024-11-11T22:03:54.180Z"
   },
   {
    "duration": 226,
    "start_time": "2024-11-11T22:03:54.193Z"
   },
   {
    "duration": 5,
    "start_time": "2024-11-11T22:03:54.421Z"
   },
   {
    "duration": 16,
    "start_time": "2024-11-11T22:03:54.427Z"
   },
   {
    "duration": 35,
    "start_time": "2024-11-11T22:03:54.444Z"
   },
   {
    "duration": 7,
    "start_time": "2024-11-11T22:03:54.481Z"
   },
   {
    "duration": 284,
    "start_time": "2024-11-11T22:03:54.489Z"
   },
   {
    "duration": 14,
    "start_time": "2024-11-11T22:03:54.775Z"
   },
   {
    "duration": 7,
    "start_time": "2024-11-11T22:03:54.791Z"
   },
   {
    "duration": 12,
    "start_time": "2024-11-11T22:03:54.802Z"
   },
   {
    "duration": 7,
    "start_time": "2024-11-11T22:03:54.815Z"
   },
   {
    "duration": 35,
    "start_time": "2024-11-11T22:03:54.823Z"
   },
   {
    "duration": 5,
    "start_time": "2024-11-11T22:03:54.860Z"
   },
   {
    "duration": 210,
    "start_time": "2024-11-11T22:03:54.866Z"
   },
   {
    "duration": 6,
    "start_time": "2024-11-11T22:03:55.077Z"
   },
   {
    "duration": 13,
    "start_time": "2024-11-11T22:03:55.085Z"
   },
   {
    "duration": 71,
    "start_time": "2024-11-11T22:03:55.099Z"
   },
   {
    "duration": 60,
    "start_time": "2024-11-11T22:03:55.171Z"
   },
   {
    "duration": 143,
    "start_time": "2024-11-11T22:03:55.233Z"
   },
   {
    "duration": 13,
    "start_time": "2024-11-11T22:03:55.377Z"
   },
   {
    "duration": 3,
    "start_time": "2024-11-11T22:03:55.391Z"
   },
   {
    "duration": 6,
    "start_time": "2024-11-11T22:03:55.396Z"
   },
   {
    "duration": 11,
    "start_time": "2024-11-11T22:03:55.404Z"
   },
   {
    "duration": 53,
    "start_time": "2024-11-11T22:03:55.416Z"
   },
   {
    "duration": 406,
    "start_time": "2024-11-11T22:03:55.471Z"
   },
   {
    "duration": 0,
    "start_time": "2024-11-11T22:03:55.878Z"
   },
   {
    "duration": 912,
    "start_time": "2024-11-11T22:07:55.512Z"
   },
   {
    "duration": 12,
    "start_time": "2024-11-11T22:08:58.539Z"
   },
   {
    "duration": 4,
    "start_time": "2024-11-11T22:09:23.682Z"
   },
   {
    "duration": 3,
    "start_time": "2024-11-11T22:10:09.035Z"
   },
   {
    "duration": 37,
    "start_time": "2024-11-11T22:10:15.038Z"
   },
   {
    "duration": 1216,
    "start_time": "2024-11-11T22:10:24.877Z"
   },
   {
    "duration": 54,
    "start_time": "2024-11-11T22:10:26.095Z"
   },
   {
    "duration": 13,
    "start_time": "2024-11-11T22:10:26.150Z"
   },
   {
    "duration": 14,
    "start_time": "2024-11-11T22:10:26.165Z"
   },
   {
    "duration": 35,
    "start_time": "2024-11-11T22:10:26.181Z"
   },
   {
    "duration": 12,
    "start_time": "2024-11-11T22:10:26.217Z"
   },
   {
    "duration": 46,
    "start_time": "2024-11-11T22:10:26.231Z"
   },
   {
    "duration": 14,
    "start_time": "2024-11-11T22:10:26.278Z"
   },
   {
    "duration": 55,
    "start_time": "2024-11-11T22:10:26.293Z"
   },
   {
    "duration": 11,
    "start_time": "2024-11-11T22:10:26.350Z"
   },
   {
    "duration": 37,
    "start_time": "2024-11-11T22:10:26.362Z"
   },
   {
    "duration": 13,
    "start_time": "2024-11-11T22:10:26.401Z"
   },
   {
    "duration": 70,
    "start_time": "2024-11-11T22:10:26.416Z"
   },
   {
    "duration": 12,
    "start_time": "2024-11-11T22:10:26.489Z"
   },
   {
    "duration": 34,
    "start_time": "2024-11-11T22:10:26.503Z"
   },
   {
    "duration": 13,
    "start_time": "2024-11-11T22:10:26.539Z"
   },
   {
    "duration": 34,
    "start_time": "2024-11-11T22:10:26.554Z"
   },
   {
    "duration": 20,
    "start_time": "2024-11-11T22:10:26.590Z"
   },
   {
    "duration": 54,
    "start_time": "2024-11-11T22:10:26.611Z"
   },
   {
    "duration": 15,
    "start_time": "2024-11-11T22:10:26.667Z"
   },
   {
    "duration": 224,
    "start_time": "2024-11-11T22:10:26.684Z"
   },
   {
    "duration": 29,
    "start_time": "2024-11-11T22:10:26.910Z"
   },
   {
    "duration": 289,
    "start_time": "2024-11-11T22:10:26.953Z"
   },
   {
    "duration": 9,
    "start_time": "2024-11-11T22:10:27.244Z"
   },
   {
    "duration": 8,
    "start_time": "2024-11-11T22:10:27.254Z"
   },
   {
    "duration": 3,
    "start_time": "2024-11-11T22:10:27.264Z"
   },
   {
    "duration": 92,
    "start_time": "2024-11-11T22:10:27.269Z"
   },
   {
    "duration": 11,
    "start_time": "2024-11-11T22:10:27.363Z"
   },
   {
    "duration": 14,
    "start_time": "2024-11-11T22:10:27.375Z"
   },
   {
    "duration": 15,
    "start_time": "2024-11-11T22:10:27.391Z"
   },
   {
    "duration": 45,
    "start_time": "2024-11-11T22:10:27.408Z"
   },
   {
    "duration": 6,
    "start_time": "2024-11-11T22:10:27.455Z"
   },
   {
    "duration": 227,
    "start_time": "2024-11-11T22:10:27.462Z"
   },
   {
    "duration": 5,
    "start_time": "2024-11-11T22:10:27.691Z"
   },
   {
    "duration": 15,
    "start_time": "2024-11-11T22:10:27.698Z"
   },
   {
    "duration": 46,
    "start_time": "2024-11-11T22:10:27.715Z"
   },
   {
    "duration": 8,
    "start_time": "2024-11-11T22:10:27.763Z"
   },
   {
    "duration": 289,
    "start_time": "2024-11-11T22:10:27.773Z"
   },
   {
    "duration": 16,
    "start_time": "2024-11-11T22:10:28.064Z"
   },
   {
    "duration": 20,
    "start_time": "2024-11-11T22:10:28.082Z"
   },
   {
    "duration": 12,
    "start_time": "2024-11-11T22:10:28.107Z"
   },
   {
    "duration": 10,
    "start_time": "2024-11-11T22:10:28.121Z"
   },
   {
    "duration": 26,
    "start_time": "2024-11-11T22:10:28.132Z"
   },
   {
    "duration": 5,
    "start_time": "2024-11-11T22:10:28.160Z"
   },
   {
    "duration": 217,
    "start_time": "2024-11-11T22:10:28.167Z"
   },
   {
    "duration": 7,
    "start_time": "2024-11-11T22:10:28.385Z"
   },
   {
    "duration": 12,
    "start_time": "2024-11-11T22:10:28.394Z"
   },
   {
    "duration": 54,
    "start_time": "2024-11-11T22:10:28.407Z"
   },
   {
    "duration": 13,
    "start_time": "2024-11-11T22:10:28.463Z"
   },
   {
    "duration": 154,
    "start_time": "2024-11-11T22:10:28.477Z"
   },
   {
    "duration": 22,
    "start_time": "2024-11-11T22:10:28.633Z"
   },
   {
    "duration": 3,
    "start_time": "2024-11-11T22:10:28.657Z"
   },
   {
    "duration": 7,
    "start_time": "2024-11-11T22:10:28.661Z"
   },
   {
    "duration": 11,
    "start_time": "2024-11-11T22:10:28.669Z"
   },
   {
    "duration": 30,
    "start_time": "2024-11-11T22:10:28.681Z"
   },
   {
    "duration": 69,
    "start_time": "2024-11-11T22:10:28.712Z"
   },
   {
    "duration": 46,
    "start_time": "2024-11-11T22:10:28.782Z"
   },
   {
    "duration": 408,
    "start_time": "2024-11-11T22:10:28.829Z"
   },
   {
    "duration": 0,
    "start_time": "2024-11-11T22:10:29.239Z"
   },
   {
    "duration": 17,
    "start_time": "2024-11-11T22:12:22.244Z"
   },
   {
    "duration": 3,
    "start_time": "2024-11-11T22:13:02.046Z"
   },
   {
    "duration": 1042,
    "start_time": "2024-11-11T22:13:09.943Z"
   },
   {
    "duration": 104,
    "start_time": "2024-11-11T22:14:10.660Z"
   },
   {
    "duration": 106,
    "start_time": "2024-11-11T22:14:34.312Z"
   },
   {
    "duration": 38,
    "start_time": "2024-11-11T22:14:45.148Z"
   },
   {
    "duration": 11,
    "start_time": "2024-11-11T22:15:09.473Z"
   },
   {
    "duration": 1345,
    "start_time": "2024-11-11T22:15:13.471Z"
   },
   {
    "duration": 55,
    "start_time": "2024-11-11T22:15:14.818Z"
   },
   {
    "duration": 13,
    "start_time": "2024-11-11T22:15:14.875Z"
   },
   {
    "duration": 14,
    "start_time": "2024-11-11T22:15:14.889Z"
   },
   {
    "duration": 41,
    "start_time": "2024-11-11T22:15:14.905Z"
   },
   {
    "duration": 15,
    "start_time": "2024-11-11T22:15:14.947Z"
   },
   {
    "duration": 101,
    "start_time": "2024-11-11T22:15:14.964Z"
   },
   {
    "duration": 13,
    "start_time": "2024-11-11T22:15:15.067Z"
   },
   {
    "duration": 54,
    "start_time": "2024-11-11T22:15:15.082Z"
   },
   {
    "duration": 11,
    "start_time": "2024-11-11T22:15:15.138Z"
   },
   {
    "duration": 137,
    "start_time": "2024-11-11T22:15:15.151Z"
   },
   {
    "duration": 19,
    "start_time": "2024-11-11T22:15:15.289Z"
   },
   {
    "duration": 47,
    "start_time": "2024-11-11T22:15:15.310Z"
   },
   {
    "duration": 12,
    "start_time": "2024-11-11T22:15:15.360Z"
   },
   {
    "duration": 65,
    "start_time": "2024-11-11T22:15:15.373Z"
   },
   {
    "duration": 12,
    "start_time": "2024-11-11T22:15:15.440Z"
   },
   {
    "duration": 49,
    "start_time": "2024-11-11T22:15:15.454Z"
   },
   {
    "duration": 20,
    "start_time": "2024-11-11T22:15:15.504Z"
   },
   {
    "duration": 17,
    "start_time": "2024-11-11T22:15:15.552Z"
   },
   {
    "duration": 21,
    "start_time": "2024-11-11T22:15:15.571Z"
   },
   {
    "duration": 241,
    "start_time": "2024-11-11T22:15:15.593Z"
   },
   {
    "duration": 37,
    "start_time": "2024-11-11T22:15:15.836Z"
   },
   {
    "duration": 305,
    "start_time": "2024-11-11T22:15:15.875Z"
   },
   {
    "duration": 5,
    "start_time": "2024-11-11T22:15:16.181Z"
   },
   {
    "duration": 12,
    "start_time": "2024-11-11T22:15:16.188Z"
   },
   {
    "duration": 4,
    "start_time": "2024-11-11T22:15:16.202Z"
   },
   {
    "duration": 88,
    "start_time": "2024-11-11T22:15:16.207Z"
   },
   {
    "duration": 10,
    "start_time": "2024-11-11T22:15:16.297Z"
   },
   {
    "duration": 16,
    "start_time": "2024-11-11T22:15:16.310Z"
   },
   {
    "duration": 29,
    "start_time": "2024-11-11T22:15:16.328Z"
   },
   {
    "duration": 24,
    "start_time": "2024-11-11T22:15:16.359Z"
   },
   {
    "duration": 7,
    "start_time": "2024-11-11T22:15:16.385Z"
   },
   {
    "duration": 241,
    "start_time": "2024-11-11T22:15:16.393Z"
   },
   {
    "duration": 6,
    "start_time": "2024-11-11T22:15:16.636Z"
   },
   {
    "duration": 6,
    "start_time": "2024-11-11T22:15:16.651Z"
   },
   {
    "duration": 32,
    "start_time": "2024-11-11T22:15:16.658Z"
   },
   {
    "duration": 8,
    "start_time": "2024-11-11T22:15:16.692Z"
   },
   {
    "duration": 300,
    "start_time": "2024-11-11T22:15:16.701Z"
   },
   {
    "duration": 16,
    "start_time": "2024-11-11T22:15:17.002Z"
   },
   {
    "duration": 8,
    "start_time": "2024-11-11T22:15:17.020Z"
   },
   {
    "duration": 13,
    "start_time": "2024-11-11T22:15:17.051Z"
   },
   {
    "duration": 7,
    "start_time": "2024-11-11T22:15:17.066Z"
   },
   {
    "duration": 11,
    "start_time": "2024-11-11T22:15:17.075Z"
   },
   {
    "duration": 5,
    "start_time": "2024-11-11T22:15:17.088Z"
   },
   {
    "duration": 229,
    "start_time": "2024-11-11T22:15:17.095Z"
   },
   {
    "duration": 7,
    "start_time": "2024-11-11T22:15:17.325Z"
   },
   {
    "duration": 27,
    "start_time": "2024-11-11T22:15:17.334Z"
   },
   {
    "duration": 6,
    "start_time": "2024-11-11T22:15:17.363Z"
   },
   {
    "duration": 19,
    "start_time": "2024-11-11T22:15:17.371Z"
   },
   {
    "duration": 168,
    "start_time": "2024-11-11T22:15:17.392Z"
   },
   {
    "duration": 14,
    "start_time": "2024-11-11T22:15:17.562Z"
   },
   {
    "duration": 4,
    "start_time": "2024-11-11T22:15:17.578Z"
   },
   {
    "duration": 12,
    "start_time": "2024-11-11T22:15:17.584Z"
   },
   {
    "duration": 52,
    "start_time": "2024-11-11T22:15:17.598Z"
   },
   {
    "duration": 30,
    "start_time": "2024-11-11T22:15:17.652Z"
   },
   {
    "duration": 35,
    "start_time": "2024-11-11T22:15:17.683Z"
   },
   {
    "duration": 64,
    "start_time": "2024-11-11T22:15:17.720Z"
   },
   {
    "duration": 37,
    "start_time": "2024-11-11T22:15:17.786Z"
   },
   {
    "duration": 3,
    "start_time": "2024-11-11T22:15:17.824Z"
   },
   {
    "duration": 226,
    "start_time": "2024-11-11T22:15:17.828Z"
   },
   {
    "duration": 0,
    "start_time": "2024-11-11T22:15:18.056Z"
   },
   {
    "duration": 0,
    "start_time": "2024-11-11T22:15:18.057Z"
   },
   {
    "duration": 368,
    "start_time": "2024-11-11T22:15:40.409Z"
   },
   {
    "duration": 329,
    "start_time": "2024-11-11T22:16:29.189Z"
   },
   {
    "duration": 361,
    "start_time": "2024-11-11T22:16:33.220Z"
   },
   {
    "duration": 112,
    "start_time": "2024-11-11T22:17:28.829Z"
   },
   {
    "duration": 110,
    "start_time": "2024-11-11T22:17:31.081Z"
   },
   {
    "duration": 344,
    "start_time": "2024-11-11T22:17:41.103Z"
   },
   {
    "duration": 111,
    "start_time": "2024-11-11T22:18:03.438Z"
   },
   {
    "duration": 319,
    "start_time": "2024-11-11T22:18:14.085Z"
   },
   {
    "duration": 372,
    "start_time": "2024-11-11T22:18:32.214Z"
   },
   {
    "duration": 341,
    "start_time": "2024-11-11T22:18:53.203Z"
   },
   {
    "duration": 13,
    "start_time": "2024-11-11T22:25:24.738Z"
   },
   {
    "duration": 129,
    "start_time": "2024-11-11T22:26:20.531Z"
   },
   {
    "duration": 9,
    "start_time": "2024-11-11T22:26:31.327Z"
   },
   {
    "duration": 370,
    "start_time": "2024-11-11T22:26:31.470Z"
   },
   {
    "duration": 3682,
    "start_time": "2024-11-11T22:26:51.092Z"
   },
   {
    "duration": 49,
    "start_time": "2024-11-11T22:26:54.776Z"
   },
   {
    "duration": 478,
    "start_time": "2024-11-11T22:26:55.297Z"
   },
   {
    "duration": 4177,
    "start_time": "2024-11-11T22:26:55.975Z"
   },
   {
    "duration": 18,
    "start_time": "2024-11-11T22:32:22.952Z"
   },
   {
    "duration": 117,
    "start_time": "2024-11-11T22:33:11.064Z"
   },
   {
    "duration": 852,
    "start_time": "2024-11-11T22:33:38.177Z"
   },
   {
    "duration": 820,
    "start_time": "2024-11-11T22:34:01.351Z"
   },
   {
    "duration": 11,
    "start_time": "2024-11-11T22:34:24.098Z"
   },
   {
    "duration": 13,
    "start_time": "2024-11-11T22:34:37.197Z"
   },
   {
    "duration": 16,
    "start_time": "2024-11-11T22:34:48.936Z"
   },
   {
    "duration": 21,
    "start_time": "2024-11-11T22:34:57.718Z"
   },
   {
    "duration": 31,
    "start_time": "2024-11-11T22:35:06.616Z"
   },
   {
    "duration": 24,
    "start_time": "2024-11-11T22:35:12.703Z"
   },
   {
    "duration": 20,
    "start_time": "2024-11-11T22:35:47.550Z"
   },
   {
    "duration": 7685,
    "start_time": "2024-11-11T22:35:51.083Z"
   },
   {
    "duration": 1712,
    "start_time": "2024-11-11T22:36:59.667Z"
   },
   {
    "duration": 12255,
    "start_time": "2024-11-11T22:37:21.405Z"
   },
   {
    "duration": 1639,
    "start_time": "2024-11-11T22:37:49.390Z"
   },
   {
    "duration": 2855,
    "start_time": "2024-11-11T22:38:06.197Z"
   },
   {
    "duration": 0,
    "start_time": "2024-11-11T22:43:10.352Z"
   },
   {
    "duration": 2624,
    "start_time": "2024-11-11T22:43:13.032Z"
   },
   {
    "duration": 2707,
    "start_time": "2024-11-11T22:43:28.717Z"
   },
   {
    "duration": 59,
    "start_time": "2024-11-11T22:43:51.950Z"
   },
   {
    "duration": 54,
    "start_time": "2024-11-11T22:43:56.964Z"
   },
   {
    "duration": 2692,
    "start_time": "2024-11-11T22:44:06.330Z"
   },
   {
    "duration": 9,
    "start_time": "2024-11-11T22:44:18.218Z"
   },
   {
    "duration": 26,
    "start_time": "2024-11-11T22:44:24.217Z"
   },
   {
    "duration": 4,
    "start_time": "2024-11-11T22:44:28.706Z"
   },
   {
    "duration": 6,
    "start_time": "2024-11-11T22:44:32.232Z"
   },
   {
    "duration": 225,
    "start_time": "2024-11-11T22:48:47.936Z"
   },
   {
    "duration": 5,
    "start_time": "2024-11-11T22:48:51.416Z"
   },
   {
    "duration": 5,
    "start_time": "2024-11-11T22:49:13.244Z"
   },
   {
    "duration": 9,
    "start_time": "2024-11-11T22:49:42.140Z"
   },
   {
    "duration": 7,
    "start_time": "2024-11-11T22:49:45.804Z"
   },
   {
    "duration": 48,
    "start_time": "2024-11-11T22:52:03.409Z"
   },
   {
    "duration": 0,
    "start_time": "2024-11-11T23:02:07.887Z"
   },
   {
    "duration": 0,
    "start_time": "2024-11-11T23:02:07.888Z"
   },
   {
    "duration": 24,
    "start_time": "2024-11-11T23:02:10.627Z"
   },
   {
    "duration": 3,
    "start_time": "2024-11-11T23:02:22.981Z"
   },
   {
    "duration": 6173,
    "start_time": "2024-11-11T23:02:33.064Z"
   },
   {
    "duration": 0,
    "start_time": "2024-11-11T23:03:43.005Z"
   },
   {
    "duration": 561284,
    "start_time": "2024-11-11T23:03:44.684Z"
   },
   {
    "duration": 0,
    "start_time": "2024-11-11T23:13:05.971Z"
   },
   {
    "duration": 0,
    "start_time": "2024-11-11T23:13:05.972Z"
   },
   {
    "duration": 880,
    "start_time": "2024-11-11T23:13:13.084Z"
   },
   {
    "duration": 1221,
    "start_time": "2024-11-11T23:14:49.762Z"
   },
   {
    "duration": 54,
    "start_time": "2024-11-11T23:14:50.985Z"
   },
   {
    "duration": 13,
    "start_time": "2024-11-11T23:14:51.043Z"
   },
   {
    "duration": 15,
    "start_time": "2024-11-11T23:14:51.058Z"
   },
   {
    "duration": 39,
    "start_time": "2024-11-11T23:14:51.075Z"
   },
   {
    "duration": 12,
    "start_time": "2024-11-11T23:14:51.116Z"
   },
   {
    "duration": 41,
    "start_time": "2024-11-11T23:14:51.130Z"
   },
   {
    "duration": 12,
    "start_time": "2024-11-11T23:14:51.173Z"
   },
   {
    "duration": 46,
    "start_time": "2024-11-11T23:14:51.187Z"
   },
   {
    "duration": 9,
    "start_time": "2024-11-11T23:14:51.235Z"
   },
   {
    "duration": 42,
    "start_time": "2024-11-11T23:14:51.246Z"
   },
   {
    "duration": 11,
    "start_time": "2024-11-11T23:14:51.289Z"
   },
   {
    "duration": 36,
    "start_time": "2024-11-11T23:14:51.303Z"
   },
   {
    "duration": 11,
    "start_time": "2024-11-11T23:14:51.340Z"
   },
   {
    "duration": 85,
    "start_time": "2024-11-11T23:14:51.353Z"
   },
   {
    "duration": 12,
    "start_time": "2024-11-11T23:14:51.439Z"
   },
   {
    "duration": 89,
    "start_time": "2024-11-11T23:14:51.453Z"
   },
   {
    "duration": 18,
    "start_time": "2024-11-11T23:14:51.544Z"
   },
   {
    "duration": 33,
    "start_time": "2024-11-11T23:14:51.564Z"
   },
   {
    "duration": 14,
    "start_time": "2024-11-11T23:14:51.599Z"
   },
   {
    "duration": 202,
    "start_time": "2024-11-11T23:14:51.614Z"
   },
   {
    "duration": 36,
    "start_time": "2024-11-11T23:14:51.818Z"
   },
   {
    "duration": 300,
    "start_time": "2024-11-11T23:14:51.856Z"
   },
   {
    "duration": 5,
    "start_time": "2024-11-11T23:14:52.157Z"
   },
   {
    "duration": 14,
    "start_time": "2024-11-11T23:14:52.164Z"
   },
   {
    "duration": 4,
    "start_time": "2024-11-11T23:14:52.180Z"
   },
   {
    "duration": 75,
    "start_time": "2024-11-11T23:14:52.185Z"
   },
   {
    "duration": 48,
    "start_time": "2024-11-11T23:14:52.262Z"
   },
   {
    "duration": 39,
    "start_time": "2024-11-11T23:14:52.312Z"
   },
   {
    "duration": 31,
    "start_time": "2024-11-11T23:14:52.352Z"
   },
   {
    "duration": 28,
    "start_time": "2024-11-11T23:14:52.384Z"
   },
   {
    "duration": 26,
    "start_time": "2024-11-11T23:14:52.414Z"
   },
   {
    "duration": 212,
    "start_time": "2024-11-11T23:14:52.442Z"
   },
   {
    "duration": 5,
    "start_time": "2024-11-11T23:14:52.656Z"
   },
   {
    "duration": 50,
    "start_time": "2024-11-11T23:14:52.662Z"
   },
   {
    "duration": 48,
    "start_time": "2024-11-11T23:14:52.713Z"
   },
   {
    "duration": 8,
    "start_time": "2024-11-11T23:14:52.762Z"
   },
   {
    "duration": 284,
    "start_time": "2024-11-11T23:14:52.771Z"
   },
   {
    "duration": 15,
    "start_time": "2024-11-11T23:14:53.056Z"
   },
   {
    "duration": 29,
    "start_time": "2024-11-11T23:14:53.076Z"
   },
   {
    "duration": 21,
    "start_time": "2024-11-11T23:14:53.107Z"
   },
   {
    "duration": 9,
    "start_time": "2024-11-11T23:14:53.130Z"
   },
   {
    "duration": 72,
    "start_time": "2024-11-11T23:14:53.141Z"
   },
   {
    "duration": 6,
    "start_time": "2024-11-11T23:14:53.215Z"
   },
   {
    "duration": 196,
    "start_time": "2024-11-11T23:14:53.222Z"
   },
   {
    "duration": 6,
    "start_time": "2024-11-11T23:14:53.420Z"
   },
   {
    "duration": 80,
    "start_time": "2024-11-11T23:14:53.428Z"
   },
   {
    "duration": 85,
    "start_time": "2024-11-11T23:14:53.510Z"
   },
   {
    "duration": 11,
    "start_time": "2024-11-11T23:14:53.597Z"
   },
   {
    "duration": 147,
    "start_time": "2024-11-11T23:14:53.610Z"
   },
   {
    "duration": 12,
    "start_time": "2024-11-11T23:14:53.759Z"
   },
   {
    "duration": 32,
    "start_time": "2024-11-11T23:14:53.773Z"
   },
   {
    "duration": 31,
    "start_time": "2024-11-11T23:14:53.806Z"
   },
   {
    "duration": 28,
    "start_time": "2024-11-11T23:14:53.839Z"
   },
   {
    "duration": 38,
    "start_time": "2024-11-11T23:14:53.869Z"
   },
   {
    "duration": 60,
    "start_time": "2024-11-11T23:14:53.909Z"
   },
   {
    "duration": 45,
    "start_time": "2024-11-11T23:14:53.971Z"
   },
   {
    "duration": 34,
    "start_time": "2024-11-11T23:14:54.018Z"
   },
   {
    "duration": 2581,
    "start_time": "2024-11-11T23:14:54.054Z"
   },
   {
    "duration": 51,
    "start_time": "2024-11-11T23:14:56.638Z"
   },
   {
    "duration": 430,
    "start_time": "2024-11-11T23:14:56.691Z"
   },
   {
    "duration": 4062,
    "start_time": "2024-11-11T23:14:57.123Z"
   },
   {
    "duration": 28,
    "start_time": "2024-11-11T23:15:01.186Z"
   },
   {
    "duration": 339,
    "start_time": "2024-11-11T23:15:01.215Z"
   },
   {
    "duration": 5,
    "start_time": "2024-11-11T23:15:01.556Z"
   },
   {
    "duration": 71,
    "start_time": "2024-11-11T23:15:01.563Z"
   },
   {
    "duration": 1913437,
    "start_time": "2024-11-11T23:15:01.635Z"
   },
   {
    "duration": 1841588,
    "start_time": "2024-11-11T23:46:55.073Z"
   },
   {
    "duration": 0,
    "start_time": "2024-11-12T00:17:36.663Z"
   },
   {
    "duration": 0,
    "start_time": "2024-11-12T00:17:36.664Z"
   },
   {
    "duration": 0,
    "start_time": "2024-11-12T00:17:36.665Z"
   },
   {
    "duration": 851,
    "start_time": "2024-11-12T00:17:42.622Z"
   },
   {
    "duration": 0,
    "start_time": "2024-11-12T00:21:31.167Z"
   },
   {
    "duration": 6046,
    "start_time": "2024-11-12T00:21:34.521Z"
   },
   {
    "duration": 1489,
    "start_time": "2024-11-12T08:42:01.330Z"
   },
   {
    "duration": 103,
    "start_time": "2024-11-12T08:42:02.822Z"
   },
   {
    "duration": 14,
    "start_time": "2024-11-12T08:42:02.927Z"
   },
   {
    "duration": 89,
    "start_time": "2024-11-12T08:42:02.943Z"
   },
   {
    "duration": 90,
    "start_time": "2024-11-12T08:42:03.034Z"
   },
   {
    "duration": 12,
    "start_time": "2024-11-12T08:42:03.126Z"
   },
   {
    "duration": 156,
    "start_time": "2024-11-12T08:42:03.908Z"
   },
   {
    "duration": 14,
    "start_time": "2024-11-12T08:42:04.312Z"
   },
   {
    "duration": 94,
    "start_time": "2024-11-12T08:42:04.674Z"
   },
   {
    "duration": 11,
    "start_time": "2024-11-12T08:42:04.871Z"
   },
   {
    "duration": 95,
    "start_time": "2024-11-12T08:42:05.528Z"
   },
   {
    "duration": 12,
    "start_time": "2024-11-12T08:42:05.734Z"
   },
   {
    "duration": 80,
    "start_time": "2024-11-12T08:42:06.331Z"
   },
   {
    "duration": 15,
    "start_time": "2024-11-12T08:42:06.548Z"
   },
   {
    "duration": 89,
    "start_time": "2024-11-12T08:42:06.956Z"
   },
   {
    "duration": 13,
    "start_time": "2024-11-12T08:42:07.199Z"
   },
   {
    "duration": 43,
    "start_time": "2024-11-12T08:42:10.075Z"
   },
   {
    "duration": 20,
    "start_time": "2024-11-12T08:42:11.937Z"
   },
   {
    "duration": 18,
    "start_time": "2024-11-12T08:42:12.798Z"
   },
   {
    "duration": 21,
    "start_time": "2024-11-12T08:42:13.233Z"
   },
   {
    "duration": 230,
    "start_time": "2024-11-12T08:42:13.832Z"
   },
   {
    "duration": 28,
    "start_time": "2024-11-12T08:42:14.064Z"
   },
   {
    "duration": 290,
    "start_time": "2024-11-12T08:42:14.590Z"
   },
   {
    "duration": 5,
    "start_time": "2024-11-12T08:42:15.639Z"
   },
   {
    "duration": 6,
    "start_time": "2024-11-12T08:42:15.830Z"
   },
   {
    "duration": 4,
    "start_time": "2024-11-12T08:42:16.019Z"
   },
   {
    "duration": 64,
    "start_time": "2024-11-12T08:42:16.241Z"
   },
   {
    "duration": 10,
    "start_time": "2024-11-12T08:42:16.445Z"
   },
   {
    "duration": 12,
    "start_time": "2024-11-12T08:42:20.554Z"
   },
   {
    "duration": 11,
    "start_time": "2024-11-12T08:42:20.753Z"
   },
   {
    "duration": 20,
    "start_time": "2024-11-12T08:42:21.297Z"
   },
   {
    "duration": 5,
    "start_time": "2024-11-12T08:42:21.495Z"
   },
   {
    "duration": 213,
    "start_time": "2024-11-12T08:42:22.080Z"
   },
   {
    "duration": 6,
    "start_time": "2024-11-12T08:42:22.984Z"
   },
   {
    "duration": 5,
    "start_time": "2024-11-12T08:42:23.206Z"
   },
   {
    "duration": 32,
    "start_time": "2024-11-12T08:42:23.381Z"
   },
   {
    "duration": 10,
    "start_time": "2024-11-12T08:42:24.525Z"
   },
   {
    "duration": 331,
    "start_time": "2024-11-12T08:42:24.701Z"
   },
   {
    "duration": 15,
    "start_time": "2024-11-12T08:42:25.069Z"
   },
   {
    "duration": 8,
    "start_time": "2024-11-12T08:42:26.996Z"
   },
   {
    "duration": 12,
    "start_time": "2024-11-12T08:42:27.350Z"
   },
   {
    "duration": 7,
    "start_time": "2024-11-12T08:42:27.543Z"
   },
   {
    "duration": 12,
    "start_time": "2024-11-12T08:42:27.879Z"
   },
   {
    "duration": 5,
    "start_time": "2024-11-12T08:42:29.175Z"
   },
   {
    "duration": 194,
    "start_time": "2024-11-12T08:42:30.312Z"
   },
   {
    "duration": 10,
    "start_time": "2024-11-12T08:42:31.211Z"
   },
   {
    "duration": 15,
    "start_time": "2024-11-12T08:42:42.648Z"
   },
   {
    "duration": 6,
    "start_time": "2024-11-12T08:42:43.258Z"
   },
   {
    "duration": 14,
    "start_time": "2024-11-12T08:42:44.734Z"
   },
   {
    "duration": 71,
    "start_time": "2024-11-12T08:42:45.990Z"
   },
   {
    "duration": 14,
    "start_time": "2024-11-12T08:42:53.988Z"
   },
   {
    "duration": 4,
    "start_time": "2024-11-12T08:49:19.767Z"
   },
   {
    "duration": 16,
    "start_time": "2024-11-12T08:49:35.224Z"
   },
   {
    "duration": 10,
    "start_time": "2024-11-12T08:50:49.332Z"
   },
   {
    "duration": 58,
    "start_time": "2024-11-12T21:35:49.691Z"
   },
   {
    "duration": 1444,
    "start_time": "2024-11-12T21:35:57.559Z"
   },
   {
    "duration": 182,
    "start_time": "2024-11-12T21:35:59.005Z"
   },
   {
    "duration": 14,
    "start_time": "2024-11-12T21:35:59.189Z"
   },
   {
    "duration": 14,
    "start_time": "2024-11-12T21:35:59.205Z"
   },
   {
    "duration": 94,
    "start_time": "2024-11-12T21:35:59.220Z"
   },
   {
    "duration": 12,
    "start_time": "2024-11-12T21:35:59.315Z"
   },
   {
    "duration": 89,
    "start_time": "2024-11-12T21:35:59.329Z"
   },
   {
    "duration": 13,
    "start_time": "2024-11-12T21:35:59.419Z"
   },
   {
    "duration": 152,
    "start_time": "2024-11-12T21:35:59.434Z"
   },
   {
    "duration": 10,
    "start_time": "2024-11-12T21:35:59.589Z"
   },
   {
    "duration": 147,
    "start_time": "2024-11-12T21:35:59.601Z"
   },
   {
    "duration": 16,
    "start_time": "2024-11-12T21:35:59.750Z"
   },
   {
    "duration": 86,
    "start_time": "2024-11-12T21:35:59.768Z"
   },
   {
    "duration": 17,
    "start_time": "2024-11-12T21:35:59.856Z"
   },
   {
    "duration": 99,
    "start_time": "2024-11-12T21:35:59.876Z"
   },
   {
    "duration": 14,
    "start_time": "2024-11-12T21:35:59.977Z"
   },
   {
    "duration": 77,
    "start_time": "2024-11-12T21:35:59.992Z"
   },
   {
    "duration": 23,
    "start_time": "2024-11-12T21:36:00.072Z"
   },
   {
    "duration": 26,
    "start_time": "2024-11-12T21:36:00.097Z"
   },
   {
    "duration": 58,
    "start_time": "2024-11-12T21:36:00.124Z"
   },
   {
    "duration": 17,
    "start_time": "2024-11-12T21:36:00.184Z"
   },
   {
    "duration": 259,
    "start_time": "2024-11-12T21:36:00.203Z"
   },
   {
    "duration": 32,
    "start_time": "2024-11-12T21:36:00.465Z"
   },
   {
    "duration": 349,
    "start_time": "2024-11-12T21:36:00.499Z"
   },
   {
    "duration": 7,
    "start_time": "2024-11-12T21:36:00.849Z"
   },
   {
    "duration": 12,
    "start_time": "2024-11-12T21:36:00.859Z"
   },
   {
    "duration": 5,
    "start_time": "2024-11-12T21:36:00.873Z"
   },
   {
    "duration": 109,
    "start_time": "2024-11-12T21:36:00.882Z"
   },
   {
    "duration": 11,
    "start_time": "2024-11-12T21:36:00.992Z"
   },
   {
    "duration": 23,
    "start_time": "2024-11-12T21:36:01.005Z"
   },
   {
    "duration": 31,
    "start_time": "2024-11-12T21:36:01.030Z"
   },
   {
    "duration": 23,
    "start_time": "2024-11-12T21:36:01.063Z"
   },
   {
    "duration": 4,
    "start_time": "2024-11-12T21:36:01.088Z"
   },
   {
    "duration": 262,
    "start_time": "2024-11-12T21:36:01.094Z"
   },
   {
    "duration": 5,
    "start_time": "2024-11-12T21:36:01.358Z"
   },
   {
    "duration": 9,
    "start_time": "2024-11-12T21:36:01.366Z"
   },
   {
    "duration": 36,
    "start_time": "2024-11-12T21:36:01.378Z"
   },
   {
    "duration": 41,
    "start_time": "2024-11-12T21:36:01.415Z"
   },
   {
    "duration": 418,
    "start_time": "2024-11-12T21:36:01.460Z"
   },
   {
    "duration": 15,
    "start_time": "2024-11-12T21:36:01.880Z"
   },
   {
    "duration": 21,
    "start_time": "2024-11-12T21:36:01.897Z"
   },
   {
    "duration": 28,
    "start_time": "2024-11-12T21:36:01.920Z"
   },
   {
    "duration": 27,
    "start_time": "2024-11-12T21:36:01.950Z"
   },
   {
    "duration": 10,
    "start_time": "2024-11-12T21:36:01.980Z"
   },
   {
    "duration": 31,
    "start_time": "2024-11-12T21:36:01.992Z"
   },
   {
    "duration": 227,
    "start_time": "2024-11-12T21:36:02.025Z"
   },
   {
    "duration": 16,
    "start_time": "2024-11-12T21:36:02.255Z"
   },
   {
    "duration": 106,
    "start_time": "2024-11-12T21:36:02.274Z"
   },
   {
    "duration": 10,
    "start_time": "2024-11-12T21:36:02.382Z"
   },
   {
    "duration": 45,
    "start_time": "2024-11-12T21:36:02.394Z"
   },
   {
    "duration": 154,
    "start_time": "2024-11-12T21:36:02.441Z"
   },
   {
    "duration": 10,
    "start_time": "2024-11-12T21:36:02.596Z"
   },
   {
    "duration": 93,
    "start_time": "2024-11-12T21:36:02.608Z"
   },
   {
    "duration": 36,
    "start_time": "2024-11-12T21:36:02.703Z"
   },
   {
    "duration": 18,
    "start_time": "2024-11-12T21:36:02.740Z"
   },
   {
    "duration": 14,
    "start_time": "2024-11-12T21:36:02.761Z"
   },
   {
    "duration": 22,
    "start_time": "2024-11-12T21:36:02.777Z"
   },
   {
    "duration": 87,
    "start_time": "2024-11-12T21:36:02.801Z"
   },
   {
    "duration": 1241,
    "start_time": "2024-11-12T21:36:02.890Z"
   },
   {
    "duration": 0,
    "start_time": "2024-11-12T21:36:04.133Z"
   },
   {
    "duration": 0,
    "start_time": "2024-11-12T21:36:04.134Z"
   },
   {
    "duration": 0,
    "start_time": "2024-11-12T21:36:04.135Z"
   },
   {
    "duration": 0,
    "start_time": "2024-11-12T21:36:04.136Z"
   },
   {
    "duration": 0,
    "start_time": "2024-11-12T21:36:04.137Z"
   },
   {
    "duration": 0,
    "start_time": "2024-11-12T21:36:04.138Z"
   },
   {
    "duration": 0,
    "start_time": "2024-11-12T21:36:04.139Z"
   },
   {
    "duration": 0,
    "start_time": "2024-11-12T21:36:04.140Z"
   },
   {
    "duration": 0,
    "start_time": "2024-11-12T21:36:04.141Z"
   },
   {
    "duration": 0,
    "start_time": "2024-11-12T21:36:04.142Z"
   },
   {
    "duration": 0,
    "start_time": "2024-11-12T21:36:04.143Z"
   },
   {
    "duration": 0,
    "start_time": "2024-11-12T21:36:04.144Z"
   },
   {
    "duration": 14,
    "start_time": "2024-11-12T21:49:03.544Z"
   },
   {
    "duration": 5,
    "start_time": "2024-11-12T21:49:15.767Z"
   },
   {
    "duration": 7,
    "start_time": "2024-11-12T21:49:23.786Z"
   },
   {
    "duration": 7,
    "start_time": "2024-11-12T21:49:46.326Z"
   },
   {
    "duration": 11,
    "start_time": "2024-11-12T21:49:58.029Z"
   },
   {
    "duration": 10,
    "start_time": "2024-11-12T21:50:03.605Z"
   },
   {
    "duration": 11,
    "start_time": "2024-11-12T21:50:23.992Z"
   },
   {
    "duration": 51,
    "start_time": "2024-11-12T21:52:24.655Z"
   },
   {
    "duration": 55,
    "start_time": "2024-11-12T21:52:55.155Z"
   },
   {
    "duration": 1009,
    "start_time": "2024-11-12T21:53:17.211Z"
   },
   {
    "duration": 56,
    "start_time": "2024-11-12T21:53:21.763Z"
   },
   {
    "duration": 60,
    "start_time": "2024-11-12T21:54:48.731Z"
   },
   {
    "duration": 33,
    "start_time": "2024-11-12T21:56:38.989Z"
   },
   {
    "duration": 31,
    "start_time": "2024-11-12T21:57:04.207Z"
   },
   {
    "duration": 4,
    "start_time": "2024-11-12T21:57:11.725Z"
   },
   {
    "duration": 9,
    "start_time": "2024-11-12T21:57:17.552Z"
   },
   {
    "duration": 1294,
    "start_time": "2024-11-12T21:57:21.613Z"
   },
   {
    "duration": 55,
    "start_time": "2024-11-12T21:57:22.909Z"
   },
   {
    "duration": 15,
    "start_time": "2024-11-12T21:57:22.967Z"
   },
   {
    "duration": 31,
    "start_time": "2024-11-12T21:57:22.984Z"
   },
   {
    "duration": 49,
    "start_time": "2024-11-12T21:57:23.016Z"
   },
   {
    "duration": 12,
    "start_time": "2024-11-12T21:57:23.066Z"
   },
   {
    "duration": 67,
    "start_time": "2024-11-12T21:57:23.079Z"
   },
   {
    "duration": 13,
    "start_time": "2024-11-12T21:57:23.147Z"
   },
   {
    "duration": 55,
    "start_time": "2024-11-12T21:57:23.163Z"
   },
   {
    "duration": 10,
    "start_time": "2024-11-12T21:57:23.220Z"
   },
   {
    "duration": 52,
    "start_time": "2024-11-12T21:57:23.232Z"
   },
   {
    "duration": 13,
    "start_time": "2024-11-12T21:57:23.286Z"
   },
   {
    "duration": 27,
    "start_time": "2024-11-12T21:57:23.301Z"
   },
   {
    "duration": 11,
    "start_time": "2024-11-12T21:57:23.329Z"
   },
   {
    "duration": 45,
    "start_time": "2024-11-12T21:57:23.342Z"
   },
   {
    "duration": 13,
    "start_time": "2024-11-12T21:57:23.388Z"
   },
   {
    "duration": 56,
    "start_time": "2024-11-12T21:57:23.402Z"
   },
   {
    "duration": 20,
    "start_time": "2024-11-12T21:57:23.459Z"
   },
   {
    "duration": 109,
    "start_time": "2024-11-12T21:57:23.480Z"
   },
   {
    "duration": 111,
    "start_time": "2024-11-12T21:57:23.590Z"
   },
   {
    "duration": 19,
    "start_time": "2024-11-12T21:57:23.702Z"
   },
   {
    "duration": 334,
    "start_time": "2024-11-12T21:57:23.723Z"
   },
   {
    "duration": 28,
    "start_time": "2024-11-12T21:57:24.059Z"
   },
   {
    "duration": 293,
    "start_time": "2024-11-12T21:57:24.088Z"
   },
   {
    "duration": 5,
    "start_time": "2024-11-12T21:57:24.383Z"
   },
   {
    "duration": 16,
    "start_time": "2024-11-12T21:57:24.389Z"
   },
   {
    "duration": 4,
    "start_time": "2024-11-12T21:57:24.410Z"
   },
   {
    "duration": 84,
    "start_time": "2024-11-12T21:57:24.416Z"
   },
   {
    "duration": 11,
    "start_time": "2024-11-12T21:57:24.501Z"
   },
   {
    "duration": 13,
    "start_time": "2024-11-12T21:57:24.513Z"
   },
   {
    "duration": 29,
    "start_time": "2024-11-12T21:57:24.528Z"
   },
   {
    "duration": 18,
    "start_time": "2024-11-12T21:57:24.559Z"
   },
   {
    "duration": 5,
    "start_time": "2024-11-12T21:57:24.579Z"
   },
   {
    "duration": 230,
    "start_time": "2024-11-12T21:57:24.585Z"
   },
   {
    "duration": 5,
    "start_time": "2024-11-12T21:57:24.817Z"
   },
   {
    "duration": 4,
    "start_time": "2024-11-12T21:57:24.824Z"
   },
   {
    "duration": 49,
    "start_time": "2024-11-12T21:57:24.830Z"
   },
   {
    "duration": 6,
    "start_time": "2024-11-12T21:57:24.881Z"
   },
   {
    "duration": 285,
    "start_time": "2024-11-12T21:57:24.889Z"
   },
   {
    "duration": 15,
    "start_time": "2024-11-12T21:57:25.175Z"
   },
   {
    "duration": 15,
    "start_time": "2024-11-12T21:57:25.192Z"
   },
   {
    "duration": 14,
    "start_time": "2024-11-12T21:57:25.209Z"
   },
   {
    "duration": 7,
    "start_time": "2024-11-12T21:57:25.225Z"
   },
   {
    "duration": 8,
    "start_time": "2024-11-12T21:57:25.252Z"
   },
   {
    "duration": 5,
    "start_time": "2024-11-12T21:57:25.262Z"
   },
   {
    "duration": 209,
    "start_time": "2024-11-12T21:57:25.269Z"
   },
   {
    "duration": 7,
    "start_time": "2024-11-12T21:57:25.479Z"
   },
   {
    "duration": 59,
    "start_time": "2024-11-12T21:57:25.488Z"
   },
   {
    "duration": 7,
    "start_time": "2024-11-12T21:57:25.549Z"
   },
   {
    "duration": 12,
    "start_time": "2024-11-12T21:57:25.558Z"
   },
   {
    "duration": 10,
    "start_time": "2024-11-12T21:57:25.571Z"
   },
   {
    "duration": 110,
    "start_time": "2024-11-12T21:57:25.583Z"
   },
   {
    "duration": 0,
    "start_time": "2024-11-12T21:57:25.695Z"
   },
   {
    "duration": 0,
    "start_time": "2024-11-12T21:57:25.696Z"
   },
   {
    "duration": 0,
    "start_time": "2024-11-12T21:57:25.697Z"
   },
   {
    "duration": 0,
    "start_time": "2024-11-12T21:57:25.698Z"
   },
   {
    "duration": 0,
    "start_time": "2024-11-12T21:57:25.699Z"
   },
   {
    "duration": 0,
    "start_time": "2024-11-12T21:57:25.700Z"
   },
   {
    "duration": 0,
    "start_time": "2024-11-12T21:57:25.702Z"
   },
   {
    "duration": 0,
    "start_time": "2024-11-12T21:57:25.703Z"
   },
   {
    "duration": 0,
    "start_time": "2024-11-12T21:57:25.704Z"
   },
   {
    "duration": 0,
    "start_time": "2024-11-12T21:57:25.705Z"
   },
   {
    "duration": 0,
    "start_time": "2024-11-12T21:57:25.706Z"
   },
   {
    "duration": 0,
    "start_time": "2024-11-12T21:57:25.708Z"
   },
   {
    "duration": 0,
    "start_time": "2024-11-12T21:57:25.709Z"
   },
   {
    "duration": 0,
    "start_time": "2024-11-12T21:57:25.710Z"
   },
   {
    "duration": 0,
    "start_time": "2024-11-12T21:57:25.711Z"
   },
   {
    "duration": 0,
    "start_time": "2024-11-12T21:57:25.712Z"
   },
   {
    "duration": 0,
    "start_time": "2024-11-12T21:57:25.714Z"
   },
   {
    "duration": 0,
    "start_time": "2024-11-12T21:57:25.715Z"
   },
   {
    "duration": 0,
    "start_time": "2024-11-12T21:57:25.716Z"
   },
   {
    "duration": 0,
    "start_time": "2024-11-12T21:57:25.717Z"
   },
   {
    "duration": 0,
    "start_time": "2024-11-12T21:57:25.718Z"
   },
   {
    "duration": 130,
    "start_time": "2024-11-12T21:57:38.624Z"
   },
   {
    "duration": 52,
    "start_time": "2024-11-12T21:57:56.698Z"
   },
   {
    "duration": 9,
    "start_time": "2024-11-12T21:58:07.973Z"
   },
   {
    "duration": 19,
    "start_time": "2024-11-12T21:58:17.201Z"
   },
   {
    "duration": 11,
    "start_time": "2024-11-12T21:59:02.207Z"
   },
   {
    "duration": 5,
    "start_time": "2024-11-12T21:59:08.486Z"
   },
   {
    "duration": 22,
    "start_time": "2024-11-12T21:59:21.467Z"
   },
   {
    "duration": 17,
    "start_time": "2024-11-12T21:59:33.350Z"
   },
   {
    "duration": 3700,
    "start_time": "2024-11-12T21:59:38.877Z"
   },
   {
    "duration": 55,
    "start_time": "2024-11-12T21:59:42.580Z"
   },
   {
    "duration": 484,
    "start_time": "2024-11-12T21:59:42.637Z"
   },
   {
    "duration": 115,
    "start_time": "2024-11-12T21:59:58.013Z"
   },
   {
    "duration": 9,
    "start_time": "2024-11-12T22:00:18.447Z"
   },
   {
    "duration": 8,
    "start_time": "2024-11-12T22:00:26.596Z"
   },
   {
    "duration": 3,
    "start_time": "2024-11-12T22:00:38.700Z"
   },
   {
    "duration": 5,
    "start_time": "2024-11-12T22:00:43.332Z"
   },
   {
    "duration": 368,
    "start_time": "2024-11-12T22:00:50.627Z"
   },
   {
    "duration": 311,
    "start_time": "2024-11-12T22:01:07.983Z"
   },
   {
    "duration": 1149,
    "start_time": "2024-11-12T22:01:16.924Z"
   },
   {
    "duration": 961,
    "start_time": "2024-11-12T22:01:30.123Z"
   },
   {
    "duration": 2185,
    "start_time": "2024-11-12T22:01:42.704Z"
   },
   {
    "duration": 18,
    "start_time": "2024-11-12T22:02:18.993Z"
   },
   {
    "duration": 269,
    "start_time": "2024-11-12T22:02:19.147Z"
   },
   {
    "duration": 5,
    "start_time": "2024-11-12T22:02:19.418Z"
   },
   {
    "duration": 167,
    "start_time": "2024-11-12T22:02:22.847Z"
   },
   {
    "duration": 20471,
    "start_time": "2024-11-12T22:03:04.357Z"
   },
   {
    "duration": 31779,
    "start_time": "2024-11-12T22:04:37.634Z"
   },
   {
    "duration": 11,
    "start_time": "2024-11-12T22:05:19.251Z"
   },
   {
    "duration": 325133,
    "start_time": "2024-11-12T22:05:26.756Z"
   },
   {
    "duration": 4125,
    "start_time": "2024-11-12T22:10:51.892Z"
   },
   {
    "duration": 588,
    "start_time": "2024-11-12T22:10:56.019Z"
   },
   {
    "duration": 4,
    "start_time": "2024-11-12T22:10:56.609Z"
   },
   {
    "duration": 15,
    "start_time": "2024-11-12T22:10:56.615Z"
   },
   {
    "duration": 205,
    "start_time": "2024-11-12T22:10:56.632Z"
   },
   {
    "duration": 189,
    "start_time": "2024-11-12T22:13:51.760Z"
   },
   {
    "duration": 192,
    "start_time": "2024-11-12T22:14:24.301Z"
   },
   {
    "duration": 1268,
    "start_time": "2024-11-12T22:19:21.122Z"
   },
   {
    "duration": 53,
    "start_time": "2024-11-12T22:19:22.392Z"
   },
   {
    "duration": 13,
    "start_time": "2024-11-12T22:19:22.447Z"
   },
   {
    "duration": 24,
    "start_time": "2024-11-12T22:19:22.462Z"
   },
   {
    "duration": 37,
    "start_time": "2024-11-12T22:19:22.488Z"
   },
   {
    "duration": 12,
    "start_time": "2024-11-12T22:19:22.526Z"
   },
   {
    "duration": 46,
    "start_time": "2024-11-12T22:19:22.540Z"
   },
   {
    "duration": 13,
    "start_time": "2024-11-12T22:19:22.587Z"
   },
   {
    "duration": 64,
    "start_time": "2024-11-12T22:19:22.602Z"
   },
   {
    "duration": 13,
    "start_time": "2024-11-12T22:19:22.668Z"
   },
   {
    "duration": 42,
    "start_time": "2024-11-12T22:19:22.684Z"
   },
   {
    "duration": 12,
    "start_time": "2024-11-12T22:19:22.728Z"
   },
   {
    "duration": 84,
    "start_time": "2024-11-12T22:19:22.741Z"
   },
   {
    "duration": 12,
    "start_time": "2024-11-12T22:19:22.828Z"
   },
   {
    "duration": 36,
    "start_time": "2024-11-12T22:19:22.842Z"
   },
   {
    "duration": 13,
    "start_time": "2024-11-12T22:19:22.880Z"
   },
   {
    "duration": 67,
    "start_time": "2024-11-12T22:19:22.894Z"
   },
   {
    "duration": 21,
    "start_time": "2024-11-12T22:19:22.963Z"
   },
   {
    "duration": 14,
    "start_time": "2024-11-12T22:19:22.986Z"
   },
   {
    "duration": 19,
    "start_time": "2024-11-12T22:19:23.002Z"
   },
   {
    "duration": 15,
    "start_time": "2024-11-12T22:19:23.051Z"
   },
   {
    "duration": 217,
    "start_time": "2024-11-12T22:19:23.068Z"
   },
   {
    "duration": 29,
    "start_time": "2024-11-12T22:19:23.287Z"
   },
   {
    "duration": 310,
    "start_time": "2024-11-12T22:19:23.318Z"
   },
   {
    "duration": 5,
    "start_time": "2024-11-12T22:19:23.630Z"
   },
   {
    "duration": 7,
    "start_time": "2024-11-12T22:19:23.652Z"
   },
   {
    "duration": 5,
    "start_time": "2024-11-12T22:19:23.661Z"
   },
   {
    "duration": 88,
    "start_time": "2024-11-12T22:19:23.667Z"
   },
   {
    "duration": 12,
    "start_time": "2024-11-12T22:19:23.757Z"
   },
   {
    "duration": 15,
    "start_time": "2024-11-12T22:19:23.771Z"
   },
   {
    "duration": 95,
    "start_time": "2024-11-12T22:19:23.788Z"
   },
   {
    "duration": 31,
    "start_time": "2024-11-12T22:19:23.885Z"
   },
   {
    "duration": 8,
    "start_time": "2024-11-12T22:19:23.924Z"
   },
   {
    "duration": 237,
    "start_time": "2024-11-12T22:19:23.935Z"
   },
   {
    "duration": 5,
    "start_time": "2024-11-12T22:19:24.173Z"
   },
   {
    "duration": 6,
    "start_time": "2024-11-12T22:19:24.180Z"
   },
   {
    "duration": 32,
    "start_time": "2024-11-12T22:19:24.188Z"
   },
   {
    "duration": 32,
    "start_time": "2024-11-12T22:19:24.221Z"
   },
   {
    "duration": 269,
    "start_time": "2024-11-12T22:19:24.255Z"
   },
   {
    "duration": 14,
    "start_time": "2024-11-12T22:19:24.526Z"
   },
   {
    "duration": 9,
    "start_time": "2024-11-12T22:19:24.553Z"
   },
   {
    "duration": 24,
    "start_time": "2024-11-12T22:19:24.563Z"
   },
   {
    "duration": 7,
    "start_time": "2024-11-12T22:19:24.589Z"
   },
   {
    "duration": 10,
    "start_time": "2024-11-12T22:19:24.597Z"
   },
   {
    "duration": 5,
    "start_time": "2024-11-12T22:19:24.609Z"
   },
   {
    "duration": 222,
    "start_time": "2024-11-12T22:19:24.616Z"
   },
   {
    "duration": 14,
    "start_time": "2024-11-12T22:19:24.840Z"
   },
   {
    "duration": 19,
    "start_time": "2024-11-12T22:19:24.855Z"
   },
   {
    "duration": 7,
    "start_time": "2024-11-12T22:19:24.876Z"
   },
   {
    "duration": 14,
    "start_time": "2024-11-12T22:19:24.884Z"
   },
   {
    "duration": 10,
    "start_time": "2024-11-12T22:19:24.900Z"
   },
   {
    "duration": 238,
    "start_time": "2024-11-12T22:19:24.911Z"
   },
   {
    "duration": 0,
    "start_time": "2024-11-12T22:19:25.151Z"
   },
   {
    "duration": 0,
    "start_time": "2024-11-12T22:19:25.152Z"
   },
   {
    "duration": 0,
    "start_time": "2024-11-12T22:19:25.154Z"
   },
   {
    "duration": 0,
    "start_time": "2024-11-12T22:19:25.155Z"
   },
   {
    "duration": 0,
    "start_time": "2024-11-12T22:19:25.155Z"
   },
   {
    "duration": 0,
    "start_time": "2024-11-12T22:19:25.156Z"
   },
   {
    "duration": 0,
    "start_time": "2024-11-12T22:19:25.157Z"
   },
   {
    "duration": 0,
    "start_time": "2024-11-12T22:19:25.158Z"
   },
   {
    "duration": 0,
    "start_time": "2024-11-12T22:19:25.159Z"
   },
   {
    "duration": 0,
    "start_time": "2024-11-12T22:19:25.160Z"
   },
   {
    "duration": 0,
    "start_time": "2024-11-12T22:19:25.161Z"
   },
   {
    "duration": 0,
    "start_time": "2024-11-12T22:19:25.162Z"
   },
   {
    "duration": 0,
    "start_time": "2024-11-12T22:19:25.163Z"
   },
   {
    "duration": 0,
    "start_time": "2024-11-12T22:19:25.164Z"
   },
   {
    "duration": 0,
    "start_time": "2024-11-12T22:19:25.165Z"
   },
   {
    "duration": 0,
    "start_time": "2024-11-12T22:19:25.166Z"
   },
   {
    "duration": 0,
    "start_time": "2024-11-12T22:19:25.167Z"
   },
   {
    "duration": 0,
    "start_time": "2024-11-12T22:19:25.168Z"
   },
   {
    "duration": 0,
    "start_time": "2024-11-12T22:19:25.169Z"
   },
   {
    "duration": 0,
    "start_time": "2024-11-12T22:19:25.170Z"
   },
   {
    "duration": 0,
    "start_time": "2024-11-12T22:19:25.171Z"
   },
   {
    "duration": 0,
    "start_time": "2024-11-12T22:19:25.172Z"
   },
   {
    "duration": 41,
    "start_time": "2024-11-12T22:23:01.976Z"
   },
   {
    "duration": 54,
    "start_time": "2024-11-12T22:23:18.280Z"
   },
   {
    "duration": 1253,
    "start_time": "2024-11-12T22:23:34.749Z"
   },
   {
    "duration": 53,
    "start_time": "2024-11-12T22:23:36.004Z"
   },
   {
    "duration": 15,
    "start_time": "2024-11-12T22:23:36.059Z"
   },
   {
    "duration": 47,
    "start_time": "2024-11-12T22:23:36.076Z"
   },
   {
    "duration": 39,
    "start_time": "2024-11-12T22:23:36.126Z"
   },
   {
    "duration": 12,
    "start_time": "2024-11-12T22:23:36.166Z"
   },
   {
    "duration": 60,
    "start_time": "2024-11-12T22:23:36.179Z"
   },
   {
    "duration": 14,
    "start_time": "2024-11-12T22:23:36.241Z"
   },
   {
    "duration": 51,
    "start_time": "2024-11-12T22:23:36.256Z"
   },
   {
    "duration": 11,
    "start_time": "2024-11-12T22:23:36.309Z"
   },
   {
    "duration": 42,
    "start_time": "2024-11-12T22:23:36.321Z"
   },
   {
    "duration": 12,
    "start_time": "2024-11-12T22:23:36.364Z"
   },
   {
    "duration": 27,
    "start_time": "2024-11-12T22:23:36.378Z"
   },
   {
    "duration": 11,
    "start_time": "2024-11-12T22:23:36.408Z"
   },
   {
    "duration": 106,
    "start_time": "2024-11-12T22:23:36.421Z"
   },
   {
    "duration": 13,
    "start_time": "2024-11-12T22:23:36.529Z"
   },
   {
    "duration": 38,
    "start_time": "2024-11-12T22:23:36.544Z"
   },
   {
    "duration": 19,
    "start_time": "2024-11-12T22:23:36.584Z"
   },
   {
    "duration": 32,
    "start_time": "2024-11-12T22:23:36.605Z"
   },
   {
    "duration": 21,
    "start_time": "2024-11-12T22:23:36.653Z"
   },
   {
    "duration": 14,
    "start_time": "2024-11-12T22:23:36.676Z"
   },
   {
    "duration": 221,
    "start_time": "2024-11-12T22:23:36.692Z"
   },
   {
    "duration": 37,
    "start_time": "2024-11-12T22:23:36.915Z"
   },
   {
    "duration": 301,
    "start_time": "2024-11-12T22:23:36.953Z"
   },
   {
    "duration": 5,
    "start_time": "2024-11-12T22:23:37.256Z"
   },
   {
    "duration": 7,
    "start_time": "2024-11-12T22:23:37.262Z"
   },
   {
    "duration": 4,
    "start_time": "2024-11-12T22:23:37.271Z"
   },
   {
    "duration": 90,
    "start_time": "2024-11-12T22:23:37.277Z"
   },
   {
    "duration": 11,
    "start_time": "2024-11-12T22:23:37.369Z"
   },
   {
    "duration": 14,
    "start_time": "2024-11-12T22:23:37.382Z"
   },
   {
    "duration": 27,
    "start_time": "2024-11-12T22:23:37.398Z"
   },
   {
    "duration": 35,
    "start_time": "2024-11-12T22:23:37.427Z"
   },
   {
    "duration": 5,
    "start_time": "2024-11-12T22:23:37.463Z"
   },
   {
    "duration": 222,
    "start_time": "2024-11-12T22:23:37.470Z"
   },
   {
    "duration": 5,
    "start_time": "2024-11-12T22:23:37.693Z"
   },
   {
    "duration": 67,
    "start_time": "2024-11-12T22:23:37.700Z"
   },
   {
    "duration": 42,
    "start_time": "2024-11-12T22:23:37.769Z"
   },
   {
    "duration": 7,
    "start_time": "2024-11-12T22:23:37.813Z"
   },
   {
    "duration": 345,
    "start_time": "2024-11-12T22:23:37.822Z"
   },
   {
    "duration": 15,
    "start_time": "2024-11-12T22:23:38.168Z"
   },
   {
    "duration": 8,
    "start_time": "2024-11-12T22:23:38.187Z"
   },
   {
    "duration": 26,
    "start_time": "2024-11-12T22:23:38.196Z"
   },
   {
    "duration": 8,
    "start_time": "2024-11-12T22:23:38.223Z"
   },
   {
    "duration": 9,
    "start_time": "2024-11-12T22:23:38.252Z"
   },
   {
    "duration": 5,
    "start_time": "2024-11-12T22:23:38.263Z"
   },
   {
    "duration": 222,
    "start_time": "2024-11-12T22:23:38.269Z"
   },
   {
    "duration": 7,
    "start_time": "2024-11-12T22:23:38.492Z"
   },
   {
    "duration": 11,
    "start_time": "2024-11-12T22:23:38.500Z"
   },
   {
    "duration": 10,
    "start_time": "2024-11-12T22:23:38.512Z"
   },
   {
    "duration": 30,
    "start_time": "2024-11-12T22:23:38.523Z"
   },
   {
    "duration": 19,
    "start_time": "2024-11-12T22:23:38.555Z"
   },
   {
    "duration": 131,
    "start_time": "2024-11-12T22:23:38.576Z"
   },
   {
    "duration": 11,
    "start_time": "2024-11-12T22:23:38.709Z"
   },
   {
    "duration": 3,
    "start_time": "2024-11-12T22:23:38.722Z"
   },
   {
    "duration": 28,
    "start_time": "2024-11-12T22:23:38.727Z"
   },
   {
    "duration": 51,
    "start_time": "2024-11-12T22:23:38.757Z"
   },
   {
    "duration": 22,
    "start_time": "2024-11-12T22:23:38.810Z"
   },
   {
    "duration": 17,
    "start_time": "2024-11-12T22:23:38.834Z"
   },
   {
    "duration": 12,
    "start_time": "2024-11-12T22:23:38.853Z"
   },
   {
    "duration": 2639,
    "start_time": "2024-11-12T22:23:38.866Z"
   },
   {
    "duration": 50,
    "start_time": "2024-11-12T22:23:41.508Z"
   },
   {
    "duration": 7,
    "start_time": "2024-11-12T22:23:41.560Z"
   },
   {
    "duration": 454,
    "start_time": "2024-11-12T22:23:41.569Z"
   },
   {
    "duration": 2259,
    "start_time": "2024-11-12T22:23:42.025Z"
   },
   {
    "duration": 20,
    "start_time": "2024-11-12T22:23:44.287Z"
   },
   {
    "duration": 239,
    "start_time": "2024-11-12T22:23:44.309Z"
   },
   {
    "duration": 5,
    "start_time": "2024-11-12T22:23:44.549Z"
   },
   {
    "duration": 71,
    "start_time": "2024-11-12T22:23:44.556Z"
   },
   {
    "duration": 323077,
    "start_time": "2024-11-12T22:23:44.629Z"
   },
   {
    "duration": 4187,
    "start_time": "2024-11-12T22:29:07.708Z"
   },
   {
    "duration": 592,
    "start_time": "2024-11-12T22:29:11.897Z"
   },
   {
    "duration": 5,
    "start_time": "2024-11-12T22:29:12.490Z"
   },
   {
    "duration": 16,
    "start_time": "2024-11-12T22:29:12.496Z"
   },
   {
    "duration": 219,
    "start_time": "2024-11-12T22:29:12.514Z"
   },
   {
    "duration": 1481,
    "start_time": "2024-11-13T07:56:44.844Z"
   },
   {
    "duration": 182,
    "start_time": "2024-11-13T07:56:46.327Z"
   },
   {
    "duration": 14,
    "start_time": "2024-11-13T07:56:46.510Z"
   },
   {
    "duration": 17,
    "start_time": "2024-11-13T07:56:46.526Z"
   },
   {
    "duration": 120,
    "start_time": "2024-11-13T07:56:47.453Z"
   },
   {
    "duration": 12,
    "start_time": "2024-11-13T07:56:47.722Z"
   },
   {
    "duration": 89,
    "start_time": "2024-11-13T07:56:48.098Z"
   },
   {
    "duration": 13,
    "start_time": "2024-11-13T07:56:48.253Z"
   },
   {
    "duration": 123,
    "start_time": "2024-11-13T07:56:50.447Z"
   },
   {
    "duration": 11,
    "start_time": "2024-11-13T07:56:50.999Z"
   },
   {
    "duration": 154,
    "start_time": "2024-11-13T07:56:51.390Z"
   },
   {
    "duration": 11,
    "start_time": "2024-11-13T07:56:51.615Z"
   },
   {
    "duration": 114,
    "start_time": "2024-11-13T07:56:52.421Z"
   },
   {
    "duration": 10,
    "start_time": "2024-11-13T07:56:52.604Z"
   },
   {
    "duration": 96,
    "start_time": "2024-11-13T07:56:52.854Z"
   },
   {
    "duration": 12,
    "start_time": "2024-11-13T07:56:52.967Z"
   },
   {
    "duration": 38,
    "start_time": "2024-11-13T07:56:54.620Z"
   },
   {
    "duration": 22,
    "start_time": "2024-11-13T07:56:56.065Z"
   },
   {
    "duration": 15,
    "start_time": "2024-11-13T07:56:56.774Z"
   },
   {
    "duration": 17,
    "start_time": "2024-11-13T07:56:58.181Z"
   },
   {
    "duration": 15,
    "start_time": "2024-11-13T07:56:58.481Z"
   },
   {
    "duration": 203,
    "start_time": "2024-11-13T07:56:59.584Z"
   },
   {
    "duration": 28,
    "start_time": "2024-11-13T07:56:59.789Z"
   },
   {
    "duration": 320,
    "start_time": "2024-11-13T07:56:59.819Z"
   },
   {
    "duration": 4,
    "start_time": "2024-11-13T07:57:00.569Z"
   },
   {
    "duration": 6,
    "start_time": "2024-11-13T07:57:00.786Z"
   },
   {
    "duration": 3,
    "start_time": "2024-11-13T07:57:00.935Z"
   },
   {
    "duration": 68,
    "start_time": "2024-11-13T07:57:01.130Z"
   },
   {
    "duration": 11,
    "start_time": "2024-11-13T07:57:01.265Z"
   },
   {
    "duration": 12,
    "start_time": "2024-11-13T07:57:01.983Z"
   },
   {
    "duration": 11,
    "start_time": "2024-11-13T07:57:02.165Z"
   },
   {
    "duration": 18,
    "start_time": "2024-11-13T07:57:02.495Z"
   },
   {
    "duration": 4,
    "start_time": "2024-11-13T07:57:02.674Z"
   },
   {
    "duration": 221,
    "start_time": "2024-11-13T07:57:03.050Z"
   },
   {
    "duration": 5,
    "start_time": "2024-11-13T07:57:03.598Z"
   },
   {
    "duration": 6,
    "start_time": "2024-11-13T07:57:03.911Z"
   },
   {
    "duration": 32,
    "start_time": "2024-11-13T07:57:04.083Z"
   },
   {
    "duration": 7,
    "start_time": "2024-11-13T07:57:04.825Z"
   },
   {
    "duration": 270,
    "start_time": "2024-11-13T07:57:05.021Z"
   },
   {
    "duration": 16,
    "start_time": "2024-11-13T07:57:05.395Z"
   },
   {
    "duration": 8,
    "start_time": "2024-11-13T07:57:07.465Z"
   },
   {
    "duration": 11,
    "start_time": "2024-11-13T07:57:08.959Z"
   },
   {
    "duration": 8,
    "start_time": "2024-11-13T07:57:09.892Z"
   },
   {
    "duration": 10,
    "start_time": "2024-11-13T07:57:10.909Z"
   },
   {
    "duration": 6,
    "start_time": "2024-11-13T07:57:11.151Z"
   },
   {
    "duration": 208,
    "start_time": "2024-11-13T07:57:12.405Z"
   },
   {
    "duration": 7,
    "start_time": "2024-11-13T07:57:13.242Z"
   },
   {
    "duration": 12,
    "start_time": "2024-11-13T07:57:13.772Z"
   },
   {
    "duration": 6,
    "start_time": "2024-11-13T07:57:14.009Z"
   },
   {
    "duration": 13,
    "start_time": "2024-11-13T07:57:14.128Z"
   },
   {
    "duration": 10,
    "start_time": "2024-11-13T07:57:15.504Z"
   },
   {
    "duration": 132,
    "start_time": "2024-11-13T07:57:16.311Z"
   },
   {
    "duration": 25,
    "start_time": "2024-11-13T07:57:30.149Z"
   },
   {
    "duration": 13,
    "start_time": "2024-11-13T08:01:17.552Z"
   },
   {
    "duration": 1428,
    "start_time": "2024-11-14T06:50:45.595Z"
   },
   {
    "duration": 135,
    "start_time": "2024-11-14T06:50:47.024Z"
   },
   {
    "duration": 0,
    "start_time": "2024-11-14T06:50:47.161Z"
   },
   {
    "duration": 0,
    "start_time": "2024-11-14T06:50:47.162Z"
   },
   {
    "duration": 93,
    "start_time": "2024-11-14T06:50:47.323Z"
   },
   {
    "duration": 12,
    "start_time": "2024-11-14T06:50:47.524Z"
   },
   {
    "duration": 147,
    "start_time": "2024-11-14T06:50:47.873Z"
   },
   {
    "duration": 13,
    "start_time": "2024-11-14T06:50:48.053Z"
   },
   {
    "duration": 102,
    "start_time": "2024-11-14T06:50:48.393Z"
   },
   {
    "duration": 11,
    "start_time": "2024-11-14T06:50:48.850Z"
   },
   {
    "duration": 84,
    "start_time": "2024-11-14T06:50:49.214Z"
   },
   {
    "duration": 13,
    "start_time": "2024-11-14T06:50:49.398Z"
   },
   {
    "duration": 80,
    "start_time": "2024-11-14T06:50:50.337Z"
   },
   {
    "duration": 11,
    "start_time": "2024-11-14T06:50:50.545Z"
   },
   {
    "duration": 79,
    "start_time": "2024-11-14T06:50:50.960Z"
   },
   {
    "duration": 12,
    "start_time": "2024-11-14T06:50:51.251Z"
   },
   {
    "duration": 11,
    "start_time": "2024-11-14T06:50:52.931Z"
   },
   {
    "duration": 11,
    "start_time": "2024-11-14T06:51:14.525Z"
   },
   {
    "duration": 103,
    "start_time": "2024-11-14T06:52:01.730Z"
   },
   {
    "duration": 9,
    "start_time": "2024-11-14T06:52:03.975Z"
   },
   {
    "duration": 13,
    "start_time": "2024-11-14T06:52:04.496Z"
   },
   {
    "duration": 37,
    "start_time": "2024-11-14T06:52:11.396Z"
   },
   {
    "duration": 18,
    "start_time": "2024-11-14T06:52:12.973Z"
   },
   {
    "duration": 18,
    "start_time": "2024-11-14T06:52:13.628Z"
   },
   {
    "duration": 15,
    "start_time": "2024-11-14T06:52:15.110Z"
   },
   {
    "duration": 14,
    "start_time": "2024-11-14T06:52:15.425Z"
   },
   {
    "duration": 182,
    "start_time": "2024-11-14T06:52:16.812Z"
   },
   {
    "duration": 33,
    "start_time": "2024-11-14T06:52:17.371Z"
   },
   {
    "duration": 254,
    "start_time": "2024-11-14T06:52:17.992Z"
   },
   {
    "duration": 5,
    "start_time": "2024-11-14T06:52:19.925Z"
   },
   {
    "duration": 5,
    "start_time": "2024-11-14T06:52:20.450Z"
   },
   {
    "duration": 4,
    "start_time": "2024-11-14T06:52:21.035Z"
   },
   {
    "duration": 61,
    "start_time": "2024-11-14T06:52:21.221Z"
   },
   {
    "duration": 10,
    "start_time": "2024-11-14T06:52:21.411Z"
   },
   {
    "duration": 11,
    "start_time": "2024-11-14T06:52:22.532Z"
   },
   {
    "duration": 11,
    "start_time": "2024-11-14T06:52:22.705Z"
   },
   {
    "duration": 18,
    "start_time": "2024-11-14T06:52:23.308Z"
   },
   {
    "duration": 5,
    "start_time": "2024-11-14T06:52:23.509Z"
   },
   {
    "duration": 224,
    "start_time": "2024-11-14T06:52:23.715Z"
   },
   {
    "duration": 4,
    "start_time": "2024-11-14T06:52:24.369Z"
   },
   {
    "duration": 5,
    "start_time": "2024-11-14T06:52:24.583Z"
   },
   {
    "duration": 33,
    "start_time": "2024-11-14T06:52:24.936Z"
   },
   {
    "duration": 7,
    "start_time": "2024-11-14T06:52:26.220Z"
   },
   {
    "duration": 257,
    "start_time": "2024-11-14T06:52:27.018Z"
   },
   {
    "duration": 15,
    "start_time": "2024-11-14T06:52:28.010Z"
   },
   {
    "duration": 8,
    "start_time": "2024-11-14T06:52:31.207Z"
   },
   {
    "duration": 12,
    "start_time": "2024-11-14T06:52:31.436Z"
   },
   {
    "duration": 8,
    "start_time": "2024-11-14T06:52:31.902Z"
   },
   {
    "duration": 9,
    "start_time": "2024-11-14T06:52:32.738Z"
   },
   {
    "duration": 6,
    "start_time": "2024-11-14T06:52:33.236Z"
   },
   {
    "duration": 193,
    "start_time": "2024-11-14T06:52:35.149Z"
   },
   {
    "duration": 8,
    "start_time": "2024-11-14T06:52:36.613Z"
   },
   {
    "duration": 12,
    "start_time": "2024-11-14T06:52:37.669Z"
   },
   {
    "duration": 7,
    "start_time": "2024-11-14T06:52:38.118Z"
   },
   {
    "duration": 14,
    "start_time": "2024-11-14T06:52:40.673Z"
   },
   {
    "duration": 10,
    "start_time": "2024-11-14T06:52:41.076Z"
   },
   {
    "duration": 65,
    "start_time": "2024-11-14T06:52:41.299Z"
   },
   {
    "duration": 30,
    "start_time": "2024-11-14T06:52:55.616Z"
   },
   {
    "duration": 12,
    "start_time": "2024-11-14T06:53:11.728Z"
   },
   {
    "duration": 2,
    "start_time": "2024-11-14T06:53:12.304Z"
   },
   {
    "duration": 6,
    "start_time": "2024-11-14T06:53:13.299Z"
   },
   {
    "duration": 3,
    "start_time": "2024-11-14T06:53:14.294Z"
   },
   {
    "duration": 30,
    "start_time": "2024-11-14T06:53:14.517Z"
   },
   {
    "duration": 16,
    "start_time": "2024-11-14T06:53:15.226Z"
   },
   {
    "duration": 11,
    "start_time": "2024-11-14T06:53:17.631Z"
   },
   {
    "duration": 3664,
    "start_time": "2024-11-14T06:53:24.400Z"
   },
   {
    "duration": 352,
    "start_time": "2024-11-14T06:53:32.047Z"
   },
   {
    "duration": 6,
    "start_time": "2024-11-14T06:53:32.724Z"
   },
   {
    "duration": 497,
    "start_time": "2024-11-14T06:53:33.680Z"
   },
   {
    "duration": 1443,
    "start_time": "2024-11-14T20:56:25.532Z"
   },
   {
    "duration": 99,
    "start_time": "2024-11-14T20:56:26.977Z"
   },
   {
    "duration": 19,
    "start_time": "2024-11-14T20:56:27.077Z"
   },
   {
    "duration": 17,
    "start_time": "2024-11-14T20:56:27.098Z"
   },
   {
    "duration": 76,
    "start_time": "2024-11-14T20:56:27.118Z"
   },
   {
    "duration": 12,
    "start_time": "2024-11-14T20:56:27.196Z"
   },
   {
    "duration": 171,
    "start_time": "2024-11-14T20:56:27.210Z"
   },
   {
    "duration": 14,
    "start_time": "2024-11-14T20:56:27.383Z"
   },
   {
    "duration": 93,
    "start_time": "2024-11-14T20:56:27.399Z"
   },
   {
    "duration": 11,
    "start_time": "2024-11-14T20:56:27.493Z"
   },
   {
    "duration": 145,
    "start_time": "2024-11-14T20:56:27.505Z"
   },
   {
    "duration": 12,
    "start_time": "2024-11-14T20:56:27.652Z"
   },
   {
    "duration": 74,
    "start_time": "2024-11-14T20:56:27.666Z"
   },
   {
    "duration": 11,
    "start_time": "2024-11-14T20:56:27.743Z"
   },
   {
    "duration": 72,
    "start_time": "2024-11-14T20:56:27.756Z"
   },
   {
    "duration": 16,
    "start_time": "2024-11-14T20:56:27.830Z"
   },
   {
    "duration": 78,
    "start_time": "2024-11-14T20:56:27.849Z"
   },
   {
    "duration": 20,
    "start_time": "2024-11-14T20:56:27.929Z"
   },
   {
    "duration": 14,
    "start_time": "2024-11-14T20:56:27.950Z"
   },
   {
    "duration": 27,
    "start_time": "2024-11-14T20:56:27.966Z"
   },
   {
    "duration": 35,
    "start_time": "2024-11-14T20:56:27.994Z"
   },
   {
    "duration": 218,
    "start_time": "2024-11-14T20:56:28.031Z"
   },
   {
    "duration": 29,
    "start_time": "2024-11-14T20:56:28.251Z"
   },
   {
    "duration": 328,
    "start_time": "2024-11-14T20:56:28.281Z"
   },
   {
    "duration": 5,
    "start_time": "2024-11-14T20:56:28.611Z"
   },
   {
    "duration": 58,
    "start_time": "2024-11-14T20:56:28.621Z"
   },
   {
    "duration": 14,
    "start_time": "2024-11-14T20:56:28.681Z"
   },
   {
    "duration": 69,
    "start_time": "2024-11-14T20:56:28.696Z"
   },
   {
    "duration": 10,
    "start_time": "2024-11-14T20:56:28.767Z"
   },
   {
    "duration": 13,
    "start_time": "2024-11-14T20:56:28.779Z"
   },
   {
    "duration": 30,
    "start_time": "2024-11-14T20:56:28.794Z"
   },
   {
    "duration": 19,
    "start_time": "2024-11-14T20:56:28.826Z"
   },
   {
    "duration": 5,
    "start_time": "2024-11-14T20:56:28.847Z"
   },
   {
    "duration": 247,
    "start_time": "2024-11-14T20:56:28.854Z"
   },
   {
    "duration": 5,
    "start_time": "2024-11-14T20:56:29.103Z"
   },
   {
    "duration": 17,
    "start_time": "2024-11-14T20:56:29.109Z"
   },
   {
    "duration": 33,
    "start_time": "2024-11-14T20:56:29.128Z"
   },
   {
    "duration": 7,
    "start_time": "2024-11-14T20:56:29.163Z"
   },
   {
    "duration": 334,
    "start_time": "2024-11-14T20:56:29.171Z"
   },
   {
    "duration": 22,
    "start_time": "2024-11-14T20:56:29.507Z"
   },
   {
    "duration": 44,
    "start_time": "2024-11-14T20:56:29.533Z"
   },
   {
    "duration": 13,
    "start_time": "2024-11-14T20:56:29.579Z"
   },
   {
    "duration": 10,
    "start_time": "2024-11-14T20:56:29.594Z"
   },
   {
    "duration": 16,
    "start_time": "2024-11-14T20:56:29.605Z"
   },
   {
    "duration": 7,
    "start_time": "2024-11-14T20:56:29.623Z"
   },
   {
    "duration": 224,
    "start_time": "2024-11-14T20:56:29.632Z"
   },
   {
    "duration": 10,
    "start_time": "2024-11-14T20:56:29.858Z"
   },
   {
    "duration": 20,
    "start_time": "2024-11-14T20:56:29.870Z"
   },
   {
    "duration": 31,
    "start_time": "2024-11-14T20:56:29.893Z"
   },
   {
    "duration": 18,
    "start_time": "2024-11-14T20:56:29.927Z"
   },
   {
    "duration": 14,
    "start_time": "2024-11-14T20:56:29.947Z"
   },
   {
    "duration": 167,
    "start_time": "2024-11-14T20:56:29.964Z"
   },
   {
    "duration": 28,
    "start_time": "2024-11-14T20:56:30.133Z"
   },
   {
    "duration": 18,
    "start_time": "2024-11-14T20:56:30.163Z"
   },
   {
    "duration": 14,
    "start_time": "2024-11-14T20:56:30.183Z"
   },
   {
    "duration": 36,
    "start_time": "2024-11-14T20:56:30.200Z"
   },
   {
    "duration": 8,
    "start_time": "2024-11-14T20:56:30.238Z"
   },
   {
    "duration": 74,
    "start_time": "2024-11-14T20:56:30.248Z"
   },
   {
    "duration": 42,
    "start_time": "2024-11-14T20:56:30.324Z"
   },
   {
    "duration": 46,
    "start_time": "2024-11-14T20:56:30.368Z"
   },
   {
    "duration": 3440,
    "start_time": "2024-11-14T20:56:30.416Z"
   },
   {
    "duration": 59,
    "start_time": "2024-11-14T20:56:33.858Z"
   },
   {
    "duration": 6,
    "start_time": "2024-11-14T20:56:33.919Z"
   },
   {
    "duration": 375,
    "start_time": "2024-11-14T20:56:33.927Z"
   },
   {
    "duration": 2221,
    "start_time": "2024-11-14T20:56:34.304Z"
   },
   {
    "duration": 19,
    "start_time": "2024-11-14T20:56:36.527Z"
   },
   {
    "duration": 246,
    "start_time": "2024-11-14T20:56:36.548Z"
   },
   {
    "duration": 7,
    "start_time": "2024-11-14T20:56:36.797Z"
   },
   {
    "duration": 73,
    "start_time": "2024-11-14T20:56:36.806Z"
   },
   {
    "duration": 16808,
    "start_time": "2024-11-14T20:56:36.881Z"
   },
   {
    "duration": 23173,
    "start_time": "2024-11-14T20:56:53.690Z"
   },
   {
    "duration": 88841,
    "start_time": "2024-11-14T20:57:16.866Z"
   },
   {
    "duration": 5,
    "start_time": "2024-11-14T20:58:45.709Z"
   },
   {
    "duration": 12,
    "start_time": "2024-11-14T20:58:45.721Z"
   },
   {
    "duration": 266,
    "start_time": "2024-11-14T20:58:45.735Z"
   },
   {
    "duration": 11,
    "start_time": "2024-11-14T21:13:03.062Z"
   },
   {
    "duration": 4,
    "start_time": "2024-11-14T21:13:14.584Z"
   },
   {
    "duration": 1328,
    "start_time": "2024-11-14T21:17:04.053Z"
   },
   {
    "duration": 50,
    "start_time": "2024-11-14T21:17:05.384Z"
   },
   {
    "duration": 13,
    "start_time": "2024-11-14T21:17:05.436Z"
   },
   {
    "duration": 33,
    "start_time": "2024-11-14T21:17:05.451Z"
   },
   {
    "duration": 56,
    "start_time": "2024-11-14T21:17:05.487Z"
   },
   {
    "duration": 13,
    "start_time": "2024-11-14T21:17:05.546Z"
   },
   {
    "duration": 104,
    "start_time": "2024-11-14T21:17:05.561Z"
   },
   {
    "duration": 18,
    "start_time": "2024-11-14T21:17:05.667Z"
   },
   {
    "duration": 61,
    "start_time": "2024-11-14T21:17:05.687Z"
   },
   {
    "duration": 12,
    "start_time": "2024-11-14T21:17:05.750Z"
   },
   {
    "duration": 70,
    "start_time": "2024-11-14T21:17:05.764Z"
   },
   {
    "duration": 14,
    "start_time": "2024-11-14T21:17:05.836Z"
   },
   {
    "duration": 60,
    "start_time": "2024-11-14T21:17:05.852Z"
   },
   {
    "duration": 15,
    "start_time": "2024-11-14T21:17:05.916Z"
   },
   {
    "duration": 61,
    "start_time": "2024-11-14T21:17:05.933Z"
   },
   {
    "duration": 14,
    "start_time": "2024-11-14T21:17:05.996Z"
   },
   {
    "duration": 79,
    "start_time": "2024-11-14T21:17:06.011Z"
   },
   {
    "duration": 20,
    "start_time": "2024-11-14T21:17:06.091Z"
   },
   {
    "duration": 33,
    "start_time": "2024-11-14T21:17:06.113Z"
   },
   {
    "duration": 42,
    "start_time": "2024-11-14T21:17:06.148Z"
   },
   {
    "duration": 41,
    "start_time": "2024-11-14T21:17:06.192Z"
   },
   {
    "duration": 229,
    "start_time": "2024-11-14T21:17:06.236Z"
   },
   {
    "duration": 28,
    "start_time": "2024-11-14T21:17:06.467Z"
   },
   {
    "duration": 302,
    "start_time": "2024-11-14T21:17:06.497Z"
   },
   {
    "duration": 5,
    "start_time": "2024-11-14T21:17:06.801Z"
   },
   {
    "duration": 7,
    "start_time": "2024-11-14T21:17:06.821Z"
   },
   {
    "duration": 14,
    "start_time": "2024-11-14T21:17:06.830Z"
   },
   {
    "duration": 83,
    "start_time": "2024-11-14T21:17:06.846Z"
   },
   {
    "duration": 10,
    "start_time": "2024-11-14T21:17:06.930Z"
   },
   {
    "duration": 21,
    "start_time": "2024-11-14T21:17:06.942Z"
   },
   {
    "duration": 29,
    "start_time": "2024-11-14T21:17:06.965Z"
   },
   {
    "duration": 33,
    "start_time": "2024-11-14T21:17:06.996Z"
   },
   {
    "duration": 19,
    "start_time": "2024-11-14T21:17:07.031Z"
   },
   {
    "duration": 213,
    "start_time": "2024-11-14T21:17:07.052Z"
   },
   {
    "duration": 5,
    "start_time": "2024-11-14T21:17:07.267Z"
   },
   {
    "duration": 75,
    "start_time": "2024-11-14T21:17:07.274Z"
   },
   {
    "duration": 90,
    "start_time": "2024-11-14T21:17:07.351Z"
   },
   {
    "duration": 8,
    "start_time": "2024-11-14T21:17:07.443Z"
   },
   {
    "duration": 311,
    "start_time": "2024-11-14T21:17:07.452Z"
   },
   {
    "duration": 19,
    "start_time": "2024-11-14T21:17:07.766Z"
   },
   {
    "duration": 9,
    "start_time": "2024-11-14T21:17:07.790Z"
   },
   {
    "duration": 14,
    "start_time": "2024-11-14T21:17:07.823Z"
   },
   {
    "duration": 29,
    "start_time": "2024-11-14T21:17:07.841Z"
   },
   {
    "duration": 43,
    "start_time": "2024-11-14T21:17:07.871Z"
   },
   {
    "duration": 31,
    "start_time": "2024-11-14T21:17:07.916Z"
   },
   {
    "duration": 224,
    "start_time": "2024-11-14T21:17:07.948Z"
   },
   {
    "duration": 7,
    "start_time": "2024-11-14T21:17:08.173Z"
   },
   {
    "duration": 15,
    "start_time": "2024-11-14T21:17:08.182Z"
   },
   {
    "duration": 23,
    "start_time": "2024-11-14T21:17:08.199Z"
   },
   {
    "duration": 9,
    "start_time": "2024-11-14T21:17:08.224Z"
   },
   {
    "duration": 21,
    "start_time": "2024-11-14T21:17:08.234Z"
   },
   {
    "duration": 88,
    "start_time": "2024-11-14T21:17:08.257Z"
   },
   {
    "duration": 1078,
    "start_time": "2024-11-14T21:17:08.347Z"
   },
   {
    "duration": 0,
    "start_time": "2024-11-14T21:17:09.427Z"
   },
   {
    "duration": 0,
    "start_time": "2024-11-14T21:17:09.428Z"
   },
   {
    "duration": 0,
    "start_time": "2024-11-14T21:17:09.429Z"
   },
   {
    "duration": 0,
    "start_time": "2024-11-14T21:17:09.430Z"
   },
   {
    "duration": 0,
    "start_time": "2024-11-14T21:17:09.432Z"
   },
   {
    "duration": 0,
    "start_time": "2024-11-14T21:17:09.433Z"
   },
   {
    "duration": 0,
    "start_time": "2024-11-14T21:17:09.434Z"
   },
   {
    "duration": 0,
    "start_time": "2024-11-14T21:17:09.435Z"
   },
   {
    "duration": 0,
    "start_time": "2024-11-14T21:17:09.436Z"
   },
   {
    "duration": 0,
    "start_time": "2024-11-14T21:17:09.438Z"
   },
   {
    "duration": 0,
    "start_time": "2024-11-14T21:17:09.439Z"
   },
   {
    "duration": 0,
    "start_time": "2024-11-14T21:17:09.441Z"
   },
   {
    "duration": 0,
    "start_time": "2024-11-14T21:17:09.443Z"
   },
   {
    "duration": 0,
    "start_time": "2024-11-14T21:17:09.444Z"
   },
   {
    "duration": 0,
    "start_time": "2024-11-14T21:17:09.446Z"
   },
   {
    "duration": 0,
    "start_time": "2024-11-14T21:17:09.447Z"
   },
   {
    "duration": 0,
    "start_time": "2024-11-14T21:17:09.449Z"
   },
   {
    "duration": 0,
    "start_time": "2024-11-14T21:17:09.451Z"
   },
   {
    "duration": 0,
    "start_time": "2024-11-14T21:17:09.452Z"
   },
   {
    "duration": 0,
    "start_time": "2024-11-14T21:17:09.454Z"
   },
   {
    "duration": 0,
    "start_time": "2024-11-14T21:17:09.455Z"
   },
   {
    "duration": 0,
    "start_time": "2024-11-14T21:17:09.456Z"
   },
   {
    "duration": 0,
    "start_time": "2024-11-14T21:17:09.458Z"
   },
   {
    "duration": 0,
    "start_time": "2024-11-14T21:17:09.459Z"
   },
   {
    "duration": 13,
    "start_time": "2024-11-14T21:18:24.823Z"
   },
   {
    "duration": 20,
    "start_time": "2024-11-14T21:18:38.254Z"
   },
   {
    "duration": 53,
    "start_time": "2024-11-14T21:19:49.709Z"
   },
   {
    "duration": 5,
    "start_time": "2024-11-14T21:20:31.080Z"
   },
   {
    "duration": 8,
    "start_time": "2024-11-14T21:20:40.152Z"
   },
   {
    "duration": 9,
    "start_time": "2024-11-14T21:21:14.755Z"
   },
   {
    "duration": 21,
    "start_time": "2024-11-14T21:21:35.260Z"
   },
   {
    "duration": 13,
    "start_time": "2024-11-14T21:21:45.202Z"
   },
   {
    "duration": 1260,
    "start_time": "2024-11-14T21:21:59.222Z"
   },
   {
    "duration": 54,
    "start_time": "2024-11-14T21:22:00.485Z"
   },
   {
    "duration": 13,
    "start_time": "2024-11-14T21:22:00.540Z"
   },
   {
    "duration": 30,
    "start_time": "2024-11-14T21:22:00.555Z"
   },
   {
    "duration": 47,
    "start_time": "2024-11-14T21:22:00.587Z"
   },
   {
    "duration": 12,
    "start_time": "2024-11-14T21:22:00.636Z"
   },
   {
    "duration": 61,
    "start_time": "2024-11-14T21:22:00.650Z"
   },
   {
    "duration": 13,
    "start_time": "2024-11-14T21:22:00.713Z"
   },
   {
    "duration": 72,
    "start_time": "2024-11-14T21:22:00.728Z"
   },
   {
    "duration": 10,
    "start_time": "2024-11-14T21:22:00.802Z"
   },
   {
    "duration": 60,
    "start_time": "2024-11-14T21:22:00.814Z"
   },
   {
    "duration": 11,
    "start_time": "2024-11-14T21:22:00.876Z"
   },
   {
    "duration": 49,
    "start_time": "2024-11-14T21:22:00.889Z"
   },
   {
    "duration": 12,
    "start_time": "2024-11-14T21:22:00.941Z"
   },
   {
    "duration": 41,
    "start_time": "2024-11-14T21:22:00.955Z"
   },
   {
    "duration": 13,
    "start_time": "2024-11-14T21:22:00.998Z"
   },
   {
    "duration": 39,
    "start_time": "2024-11-14T21:22:01.013Z"
   },
   {
    "duration": 21,
    "start_time": "2024-11-14T21:22:01.054Z"
   },
   {
    "duration": 51,
    "start_time": "2024-11-14T21:22:01.077Z"
   },
   {
    "duration": 85,
    "start_time": "2024-11-14T21:22:01.130Z"
   },
   {
    "duration": 37,
    "start_time": "2024-11-14T21:22:01.216Z"
   },
   {
    "duration": 299,
    "start_time": "2024-11-14T21:22:01.254Z"
   },
   {
    "duration": 27,
    "start_time": "2024-11-14T21:22:01.555Z"
   },
   {
    "duration": 391,
    "start_time": "2024-11-14T21:22:01.583Z"
   },
   {
    "duration": 4,
    "start_time": "2024-11-14T21:22:01.976Z"
   },
   {
    "duration": 23,
    "start_time": "2024-11-14T21:22:01.982Z"
   },
   {
    "duration": 14,
    "start_time": "2024-11-14T21:22:02.007Z"
   },
   {
    "duration": 70,
    "start_time": "2024-11-14T21:22:02.023Z"
   },
   {
    "duration": 27,
    "start_time": "2024-11-14T21:22:02.095Z"
   },
   {
    "duration": 85,
    "start_time": "2024-11-14T21:22:02.123Z"
   },
   {
    "duration": 18,
    "start_time": "2024-11-14T21:22:02.210Z"
   },
   {
    "duration": 29,
    "start_time": "2024-11-14T21:22:02.230Z"
   },
   {
    "duration": 5,
    "start_time": "2024-11-14T21:22:02.260Z"
   },
   {
    "duration": 234,
    "start_time": "2024-11-14T21:22:02.266Z"
   },
   {
    "duration": 5,
    "start_time": "2024-11-14T21:22:02.501Z"
   },
   {
    "duration": 28,
    "start_time": "2024-11-14T21:22:02.507Z"
   },
   {
    "duration": 35,
    "start_time": "2024-11-14T21:22:02.537Z"
   },
   {
    "duration": 10,
    "start_time": "2024-11-14T21:22:02.574Z"
   },
   {
    "duration": 279,
    "start_time": "2024-11-14T21:22:02.585Z"
   },
   {
    "duration": 16,
    "start_time": "2024-11-14T21:22:02.866Z"
   },
   {
    "duration": 29,
    "start_time": "2024-11-14T21:22:02.886Z"
   },
   {
    "duration": 22,
    "start_time": "2024-11-14T21:22:02.916Z"
   },
   {
    "duration": 8,
    "start_time": "2024-11-14T21:22:02.940Z"
   },
   {
    "duration": 56,
    "start_time": "2024-11-14T21:22:02.950Z"
   },
   {
    "duration": 17,
    "start_time": "2024-11-14T21:22:03.007Z"
   },
   {
    "duration": 236,
    "start_time": "2024-11-14T21:22:03.026Z"
   },
   {
    "duration": 7,
    "start_time": "2024-11-14T21:22:03.264Z"
   },
   {
    "duration": 84,
    "start_time": "2024-11-14T21:22:03.272Z"
   },
   {
    "duration": 29,
    "start_time": "2024-11-14T21:22:03.357Z"
   },
   {
    "duration": 9,
    "start_time": "2024-11-14T21:22:03.387Z"
   },
   {
    "duration": 21,
    "start_time": "2024-11-14T21:22:03.398Z"
   },
   {
    "duration": 90,
    "start_time": "2024-11-14T21:22:03.420Z"
   },
   {
    "duration": 77,
    "start_time": "2024-11-14T21:22:03.512Z"
   },
   {
    "duration": 49,
    "start_time": "2024-11-14T21:22:03.590Z"
   },
   {
    "duration": 13,
    "start_time": "2024-11-14T21:22:03.641Z"
   },
   {
    "duration": 21,
    "start_time": "2024-11-14T21:22:03.656Z"
   },
   {
    "duration": 20,
    "start_time": "2024-11-14T21:22:03.678Z"
   },
   {
    "duration": 14,
    "start_time": "2024-11-14T21:22:03.699Z"
   },
   {
    "duration": 36,
    "start_time": "2024-11-14T21:22:03.715Z"
   },
   {
    "duration": 18,
    "start_time": "2024-11-14T21:22:03.753Z"
   },
   {
    "duration": 21,
    "start_time": "2024-11-14T21:22:03.773Z"
   },
   {
    "duration": 2657,
    "start_time": "2024-11-14T21:22:03.795Z"
   },
   {
    "duration": 56,
    "start_time": "2024-11-14T21:22:06.454Z"
   },
   {
    "duration": 6,
    "start_time": "2024-11-14T21:22:06.512Z"
   },
   {
    "duration": 436,
    "start_time": "2024-11-14T21:22:06.519Z"
   },
   {
    "duration": 2424,
    "start_time": "2024-11-14T21:22:06.956Z"
   },
   {
    "duration": 19,
    "start_time": "2024-11-14T21:22:09.381Z"
   },
   {
    "duration": 221,
    "start_time": "2024-11-14T21:22:09.401Z"
   },
   {
    "duration": 6,
    "start_time": "2024-11-14T21:22:09.624Z"
   },
   {
    "duration": 114,
    "start_time": "2024-11-14T21:22:09.631Z"
   },
   {
    "duration": 18138,
    "start_time": "2024-11-14T21:22:09.748Z"
   },
   {
    "duration": 23012,
    "start_time": "2024-11-14T21:22:27.888Z"
   },
   {
    "duration": 97179,
    "start_time": "2024-11-14T21:22:50.902Z"
   },
   {
    "duration": 5,
    "start_time": "2024-11-14T21:24:28.083Z"
   },
   {
    "duration": 31,
    "start_time": "2024-11-14T21:24:28.090Z"
   },
   {
    "duration": 215,
    "start_time": "2024-11-14T21:24:28.123Z"
   },
   {
    "duration": 1286,
    "start_time": "2024-11-15T19:11:11.762Z"
   },
   {
    "duration": 185,
    "start_time": "2024-11-15T19:11:13.049Z"
   },
   {
    "duration": 14,
    "start_time": "2024-11-15T19:11:13.235Z"
   },
   {
    "duration": 19,
    "start_time": "2024-11-15T19:11:13.251Z"
   },
   {
    "duration": 98,
    "start_time": "2024-11-15T19:11:13.271Z"
   },
   {
    "duration": 12,
    "start_time": "2024-11-15T19:11:13.370Z"
   },
   {
    "duration": 93,
    "start_time": "2024-11-15T19:11:13.384Z"
   },
   {
    "duration": 13,
    "start_time": "2024-11-15T19:11:13.479Z"
   },
   {
    "duration": 124,
    "start_time": "2024-11-15T19:11:13.493Z"
   },
   {
    "duration": 10,
    "start_time": "2024-11-15T19:11:13.619Z"
   },
   {
    "duration": 118,
    "start_time": "2024-11-15T19:11:13.631Z"
   },
   {
    "duration": 10,
    "start_time": "2024-11-15T19:11:13.750Z"
   },
   {
    "duration": 166,
    "start_time": "2024-11-15T19:11:13.761Z"
   },
   {
    "duration": 11,
    "start_time": "2024-11-15T19:11:13.929Z"
   },
   {
    "duration": 89,
    "start_time": "2024-11-15T19:11:13.941Z"
   },
   {
    "duration": 12,
    "start_time": "2024-11-15T19:11:14.031Z"
   },
   {
    "duration": 40,
    "start_time": "2024-11-15T19:11:14.044Z"
   },
   {
    "duration": 38,
    "start_time": "2024-11-15T19:11:14.085Z"
   },
   {
    "duration": 13,
    "start_time": "2024-11-15T19:11:14.124Z"
   },
   {
    "duration": 34,
    "start_time": "2024-11-15T19:11:14.139Z"
   },
   {
    "duration": 21,
    "start_time": "2024-11-15T19:11:14.174Z"
   },
   {
    "duration": 203,
    "start_time": "2024-11-15T19:11:14.196Z"
   },
   {
    "duration": 35,
    "start_time": "2024-11-15T19:11:14.401Z"
   },
   {
    "duration": 277,
    "start_time": "2024-11-15T19:11:14.437Z"
   },
   {
    "duration": 11,
    "start_time": "2024-11-15T19:11:14.715Z"
   },
   {
    "duration": 23,
    "start_time": "2024-11-15T19:11:14.728Z"
   },
   {
    "duration": 4,
    "start_time": "2024-11-15T19:11:14.753Z"
   },
   {
    "duration": 75,
    "start_time": "2024-11-15T19:11:14.762Z"
   },
   {
    "duration": 8,
    "start_time": "2024-11-15T19:11:14.839Z"
   },
   {
    "duration": 12,
    "start_time": "2024-11-15T19:11:14.849Z"
   },
   {
    "duration": 9,
    "start_time": "2024-11-15T19:11:14.863Z"
   },
   {
    "duration": 28,
    "start_time": "2024-11-15T19:11:14.874Z"
   },
   {
    "duration": 66,
    "start_time": "2024-11-15T19:11:14.904Z"
   },
   {
    "duration": 214,
    "start_time": "2024-11-15T19:11:14.972Z"
   },
   {
    "duration": 4,
    "start_time": "2024-11-15T19:11:15.188Z"
   },
   {
    "duration": 13,
    "start_time": "2024-11-15T19:11:15.194Z"
   },
   {
    "duration": 58,
    "start_time": "2024-11-15T19:11:15.209Z"
   },
   {
    "duration": 7,
    "start_time": "2024-11-15T19:11:15.268Z"
   },
   {
    "duration": 275,
    "start_time": "2024-11-15T19:11:15.277Z"
   },
   {
    "duration": 15,
    "start_time": "2024-11-15T19:11:15.554Z"
   },
   {
    "duration": 32,
    "start_time": "2024-11-15T19:11:15.571Z"
   },
   {
    "duration": 26,
    "start_time": "2024-11-15T19:11:15.605Z"
   },
   {
    "duration": 18,
    "start_time": "2024-11-15T19:11:15.632Z"
   },
   {
    "duration": 28,
    "start_time": "2024-11-15T19:11:15.652Z"
   },
   {
    "duration": 19,
    "start_time": "2024-11-15T19:11:15.681Z"
   },
   {
    "duration": 202,
    "start_time": "2024-11-15T19:11:15.702Z"
   },
   {
    "duration": 6,
    "start_time": "2024-11-15T19:11:15.906Z"
   },
   {
    "duration": 21,
    "start_time": "2024-11-15T19:11:15.914Z"
   },
   {
    "duration": 13,
    "start_time": "2024-11-15T19:11:15.936Z"
   },
   {
    "duration": 13,
    "start_time": "2024-11-15T19:11:15.952Z"
   },
   {
    "duration": 9,
    "start_time": "2024-11-15T19:11:15.967Z"
   },
   {
    "duration": 9,
    "start_time": "2024-11-15T19:11:15.977Z"
   },
   {
    "duration": 72,
    "start_time": "2024-11-15T19:11:15.988Z"
   },
   {
    "duration": 8,
    "start_time": "2024-11-15T19:11:16.061Z"
   },
   {
    "duration": 13,
    "start_time": "2024-11-15T19:11:16.070Z"
   },
   {
    "duration": 3,
    "start_time": "2024-11-15T19:11:16.085Z"
   },
   {
    "duration": 15,
    "start_time": "2024-11-15T19:11:16.089Z"
   },
   {
    "duration": 2,
    "start_time": "2024-11-15T19:11:16.121Z"
   },
   {
    "duration": 32,
    "start_time": "2024-11-15T19:11:16.125Z"
   },
   {
    "duration": 16,
    "start_time": "2024-11-15T19:11:16.159Z"
   },
   {
    "duration": 44,
    "start_time": "2024-11-15T19:11:16.177Z"
   },
   {
    "duration": 3456,
    "start_time": "2024-11-15T19:11:16.223Z"
   },
   {
    "duration": 56,
    "start_time": "2024-11-15T19:11:19.681Z"
   },
   {
    "duration": 6,
    "start_time": "2024-11-15T19:11:19.739Z"
   },
   {
    "duration": 471,
    "start_time": "2024-11-15T19:11:19.746Z"
   },
   {
    "duration": 2181,
    "start_time": "2024-11-15T19:11:20.221Z"
   },
   {
    "duration": 16,
    "start_time": "2024-11-15T19:11:22.403Z"
   },
   {
    "duration": 209,
    "start_time": "2024-11-15T19:11:22.420Z"
   },
   {
    "duration": 4,
    "start_time": "2024-11-15T19:11:22.631Z"
   },
   {
    "duration": 86,
    "start_time": "2024-11-15T19:11:22.637Z"
   },
   {
    "duration": 16546,
    "start_time": "2024-11-15T19:11:22.725Z"
   },
   {
    "duration": 21181,
    "start_time": "2024-11-15T19:11:39.272Z"
   },
   {
    "duration": 86446,
    "start_time": "2024-11-15T19:12:00.454Z"
   },
   {
    "duration": 5,
    "start_time": "2024-11-15T19:13:26.902Z"
   },
   {
    "duration": 18,
    "start_time": "2024-11-15T19:13:26.909Z"
   },
   {
    "duration": 212,
    "start_time": "2024-11-15T19:13:26.929Z"
   },
   {
    "duration": 14,
    "start_time": "2024-11-15T19:22:01.253Z"
   },
   {
    "duration": 53,
    "start_time": "2024-11-15T19:23:44.475Z"
   },
   {
    "duration": 1027,
    "start_time": "2024-11-15T19:23:54.978Z"
   },
   {
    "duration": 51,
    "start_time": "2024-11-15T19:23:56.007Z"
   },
   {
    "duration": 12,
    "start_time": "2024-11-15T19:23:56.059Z"
   },
   {
    "duration": 12,
    "start_time": "2024-11-15T19:23:56.073Z"
   },
   {
    "duration": 32,
    "start_time": "2024-11-15T19:23:56.087Z"
   },
   {
    "duration": 10,
    "start_time": "2024-11-15T19:23:56.120Z"
   },
   {
    "duration": 42,
    "start_time": "2024-11-15T19:23:56.131Z"
   },
   {
    "duration": 12,
    "start_time": "2024-11-15T19:23:56.174Z"
   },
   {
    "duration": 46,
    "start_time": "2024-11-15T19:23:56.188Z"
   },
   {
    "duration": 9,
    "start_time": "2024-11-15T19:23:56.235Z"
   },
   {
    "duration": 41,
    "start_time": "2024-11-15T19:23:56.246Z"
   },
   {
    "duration": 10,
    "start_time": "2024-11-15T19:23:56.289Z"
   },
   {
    "duration": 100,
    "start_time": "2024-11-15T19:23:56.301Z"
   },
   {
    "duration": 10,
    "start_time": "2024-11-15T19:23:56.404Z"
   },
   {
    "duration": 30,
    "start_time": "2024-11-15T19:23:56.416Z"
   },
   {
    "duration": 11,
    "start_time": "2024-11-15T19:23:56.447Z"
   },
   {
    "duration": 31,
    "start_time": "2024-11-15T19:23:56.459Z"
   },
   {
    "duration": 41,
    "start_time": "2024-11-15T19:23:56.492Z"
   },
   {
    "duration": 13,
    "start_time": "2024-11-15T19:23:56.534Z"
   },
   {
    "duration": 14,
    "start_time": "2024-11-15T19:23:56.548Z"
   },
   {
    "duration": 87,
    "start_time": "2024-11-15T19:23:56.563Z"
   },
   {
    "duration": 187,
    "start_time": "2024-11-15T19:23:56.652Z"
   },
   {
    "duration": 34,
    "start_time": "2024-11-15T19:23:56.841Z"
   },
   {
    "duration": 263,
    "start_time": "2024-11-15T19:23:56.876Z"
   },
   {
    "duration": 5,
    "start_time": "2024-11-15T19:23:57.141Z"
   },
   {
    "duration": 11,
    "start_time": "2024-11-15T19:23:57.148Z"
   },
   {
    "duration": 6,
    "start_time": "2024-11-15T19:23:57.160Z"
   },
   {
    "duration": 93,
    "start_time": "2024-11-15T19:23:57.168Z"
   },
   {
    "duration": 10,
    "start_time": "2024-11-15T19:23:57.262Z"
   },
   {
    "duration": 24,
    "start_time": "2024-11-15T19:23:57.273Z"
   },
   {
    "duration": 22,
    "start_time": "2024-11-15T19:23:57.299Z"
   },
   {
    "duration": 21,
    "start_time": "2024-11-15T19:23:57.323Z"
   },
   {
    "duration": 12,
    "start_time": "2024-11-15T19:23:57.346Z"
   },
   {
    "duration": 205,
    "start_time": "2024-11-15T19:23:57.360Z"
   },
   {
    "duration": 4,
    "start_time": "2024-11-15T19:23:57.567Z"
   },
   {
    "duration": 29,
    "start_time": "2024-11-15T19:23:57.572Z"
   },
   {
    "duration": 43,
    "start_time": "2024-11-15T19:23:57.602Z"
   },
   {
    "duration": 7,
    "start_time": "2024-11-15T19:23:57.646Z"
   },
   {
    "duration": 272,
    "start_time": "2024-11-15T19:23:57.654Z"
   },
   {
    "duration": 14,
    "start_time": "2024-11-15T19:23:57.927Z"
   },
   {
    "duration": 13,
    "start_time": "2024-11-15T19:23:57.946Z"
   },
   {
    "duration": 27,
    "start_time": "2024-11-15T19:23:57.961Z"
   },
   {
    "duration": 19,
    "start_time": "2024-11-15T19:23:57.989Z"
   },
   {
    "duration": 21,
    "start_time": "2024-11-15T19:23:58.010Z"
   },
   {
    "duration": 14,
    "start_time": "2024-11-15T19:23:58.033Z"
   },
   {
    "duration": 195,
    "start_time": "2024-11-15T19:23:58.048Z"
   },
   {
    "duration": 6,
    "start_time": "2024-11-15T19:23:58.244Z"
   },
   {
    "duration": 24,
    "start_time": "2024-11-15T19:23:58.252Z"
   },
   {
    "duration": 18,
    "start_time": "2024-11-15T19:23:58.277Z"
   },
   {
    "duration": 33,
    "start_time": "2024-11-15T19:23:58.296Z"
   },
   {
    "duration": 61,
    "start_time": "2024-11-15T19:23:58.331Z"
   },
   {
    "duration": 88,
    "start_time": "2024-11-15T19:23:58.394Z"
   },
   {
    "duration": 56,
    "start_time": "2024-11-15T19:23:58.484Z"
   },
   {
    "duration": 79,
    "start_time": "2024-11-15T19:23:58.542Z"
   },
   {
    "duration": 7,
    "start_time": "2024-11-15T19:23:58.622Z"
   },
   {
    "duration": 22,
    "start_time": "2024-11-15T19:23:58.631Z"
   },
   {
    "duration": 15,
    "start_time": "2024-11-15T19:23:58.655Z"
   },
   {
    "duration": 81,
    "start_time": "2024-11-15T19:23:58.671Z"
   },
   {
    "duration": 17,
    "start_time": "2024-11-15T19:23:58.753Z"
   },
   {
    "duration": 39,
    "start_time": "2024-11-15T19:23:58.771Z"
   },
   {
    "duration": 18,
    "start_time": "2024-11-15T19:23:58.811Z"
   },
   {
    "duration": 30,
    "start_time": "2024-11-15T19:23:58.831Z"
   },
   {
    "duration": 2287,
    "start_time": "2024-11-15T19:23:58.863Z"
   },
   {
    "duration": 57,
    "start_time": "2024-11-15T19:24:01.152Z"
   },
   {
    "duration": 6,
    "start_time": "2024-11-15T19:24:01.210Z"
   },
   {
    "duration": 388,
    "start_time": "2024-11-15T19:24:01.218Z"
   },
   {
    "duration": 2549,
    "start_time": "2024-11-15T19:24:01.608Z"
   },
   {
    "duration": 17,
    "start_time": "2024-11-15T19:24:04.159Z"
   },
   {
    "duration": 201,
    "start_time": "2024-11-15T19:24:04.177Z"
   },
   {
    "duration": 5,
    "start_time": "2024-11-15T19:24:04.379Z"
   },
   {
    "duration": 63,
    "start_time": "2024-11-15T19:24:04.385Z"
   },
   {
    "duration": 18601,
    "start_time": "2024-11-15T19:24:04.450Z"
   },
   {
    "duration": 23087,
    "start_time": "2024-11-15T19:24:23.053Z"
   },
   {
    "duration": 104138,
    "start_time": "2024-11-15T19:24:46.142Z"
   },
   {
    "duration": 5,
    "start_time": "2024-11-15T19:26:30.282Z"
   },
   {
    "duration": 25,
    "start_time": "2024-11-15T19:26:30.288Z"
   },
   {
    "duration": 224,
    "start_time": "2024-11-15T19:26:30.314Z"
   },
   {
    "duration": 10,
    "start_time": "2024-11-15T19:35:20.611Z"
   },
   {
    "duration": 69,
    "start_time": "2024-11-15T19:43:11.728Z"
   },
   {
    "duration": 68,
    "start_time": "2024-11-15T19:43:29.905Z"
   },
   {
    "duration": 1110,
    "start_time": "2024-11-15T19:43:41.921Z"
   },
   {
    "duration": 50,
    "start_time": "2024-11-15T19:43:43.033Z"
   },
   {
    "duration": 12,
    "start_time": "2024-11-15T19:43:43.085Z"
   },
   {
    "duration": 11,
    "start_time": "2024-11-15T19:43:43.098Z"
   },
   {
    "duration": 31,
    "start_time": "2024-11-15T19:43:43.111Z"
   },
   {
    "duration": 10,
    "start_time": "2024-11-15T19:43:43.143Z"
   },
   {
    "duration": 37,
    "start_time": "2024-11-15T19:43:43.155Z"
   },
   {
    "duration": 11,
    "start_time": "2024-11-15T19:43:43.193Z"
   },
   {
    "duration": 45,
    "start_time": "2024-11-15T19:43:43.205Z"
   },
   {
    "duration": 9,
    "start_time": "2024-11-15T19:43:43.251Z"
   },
   {
    "duration": 37,
    "start_time": "2024-11-15T19:43:43.261Z"
   },
   {
    "duration": 9,
    "start_time": "2024-11-15T19:43:43.300Z"
   },
   {
    "duration": 35,
    "start_time": "2024-11-15T19:43:43.311Z"
   },
   {
    "duration": 9,
    "start_time": "2024-11-15T19:43:43.348Z"
   },
   {
    "duration": 29,
    "start_time": "2024-11-15T19:43:43.358Z"
   },
   {
    "duration": 17,
    "start_time": "2024-11-15T19:43:43.388Z"
   },
   {
    "duration": 28,
    "start_time": "2024-11-15T19:43:43.407Z"
   },
   {
    "duration": 16,
    "start_time": "2024-11-15T19:43:43.436Z"
   },
   {
    "duration": 11,
    "start_time": "2024-11-15T19:43:43.453Z"
   },
   {
    "duration": 13,
    "start_time": "2024-11-15T19:43:43.465Z"
   },
   {
    "duration": 41,
    "start_time": "2024-11-15T19:43:43.480Z"
   },
   {
    "duration": 171,
    "start_time": "2024-11-15T19:43:43.523Z"
   },
   {
    "duration": 32,
    "start_time": "2024-11-15T19:43:43.696Z"
   },
   {
    "duration": 258,
    "start_time": "2024-11-15T19:43:43.729Z"
   },
   {
    "duration": 4,
    "start_time": "2024-11-15T19:43:43.989Z"
   },
   {
    "duration": 10,
    "start_time": "2024-11-15T19:43:43.994Z"
   },
   {
    "duration": 16,
    "start_time": "2024-11-15T19:43:44.005Z"
   },
   {
    "duration": 59,
    "start_time": "2024-11-15T19:43:44.023Z"
   },
   {
    "duration": 9,
    "start_time": "2024-11-15T19:43:44.083Z"
   },
   {
    "duration": 28,
    "start_time": "2024-11-15T19:43:44.094Z"
   },
   {
    "duration": 29,
    "start_time": "2024-11-15T19:43:44.123Z"
   },
   {
    "duration": 19,
    "start_time": "2024-11-15T19:43:44.154Z"
   },
   {
    "duration": 8,
    "start_time": "2024-11-15T19:43:44.175Z"
   },
   {
    "duration": 196,
    "start_time": "2024-11-15T19:43:44.185Z"
   },
   {
    "duration": 5,
    "start_time": "2024-11-15T19:43:44.383Z"
   },
   {
    "duration": 48,
    "start_time": "2024-11-15T19:43:44.389Z"
   },
   {
    "duration": 29,
    "start_time": "2024-11-15T19:43:44.439Z"
   },
   {
    "duration": 7,
    "start_time": "2024-11-15T19:43:44.469Z"
   },
   {
    "duration": 238,
    "start_time": "2024-11-15T19:43:44.477Z"
   },
   {
    "duration": 13,
    "start_time": "2024-11-15T19:43:44.720Z"
   },
   {
    "duration": 47,
    "start_time": "2024-11-15T19:43:44.737Z"
   },
   {
    "duration": 9,
    "start_time": "2024-11-15T19:43:44.786Z"
   },
   {
    "duration": 6,
    "start_time": "2024-11-15T19:43:44.796Z"
   },
   {
    "duration": 9,
    "start_time": "2024-11-15T19:43:44.803Z"
   },
   {
    "duration": 4,
    "start_time": "2024-11-15T19:43:44.814Z"
   },
   {
    "duration": 171,
    "start_time": "2024-11-15T19:43:44.819Z"
   },
   {
    "duration": 5,
    "start_time": "2024-11-15T19:43:44.992Z"
   },
   {
    "duration": 32,
    "start_time": "2024-11-15T19:43:44.998Z"
   },
   {
    "duration": 36,
    "start_time": "2024-11-15T19:43:45.032Z"
   },
   {
    "duration": 43,
    "start_time": "2024-11-15T19:43:45.069Z"
   },
   {
    "duration": 21,
    "start_time": "2024-11-15T19:43:45.114Z"
   },
   {
    "duration": 89,
    "start_time": "2024-11-15T19:43:45.137Z"
   },
   {
    "duration": 12,
    "start_time": "2024-11-15T19:43:45.228Z"
   },
   {
    "duration": 84,
    "start_time": "2024-11-15T19:43:45.241Z"
   },
   {
    "duration": 9,
    "start_time": "2024-11-15T19:43:45.327Z"
   },
   {
    "duration": 14,
    "start_time": "2024-11-15T19:43:45.338Z"
   },
   {
    "duration": 3,
    "start_time": "2024-11-15T19:43:45.354Z"
   },
   {
    "duration": 17,
    "start_time": "2024-11-15T19:43:45.358Z"
   },
   {
    "duration": 14,
    "start_time": "2024-11-15T19:43:45.376Z"
   },
   {
    "duration": 31,
    "start_time": "2024-11-15T19:43:45.391Z"
   },
   {
    "duration": 16,
    "start_time": "2024-11-15T19:43:45.424Z"
   },
   {
    "duration": 11,
    "start_time": "2024-11-15T19:43:45.441Z"
   },
   {
    "duration": 2283,
    "start_time": "2024-11-15T19:43:45.453Z"
   },
   {
    "duration": 46,
    "start_time": "2024-11-15T19:43:47.738Z"
   },
   {
    "duration": 6,
    "start_time": "2024-11-15T19:43:47.785Z"
   },
   {
    "duration": 413,
    "start_time": "2024-11-15T19:43:47.792Z"
   },
   {
    "duration": 2556,
    "start_time": "2024-11-15T19:43:48.207Z"
   },
   {
    "duration": 18,
    "start_time": "2024-11-15T19:43:50.764Z"
   },
   {
    "duration": 204,
    "start_time": "2024-11-15T19:43:50.783Z"
   },
   {
    "duration": 4,
    "start_time": "2024-11-15T19:43:50.989Z"
   },
   {
    "duration": 60,
    "start_time": "2024-11-15T19:43:50.995Z"
   },
   {
    "duration": 17508,
    "start_time": "2024-11-15T19:43:51.056Z"
   },
   {
    "duration": 21718,
    "start_time": "2024-11-15T19:44:08.566Z"
   },
   {
    "duration": 114309,
    "start_time": "2024-11-15T19:44:30.285Z"
   },
   {
    "duration": 3,
    "start_time": "2024-11-15T19:46:24.596Z"
   },
   {
    "duration": 8,
    "start_time": "2024-11-15T19:46:24.600Z"
   },
   {
    "duration": 204,
    "start_time": "2024-11-15T19:46:24.621Z"
   },
   {
    "duration": 1123,
    "start_time": "2024-11-15T19:52:38.195Z"
   },
   {
    "duration": 51,
    "start_time": "2024-11-15T19:52:39.321Z"
   },
   {
    "duration": 12,
    "start_time": "2024-11-15T19:52:39.373Z"
   },
   {
    "duration": 12,
    "start_time": "2024-11-15T19:52:39.386Z"
   },
   {
    "duration": 31,
    "start_time": "2024-11-15T19:52:39.400Z"
   },
   {
    "duration": 10,
    "start_time": "2024-11-15T19:52:39.433Z"
   },
   {
    "duration": 46,
    "start_time": "2024-11-15T19:52:39.444Z"
   },
   {
    "duration": 12,
    "start_time": "2024-11-15T19:52:39.491Z"
   },
   {
    "duration": 63,
    "start_time": "2024-11-15T19:52:39.505Z"
   },
   {
    "duration": 8,
    "start_time": "2024-11-15T19:52:39.570Z"
   },
   {
    "duration": 34,
    "start_time": "2024-11-15T19:52:39.580Z"
   },
   {
    "duration": 11,
    "start_time": "2024-11-15T19:52:39.615Z"
   },
   {
    "duration": 25,
    "start_time": "2024-11-15T19:52:39.627Z"
   },
   {
    "duration": 9,
    "start_time": "2024-11-15T19:52:39.655Z"
   },
   {
    "duration": 29,
    "start_time": "2024-11-15T19:52:39.666Z"
   },
   {
    "duration": 10,
    "start_time": "2024-11-15T19:52:39.697Z"
   },
   {
    "duration": 38,
    "start_time": "2024-11-15T19:52:39.709Z"
   },
   {
    "duration": 17,
    "start_time": "2024-11-15T19:52:39.749Z"
   },
   {
    "duration": 13,
    "start_time": "2024-11-15T19:52:39.768Z"
   },
   {
    "duration": 52,
    "start_time": "2024-11-15T19:52:39.783Z"
   },
   {
    "duration": 13,
    "start_time": "2024-11-15T19:52:39.837Z"
   },
   {
    "duration": 191,
    "start_time": "2024-11-15T19:52:39.851Z"
   },
   {
    "duration": 25,
    "start_time": "2024-11-15T19:52:40.044Z"
   },
   {
    "duration": 268,
    "start_time": "2024-11-15T19:52:40.070Z"
   },
   {
    "duration": 4,
    "start_time": "2024-11-15T19:52:40.340Z"
   },
   {
    "duration": 10,
    "start_time": "2024-11-15T19:52:40.345Z"
   },
   {
    "duration": 5,
    "start_time": "2024-11-15T19:52:40.356Z"
   },
   {
    "duration": 77,
    "start_time": "2024-11-15T19:52:40.362Z"
   },
   {
    "duration": 10,
    "start_time": "2024-11-15T19:52:40.444Z"
   },
   {
    "duration": 25,
    "start_time": "2024-11-15T19:52:40.455Z"
   },
   {
    "duration": 14,
    "start_time": "2024-11-15T19:52:40.482Z"
   },
   {
    "duration": 24,
    "start_time": "2024-11-15T19:52:40.497Z"
   },
   {
    "duration": 4,
    "start_time": "2024-11-15T19:52:40.522Z"
   },
   {
    "duration": 193,
    "start_time": "2024-11-15T19:52:40.528Z"
   },
   {
    "duration": 4,
    "start_time": "2024-11-15T19:52:40.722Z"
   },
   {
    "duration": 6,
    "start_time": "2024-11-15T19:52:40.728Z"
   },
   {
    "duration": 27,
    "start_time": "2024-11-15T19:52:40.735Z"
   },
   {
    "duration": 6,
    "start_time": "2024-11-15T19:52:40.763Z"
   },
   {
    "duration": 280,
    "start_time": "2024-11-15T19:52:40.770Z"
   },
   {
    "duration": 14,
    "start_time": "2024-11-15T19:52:41.051Z"
   },
   {
    "duration": 12,
    "start_time": "2024-11-15T19:52:41.069Z"
   },
   {
    "duration": 10,
    "start_time": "2024-11-15T19:52:41.083Z"
   },
   {
    "duration": 27,
    "start_time": "2024-11-15T19:52:41.095Z"
   },
   {
    "duration": 22,
    "start_time": "2024-11-15T19:52:41.123Z"
   },
   {
    "duration": 26,
    "start_time": "2024-11-15T19:52:41.146Z"
   },
   {
    "duration": 186,
    "start_time": "2024-11-15T19:52:41.173Z"
   },
   {
    "duration": 6,
    "start_time": "2024-11-15T19:52:41.361Z"
   },
   {
    "duration": 25,
    "start_time": "2024-11-15T19:52:41.368Z"
   },
   {
    "duration": 42,
    "start_time": "2024-11-15T19:52:41.394Z"
   },
   {
    "duration": 19,
    "start_time": "2024-11-15T19:52:41.438Z"
   },
   {
    "duration": 18,
    "start_time": "2024-11-15T19:52:41.458Z"
   },
   {
    "duration": 83,
    "start_time": "2024-11-15T19:52:41.477Z"
   },
   {
    "duration": 12,
    "start_time": "2024-11-15T19:52:41.562Z"
   },
   {
    "duration": 324,
    "start_time": "2024-11-15T19:52:41.576Z"
   },
   {
    "duration": 0,
    "start_time": "2024-11-15T19:52:41.901Z"
   },
   {
    "duration": 0,
    "start_time": "2024-11-15T19:52:41.902Z"
   },
   {
    "duration": 0,
    "start_time": "2024-11-15T19:52:41.903Z"
   },
   {
    "duration": 0,
    "start_time": "2024-11-15T19:52:41.904Z"
   },
   {
    "duration": 0,
    "start_time": "2024-11-15T19:52:41.905Z"
   },
   {
    "duration": 0,
    "start_time": "2024-11-15T19:52:41.906Z"
   },
   {
    "duration": 0,
    "start_time": "2024-11-15T19:52:41.907Z"
   },
   {
    "duration": 0,
    "start_time": "2024-11-15T19:52:41.908Z"
   },
   {
    "duration": 0,
    "start_time": "2024-11-15T19:52:41.908Z"
   },
   {
    "duration": 0,
    "start_time": "2024-11-15T19:52:41.909Z"
   },
   {
    "duration": 0,
    "start_time": "2024-11-15T19:52:41.910Z"
   },
   {
    "duration": 0,
    "start_time": "2024-11-15T19:52:41.911Z"
   },
   {
    "duration": 0,
    "start_time": "2024-11-15T19:52:41.912Z"
   },
   {
    "duration": 0,
    "start_time": "2024-11-15T19:52:41.913Z"
   },
   {
    "duration": 0,
    "start_time": "2024-11-15T19:52:41.914Z"
   },
   {
    "duration": 0,
    "start_time": "2024-11-15T19:52:41.915Z"
   },
   {
    "duration": 0,
    "start_time": "2024-11-15T19:52:41.915Z"
   },
   {
    "duration": 0,
    "start_time": "2024-11-15T19:52:41.916Z"
   },
   {
    "duration": 0,
    "start_time": "2024-11-15T19:52:41.917Z"
   },
   {
    "duration": 0,
    "start_time": "2024-11-15T19:52:41.918Z"
   },
   {
    "duration": 0,
    "start_time": "2024-11-15T19:52:41.919Z"
   },
   {
    "duration": 0,
    "start_time": "2024-11-15T19:52:41.921Z"
   },
   {
    "duration": 0,
    "start_time": "2024-11-15T19:52:41.921Z"
   },
   {
    "duration": 77,
    "start_time": "2024-11-15T19:53:08.777Z"
   },
   {
    "duration": 1117,
    "start_time": "2024-11-15T19:53:14.412Z"
   },
   {
    "duration": 50,
    "start_time": "2024-11-15T19:53:15.532Z"
   },
   {
    "duration": 13,
    "start_time": "2024-11-15T19:53:15.586Z"
   },
   {
    "duration": 16,
    "start_time": "2024-11-15T19:53:15.602Z"
   },
   {
    "duration": 33,
    "start_time": "2024-11-15T19:53:15.620Z"
   },
   {
    "duration": 12,
    "start_time": "2024-11-15T19:53:15.654Z"
   },
   {
    "duration": 39,
    "start_time": "2024-11-15T19:53:15.667Z"
   },
   {
    "duration": 13,
    "start_time": "2024-11-15T19:53:15.708Z"
   },
   {
    "duration": 45,
    "start_time": "2024-11-15T19:53:15.722Z"
   },
   {
    "duration": 9,
    "start_time": "2024-11-15T19:53:15.769Z"
   },
   {
    "duration": 100,
    "start_time": "2024-11-15T19:53:15.779Z"
   },
   {
    "duration": 11,
    "start_time": "2024-11-15T19:53:15.880Z"
   },
   {
    "duration": 29,
    "start_time": "2024-11-15T19:53:15.894Z"
   },
   {
    "duration": 10,
    "start_time": "2024-11-15T19:53:15.925Z"
   },
   {
    "duration": 36,
    "start_time": "2024-11-15T19:53:15.936Z"
   },
   {
    "duration": 10,
    "start_time": "2024-11-15T19:53:15.974Z"
   },
   {
    "duration": 73,
    "start_time": "2024-11-15T19:53:15.986Z"
   },
   {
    "duration": 17,
    "start_time": "2024-11-15T19:53:16.060Z"
   },
   {
    "duration": 33,
    "start_time": "2024-11-15T19:53:16.078Z"
   },
   {
    "duration": 28,
    "start_time": "2024-11-15T19:53:16.113Z"
   },
   {
    "duration": 39,
    "start_time": "2024-11-15T19:53:16.142Z"
   },
   {
    "duration": 194,
    "start_time": "2024-11-15T19:53:16.182Z"
   },
   {
    "duration": 24,
    "start_time": "2024-11-15T19:53:16.377Z"
   },
   {
    "duration": 310,
    "start_time": "2024-11-15T19:53:16.402Z"
   },
   {
    "duration": 8,
    "start_time": "2024-11-15T19:53:16.713Z"
   },
   {
    "duration": 31,
    "start_time": "2024-11-15T19:53:16.722Z"
   },
   {
    "duration": 59,
    "start_time": "2024-11-15T19:53:16.754Z"
   },
   {
    "duration": 85,
    "start_time": "2024-11-15T19:53:16.815Z"
   },
   {
    "duration": 9,
    "start_time": "2024-11-15T19:53:16.902Z"
   },
   {
    "duration": 40,
    "start_time": "2024-11-15T19:53:16.913Z"
   },
   {
    "duration": 26,
    "start_time": "2024-11-15T19:53:16.955Z"
   },
   {
    "duration": 26,
    "start_time": "2024-11-15T19:53:16.983Z"
   },
   {
    "duration": 11,
    "start_time": "2024-11-15T19:53:17.010Z"
   },
   {
    "duration": 200,
    "start_time": "2024-11-15T19:53:17.022Z"
   },
   {
    "duration": 4,
    "start_time": "2024-11-15T19:53:17.224Z"
   },
   {
    "duration": 15,
    "start_time": "2024-11-15T19:53:17.229Z"
   },
   {
    "duration": 30,
    "start_time": "2024-11-15T19:53:17.245Z"
   },
   {
    "duration": 9,
    "start_time": "2024-11-15T19:53:17.277Z"
   },
   {
    "duration": 297,
    "start_time": "2024-11-15T19:53:17.288Z"
   },
   {
    "duration": 14,
    "start_time": "2024-11-15T19:53:17.589Z"
   },
   {
    "duration": 17,
    "start_time": "2024-11-15T19:53:17.604Z"
   },
   {
    "duration": 15,
    "start_time": "2024-11-15T19:53:17.623Z"
   },
   {
    "duration": 6,
    "start_time": "2024-11-15T19:53:17.639Z"
   },
   {
    "duration": 9,
    "start_time": "2024-11-15T19:53:17.646Z"
   },
   {
    "duration": 4,
    "start_time": "2024-11-15T19:53:17.656Z"
   },
   {
    "duration": 214,
    "start_time": "2024-11-15T19:53:17.662Z"
   },
   {
    "duration": 6,
    "start_time": "2024-11-15T19:53:17.877Z"
   },
   {
    "duration": 17,
    "start_time": "2024-11-15T19:53:17.885Z"
   },
   {
    "duration": 18,
    "start_time": "2024-11-15T19:53:17.903Z"
   },
   {
    "duration": 10,
    "start_time": "2024-11-15T19:53:17.923Z"
   },
   {
    "duration": 10,
    "start_time": "2024-11-15T19:53:17.934Z"
   },
   {
    "duration": 119,
    "start_time": "2024-11-15T19:53:17.946Z"
   },
   {
    "duration": 20,
    "start_time": "2024-11-15T19:53:18.067Z"
   },
   {
    "duration": 68,
    "start_time": "2024-11-15T19:53:18.089Z"
   },
   {
    "duration": 7,
    "start_time": "2024-11-15T19:53:18.159Z"
   },
   {
    "duration": 26,
    "start_time": "2024-11-15T19:53:18.168Z"
   },
   {
    "duration": 3,
    "start_time": "2024-11-15T19:53:18.196Z"
   },
   {
    "duration": 19,
    "start_time": "2024-11-15T19:53:18.200Z"
   },
   {
    "duration": 3,
    "start_time": "2024-11-15T19:53:18.221Z"
   },
   {
    "duration": 22,
    "start_time": "2024-11-15T19:53:18.225Z"
   },
   {
    "duration": 16,
    "start_time": "2024-11-15T19:53:18.249Z"
   },
   {
    "duration": 26,
    "start_time": "2024-11-15T19:53:18.267Z"
   },
   {
    "duration": 2284,
    "start_time": "2024-11-15T19:53:18.294Z"
   },
   {
    "duration": 44,
    "start_time": "2024-11-15T19:53:20.579Z"
   },
   {
    "duration": 6,
    "start_time": "2024-11-15T19:53:20.625Z"
   },
   {
    "duration": 366,
    "start_time": "2024-11-15T19:53:20.632Z"
   },
   {
    "duration": 2350,
    "start_time": "2024-11-15T19:53:20.999Z"
   },
   {
    "duration": 21,
    "start_time": "2024-11-15T19:53:23.351Z"
   },
   {
    "duration": 257,
    "start_time": "2024-11-15T19:53:23.373Z"
   },
   {
    "duration": 5,
    "start_time": "2024-11-15T19:53:23.632Z"
   },
   {
    "duration": 62,
    "start_time": "2024-11-15T19:53:23.638Z"
   },
   {
    "duration": 16900,
    "start_time": "2024-11-15T19:53:23.701Z"
   },
   {
    "duration": 21462,
    "start_time": "2024-11-15T19:53:40.602Z"
   },
   {
    "duration": 108656,
    "start_time": "2024-11-15T19:54:02.065Z"
   },
   {
    "duration": 3,
    "start_time": "2024-11-15T19:55:50.722Z"
   },
   {
    "duration": 22,
    "start_time": "2024-11-15T19:55:50.726Z"
   },
   {
    "duration": 207,
    "start_time": "2024-11-15T19:55:50.750Z"
   }
  ],
  "kernelspec": {
   "display_name": "Python 3 (ipykernel)",
   "language": "python",
   "name": "python3"
  },
  "language_info": {
   "codemirror_mode": {
    "name": "ipython",
    "version": 3
   },
   "file_extension": ".py",
   "mimetype": "text/x-python",
   "name": "python",
   "nbconvert_exporter": "python",
   "pygments_lexer": "ipython3",
   "version": "3.13.5"
  },
  "toc": {
   "base_numbering": 1,
   "nav_menu": {},
   "number_sections": true,
   "sideBar": true,
   "skip_h1_title": true,
   "title_cell": "Table of Contents",
   "title_sidebar": "Contents",
   "toc_cell": false,
   "toc_position": {},
   "toc_section_display": true,
   "toc_window_display": false
  }
 },
 "nbformat": 4,
 "nbformat_minor": 5
}
